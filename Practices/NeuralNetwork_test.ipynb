{
 "cells": [
  {
   "cell_type": "code",
   "execution_count": 35,
   "metadata": {
    "collapsed": true,
    "pycharm": {
     "is_executing": false
    }
   },
   "outputs": [],
   "source": [
    "\n",
    "import jenkspy as jenkspy\n",
    "import pandas as pd\n",
    "import matplotlib as plt\n",
    "import numpy as np\n",
    "import plot_utils\n",
    "import seaborn as sns\n",
    "import statistics\n",
    "from sklearn import tree, metrics\n",
    "from sklearn.model_selection import train_test_split\n",
    "from sklearn.tree import DecisionTreeClassifier"
   ]
  },
  {
   "cell_type": "code",
   "execution_count": 36,
   "outputs": [
    {
     "data": {
      "text/plain": "      Marital status Income  Cap_Gains_Losses\n0      Never-married  <=50K           0.02174\n1           Divorced  <=50K           0.00000\n2            Married  <=50K           0.00000\n3            Married  <=50K           0.00000\n4            Married  <=50K           0.00000\n...              ...    ...               ...\n18756       Divorced  <=50K           0.00000\n18757        Married  <=50K           0.00000\n18758        Married  <=50K           0.00000\n18759       Divorced  <=50K           0.00000\n18760        Married  <=50K           0.00000\n\n[18761 rows x 3 columns]",
      "text/html": "<div>\n<style scoped>\n    .dataframe tbody tr th:only-of-type {\n        vertical-align: middle;\n    }\n\n    .dataframe tbody tr th {\n        vertical-align: top;\n    }\n\n    .dataframe thead th {\n        text-align: right;\n    }\n</style>\n<table border=\"1\" class=\"dataframe\">\n  <thead>\n    <tr style=\"text-align: right;\">\n      <th></th>\n      <th>Marital status</th>\n      <th>Income</th>\n      <th>Cap_Gains_Losses</th>\n    </tr>\n  </thead>\n  <tbody>\n    <tr>\n      <th>0</th>\n      <td>Never-married</td>\n      <td>&lt;=50K</td>\n      <td>0.02174</td>\n    </tr>\n    <tr>\n      <th>1</th>\n      <td>Divorced</td>\n      <td>&lt;=50K</td>\n      <td>0.00000</td>\n    </tr>\n    <tr>\n      <th>2</th>\n      <td>Married</td>\n      <td>&lt;=50K</td>\n      <td>0.00000</td>\n    </tr>\n    <tr>\n      <th>3</th>\n      <td>Married</td>\n      <td>&lt;=50K</td>\n      <td>0.00000</td>\n    </tr>\n    <tr>\n      <th>4</th>\n      <td>Married</td>\n      <td>&lt;=50K</td>\n      <td>0.00000</td>\n    </tr>\n    <tr>\n      <th>...</th>\n      <td>...</td>\n      <td>...</td>\n      <td>...</td>\n    </tr>\n    <tr>\n      <th>18756</th>\n      <td>Divorced</td>\n      <td>&lt;=50K</td>\n      <td>0.00000</td>\n    </tr>\n    <tr>\n      <th>18757</th>\n      <td>Married</td>\n      <td>&lt;=50K</td>\n      <td>0.00000</td>\n    </tr>\n    <tr>\n      <th>18758</th>\n      <td>Married</td>\n      <td>&lt;=50K</td>\n      <td>0.00000</td>\n    </tr>\n    <tr>\n      <th>18759</th>\n      <td>Divorced</td>\n      <td>&lt;=50K</td>\n      <td>0.00000</td>\n    </tr>\n    <tr>\n      <th>18760</th>\n      <td>Married</td>\n      <td>&lt;=50K</td>\n      <td>0.00000</td>\n    </tr>\n  </tbody>\n</table>\n<p>18761 rows × 3 columns</p>\n</div>"
     },
     "metadata": {},
     "output_type": "execute_result",
     "execution_count": 36
    }
   ],
   "source": [
    "test=pd.read_csv('adult_ch6_test')\n",
    "train=pd.read_csv('adult_ch6_training')\n",
    "train"
   ],
   "metadata": {
    "collapsed": false,
    "pycharm": {
     "name": "#%%\n",
     "is_executing": false
    }
   }
  },
  {
   "cell_type": "code",
   "execution_count": 37,
   "outputs": [
    {
     "name": "stderr",
     "text": [
      "c:\\_uni\\term8\\datamining\\hws\\codes\\venv\\lib\\site-packages\\ipykernel_launcher.py:2: SettingWithCopyWarning: \n",
      "A value is trying to be set on a copy of a slice from a DataFrame\n",
      "\n",
      "See the caveats in the documentation: https://pandas.pydata.org/pandas-docs/stable/user_guide/indexing.html#returning-a-view-versus-a-copy\n",
      "  \n",
      "c:\\_uni\\term8\\datamining\\hws\\codes\\venv\\lib\\site-packages\\ipykernel_launcher.py:3: SettingWithCopyWarning: \n",
      "A value is trying to be set on a copy of a slice from a DataFrame\n",
      "\n",
      "See the caveats in the documentation: https://pandas.pydata.org/pandas-docs/stable/user_guide/indexing.html#returning-a-view-versus-a-copy\n",
      "  This is separate from the ipykernel package so we can avoid doing imports until\n"
     ],
     "output_type": "stream"
    },
    {
     "data": {
      "text/plain": "      Marital status Income  Cap_Gains_Losses  CapGainsLossesPositive\n0      Never-married  <=50K           0.02174                       1\n1           Divorced  <=50K           0.00000                       0\n2            Married  <=50K           0.00000                       0\n3            Married  <=50K           0.00000                       0\n4            Married  <=50K           0.00000                       0\n...              ...    ...               ...                     ...\n18756       Divorced  <=50K           0.00000                       0\n18757        Married  <=50K           0.00000                       0\n18758        Married  <=50K           0.00000                       0\n18759       Divorced  <=50K           0.00000                       0\n18760        Married  <=50K           0.00000                       0\n\n[18761 rows x 4 columns]",
      "text/html": "<div>\n<style scoped>\n    .dataframe tbody tr th:only-of-type {\n        vertical-align: middle;\n    }\n\n    .dataframe tbody tr th {\n        vertical-align: top;\n    }\n\n    .dataframe thead th {\n        text-align: right;\n    }\n</style>\n<table border=\"1\" class=\"dataframe\">\n  <thead>\n    <tr style=\"text-align: right;\">\n      <th></th>\n      <th>Marital status</th>\n      <th>Income</th>\n      <th>Cap_Gains_Losses</th>\n      <th>CapGainsLossesPositive</th>\n    </tr>\n  </thead>\n  <tbody>\n    <tr>\n      <th>0</th>\n      <td>Never-married</td>\n      <td>&lt;=50K</td>\n      <td>0.02174</td>\n      <td>1</td>\n    </tr>\n    <tr>\n      <th>1</th>\n      <td>Divorced</td>\n      <td>&lt;=50K</td>\n      <td>0.00000</td>\n      <td>0</td>\n    </tr>\n    <tr>\n      <th>2</th>\n      <td>Married</td>\n      <td>&lt;=50K</td>\n      <td>0.00000</td>\n      <td>0</td>\n    </tr>\n    <tr>\n      <th>3</th>\n      <td>Married</td>\n      <td>&lt;=50K</td>\n      <td>0.00000</td>\n      <td>0</td>\n    </tr>\n    <tr>\n      <th>4</th>\n      <td>Married</td>\n      <td>&lt;=50K</td>\n      <td>0.00000</td>\n      <td>0</td>\n    </tr>\n    <tr>\n      <th>...</th>\n      <td>...</td>\n      <td>...</td>\n      <td>...</td>\n      <td>...</td>\n    </tr>\n    <tr>\n      <th>18756</th>\n      <td>Divorced</td>\n      <td>&lt;=50K</td>\n      <td>0.00000</td>\n      <td>0</td>\n    </tr>\n    <tr>\n      <th>18757</th>\n      <td>Married</td>\n      <td>&lt;=50K</td>\n      <td>0.00000</td>\n      <td>0</td>\n    </tr>\n    <tr>\n      <th>18758</th>\n      <td>Married</td>\n      <td>&lt;=50K</td>\n      <td>0.00000</td>\n      <td>0</td>\n    </tr>\n    <tr>\n      <th>18759</th>\n      <td>Divorced</td>\n      <td>&lt;=50K</td>\n      <td>0.00000</td>\n      <td>0</td>\n    </tr>\n    <tr>\n      <th>18760</th>\n      <td>Married</td>\n      <td>&lt;=50K</td>\n      <td>0.00000</td>\n      <td>0</td>\n    </tr>\n  </tbody>\n</table>\n<p>18761 rows × 4 columns</p>\n</div>"
     },
     "metadata": {},
     "output_type": "execute_result",
     "execution_count": 37
    }
   ],
   "source": [
    "train['CapGainsLossesPositive']=0\n",
    "train['CapGainsLossesPositive'][train['Cap_Gains_Losses']>0]=1\n",
    "train['CapGainsLossesPositive'][train['Cap_Gains_Losses']<=0]=0\n",
    "train"
   ],
   "metadata": {
    "collapsed": false,
    "pycharm": {
     "name": "#%%\n",
     "is_executing": false
    }
   }
  },
  {
   "cell_type": "code",
   "execution_count": 38,
   "outputs": [
    {
     "data": {
      "text/plain": "       Cap_Gains_Losses  Marital status_Divorced  Marital status_Married  \\\n0               0.02174                        0                       0   \n1               0.00000                        1                       0   \n2               0.00000                        0                       1   \n3               0.00000                        0                       1   \n4               0.00000                        0                       1   \n...                 ...                      ...                     ...   \n18756           0.00000                        1                       0   \n18757           0.00000                        0                       1   \n18758           0.00000                        0                       1   \n18759           0.00000                        1                       0   \n18760           0.00000                        0                       1   \n\n       Marital status_Never-married  Marital status_Separated  \\\n0                                 1                         0   \n1                                 0                         0   \n2                                 0                         0   \n3                                 0                         0   \n4                                 0                         0   \n...                             ...                       ...   \n18756                             0                         0   \n18757                             0                         0   \n18758                             0                         0   \n18759                             0                         0   \n18760                             0                         0   \n\n       Marital status_Widowed  Income_<=50K  Income_>50K  \\\n0                           0             1            0   \n1                           0             1            0   \n2                           0             1            0   \n3                           0             1            0   \n4                           0             1            0   \n...                       ...           ...          ...   \n18756                       0             1            0   \n18757                       0             1            0   \n18758                       0             1            0   \n18759                       0             1            0   \n18760                       0             1            0   \n\n       CapGainsLossesPositive_0  CapGainsLossesPositive_1  \n0                             0                         1  \n1                             1                         0  \n2                             1                         0  \n3                             1                         0  \n4                             1                         0  \n...                         ...                       ...  \n18756                         1                         0  \n18757                         1                         0  \n18758                         1                         0  \n18759                         1                         0  \n18760                         1                         0  \n\n[18761 rows x 10 columns]",
      "text/html": "<div>\n<style scoped>\n    .dataframe tbody tr th:only-of-type {\n        vertical-align: middle;\n    }\n\n    .dataframe tbody tr th {\n        vertical-align: top;\n    }\n\n    .dataframe thead th {\n        text-align: right;\n    }\n</style>\n<table border=\"1\" class=\"dataframe\">\n  <thead>\n    <tr style=\"text-align: right;\">\n      <th></th>\n      <th>Cap_Gains_Losses</th>\n      <th>Marital status_Divorced</th>\n      <th>Marital status_Married</th>\n      <th>Marital status_Never-married</th>\n      <th>Marital status_Separated</th>\n      <th>Marital status_Widowed</th>\n      <th>Income_&lt;=50K</th>\n      <th>Income_&gt;50K</th>\n      <th>CapGainsLossesPositive_0</th>\n      <th>CapGainsLossesPositive_1</th>\n    </tr>\n  </thead>\n  <tbody>\n    <tr>\n      <th>0</th>\n      <td>0.02174</td>\n      <td>0</td>\n      <td>0</td>\n      <td>1</td>\n      <td>0</td>\n      <td>0</td>\n      <td>1</td>\n      <td>0</td>\n      <td>0</td>\n      <td>1</td>\n    </tr>\n    <tr>\n      <th>1</th>\n      <td>0.00000</td>\n      <td>1</td>\n      <td>0</td>\n      <td>0</td>\n      <td>0</td>\n      <td>0</td>\n      <td>1</td>\n      <td>0</td>\n      <td>1</td>\n      <td>0</td>\n    </tr>\n    <tr>\n      <th>2</th>\n      <td>0.00000</td>\n      <td>0</td>\n      <td>1</td>\n      <td>0</td>\n      <td>0</td>\n      <td>0</td>\n      <td>1</td>\n      <td>0</td>\n      <td>1</td>\n      <td>0</td>\n    </tr>\n    <tr>\n      <th>3</th>\n      <td>0.00000</td>\n      <td>0</td>\n      <td>1</td>\n      <td>0</td>\n      <td>0</td>\n      <td>0</td>\n      <td>1</td>\n      <td>0</td>\n      <td>1</td>\n      <td>0</td>\n    </tr>\n    <tr>\n      <th>4</th>\n      <td>0.00000</td>\n      <td>0</td>\n      <td>1</td>\n      <td>0</td>\n      <td>0</td>\n      <td>0</td>\n      <td>1</td>\n      <td>0</td>\n      <td>1</td>\n      <td>0</td>\n    </tr>\n    <tr>\n      <th>...</th>\n      <td>...</td>\n      <td>...</td>\n      <td>...</td>\n      <td>...</td>\n      <td>...</td>\n      <td>...</td>\n      <td>...</td>\n      <td>...</td>\n      <td>...</td>\n      <td>...</td>\n    </tr>\n    <tr>\n      <th>18756</th>\n      <td>0.00000</td>\n      <td>1</td>\n      <td>0</td>\n      <td>0</td>\n      <td>0</td>\n      <td>0</td>\n      <td>1</td>\n      <td>0</td>\n      <td>1</td>\n      <td>0</td>\n    </tr>\n    <tr>\n      <th>18757</th>\n      <td>0.00000</td>\n      <td>0</td>\n      <td>1</td>\n      <td>0</td>\n      <td>0</td>\n      <td>0</td>\n      <td>1</td>\n      <td>0</td>\n      <td>1</td>\n      <td>0</td>\n    </tr>\n    <tr>\n      <th>18758</th>\n      <td>0.00000</td>\n      <td>0</td>\n      <td>1</td>\n      <td>0</td>\n      <td>0</td>\n      <td>0</td>\n      <td>1</td>\n      <td>0</td>\n      <td>1</td>\n      <td>0</td>\n    </tr>\n    <tr>\n      <th>18759</th>\n      <td>0.00000</td>\n      <td>1</td>\n      <td>0</td>\n      <td>0</td>\n      <td>0</td>\n      <td>0</td>\n      <td>1</td>\n      <td>0</td>\n      <td>1</td>\n      <td>0</td>\n    </tr>\n    <tr>\n      <th>18760</th>\n      <td>0.00000</td>\n      <td>0</td>\n      <td>1</td>\n      <td>0</td>\n      <td>0</td>\n      <td>0</td>\n      <td>1</td>\n      <td>0</td>\n      <td>1</td>\n      <td>0</td>\n    </tr>\n  </tbody>\n</table>\n<p>18761 rows × 10 columns</p>\n</div>"
     },
     "metadata": {},
     "output_type": "execute_result",
     "execution_count": 38
    }
   ],
   "source": [
    "train_d=pd.get_dummies(train,columns=['Marital status','Income','CapGainsLossesPositive'])\n",
    "train_d"
   ],
   "metadata": {
    "collapsed": false,
    "pycharm": {
     "name": "#%%\n",
     "is_executing": false
    }
   }
  },
  {
   "cell_type": "code",
   "execution_count": 39,
   "outputs": [
    {
     "name": "stderr",
     "text": [
      "c:\\_uni\\term8\\datamining\\hws\\codes\\venv\\lib\\site-packages\\ipykernel_launcher.py:2: SettingWithCopyWarning: \n",
      "A value is trying to be set on a copy of a slice from a DataFrame\n",
      "\n",
      "See the caveats in the documentation: https://pandas.pydata.org/pandas-docs/stable/user_guide/indexing.html#returning-a-view-versus-a-copy\n",
      "  \n",
      "c:\\_uni\\term8\\datamining\\hws\\codes\\venv\\lib\\site-packages\\ipykernel_launcher.py:3: SettingWithCopyWarning: \n",
      "A value is trying to be set on a copy of a slice from a DataFrame\n",
      "\n",
      "See the caveats in the documentation: https://pandas.pydata.org/pandas-docs/stable/user_guide/indexing.html#returning-a-view-versus-a-copy\n",
      "  This is separate from the ipykernel package so we can avoid doing imports until\n"
     ],
     "output_type": "stream"
    },
    {
     "data": {
      "text/plain": "     Marital status Income  Cap_Gains_Losses  CapGainsLossesPositive\n0           Married  <=50K          0.000000                       0\n1           Married   >50K          0.051781                       1\n2     Never-married  <=50K          0.000000                       0\n3          Divorced   >50K          0.000000                       0\n4           Married   >50K          0.000000                       0\n...             ...    ...               ...                     ...\n6150        Married  <=50K          0.000000                       0\n6151  Never-married  <=50K          0.000000                       0\n6152       Divorced  <=50K          0.000000                       0\n6153  Never-married  <=50K          0.000000                       0\n6154        Married  <=50K          0.000000                       0\n\n[6155 rows x 4 columns]",
      "text/html": "<div>\n<style scoped>\n    .dataframe tbody tr th:only-of-type {\n        vertical-align: middle;\n    }\n\n    .dataframe tbody tr th {\n        vertical-align: top;\n    }\n\n    .dataframe thead th {\n        text-align: right;\n    }\n</style>\n<table border=\"1\" class=\"dataframe\">\n  <thead>\n    <tr style=\"text-align: right;\">\n      <th></th>\n      <th>Marital status</th>\n      <th>Income</th>\n      <th>Cap_Gains_Losses</th>\n      <th>CapGainsLossesPositive</th>\n    </tr>\n  </thead>\n  <tbody>\n    <tr>\n      <th>0</th>\n      <td>Married</td>\n      <td>&lt;=50K</td>\n      <td>0.000000</td>\n      <td>0</td>\n    </tr>\n    <tr>\n      <th>1</th>\n      <td>Married</td>\n      <td>&gt;50K</td>\n      <td>0.051781</td>\n      <td>1</td>\n    </tr>\n    <tr>\n      <th>2</th>\n      <td>Never-married</td>\n      <td>&lt;=50K</td>\n      <td>0.000000</td>\n      <td>0</td>\n    </tr>\n    <tr>\n      <th>3</th>\n      <td>Divorced</td>\n      <td>&gt;50K</td>\n      <td>0.000000</td>\n      <td>0</td>\n    </tr>\n    <tr>\n      <th>4</th>\n      <td>Married</td>\n      <td>&gt;50K</td>\n      <td>0.000000</td>\n      <td>0</td>\n    </tr>\n    <tr>\n      <th>...</th>\n      <td>...</td>\n      <td>...</td>\n      <td>...</td>\n      <td>...</td>\n    </tr>\n    <tr>\n      <th>6150</th>\n      <td>Married</td>\n      <td>&lt;=50K</td>\n      <td>0.000000</td>\n      <td>0</td>\n    </tr>\n    <tr>\n      <th>6151</th>\n      <td>Never-married</td>\n      <td>&lt;=50K</td>\n      <td>0.000000</td>\n      <td>0</td>\n    </tr>\n    <tr>\n      <th>6152</th>\n      <td>Divorced</td>\n      <td>&lt;=50K</td>\n      <td>0.000000</td>\n      <td>0</td>\n    </tr>\n    <tr>\n      <th>6153</th>\n      <td>Never-married</td>\n      <td>&lt;=50K</td>\n      <td>0.000000</td>\n      <td>0</td>\n    </tr>\n    <tr>\n      <th>6154</th>\n      <td>Married</td>\n      <td>&lt;=50K</td>\n      <td>0.000000</td>\n      <td>0</td>\n    </tr>\n  </tbody>\n</table>\n<p>6155 rows × 4 columns</p>\n</div>"
     },
     "metadata": {},
     "output_type": "execute_result",
     "execution_count": 39
    }
   ],
   "source": [
    "test['CapGainsLossesPositive']=0\n",
    "test['CapGainsLossesPositive'][test['Cap_Gains_Losses']>0]=1\n",
    "test['CapGainsLossesPositive'][test['Cap_Gains_Losses']<=0]=0\n",
    "test"
   ],
   "metadata": {
    "collapsed": false,
    "pycharm": {
     "name": "#%%\n",
     "is_executing": false
    }
   }
  },
  {
   "cell_type": "code",
   "execution_count": 40,
   "outputs": [
    {
     "data": {
      "text/plain": "      Cap_Gains_Losses  Marital status_Divorced  Marital status_Married  \\\n0             0.000000                        0                       1   \n1             0.051781                        0                       1   \n2             0.000000                        0                       0   \n3             0.000000                        1                       0   \n4             0.000000                        0                       1   \n...                ...                      ...                     ...   \n6150          0.000000                        0                       1   \n6151          0.000000                        0                       0   \n6152          0.000000                        1                       0   \n6153          0.000000                        0                       0   \n6154          0.000000                        0                       1   \n\n      Marital status_Never-married  Marital status_Separated  \\\n0                                0                         0   \n1                                0                         0   \n2                                1                         0   \n3                                0                         0   \n4                                0                         0   \n...                            ...                       ...   \n6150                             0                         0   \n6151                             1                         0   \n6152                             0                         0   \n6153                             1                         0   \n6154                             0                         0   \n\n      Marital status_Widowed  Income_<=50K  Income_>50K  \\\n0                          0             1            0   \n1                          0             0            1   \n2                          0             1            0   \n3                          0             0            1   \n4                          0             0            1   \n...                      ...           ...          ...   \n6150                       0             1            0   \n6151                       0             1            0   \n6152                       0             1            0   \n6153                       0             1            0   \n6154                       0             1            0   \n\n      CapGainsLossesPositive_0  CapGainsLossesPositive_1  \n0                            1                         0  \n1                            0                         1  \n2                            1                         0  \n3                            1                         0  \n4                            1                         0  \n...                        ...                       ...  \n6150                         1                         0  \n6151                         1                         0  \n6152                         1                         0  \n6153                         1                         0  \n6154                         1                         0  \n\n[6155 rows x 10 columns]",
      "text/html": "<div>\n<style scoped>\n    .dataframe tbody tr th:only-of-type {\n        vertical-align: middle;\n    }\n\n    .dataframe tbody tr th {\n        vertical-align: top;\n    }\n\n    .dataframe thead th {\n        text-align: right;\n    }\n</style>\n<table border=\"1\" class=\"dataframe\">\n  <thead>\n    <tr style=\"text-align: right;\">\n      <th></th>\n      <th>Cap_Gains_Losses</th>\n      <th>Marital status_Divorced</th>\n      <th>Marital status_Married</th>\n      <th>Marital status_Never-married</th>\n      <th>Marital status_Separated</th>\n      <th>Marital status_Widowed</th>\n      <th>Income_&lt;=50K</th>\n      <th>Income_&gt;50K</th>\n      <th>CapGainsLossesPositive_0</th>\n      <th>CapGainsLossesPositive_1</th>\n    </tr>\n  </thead>\n  <tbody>\n    <tr>\n      <th>0</th>\n      <td>0.000000</td>\n      <td>0</td>\n      <td>1</td>\n      <td>0</td>\n      <td>0</td>\n      <td>0</td>\n      <td>1</td>\n      <td>0</td>\n      <td>1</td>\n      <td>0</td>\n    </tr>\n    <tr>\n      <th>1</th>\n      <td>0.051781</td>\n      <td>0</td>\n      <td>1</td>\n      <td>0</td>\n      <td>0</td>\n      <td>0</td>\n      <td>0</td>\n      <td>1</td>\n      <td>0</td>\n      <td>1</td>\n    </tr>\n    <tr>\n      <th>2</th>\n      <td>0.000000</td>\n      <td>0</td>\n      <td>0</td>\n      <td>1</td>\n      <td>0</td>\n      <td>0</td>\n      <td>1</td>\n      <td>0</td>\n      <td>1</td>\n      <td>0</td>\n    </tr>\n    <tr>\n      <th>3</th>\n      <td>0.000000</td>\n      <td>1</td>\n      <td>0</td>\n      <td>0</td>\n      <td>0</td>\n      <td>0</td>\n      <td>0</td>\n      <td>1</td>\n      <td>1</td>\n      <td>0</td>\n    </tr>\n    <tr>\n      <th>4</th>\n      <td>0.000000</td>\n      <td>0</td>\n      <td>1</td>\n      <td>0</td>\n      <td>0</td>\n      <td>0</td>\n      <td>0</td>\n      <td>1</td>\n      <td>1</td>\n      <td>0</td>\n    </tr>\n    <tr>\n      <th>...</th>\n      <td>...</td>\n      <td>...</td>\n      <td>...</td>\n      <td>...</td>\n      <td>...</td>\n      <td>...</td>\n      <td>...</td>\n      <td>...</td>\n      <td>...</td>\n      <td>...</td>\n    </tr>\n    <tr>\n      <th>6150</th>\n      <td>0.000000</td>\n      <td>0</td>\n      <td>1</td>\n      <td>0</td>\n      <td>0</td>\n      <td>0</td>\n      <td>1</td>\n      <td>0</td>\n      <td>1</td>\n      <td>0</td>\n    </tr>\n    <tr>\n      <th>6151</th>\n      <td>0.000000</td>\n      <td>0</td>\n      <td>0</td>\n      <td>1</td>\n      <td>0</td>\n      <td>0</td>\n      <td>1</td>\n      <td>0</td>\n      <td>1</td>\n      <td>0</td>\n    </tr>\n    <tr>\n      <th>6152</th>\n      <td>0.000000</td>\n      <td>1</td>\n      <td>0</td>\n      <td>0</td>\n      <td>0</td>\n      <td>0</td>\n      <td>1</td>\n      <td>0</td>\n      <td>1</td>\n      <td>0</td>\n    </tr>\n    <tr>\n      <th>6153</th>\n      <td>0.000000</td>\n      <td>0</td>\n      <td>0</td>\n      <td>1</td>\n      <td>0</td>\n      <td>0</td>\n      <td>1</td>\n      <td>0</td>\n      <td>1</td>\n      <td>0</td>\n    </tr>\n    <tr>\n      <th>6154</th>\n      <td>0.000000</td>\n      <td>0</td>\n      <td>1</td>\n      <td>0</td>\n      <td>0</td>\n      <td>0</td>\n      <td>1</td>\n      <td>0</td>\n      <td>1</td>\n      <td>0</td>\n    </tr>\n  </tbody>\n</table>\n<p>6155 rows × 10 columns</p>\n</div>"
     },
     "metadata": {},
     "output_type": "execute_result",
     "execution_count": 40
    }
   ],
   "source": [
    "test_d=pd.get_dummies(test,columns=['Marital status','Income','CapGainsLossesPositive'])\n",
    "test_d"
   ],
   "metadata": {
    "collapsed": false,
    "pycharm": {
     "name": "#%%\n",
     "is_executing": false
    }
   }
  },
  {
   "cell_type": "code",
   "execution_count": 41,
   "outputs": [
    {
     "data": {
      "text/plain": "       Marital status_Divorced  Marital status_Married  \\\n0                            0                       0   \n1                            1                       0   \n2                            0                       1   \n3                            0                       1   \n4                            0                       1   \n...                        ...                     ...   \n18756                        1                       0   \n18757                        0                       1   \n18758                        0                       1   \n18759                        1                       0   \n18760                        0                       1   \n\n       Marital status_Never-married  Marital status_Separated  \\\n0                                 1                         0   \n1                                 0                         0   \n2                                 0                         0   \n3                                 0                         0   \n4                                 0                         0   \n...                             ...                       ...   \n18756                             0                         0   \n18757                             0                         0   \n18758                             0                         0   \n18759                             0                         0   \n18760                             0                         0   \n\n       Marital status_Widowed  Income_<=50K  Income_>50K  \\\n0                           0             1            0   \n1                           0             1            0   \n2                           0             1            0   \n3                           0             1            0   \n4                           0             1            0   \n...                       ...           ...          ...   \n18756                       0             1            0   \n18757                       0             1            0   \n18758                       0             1            0   \n18759                       0             1            0   \n18760                       0             1            0   \n\n       CapGainsLossesPositive_0  CapGainsLossesPositive_1  \n0                             0                         1  \n1                             1                         0  \n2                             1                         0  \n3                             1                         0  \n4                             1                         0  \n...                         ...                       ...  \n18756                         1                         0  \n18757                         1                         0  \n18758                         1                         0  \n18759                         1                         0  \n18760                         1                         0  \n\n[18761 rows x 9 columns]",
      "text/html": "<div>\n<style scoped>\n    .dataframe tbody tr th:only-of-type {\n        vertical-align: middle;\n    }\n\n    .dataframe tbody tr th {\n        vertical-align: top;\n    }\n\n    .dataframe thead th {\n        text-align: right;\n    }\n</style>\n<table border=\"1\" class=\"dataframe\">\n  <thead>\n    <tr style=\"text-align: right;\">\n      <th></th>\n      <th>Marital status_Divorced</th>\n      <th>Marital status_Married</th>\n      <th>Marital status_Never-married</th>\n      <th>Marital status_Separated</th>\n      <th>Marital status_Widowed</th>\n      <th>Income_&lt;=50K</th>\n      <th>Income_&gt;50K</th>\n      <th>CapGainsLossesPositive_0</th>\n      <th>CapGainsLossesPositive_1</th>\n    </tr>\n  </thead>\n  <tbody>\n    <tr>\n      <th>0</th>\n      <td>0</td>\n      <td>0</td>\n      <td>1</td>\n      <td>0</td>\n      <td>0</td>\n      <td>1</td>\n      <td>0</td>\n      <td>0</td>\n      <td>1</td>\n    </tr>\n    <tr>\n      <th>1</th>\n      <td>1</td>\n      <td>0</td>\n      <td>0</td>\n      <td>0</td>\n      <td>0</td>\n      <td>1</td>\n      <td>0</td>\n      <td>1</td>\n      <td>0</td>\n    </tr>\n    <tr>\n      <th>2</th>\n      <td>0</td>\n      <td>1</td>\n      <td>0</td>\n      <td>0</td>\n      <td>0</td>\n      <td>1</td>\n      <td>0</td>\n      <td>1</td>\n      <td>0</td>\n    </tr>\n    <tr>\n      <th>3</th>\n      <td>0</td>\n      <td>1</td>\n      <td>0</td>\n      <td>0</td>\n      <td>0</td>\n      <td>1</td>\n      <td>0</td>\n      <td>1</td>\n      <td>0</td>\n    </tr>\n    <tr>\n      <th>4</th>\n      <td>0</td>\n      <td>1</td>\n      <td>0</td>\n      <td>0</td>\n      <td>0</td>\n      <td>1</td>\n      <td>0</td>\n      <td>1</td>\n      <td>0</td>\n    </tr>\n    <tr>\n      <th>...</th>\n      <td>...</td>\n      <td>...</td>\n      <td>...</td>\n      <td>...</td>\n      <td>...</td>\n      <td>...</td>\n      <td>...</td>\n      <td>...</td>\n      <td>...</td>\n    </tr>\n    <tr>\n      <th>18756</th>\n      <td>1</td>\n      <td>0</td>\n      <td>0</td>\n      <td>0</td>\n      <td>0</td>\n      <td>1</td>\n      <td>0</td>\n      <td>1</td>\n      <td>0</td>\n    </tr>\n    <tr>\n      <th>18757</th>\n      <td>0</td>\n      <td>1</td>\n      <td>0</td>\n      <td>0</td>\n      <td>0</td>\n      <td>1</td>\n      <td>0</td>\n      <td>1</td>\n      <td>0</td>\n    </tr>\n    <tr>\n      <th>18758</th>\n      <td>0</td>\n      <td>1</td>\n      <td>0</td>\n      <td>0</td>\n      <td>0</td>\n      <td>1</td>\n      <td>0</td>\n      <td>1</td>\n      <td>0</td>\n    </tr>\n    <tr>\n      <th>18759</th>\n      <td>1</td>\n      <td>0</td>\n      <td>0</td>\n      <td>0</td>\n      <td>0</td>\n      <td>1</td>\n      <td>0</td>\n      <td>1</td>\n      <td>0</td>\n    </tr>\n    <tr>\n      <th>18760</th>\n      <td>0</td>\n      <td>1</td>\n      <td>0</td>\n      <td>0</td>\n      <td>0</td>\n      <td>1</td>\n      <td>0</td>\n      <td>1</td>\n      <td>0</td>\n    </tr>\n  </tbody>\n</table>\n<p>18761 rows × 9 columns</p>\n</div>"
     },
     "metadata": {},
     "output_type": "execute_result",
     "execution_count": 41
    }
   ],
   "source": [
    "\n",
    "train_d=train_d.drop(columns=['Cap_Gains_Losses'])\n",
    "test_d=test_d.drop(columns=['Cap_Gains_Losses'])\n",
    "train_d"
   ],
   "metadata": {
    "collapsed": false,
    "pycharm": {
     "name": "#%%\n",
     "is_executing": false
    }
   }
  },
  {
   "cell_type": "code",
   "execution_count": 42,
   "outputs": [
    {
     "data": {
      "text/plain": "       Marital status_Divorced  Marital status_Married  \\\n0                            0                       0   \n1                            1                       0   \n2                            0                       1   \n3                            0                       1   \n4                            0                       1   \n...                        ...                     ...   \n18756                        1                       0   \n18757                        0                       1   \n18758                        0                       1   \n18759                        1                       0   \n18760                        0                       1   \n\n       Marital status_Never-married  Marital status_Separated  \\\n0                                 1                         0   \n1                                 0                         0   \n2                                 0                         0   \n3                                 0                         0   \n4                                 0                         0   \n...                             ...                       ...   \n18756                             0                         0   \n18757                             0                         0   \n18758                             0                         0   \n18759                             0                         0   \n18760                             0                         0   \n\n       Marital status_Widowed  CapGainsLossesPositive_0  \n0                           0                         0  \n1                           0                         1  \n2                           0                         1  \n3                           0                         1  \n4                           0                         1  \n...                       ...                       ...  \n18756                       0                         1  \n18757                       0                         1  \n18758                       0                         1  \n18759                       0                         1  \n18760                       0                         1  \n\n[18761 rows x 6 columns]",
      "text/html": "<div>\n<style scoped>\n    .dataframe tbody tr th:only-of-type {\n        vertical-align: middle;\n    }\n\n    .dataframe tbody tr th {\n        vertical-align: top;\n    }\n\n    .dataframe thead th {\n        text-align: right;\n    }\n</style>\n<table border=\"1\" class=\"dataframe\">\n  <thead>\n    <tr style=\"text-align: right;\">\n      <th></th>\n      <th>Marital status_Divorced</th>\n      <th>Marital status_Married</th>\n      <th>Marital status_Never-married</th>\n      <th>Marital status_Separated</th>\n      <th>Marital status_Widowed</th>\n      <th>CapGainsLossesPositive_0</th>\n    </tr>\n  </thead>\n  <tbody>\n    <tr>\n      <th>0</th>\n      <td>0</td>\n      <td>0</td>\n      <td>1</td>\n      <td>0</td>\n      <td>0</td>\n      <td>0</td>\n    </tr>\n    <tr>\n      <th>1</th>\n      <td>1</td>\n      <td>0</td>\n      <td>0</td>\n      <td>0</td>\n      <td>0</td>\n      <td>1</td>\n    </tr>\n    <tr>\n      <th>2</th>\n      <td>0</td>\n      <td>1</td>\n      <td>0</td>\n      <td>0</td>\n      <td>0</td>\n      <td>1</td>\n    </tr>\n    <tr>\n      <th>3</th>\n      <td>0</td>\n      <td>1</td>\n      <td>0</td>\n      <td>0</td>\n      <td>0</td>\n      <td>1</td>\n    </tr>\n    <tr>\n      <th>4</th>\n      <td>0</td>\n      <td>1</td>\n      <td>0</td>\n      <td>0</td>\n      <td>0</td>\n      <td>1</td>\n    </tr>\n    <tr>\n      <th>...</th>\n      <td>...</td>\n      <td>...</td>\n      <td>...</td>\n      <td>...</td>\n      <td>...</td>\n      <td>...</td>\n    </tr>\n    <tr>\n      <th>18756</th>\n      <td>1</td>\n      <td>0</td>\n      <td>0</td>\n      <td>0</td>\n      <td>0</td>\n      <td>1</td>\n    </tr>\n    <tr>\n      <th>18757</th>\n      <td>0</td>\n      <td>1</td>\n      <td>0</td>\n      <td>0</td>\n      <td>0</td>\n      <td>1</td>\n    </tr>\n    <tr>\n      <th>18758</th>\n      <td>0</td>\n      <td>1</td>\n      <td>0</td>\n      <td>0</td>\n      <td>0</td>\n      <td>1</td>\n    </tr>\n    <tr>\n      <th>18759</th>\n      <td>1</td>\n      <td>0</td>\n      <td>0</td>\n      <td>0</td>\n      <td>0</td>\n      <td>1</td>\n    </tr>\n    <tr>\n      <th>18760</th>\n      <td>0</td>\n      <td>1</td>\n      <td>0</td>\n      <td>0</td>\n      <td>0</td>\n      <td>1</td>\n    </tr>\n  </tbody>\n</table>\n<p>18761 rows × 6 columns</p>\n</div>"
     },
     "metadata": {},
     "output_type": "execute_result",
     "execution_count": 42
    }
   ],
   "source": [
    "x_train_d=train_d.drop(columns=['Income_<=50K','Income_>50K','CapGainsLossesPositive_1'])\n",
    "x_test_d=test_d.drop(columns=['Income_<=50K','Income_>50K','CapGainsLossesPositive_1'])\n",
    "y_train_d=train_d[['Income_<=50K']]\n",
    "y_test_d=test_d[['Income_<=50K']]\n",
    "x_train_d"
   ],
   "metadata": {
    "collapsed": false,
    "pycharm": {
     "name": "#%%\n",
     "is_executing": false
    }
   }
  },
  {
   "cell_type": "code",
   "source": [
    "from sklearn.neural_network import MLPClassifier\n",
    "mlp = MLPClassifier(hidden_layer_sizes=(10, 10, 10), max_iter=1000)\n",
    "mlp.fit(x_train_d, y_train_d.values.ravel())\n",
    "Y_predicted=mlp.predict(x_test_d)"
   ],
   "metadata": {
    "collapsed": false,
    "pycharm": {
     "name": "#%% \n",
     "is_executing": false
    }
   },
   "execution_count": 43,
   "outputs": []
  },
  {
   "cell_type": "code",
   "execution_count": 44,
   "outputs": [
    {
     "name": "stdout",
     "text": [
      "[[ 372 1109]\n",
      " [ 129 4545]]\n"
     ],
     "output_type": "stream"
    }
   ],
   "source": [
    "\n",
    "from sklearn.metrics import confusion_matrix, classification_report\n",
    "print(confusion_matrix(y_test_d, Y_predicted))"
   ],
   "metadata": {
    "collapsed": false,
    "pycharm": {
     "name": "#%%\n",
     "is_executing": false
    }
   }
  },
  {
   "cell_type": "code",
   "execution_count": 45,
   "outputs": [
    {
     "name": "stdout",
     "text": [
      "              precision    recall  f1-score   support\n",
      "\n",
      "           0       0.74      0.25      0.38      1481\n",
      "           1       0.80      0.97      0.88      4674\n",
      "\n",
      "    accuracy                           0.80      6155\n",
      "   macro avg       0.77      0.61      0.63      6155\n",
      "weighted avg       0.79      0.80      0.76      6155\n",
      "\n"
     ],
     "output_type": "stream"
    }
   ],
   "source": [
    "print(classification_report(y_test_d, Y_predicted))"
   ],
   "metadata": {
    "collapsed": false,
    "pycharm": {
     "name": "#%%\n",
     "is_executing": false
    }
   }
  }
 ],
 "metadata": {
  "kernelspec": {
   "display_name": "Python 3",
   "language": "python",
   "name": "python3"
  },
  "language_info": {
   "codemirror_mode": {
    "name": "ipython",
    "version": 2
   },
   "file_extension": ".py",
   "mimetype": "text/x-python",
   "name": "python",
   "nbconvert_exporter": "python",
   "pygments_lexer": "ipython2",
   "version": "2.7.6"
  },
  "pycharm": {
   "stem_cell": {
    "cell_type": "raw",
    "source": [],
    "metadata": {
     "collapsed": false
    }
   }
  }
 },
 "nbformat": 4,
 "nbformat_minor": 0
}
