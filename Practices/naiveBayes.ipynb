{
 "cells": [
  {
   "cell_type": "code",
   "execution_count": 1,
   "metadata": {
    "collapsed": true,
    "pycharm": {
     "is_executing": false
    }
   },
   "outputs": [],
   "source": [
    "import pandas as pd\n",
    "import numpy as np\n",
    "from sklearn.naive_bayes import MultinomialNB\n",
    "import statsmodels.tools.tools as stattools"
   ]
  },
  {
   "cell_type": "code",
   "execution_count": 2,
   "outputs": [
    {
     "data": {
      "text/plain": "      Type Alcohol_flag Sugar_flag\n0      Red         High       High\n1      Red         High        Low\n2      Red          Low       High\n3      Red         High        Low\n4      Red          Low        Low\n..     ...          ...        ...\n995  White         High        Low\n996  White          Low        Low\n997  White          Low       High\n998  White          Low        Low\n999  White         High       High\n\n[1000 rows x 3 columns]",
      "text/html": "<div>\n<style scoped>\n    .dataframe tbody tr th:only-of-type {\n        vertical-align: middle;\n    }\n\n    .dataframe tbody tr th {\n        vertical-align: top;\n    }\n\n    .dataframe thead th {\n        text-align: right;\n    }\n</style>\n<table border=\"1\" class=\"dataframe\">\n  <thead>\n    <tr style=\"text-align: right;\">\n      <th></th>\n      <th>Type</th>\n      <th>Alcohol_flag</th>\n      <th>Sugar_flag</th>\n    </tr>\n  </thead>\n  <tbody>\n    <tr>\n      <th>0</th>\n      <td>Red</td>\n      <td>High</td>\n      <td>High</td>\n    </tr>\n    <tr>\n      <th>1</th>\n      <td>Red</td>\n      <td>High</td>\n      <td>Low</td>\n    </tr>\n    <tr>\n      <th>2</th>\n      <td>Red</td>\n      <td>Low</td>\n      <td>High</td>\n    </tr>\n    <tr>\n      <th>3</th>\n      <td>Red</td>\n      <td>High</td>\n      <td>Low</td>\n    </tr>\n    <tr>\n      <th>4</th>\n      <td>Red</td>\n      <td>Low</td>\n      <td>Low</td>\n    </tr>\n    <tr>\n      <th>...</th>\n      <td>...</td>\n      <td>...</td>\n      <td>...</td>\n    </tr>\n    <tr>\n      <th>995</th>\n      <td>White</td>\n      <td>High</td>\n      <td>Low</td>\n    </tr>\n    <tr>\n      <th>996</th>\n      <td>White</td>\n      <td>Low</td>\n      <td>Low</td>\n    </tr>\n    <tr>\n      <th>997</th>\n      <td>White</td>\n      <td>Low</td>\n      <td>High</td>\n    </tr>\n    <tr>\n      <th>998</th>\n      <td>White</td>\n      <td>Low</td>\n      <td>Low</td>\n    </tr>\n    <tr>\n      <th>999</th>\n      <td>White</td>\n      <td>High</td>\n      <td>High</td>\n    </tr>\n  </tbody>\n</table>\n<p>1000 rows × 3 columns</p>\n</div>"
     },
     "metadata": {},
     "output_type": "execute_result",
     "execution_count": 2
    }
   ],
   "source": [
    "wine_tr = pd.read_csv(\"wine_flag_training.csv\")\n",
    "wine_test = pd.read_csv(\"wine_flag_test.csv\")\n",
    "wine_tr"
   ],
   "metadata": {
    "collapsed": false,
    "pycharm": {
     "name": "#%%\n",
     "is_executing": false
    }
   }
  },
  {
   "cell_type": "code",
   "execution_count": 3,
   "outputs": [
    {
     "data": {
      "text/plain": "       Type Alcohol_flag Sugar_flag\n0       Red          Low        Low\n1       Red          Low        Low\n2       Red          Low        Low\n3       Red          Low        Low\n4       Red          Low        Low\n...     ...          ...        ...\n2340  White         High       High\n2341  White         High        Low\n2342  White         High        Low\n2343  White         High        Low\n2344  White         High        Low\n\n[2345 rows x 3 columns]",
      "text/html": "<div>\n<style scoped>\n    .dataframe tbody tr th:only-of-type {\n        vertical-align: middle;\n    }\n\n    .dataframe tbody tr th {\n        vertical-align: top;\n    }\n\n    .dataframe thead th {\n        text-align: right;\n    }\n</style>\n<table border=\"1\" class=\"dataframe\">\n  <thead>\n    <tr style=\"text-align: right;\">\n      <th></th>\n      <th>Type</th>\n      <th>Alcohol_flag</th>\n      <th>Sugar_flag</th>\n    </tr>\n  </thead>\n  <tbody>\n    <tr>\n      <th>0</th>\n      <td>Red</td>\n      <td>Low</td>\n      <td>Low</td>\n    </tr>\n    <tr>\n      <th>1</th>\n      <td>Red</td>\n      <td>Low</td>\n      <td>Low</td>\n    </tr>\n    <tr>\n      <th>2</th>\n      <td>Red</td>\n      <td>Low</td>\n      <td>Low</td>\n    </tr>\n    <tr>\n      <th>3</th>\n      <td>Red</td>\n      <td>Low</td>\n      <td>Low</td>\n    </tr>\n    <tr>\n      <th>4</th>\n      <td>Red</td>\n      <td>Low</td>\n      <td>Low</td>\n    </tr>\n    <tr>\n      <th>...</th>\n      <td>...</td>\n      <td>...</td>\n      <td>...</td>\n    </tr>\n    <tr>\n      <th>2340</th>\n      <td>White</td>\n      <td>High</td>\n      <td>High</td>\n    </tr>\n    <tr>\n      <th>2341</th>\n      <td>White</td>\n      <td>High</td>\n      <td>Low</td>\n    </tr>\n    <tr>\n      <th>2342</th>\n      <td>White</td>\n      <td>High</td>\n      <td>Low</td>\n    </tr>\n    <tr>\n      <th>2343</th>\n      <td>White</td>\n      <td>High</td>\n      <td>Low</td>\n    </tr>\n    <tr>\n      <th>2344</th>\n      <td>White</td>\n      <td>High</td>\n      <td>Low</td>\n    </tr>\n  </tbody>\n</table>\n<p>2345 rows × 3 columns</p>\n</div>"
     },
     "metadata": {},
     "output_type": "execute_result",
     "execution_count": 3
    }
   ],
   "source": [
    "wine_test"
   ],
   "metadata": {
    "collapsed": false,
    "pycharm": {
     "name": "#%%\n",
     "is_executing": false
    }
   }
  },
  {
   "cell_type": "code",
   "execution_count": 4,
   "outputs": [
    {
     "data": {
      "text/plain": "Alcohol_flag  High  Low  Total\nType                          \nRed            218  282    500\nWhite          268  232    500\nTotal          486  514   1000",
      "text/html": "<div>\n<style scoped>\n    .dataframe tbody tr th:only-of-type {\n        vertical-align: middle;\n    }\n\n    .dataframe tbody tr th {\n        vertical-align: top;\n    }\n\n    .dataframe thead th {\n        text-align: right;\n    }\n</style>\n<table border=\"1\" class=\"dataframe\">\n  <thead>\n    <tr style=\"text-align: right;\">\n      <th>Alcohol_flag</th>\n      <th>High</th>\n      <th>Low</th>\n      <th>Total</th>\n    </tr>\n    <tr>\n      <th>Type</th>\n      <th></th>\n      <th></th>\n      <th></th>\n    </tr>\n  </thead>\n  <tbody>\n    <tr>\n      <th>Red</th>\n      <td>218</td>\n      <td>282</td>\n      <td>500</td>\n    </tr>\n    <tr>\n      <th>White</th>\n      <td>268</td>\n      <td>232</td>\n      <td>500</td>\n    </tr>\n    <tr>\n      <th>Total</th>\n      <td>486</td>\n      <td>514</td>\n      <td>1000</td>\n    </tr>\n  </tbody>\n</table>\n</div>"
     },
     "metadata": {},
     "output_type": "execute_result",
     "execution_count": 4
    }
   ],
   "source": [
    "t1 = pd.crosstab(wine_tr['Type'], wine_tr['Alcohol_flag'])\n",
    "t1['Total'] = t1.sum(axis=1)\n",
    "t1.loc['Total'] = t1.sum()\n",
    "t1"
   ],
   "metadata": {
    "collapsed": false,
    "pycharm": {
     "name": "#%%\n",
     "is_executing": false
    }
   }
  },
  {
   "cell_type": "code",
   "execution_count": 5,
   "outputs": [
    {
     "data": {
      "text/plain": "<AxesSubplot:xlabel='Alcohol_flag'>"
     },
     "metadata": {},
     "output_type": "execute_result",
     "execution_count": 5
    },
    {
     "data": {
      "text/plain": "<Figure size 432x288 with 1 Axes>",
      "image/png": "[encoded data removed]"
     },
     "metadata": {
      "needs_background": "light"
     },
     "output_type": "display_data"
    }
   ],
   "source": [
    "\n",
    "t1_plot = pd.crosstab(wine_tr['Alcohol_flag'], wine_tr['Type'])\n",
    "t1_plot.plot(kind='bar', stacked = True)"
   ],
   "metadata": {
    "collapsed": false,
    "pycharm": {
     "name": "#%%\n",
     "is_executing": false
    }
   }
  },
  {
   "cell_type": "markdown",
   "source": [
    "X_Alcohol_ind = np.array(wine_tr['Alcohol_flag'])\n",
    "(X_Alcohol_ind , X_Alcohol_ind_dict) = stattools. categorical(X_Alcohol_ind,drop=True, dictnames = True)\n",
    "X_Alcohol_ind = pd.DataFrame(X_Alcohol_ind)\n",
    "X_Sugar_ind = np.array(wine_tr['Sugar_flag'])\n",
    "(X_Sugar_ind , X_Sugar_ind_dict) = stattools.categorical(X_Sugar_ind,drop=True, dictnames = True)\n",
    "X_Sugar_ind = pd.DataFrame(X_Sugar_ind)\n",
    "X = pd.concat((X_Alcohol_ind, X_Sugar_ind), axis = 1)\n",
    "Y = wine_tr['Type']\n",
    "nb_01 = MultinomialNB().fit(X, Y)\n",
    "X_Alcohol_ind_test = np.array(wine_test['Alcohol_flag'])\n",
    "(X_Alcohol_ind_test, X_Alcohol_ind_dict_test) = stattools.categorical(X_Alcohol_ind_test,drop=True, dictnames = True)\n",
    "X_Alcohol_ind_test = pd.DataFrame(X_Alcohol_ind_test)\n",
    "X_Sugar_ind_test = np.array(wine_test['Sugar_flag'])\n",
    "(X_Sugar_ind_test, X_Sugar_ind_dict_test) = stattools. categorical(X_Sugar_ind_test,drop=True, dictnames = True)\n",
    "X_Sugar_ind_test = pd.DataFrame(X_Sugar_ind_test)\n",
    "X_test = pd.concat((X_Alcohol_ind_test, X_Sugar_ind_test), axis = 1)"
   ],
   "metadata": {
    "collapsed": false,
    "pycharm": {
     "name": "#%% md\n",
     "is_executing": false
    }
   }
  },
  {
   "cell_type": "code",
   "execution_count": 6,
   "outputs": [
    {
     "data": {
      "text/plain": "      Sugar_flag_High  Sugar_flag_Low  Alcohol_flag_High  Alcohol_flag_Low\n0                   0               1                  0                 1\n1                   0               1                  0                 1\n2                   0               1                  0                 1\n3                   0               1                  0                 1\n4                   0               1                  0                 1\n...               ...             ...                ...               ...\n2340                1               0                  1                 0\n2341                0               1                  1                 0\n2342                0               1                  1                 0\n2343                0               1                  1                 0\n2344                0               1                  1                 0\n\n[2345 rows x 4 columns]",
      "text/html": "<div>\n<style scoped>\n    .dataframe tbody tr th:only-of-type {\n        vertical-align: middle;\n    }\n\n    .dataframe tbody tr th {\n        vertical-align: top;\n    }\n\n    .dataframe thead th {\n        text-align: right;\n    }\n</style>\n<table border=\"1\" class=\"dataframe\">\n  <thead>\n    <tr style=\"text-align: right;\">\n      <th></th>\n      <th>Sugar_flag_High</th>\n      <th>Sugar_flag_Low</th>\n      <th>Alcohol_flag_High</th>\n      <th>Alcohol_flag_Low</th>\n    </tr>\n  </thead>\n  <tbody>\n    <tr>\n      <th>0</th>\n      <td>0</td>\n      <td>1</td>\n      <td>0</td>\n      <td>1</td>\n    </tr>\n    <tr>\n      <th>1</th>\n      <td>0</td>\n      <td>1</td>\n      <td>0</td>\n      <td>1</td>\n    </tr>\n    <tr>\n      <th>2</th>\n      <td>0</td>\n      <td>1</td>\n      <td>0</td>\n      <td>1</td>\n    </tr>\n    <tr>\n      <th>3</th>\n      <td>0</td>\n      <td>1</td>\n      <td>0</td>\n      <td>1</td>\n    </tr>\n    <tr>\n      <th>4</th>\n      <td>0</td>\n      <td>1</td>\n      <td>0</td>\n      <td>1</td>\n    </tr>\n    <tr>\n      <th>...</th>\n      <td>...</td>\n      <td>...</td>\n      <td>...</td>\n      <td>...</td>\n    </tr>\n    <tr>\n      <th>2340</th>\n      <td>1</td>\n      <td>0</td>\n      <td>1</td>\n      <td>0</td>\n    </tr>\n    <tr>\n      <th>2341</th>\n      <td>0</td>\n      <td>1</td>\n      <td>1</td>\n      <td>0</td>\n    </tr>\n    <tr>\n      <th>2342</th>\n      <td>0</td>\n      <td>1</td>\n      <td>1</td>\n      <td>0</td>\n    </tr>\n    <tr>\n      <th>2343</th>\n      <td>0</td>\n      <td>1</td>\n      <td>1</td>\n      <td>0</td>\n    </tr>\n    <tr>\n      <th>2344</th>\n      <td>0</td>\n      <td>1</td>\n      <td>1</td>\n      <td>0</td>\n    </tr>\n  </tbody>\n</table>\n<p>2345 rows × 4 columns</p>\n</div>"
     },
     "metadata": {},
     "output_type": "execute_result",
     "execution_count": 6
    }
   ],
   "source": [
    "train_d=pd.get_dummies(wine_tr,columns=['Sugar_flag','Alcohol_flag'])\n",
    "y_train_d=train_d[['Type']]\n",
    "x_train_d=train_d.drop(columns=['Type'])\n",
    "test_d=pd.get_dummies(wine_test,columns=['Sugar_flag','Alcohol_flag'])\n",
    "y_test_d=test_d[['Type']]\n",
    "x_test_d=test_d.drop(columns=['Type'])\n",
    "x_test_d"
   ],
   "metadata": {
    "collapsed": false,
    "pycharm": {
     "name": "#%%\n",
     "is_executing": false
    }
   }
  },
  {
   "cell_type": "code",
   "execution_count": 7,
   "outputs": [
    {
     "name": "stderr",
     "text": [
      "c:\\_uni\\term8\\datamining\\hws\\codes\\venv\\lib\\site-packages\\sklearn\\utils\\validation.py:63: DataConversionWarning: A column-vector y was passed when a 1d array was expected. Please change the shape of y to (n_samples, ), for example using ravel().\n",
      "  return f(*args, **kwargs)\n"
     ],
     "output_type": "stream"
    }
   ],
   "source": [
    "nb_01 = MultinomialNB().fit(x_train_d, y_train_d)"
   ],
   "metadata": {
    "collapsed": false,
    "pycharm": {
     "name": "#%%\n",
     "is_executing": false
    }
   }
  },
  {
   "cell_type": "code",
   "source": [
    "Y_predicted = nb_01.predict(x_test_d)\n",
    "from sklearn.metrics import confusion_matrix, classification_report\n",
    "print(confusion_matrix(wine_test['Type'], Y_predicted))"
   ],
   "metadata": {
    "collapsed": false,
    "pycharm": {
     "name": "#%% \n",
     "is_executing": false
    }
   },
   "execution_count": 8,
   "outputs": [
    {
     "name": "stdout",
     "text": [
      "[[ 464  121]\n",
      " [ 678 1082]]\n"
     ],
     "output_type": "stream"
    }
   ]
  },
  {
   "cell_type": "code",
   "execution_count": 9,
   "outputs": [
    {
     "name": "stdout",
     "text": [
      "              precision    recall  f1-score   support\n",
      "\n",
      "         Red       0.41      0.79      0.54       585\n",
      "       White       0.90      0.61      0.73      1760\n",
      "\n",
      "    accuracy                           0.66      2345\n",
      "   macro avg       0.65      0.70      0.63      2345\n",
      "weighted avg       0.78      0.66      0.68      2345\n",
      "\n"
     ],
     "output_type": "stream"
    }
   ],
   "source": [
    "print(classification_report(y_test_d, Y_predicted))"
   ],
   "metadata": {
    "collapsed": false,
    "pycharm": {
     "name": "#%%\n",
     "is_executing": false
    }
   }
  }
 ],
 "metadata": {
  "kernelspec": {
   "display_name": "Python 3",
   "language": "python",
   "name": "python3"
  },
  "language_info": {
   "codemirror_mode": {
    "name": "ipython",
    "version": 2
   },
   "file_extension": ".py",
   "mimetype": "text/x-python",
   "name": "python",
   "nbconvert_exporter": "python",
   "pygments_lexer": "ipython2",
   "version": "2.7.6"
  },
  "pycharm": {
   "stem_cell": {
    "cell_type": "raw",
    "source": [],
    "metadata": {
     "collapsed": false
    }
   }
  }
 },
 "nbformat": 4,
 "nbformat_minor": 0
}
