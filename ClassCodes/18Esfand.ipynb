{
 "cells": [
  {
   "cell_type": "code",
   "execution_count": null,
   "metadata": {
    "collapsed": true,
    "pycharm": {
     "is_executing": true
    }
   },
   "outputs": [],
   "source": [
    "import jenkspy as jenkspy\n",
    "import pandas as pd\n",
    "import matplotlib.pyplot as plt\n",
    "import  numpy as np\n",
    "\n",
    "df=pd.read_csv('bank_marketing_training')\n",
    "df.head(10)"
   ]
  },
  {
   "cell_type": "markdown",
   "source": [
    "## Learning codes(videos)"
   ],
   "metadata": {
    "collapsed": false
   }
  },
  {
   "cell_type": "code",
   "execution_count": null,
   "outputs": [],
   "source": [
    "cross_tab1= pd.crosstab(df['previous_outcome'],df['response'])\n",
    "cross_tab1"
   ],
   "metadata": {
    "collapsed": false,
    "pycharm": {
     "name": "#%%\n",
     "is_executing": true
    }
   }
  },
  {
   "cell_type": "code",
   "execution_count": null,
   "outputs": [],
   "source": [
    "cross_tab1.plot(kind='bar',stacked=True)"
   ],
   "metadata": {
    "collapsed": false,
    "pycharm": {
     "name": "#%%\n",
     "is_executing": true
    }
   }
  },
  {
   "cell_type": "code",
   "execution_count": null,
   "outputs": [],
   "source": [
    "cross_tab1_normal= cross_tab1.div(cross_tab1.sum(1),axis=0)\n",
    "cross_tab1_normal.plot(kind='bar',stacked=True)"
   ],
   "metadata": {
    "collapsed": false,
    "pycharm": {
     "name": "#%%\n",
     "is_executing": true
    }
   }
  },
  {
   "cell_type": "code",
   "execution_count": null,
   "outputs": [],
   "source": [
    "cross_tab2= pd.crosstab(df['response'],df['previous_outcome'])\n",
    "cross_tab2"
   ],
   "metadata": {
    "collapsed": false,
    "pycharm": {
     "name": "#%%\n",
     "is_executing": true
    }
   }
  },
  {
   "cell_type": "code",
   "execution_count": null,
   "outputs": [],
   "source": [
    "round(cross_tab2.div(cross_tab2.sum(0),axis=1) * 100, 1)"
   ],
   "metadata": {
    "collapsed": false,
    "pycharm": {
     "name": "#%%\n",
     "is_executing": true
    }
   }
  },
  {
   "cell_type": "code",
   "execution_count": null,
   "outputs": [],
   "source": [
    "age_yes= df[df.response==\"yes\"]['age']\n",
    "age_no= df[df.response==\"no\"]['age']"
   ],
   "metadata": {
    "collapsed": false,
    "pycharm": {
     "name": "#%%\n",
     "is_executing": true
    }
   }
  },
  {
   "cell_type": "code",
   "execution_count": null,
   "outputs": [],
   "source": [
    "plt.hist([age_yes,age_no],bins=20,stacked=True)\n",
    "plt.legend(['Response = Yes','Response = No'])\n",
    "plt.title('Histogram with Response Overlay')\n",
    "plt.xlabel('Age'); plt.ylabel('Frequency');plt.show()\n",
    "\n",
    "\n"
   ],
   "metadata": {
    "collapsed": false,
    "pycharm": {
     "name": "#%%\n",
     "is_executing": true
    }
   }
  },
  {
   "cell_type": "code",
   "execution_count": null,
   "outputs": [],
   "source": [
    "df['aged_binned'] = pd.cut(x=df['age'],bins=[0,27,60.01,100],labels=[\"under 27\",\"27 to 60\",\" more than 60\"])"
   ],
   "metadata": {
    "collapsed": false,
    "pycharm": {
     "name": "#%%\n",
     "is_executing": true
    }
   }
  },
  {
   "cell_type": "code",
   "execution_count": null,
   "outputs": [],
   "source": [
    "cross_tab4= pd.crosstab(df['aged_binned'],df['response'])\n",
    "cross_tab4.plot(kind='bar',stacked=True,title='binned graph with response overlay')\n"
   ],
   "metadata": {
    "collapsed": false,
    "pycharm": {
     "name": "#%%\n",
     "is_executing": true
    }
   }
  },
  {
   "cell_type": "markdown",
   "source": [
    "## class codes"
   ],
   "metadata": {
    "collapsed": false,
    "pycharm": {
     "name": "#%% md\n"
    }
   }
  },
  {
   "cell_type": "code",
   "execution_count": null,
   "outputs": [],
   "source": [
    "breaks=jenkspy.jenks_breaks(df['age'], nb_class=3)\n",
    "print(breaks)"
   ],
   "metadata": {
    "collapsed": false,
    "pycharm": {
     "name": "#%%\n",
     "is_executing": true
    }
   }
  },
  {
   "cell_type": "code",
   "execution_count": null,
   "outputs": [],
   "source": [
    "df['aged_bin jenkspy']=pd.cut(df['age'],bins=breaks,labels=[\"1\",\"2\",\"3\"])\n",
    "cross_tab5=pd.crosstab(df['aged_bin jenkspy'],df['response'])\n",
    "cross_tab5.plot(kind='bar',stacked=True)"
   ],
   "metadata": {
    "collapsed": false,
    "pycharm": {
     "name": "#%%\n",
     "is_executing": true
    }
   }
  },
  {
   "cell_type": "code",
   "execution_count": null,
   "outputs": [],
   "source": [
    "cross_tab6=cross_tab5.div(cross_tab5.sum(1),axis=0)\n",
    "cross_tab6.plot(kind='bar',stacked=True)"
   ],
   "metadata": {
    "collapsed": false,
    "pycharm": {
     "name": "#%%\n",
     "is_executing": true
    }
   }
  },
  {
   "cell_type": "code",
   "execution_count": null,
   "outputs": [],
   "source": [
    "breaks2=jenkspy.jenks_breaks(df['age'], nb_class=4)\n",
    "print(breaks2)\n",
    "\n",
    "\n"
   ],
   "metadata": {
    "collapsed": false,
    "pycharm": {
     "name": "#%%\n",
     "is_executing": true
    }
   }
  }
 ],
 "metadata": {
  "kernelspec": {
   "display_name": "Python 3",
   "language": "python",
   "name": "python3"
  },
  "language_info": {
   "codemirror_mode": {
    "name": "ipython",
    "version": 2
   },
   "file_extension": ".py",
   "mimetype": "text/x-python",
   "name": "python",
   "nbconvert_exporter": "python",
   "pygments_lexer": "ipython2",
   "version": "2.7.6"
  },
  "pycharm": {
   "stem_cell": {
    "cell_type": "raw",
    "source": [],
    "metadata": {
     "collapsed": false
    }
   }
  }
 },
 "nbformat": 4,
 "nbformat_minor": 0
}
