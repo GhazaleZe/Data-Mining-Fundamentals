{
 "cells": [
  {
   "cell_type": "code",
   "execution_count": 19,
   "metadata": {
    "collapsed": true,
    "pycharm": {
     "is_executing": false
    }
   },
   "outputs": [],
   "source": [
    "import jenkspy\n",
    "\n",
    "import pandas as pd\n",
    "import statsmodels.api as sm\n",
    "from sklearn import datasets\n",
    "import matplotlib.pyplot as plt\n",
    "from scipy.cluster.hierarchy import dendrogram, linkage\n",
    "import numpy as np\n",
    "from scipy.cluster.hierarchy import fcluster\n",
    "import matplotlib.cm as cm\n",
    "import plot_utils\n",
    "import seaborn as sns\n",
    "import statistics\n",
    "from sklearn import tree, metrics, preprocessing\n",
    "from sklearn.datasets import load_iris\n",
    "from sklearn.metrics import accuracy_score, silhouette_score, silhouette_samples\n",
    "from sklearn.model_selection import train_test_split\n",
    "from sklearn.naive_bayes import MultinomialNB\n",
    "from sklearn.tree import DecisionTreeClassifier, export_graphviz\n",
    "from sklearn.cluster import KMeans\n",
    "from sklearn.decomposition import PCA\n",
    "from scipy import stats\n",
    "from sklearn.cluster import KMeans"
   ]
  },
  {
   "cell_type": "code",
   "execution_count": 20,
   "outputs": [
    {
     "data": {
      "text/plain": "      Approval  Credit Score  Debt-to-Income Ratio  Interest  Request Amount\n0            F         695.0                  0.47    2700.0          6000.0\n1            F         775.0                  0.03    6300.0         14000.0\n2            T         703.0                  0.21    3600.0          8000.0\n3            T         738.0                  0.18    8100.0         18000.0\n4            T         685.0                  0.16    7650.0         17000.0\n...        ...           ...                   ...       ...             ...\n10688        F         533.0                  0.60    1350.0          3000.0\n10689        T         790.0                  0.20    2250.0          5000.0\n10690        T         715.0                  0.21    4050.0          9000.0\n10691        F         697.0                  0.22    2250.0          5000.0\n10692        F         689.0                  0.85    1350.0          3000.0\n\n[10693 rows x 5 columns]",
      "text/html": "<div>\n<style scoped>\n    .dataframe tbody tr th:only-of-type {\n        vertical-align: middle;\n    }\n\n    .dataframe tbody tr th {\n        vertical-align: top;\n    }\n\n    .dataframe thead th {\n        text-align: right;\n    }\n</style>\n<table border=\"1\" class=\"dataframe\">\n  <thead>\n    <tr style=\"text-align: right;\">\n      <th></th>\n      <th>Approval</th>\n      <th>Credit Score</th>\n      <th>Debt-to-Income Ratio</th>\n      <th>Interest</th>\n      <th>Request Amount</th>\n    </tr>\n  </thead>\n  <tbody>\n    <tr>\n      <th>0</th>\n      <td>F</td>\n      <td>695.0</td>\n      <td>0.47</td>\n      <td>2700.0</td>\n      <td>6000.0</td>\n    </tr>\n    <tr>\n      <th>1</th>\n      <td>F</td>\n      <td>775.0</td>\n      <td>0.03</td>\n      <td>6300.0</td>\n      <td>14000.0</td>\n    </tr>\n    <tr>\n      <th>2</th>\n      <td>T</td>\n      <td>703.0</td>\n      <td>0.21</td>\n      <td>3600.0</td>\n      <td>8000.0</td>\n    </tr>\n    <tr>\n      <th>3</th>\n      <td>T</td>\n      <td>738.0</td>\n      <td>0.18</td>\n      <td>8100.0</td>\n      <td>18000.0</td>\n    </tr>\n    <tr>\n      <th>4</th>\n      <td>T</td>\n      <td>685.0</td>\n      <td>0.16</td>\n      <td>7650.0</td>\n      <td>17000.0</td>\n    </tr>\n    <tr>\n      <th>...</th>\n      <td>...</td>\n      <td>...</td>\n      <td>...</td>\n      <td>...</td>\n      <td>...</td>\n    </tr>\n    <tr>\n      <th>10688</th>\n      <td>F</td>\n      <td>533.0</td>\n      <td>0.60</td>\n      <td>1350.0</td>\n      <td>3000.0</td>\n    </tr>\n    <tr>\n      <th>10689</th>\n      <td>T</td>\n      <td>790.0</td>\n      <td>0.20</td>\n      <td>2250.0</td>\n      <td>5000.0</td>\n    </tr>\n    <tr>\n      <th>10690</th>\n      <td>T</td>\n      <td>715.0</td>\n      <td>0.21</td>\n      <td>4050.0</td>\n      <td>9000.0</td>\n    </tr>\n    <tr>\n      <th>10691</th>\n      <td>F</td>\n      <td>697.0</td>\n      <td>0.22</td>\n      <td>2250.0</td>\n      <td>5000.0</td>\n    </tr>\n    <tr>\n      <th>10692</th>\n      <td>F</td>\n      <td>689.0</td>\n      <td>0.85</td>\n      <td>1350.0</td>\n      <td>3000.0</td>\n    </tr>\n  </tbody>\n</table>\n<p>10693 rows × 5 columns</p>\n</div>"
     },
     "metadata": {},
     "output_type": "execute_result",
     "execution_count": 20
    }
   ],
   "source": [
    "test=pd.read_csv('bank_reg_test')\n",
    "train=pd.read_csv('bank_reg_training')\n",
    "train"
   ],
   "metadata": {
    "collapsed": false,
    "pycharm": {
     "name": "#%%\n",
     "is_executing": false
    }
   }
  },
  {
   "cell_type": "code",
   "source": [
    "X = pd.DataFrame(train[['Debt-to-Income Ratio','Request Amount']])\n",
    "y = pd.DataFrame(train[['Credit Score']])\n",
    "X = sm.add_constant(X)\n",
    "model01 = sm.OLS(y, X).fit()\n",
    "model01.summary()"
   ],
   "metadata": {
    "collapsed": false,
    "pycharm": {
     "name": "#%% \n",
     "is_executing": false
    }
   },
   "execution_count": 21,
   "outputs": [
    {
     "data": {
      "text/plain": "<class 'statsmodels.iolib.summary.Summary'>\n\"\"\"\n                            OLS Regression Results                            \n==============================================================================\nDep. Variable:           Credit Score   R-squared:                       0.028\nModel:                            OLS   Adj. R-squared:                  0.028\nMethod:                 Least Squares   F-statistic:                     156.2\nDate:                Mon, 24 May 2021   Prob (F-statistic):           1.37e-67\nTime:                        14:33:25   Log-Likelihood:                -59972.\nNo. Observations:               10693   AIC:                         1.199e+05\nDf Residuals:                   10690   BIC:                         1.200e+05\nDf Model:                           2                                         \nCovariance Type:            nonrobust                                         \n========================================================================================\n                           coef    std err          t      P>|t|      [0.025      0.975]\n----------------------------------------------------------------------------------------\nconst                  668.4562      1.336    500.275      0.000     665.837     671.075\nDebt-to-Income Ratio   -48.1262      4.785    -10.058      0.000     -57.505     -38.747\nRequest Amount           0.0011   6.84e-05     15.727      0.000       0.001       0.001\n==============================================================================\nOmnibus:                     1658.575   Durbin-Watson:                   1.991\nProb(Omnibus):                  0.000   Jarque-Bera (JB):             2844.250\nSkew:                          -1.021   Prob(JB):                         0.00\nKurtosis:                       4.487   Cond. No.                     1.24e+05\n==============================================================================\n\nNotes:\n[1] Standard Errors assume that the covariance matrix of the errors is correctly specified.\n[2] The condition number is large, 1.24e+05. This might indicate that there are\nstrong multicollinearity or other numerical problems.\n\"\"\"",
      "text/html": "<table class=\"simpletable\">\n<caption>OLS Regression Results</caption>\n<tr>\n  <th>Dep. Variable:</th>      <td>Credit Score</td>   <th>  R-squared:         </th> <td>   0.028</td> \n</tr>\n<tr>\n  <th>Model:</th>                   <td>OLS</td>       <th>  Adj. R-squared:    </th> <td>   0.028</td> \n</tr>\n<tr>\n  <th>Method:</th>             <td>Least Squares</td>  <th>  F-statistic:       </th> <td>   156.2</td> \n</tr>\n<tr>\n  <th>Date:</th>             <td>Mon, 24 May 2021</td> <th>  Prob (F-statistic):</th> <td>1.37e-67</td> \n</tr>\n<tr>\n  <th>Time:</th>                 <td>14:33:25</td>     <th>  Log-Likelihood:    </th> <td> -59972.</td> \n</tr>\n<tr>\n  <th>No. Observations:</th>      <td> 10693</td>      <th>  AIC:               </th> <td>1.199e+05</td>\n</tr>\n<tr>\n  <th>Df Residuals:</th>          <td> 10690</td>      <th>  BIC:               </th> <td>1.200e+05</td>\n</tr>\n<tr>\n  <th>Df Model:</th>              <td>     2</td>      <th>                     </th>     <td> </td>    \n</tr>\n<tr>\n  <th>Covariance Type:</th>      <td>nonrobust</td>    <th>                     </th>     <td> </td>    \n</tr>\n</table>\n<table class=\"simpletable\">\n<tr>\n            <td></td>              <th>coef</th>     <th>std err</th>      <th>t</th>      <th>P>|t|</th>  <th>[0.025</th>    <th>0.975]</th>  \n</tr>\n<tr>\n  <th>const</th>                <td>  668.4562</td> <td>    1.336</td> <td>  500.275</td> <td> 0.000</td> <td>  665.837</td> <td>  671.075</td>\n</tr>\n<tr>\n  <th>Debt-to-Income Ratio</th> <td>  -48.1262</td> <td>    4.785</td> <td>  -10.058</td> <td> 0.000</td> <td>  -57.505</td> <td>  -38.747</td>\n</tr>\n<tr>\n  <th>Request Amount</th>       <td>    0.0011</td> <td> 6.84e-05</td> <td>   15.727</td> <td> 0.000</td> <td>    0.001</td> <td>    0.001</td>\n</tr>\n</table>\n<table class=\"simpletable\">\n<tr>\n  <th>Omnibus:</th>       <td>1658.575</td> <th>  Durbin-Watson:     </th> <td>   1.991</td>\n</tr>\n<tr>\n  <th>Prob(Omnibus):</th>  <td> 0.000</td>  <th>  Jarque-Bera (JB):  </th> <td>2844.250</td>\n</tr>\n<tr>\n  <th>Skew:</th>           <td>-1.021</td>  <th>  Prob(JB):          </th> <td>    0.00</td>\n</tr>\n<tr>\n  <th>Kurtosis:</th>       <td> 4.487</td>  <th>  Cond. No.          </th> <td>1.24e+05</td>\n</tr>\n</table><br/><br/>Notes:<br/>[1] Standard Errors assume that the covariance matrix of the errors is correctly specified.<br/>[2] The condition number is large, 1.24e+05. This might indicate that there are<br/>strong multicollinearity or other numerical problems."
     },
     "metadata": {},
     "output_type": "execute_result",
     "execution_count": 21
    }
   ]
  },
  {
   "cell_type": "code",
   "execution_count": 22,
   "outputs": [
    {
     "data": {
      "text/plain": "<class 'statsmodels.iolib.summary.Summary'>\n\"\"\"\n                            OLS Regression Results                            \n==============================================================================\nDep. Variable:           Credit Score   R-squared:                       0.038\nModel:                            OLS   Adj. R-squared:                  0.038\nMethod:                 Least Squares   F-statistic:                     215.4\nDate:                Mon, 24 May 2021   Prob (F-statistic):           1.94e-92\nTime:                        14:33:26   Log-Likelihood:                -60395.\nNo. Observations:               10775   AIC:                         1.208e+05\nDf Residuals:                   10772   BIC:                         1.208e+05\nDf Model:                           2                                         \nCovariance Type:            nonrobust                                         \n========================================================================================\n                           coef    std err          t      P>|t|      [0.025      0.975]\n----------------------------------------------------------------------------------------\nconst                  665.4987      1.328    501.265      0.000     662.896     668.101\nDebt-to-Income Ratio   -52.1374      4.826    -10.803      0.000     -61.597     -42.677\nRequest Amount           0.0013   6.85e-05     19.013      0.000       0.001       0.001\n==============================================================================\nOmnibus:                     1792.693   Durbin-Watson:                   1.985\nProb(Omnibus):                  0.000   Jarque-Bera (JB):             3194.120\nSkew:                          -1.067   Prob(JB):                         0.00\nKurtosis:                       4.600   Cond. No.                     1.25e+05\n==============================================================================\n\nNotes:\n[1] Standard Errors assume that the covariance matrix of the errors is correctly specified.\n[2] The condition number is large, 1.25e+05. This might indicate that there are\nstrong multicollinearity or other numerical problems.\n\"\"\"",
      "text/html": "<table class=\"simpletable\">\n<caption>OLS Regression Results</caption>\n<tr>\n  <th>Dep. Variable:</th>      <td>Credit Score</td>   <th>  R-squared:         </th> <td>   0.038</td> \n</tr>\n<tr>\n  <th>Model:</th>                   <td>OLS</td>       <th>  Adj. R-squared:    </th> <td>   0.038</td> \n</tr>\n<tr>\n  <th>Method:</th>             <td>Least Squares</td>  <th>  F-statistic:       </th> <td>   215.4</td> \n</tr>\n<tr>\n  <th>Date:</th>             <td>Mon, 24 May 2021</td> <th>  Prob (F-statistic):</th> <td>1.94e-92</td> \n</tr>\n<tr>\n  <th>Time:</th>                 <td>14:33:26</td>     <th>  Log-Likelihood:    </th> <td> -60395.</td> \n</tr>\n<tr>\n  <th>No. Observations:</th>      <td> 10775</td>      <th>  AIC:               </th> <td>1.208e+05</td>\n</tr>\n<tr>\n  <th>Df Residuals:</th>          <td> 10772</td>      <th>  BIC:               </th> <td>1.208e+05</td>\n</tr>\n<tr>\n  <th>Df Model:</th>              <td>     2</td>      <th>                     </th>     <td> </td>    \n</tr>\n<tr>\n  <th>Covariance Type:</th>      <td>nonrobust</td>    <th>                     </th>     <td> </td>    \n</tr>\n</table>\n<table class=\"simpletable\">\n<tr>\n            <td></td>              <th>coef</th>     <th>std err</th>      <th>t</th>      <th>P>|t|</th>  <th>[0.025</th>    <th>0.975]</th>  \n</tr>\n<tr>\n  <th>const</th>                <td>  665.4987</td> <td>    1.328</td> <td>  501.265</td> <td> 0.000</td> <td>  662.896</td> <td>  668.101</td>\n</tr>\n<tr>\n  <th>Debt-to-Income Ratio</th> <td>  -52.1374</td> <td>    4.826</td> <td>  -10.803</td> <td> 0.000</td> <td>  -61.597</td> <td>  -42.677</td>\n</tr>\n<tr>\n  <th>Request Amount</th>       <td>    0.0013</td> <td> 6.85e-05</td> <td>   19.013</td> <td> 0.000</td> <td>    0.001</td> <td>    0.001</td>\n</tr>\n</table>\n<table class=\"simpletable\">\n<tr>\n  <th>Omnibus:</th>       <td>1792.693</td> <th>  Durbin-Watson:     </th> <td>   1.985</td>\n</tr>\n<tr>\n  <th>Prob(Omnibus):</th>  <td> 0.000</td>  <th>  Jarque-Bera (JB):  </th> <td>3194.120</td>\n</tr>\n<tr>\n  <th>Skew:</th>           <td>-1.067</td>  <th>  Prob(JB):          </th> <td>    0.00</td>\n</tr>\n<tr>\n  <th>Kurtosis:</th>       <td> 4.600</td>  <th>  Cond. No.          </th> <td>1.25e+05</td>\n</tr>\n</table><br/><br/>Notes:<br/>[1] Standard Errors assume that the covariance matrix of the errors is correctly specified.<br/>[2] The condition number is large, 1.25e+05. This might indicate that there are<br/>strong multicollinearity or other numerical problems."
     },
     "metadata": {},
     "output_type": "execute_result",
     "execution_count": 22
    }
   ],
   "source": [
    "X = pd.DataFrame(test[['Debt-to-Income Ratio','Request Amount']])\n",
    "y = pd.DataFrame(test[['Credit Score']])\n",
    "X = sm.add_constant(X)\n",
    "model01 = sm.OLS(y, X).fit()\n",
    "model01.summary()"
   ],
   "metadata": {
    "collapsed": false,
    "pycharm": {
     "name": "#%%\n",
     "is_executing": false
    }
   }
  },
  {
   "cell_type": "markdown",
   "source": [
    "# PCA"
   ],
   "metadata": {
    "collapsed": false,
    "pycharm": {
     "name": "#%% md\n"
    }
   }
  },
  {
   "cell_type": "code",
   "execution_count": 23,
   "outputs": [
    {
     "data": {
      "text/plain": "       Days since Purchase  Purchase Visits  Days on File  \\\n0                       66                8           701   \n1                       49                1            49   \n2                       26                2           145   \n3                       64                5           357   \n4                      356                1           447   \n...                    ...              ...           ...   \n14597                  257                1           257   \n14598                  322                2           323   \n14599                    7               11           374   \n14600                   37                3           257   \n14601                   21                5           270   \n\n       Days between Purchases  Diff Items Purchased  Sales per Visit  \n0                       87.62                    35       105.757500  \n1                       49.00                     8        87.440000  \n2                       72.50                     5        60.000000  \n3                       71.40                    17       104.240000  \n4                      447.00                     2        79.000000  \n...                       ...                   ...              ...  \n14597                  257.00                     2        38.490000  \n14598                  161.50                     3        19.500000  \n14599                   34.00                    36        97.590909  \n14600                   85.66                    15        88.646667  \n14601                   54.00                    22       111.084000  \n\n[14602 rows x 6 columns]",
      "text/html": "<div>\n<style scoped>\n    .dataframe tbody tr th:only-of-type {\n        vertical-align: middle;\n    }\n\n    .dataframe tbody tr th {\n        vertical-align: top;\n    }\n\n    .dataframe thead th {\n        text-align: right;\n    }\n</style>\n<table border=\"1\" class=\"dataframe\">\n  <thead>\n    <tr style=\"text-align: right;\">\n      <th></th>\n      <th>Days since Purchase</th>\n      <th>Purchase Visits</th>\n      <th>Days on File</th>\n      <th>Days between Purchases</th>\n      <th>Diff Items Purchased</th>\n      <th>Sales per Visit</th>\n    </tr>\n  </thead>\n  <tbody>\n    <tr>\n      <th>0</th>\n      <td>66</td>\n      <td>8</td>\n      <td>701</td>\n      <td>87.62</td>\n      <td>35</td>\n      <td>105.757500</td>\n    </tr>\n    <tr>\n      <th>1</th>\n      <td>49</td>\n      <td>1</td>\n      <td>49</td>\n      <td>49.00</td>\n      <td>8</td>\n      <td>87.440000</td>\n    </tr>\n    <tr>\n      <th>2</th>\n      <td>26</td>\n      <td>2</td>\n      <td>145</td>\n      <td>72.50</td>\n      <td>5</td>\n      <td>60.000000</td>\n    </tr>\n    <tr>\n      <th>3</th>\n      <td>64</td>\n      <td>5</td>\n      <td>357</td>\n      <td>71.40</td>\n      <td>17</td>\n      <td>104.240000</td>\n    </tr>\n    <tr>\n      <th>4</th>\n      <td>356</td>\n      <td>1</td>\n      <td>447</td>\n      <td>447.00</td>\n      <td>2</td>\n      <td>79.000000</td>\n    </tr>\n    <tr>\n      <th>...</th>\n      <td>...</td>\n      <td>...</td>\n      <td>...</td>\n      <td>...</td>\n      <td>...</td>\n      <td>...</td>\n    </tr>\n    <tr>\n      <th>14597</th>\n      <td>257</td>\n      <td>1</td>\n      <td>257</td>\n      <td>257.00</td>\n      <td>2</td>\n      <td>38.490000</td>\n    </tr>\n    <tr>\n      <th>14598</th>\n      <td>322</td>\n      <td>2</td>\n      <td>323</td>\n      <td>161.50</td>\n      <td>3</td>\n      <td>19.500000</td>\n    </tr>\n    <tr>\n      <th>14599</th>\n      <td>7</td>\n      <td>11</td>\n      <td>374</td>\n      <td>34.00</td>\n      <td>36</td>\n      <td>97.590909</td>\n    </tr>\n    <tr>\n      <th>14600</th>\n      <td>37</td>\n      <td>3</td>\n      <td>257</td>\n      <td>85.66</td>\n      <td>15</td>\n      <td>88.646667</td>\n    </tr>\n    <tr>\n      <th>14601</th>\n      <td>21</td>\n      <td>5</td>\n      <td>270</td>\n      <td>54.00</td>\n      <td>22</td>\n      <td>111.084000</td>\n    </tr>\n  </tbody>\n</table>\n<p>14602 rows × 6 columns</p>\n</div>"
     },
     "metadata": {},
     "output_type": "execute_result",
     "execution_count": 23
    }
   ],
   "source": [
    "test=pd.read_csv('clothing_store_PCA_test')\n",
    "train=pd.read_csv('clothing_store_PCA_training')\n",
    "train"
   ],
   "metadata": {
    "collapsed": false,
    "pycharm": {
     "name": "#%%\n",
     "is_executing": false
    }
   }
  },
  {
   "cell_type": "code",
   "execution_count": 24,
   "outputs": [
    {
     "data": {
      "text/plain": "       Days since Purchase  Purchase Visits  Days on File  \\\n0                 0.178571         0.061404      0.983075   \n1                 0.131868         0.000000      0.063470   \n2                 0.068681         0.008772      0.198872   \n3                 0.173077         0.035088      0.497884   \n4                 0.975275         0.000000      0.624824   \n...                    ...              ...           ...   \n14597             0.703297         0.000000      0.356841   \n14598             0.881868         0.008772      0.449929   \n14599             0.016484         0.087719      0.521862   \n14600             0.098901         0.017544      0.356841   \n14601             0.054945         0.035088      0.375176   \n\n       Days between Purchases  Diff Items Purchased  Sales per Visit  \n0                    0.117941              0.045822         0.054018  \n1                    0.063470              0.009434         0.044466  \n2                    0.096615              0.005391         0.030157  \n3                    0.095063              0.021563         0.053227  \n4                    0.624824              0.001348         0.040065  \n...                       ...                   ...              ...  \n14597                0.356841              0.001348         0.018941  \n14598                0.222144              0.002695         0.009039  \n14599                0.042313              0.047170         0.049759  \n14600                0.115176              0.018868         0.045095  \n14601                0.070522              0.028302         0.056795  \n\n[14602 rows x 6 columns]",
      "text/html": "<div>\n<style scoped>\n    .dataframe tbody tr th:only-of-type {\n        vertical-align: middle;\n    }\n\n    .dataframe tbody tr th {\n        vertical-align: top;\n    }\n\n    .dataframe thead th {\n        text-align: right;\n    }\n</style>\n<table border=\"1\" class=\"dataframe\">\n  <thead>\n    <tr style=\"text-align: right;\">\n      <th></th>\n      <th>Days since Purchase</th>\n      <th>Purchase Visits</th>\n      <th>Days on File</th>\n      <th>Days between Purchases</th>\n      <th>Diff Items Purchased</th>\n      <th>Sales per Visit</th>\n    </tr>\n  </thead>\n  <tbody>\n    <tr>\n      <th>0</th>\n      <td>0.178571</td>\n      <td>0.061404</td>\n      <td>0.983075</td>\n      <td>0.117941</td>\n      <td>0.045822</td>\n      <td>0.054018</td>\n    </tr>\n    <tr>\n      <th>1</th>\n      <td>0.131868</td>\n      <td>0.000000</td>\n      <td>0.063470</td>\n      <td>0.063470</td>\n      <td>0.009434</td>\n      <td>0.044466</td>\n    </tr>\n    <tr>\n      <th>2</th>\n      <td>0.068681</td>\n      <td>0.008772</td>\n      <td>0.198872</td>\n      <td>0.096615</td>\n      <td>0.005391</td>\n      <td>0.030157</td>\n    </tr>\n    <tr>\n      <th>3</th>\n      <td>0.173077</td>\n      <td>0.035088</td>\n      <td>0.497884</td>\n      <td>0.095063</td>\n      <td>0.021563</td>\n      <td>0.053227</td>\n    </tr>\n    <tr>\n      <th>4</th>\n      <td>0.975275</td>\n      <td>0.000000</td>\n      <td>0.624824</td>\n      <td>0.624824</td>\n      <td>0.001348</td>\n      <td>0.040065</td>\n    </tr>\n    <tr>\n      <th>...</th>\n      <td>...</td>\n      <td>...</td>\n      <td>...</td>\n      <td>...</td>\n      <td>...</td>\n      <td>...</td>\n    </tr>\n    <tr>\n      <th>14597</th>\n      <td>0.703297</td>\n      <td>0.000000</td>\n      <td>0.356841</td>\n      <td>0.356841</td>\n      <td>0.001348</td>\n      <td>0.018941</td>\n    </tr>\n    <tr>\n      <th>14598</th>\n      <td>0.881868</td>\n      <td>0.008772</td>\n      <td>0.449929</td>\n      <td>0.222144</td>\n      <td>0.002695</td>\n      <td>0.009039</td>\n    </tr>\n    <tr>\n      <th>14599</th>\n      <td>0.016484</td>\n      <td>0.087719</td>\n      <td>0.521862</td>\n      <td>0.042313</td>\n      <td>0.047170</td>\n      <td>0.049759</td>\n    </tr>\n    <tr>\n      <th>14600</th>\n      <td>0.098901</td>\n      <td>0.017544</td>\n      <td>0.356841</td>\n      <td>0.115176</td>\n      <td>0.018868</td>\n      <td>0.045095</td>\n    </tr>\n    <tr>\n      <th>14601</th>\n      <td>0.054945</td>\n      <td>0.035088</td>\n      <td>0.375176</td>\n      <td>0.070522</td>\n      <td>0.028302</td>\n      <td>0.056795</td>\n    </tr>\n  </tbody>\n</table>\n<p>14602 rows × 6 columns</p>\n</div>"
     },
     "metadata": {},
     "output_type": "execute_result",
     "execution_count": 24
    }
   ],
   "source": [
    "x = train.values #returns a numpy array\n",
    "min_max_scaler = preprocessing.MinMaxScaler()\n",
    "x_scaled = min_max_scaler.fit_transform(x)\n",
    "train = pd.DataFrame(x_scaled,index=train.index, columns=train.columns)\n",
    "train"
   ],
   "metadata": {
    "collapsed": false,
    "pycharm": {
     "name": "#%%\n",
     "is_executing": false
    }
   }
  },
  {
   "cell_type": "code",
   "execution_count": 25,
   "outputs": [
    {
     "data": {
      "text/plain": "                        Days since Purchase  Purchase Visits  Days on File  \\\nDays since Purchase                1.000000        -0.439821     -0.158718   \nPurchase Visits                   -0.439821         1.000000      0.363729   \nDays on File                      -0.158718         0.363729      1.000000   \nDays between Purchases             0.573090        -0.453024      0.202890   \nDiff Items Purchased              -0.378658         0.821257      0.302624   \nSales per Visit                    0.150172        -0.177660     -0.135568   \n\n                        Days between Purchases  Diff Items Purchased  \\\nDays since Purchase                   0.573090             -0.378658   \nPurchase Visits                      -0.453024              0.821257   \nDays on File                          0.202890              0.302624   \nDays between Purchases                1.000000             -0.371018   \nDiff Items Purchased                 -0.371018              1.000000   \nSales per Visit                       0.198546              0.081713   \n\n                        Sales per Visit  \nDays since Purchase            0.150172  \nPurchase Visits               -0.177660  \nDays on File                  -0.135568  \nDays between Purchases         0.198546  \nDiff Items Purchased           0.081713  \nSales per Visit                1.000000  ",
      "text/html": "<div>\n<style scoped>\n    .dataframe tbody tr th:only-of-type {\n        vertical-align: middle;\n    }\n\n    .dataframe tbody tr th {\n        vertical-align: top;\n    }\n\n    .dataframe thead th {\n        text-align: right;\n    }\n</style>\n<table border=\"1\" class=\"dataframe\">\n  <thead>\n    <tr style=\"text-align: right;\">\n      <th></th>\n      <th>Days since Purchase</th>\n      <th>Purchase Visits</th>\n      <th>Days on File</th>\n      <th>Days between Purchases</th>\n      <th>Diff Items Purchased</th>\n      <th>Sales per Visit</th>\n    </tr>\n  </thead>\n  <tbody>\n    <tr>\n      <th>Days since Purchase</th>\n      <td>1.000000</td>\n      <td>-0.439821</td>\n      <td>-0.158718</td>\n      <td>0.573090</td>\n      <td>-0.378658</td>\n      <td>0.150172</td>\n    </tr>\n    <tr>\n      <th>Purchase Visits</th>\n      <td>-0.439821</td>\n      <td>1.000000</td>\n      <td>0.363729</td>\n      <td>-0.453024</td>\n      <td>0.821257</td>\n      <td>-0.177660</td>\n    </tr>\n    <tr>\n      <th>Days on File</th>\n      <td>-0.158718</td>\n      <td>0.363729</td>\n      <td>1.000000</td>\n      <td>0.202890</td>\n      <td>0.302624</td>\n      <td>-0.135568</td>\n    </tr>\n    <tr>\n      <th>Days between Purchases</th>\n      <td>0.573090</td>\n      <td>-0.453024</td>\n      <td>0.202890</td>\n      <td>1.000000</td>\n      <td>-0.371018</td>\n      <td>0.198546</td>\n    </tr>\n    <tr>\n      <th>Diff Items Purchased</th>\n      <td>-0.378658</td>\n      <td>0.821257</td>\n      <td>0.302624</td>\n      <td>-0.371018</td>\n      <td>1.000000</td>\n      <td>0.081713</td>\n    </tr>\n    <tr>\n      <th>Sales per Visit</th>\n      <td>0.150172</td>\n      <td>-0.177660</td>\n      <td>-0.135568</td>\n      <td>0.198546</td>\n      <td>0.081713</td>\n      <td>1.000000</td>\n    </tr>\n  </tbody>\n</table>\n</div>"
     },
     "metadata": {},
     "output_type": "execute_result",
     "execution_count": 25
    }
   ],
   "source": [
    "train.corr()"
   ],
   "metadata": {
    "collapsed": false,
    "pycharm": {
     "name": "#%%\n",
     "is_executing": false
    }
   }
  },
  {
   "cell_type": "code",
   "execution_count": 25,
   "outputs": [],
   "source": [],
   "metadata": {
    "collapsed": false,
    "pycharm": {
     "name": "#%%\n",
     "is_executing": false
    }
   }
  }
 ],
 "metadata": {
  "kernelspec": {
   "display_name": "Python 3",
   "language": "python",
   "name": "python3"
  },
  "language_info": {
   "codemirror_mode": {
    "name": "ipython",
    "version": 2
   },
   "file_extension": ".py",
   "mimetype": "text/x-python",
   "name": "python",
   "nbconvert_exporter": "python",
   "pygments_lexer": "ipython2",
   "version": "2.7.6"
  },
  "pycharm": {
   "stem_cell": {
    "cell_type": "raw",
    "source": [],
    "metadata": {
     "collapsed": false
    }
   }
  }
 },
 "nbformat": 4,
 "nbformat_minor": 0
}
