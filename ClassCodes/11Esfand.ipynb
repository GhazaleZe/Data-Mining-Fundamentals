{
 "cells": [
  {
   "cell_type": "code",
   "execution_count": 160,
   "metadata": {
    "collapsed": true,
    "pycharm": {
     "is_executing": false
    }
   },
   "outputs": [
    {
     "data": {
      "text/plain": "  State  Account Length  Area Code     Phone Int'l Plan VMail Plan  \\\n0    KS             128        415  382-4657         no        yes   \n1    OH             107        415  371-7191         no        yes   \n2    NJ             137        415  358-1921         no         no   \n3    OH              84        408  375-9999        yes         no   \n4    OK              75        415  330-6626        yes         no   \n\n   VMail Message  Day Mins  Day Calls  Day Charge  ...  Eve Calls  Eve Charge  \\\n0             25     265.1        110       45.07  ...         99       16.78   \n1             26     161.6        123       27.47  ...        103       16.62   \n2              0     243.4        114       41.38  ...        110       10.30   \n3              0     299.4         71       50.90  ...         88        5.26   \n4              0     166.7        113       28.34  ...        122       12.61   \n\n   Night Mins  Night Calls  Night Charge  Intl Mins  Intl Calls  Intl Charge  \\\n0       244.7           91         11.01       10.0           3         2.70   \n1       254.4          103         11.45       13.7           3         3.70   \n2       162.6          104          7.32       12.2           5         3.29   \n3       196.9           89          8.86        6.6           7         1.78   \n4       186.9          121          8.41       10.1           3         2.73   \n\n   CustServ Calls  Churn?  \n0               1  False.  \n1               1  False.  \n2               0  False.  \n3               2  False.  \n4               3  False.  \n\n[5 rows x 21 columns]",
      "text/html": "<div>\n<style scoped>\n    .dataframe tbody tr th:only-of-type {\n        vertical-align: middle;\n    }\n\n    .dataframe tbody tr th {\n        vertical-align: top;\n    }\n\n    .dataframe thead th {\n        text-align: right;\n    }\n</style>\n<table border=\"1\" class=\"dataframe\">\n  <thead>\n    <tr style=\"text-align: right;\">\n      <th></th>\n      <th>State</th>\n      <th>Account Length</th>\n      <th>Area Code</th>\n      <th>Phone</th>\n      <th>Int'l Plan</th>\n      <th>VMail Plan</th>\n      <th>VMail Message</th>\n      <th>Day Mins</th>\n      <th>Day Calls</th>\n      <th>Day Charge</th>\n      <th>...</th>\n      <th>Eve Calls</th>\n      <th>Eve Charge</th>\n      <th>Night Mins</th>\n      <th>Night Calls</th>\n      <th>Night Charge</th>\n      <th>Intl Mins</th>\n      <th>Intl Calls</th>\n      <th>Intl Charge</th>\n      <th>CustServ Calls</th>\n      <th>Churn?</th>\n    </tr>\n  </thead>\n  <tbody>\n    <tr>\n      <th>0</th>\n      <td>KS</td>\n      <td>128</td>\n      <td>415</td>\n      <td>382-4657</td>\n      <td>no</td>\n      <td>yes</td>\n      <td>25</td>\n      <td>265.1</td>\n      <td>110</td>\n      <td>45.07</td>\n      <td>...</td>\n      <td>99</td>\n      <td>16.78</td>\n      <td>244.7</td>\n      <td>91</td>\n      <td>11.01</td>\n      <td>10.0</td>\n      <td>3</td>\n      <td>2.70</td>\n      <td>1</td>\n      <td>False.</td>\n    </tr>\n    <tr>\n      <th>1</th>\n      <td>OH</td>\n      <td>107</td>\n      <td>415</td>\n      <td>371-7191</td>\n      <td>no</td>\n      <td>yes</td>\n      <td>26</td>\n      <td>161.6</td>\n      <td>123</td>\n      <td>27.47</td>\n      <td>...</td>\n      <td>103</td>\n      <td>16.62</td>\n      <td>254.4</td>\n      <td>103</td>\n      <td>11.45</td>\n      <td>13.7</td>\n      <td>3</td>\n      <td>3.70</td>\n      <td>1</td>\n      <td>False.</td>\n    </tr>\n    <tr>\n      <th>2</th>\n      <td>NJ</td>\n      <td>137</td>\n      <td>415</td>\n      <td>358-1921</td>\n      <td>no</td>\n      <td>no</td>\n      <td>0</td>\n      <td>243.4</td>\n      <td>114</td>\n      <td>41.38</td>\n      <td>...</td>\n      <td>110</td>\n      <td>10.30</td>\n      <td>162.6</td>\n      <td>104</td>\n      <td>7.32</td>\n      <td>12.2</td>\n      <td>5</td>\n      <td>3.29</td>\n      <td>0</td>\n      <td>False.</td>\n    </tr>\n    <tr>\n      <th>3</th>\n      <td>OH</td>\n      <td>84</td>\n      <td>408</td>\n      <td>375-9999</td>\n      <td>yes</td>\n      <td>no</td>\n      <td>0</td>\n      <td>299.4</td>\n      <td>71</td>\n      <td>50.90</td>\n      <td>...</td>\n      <td>88</td>\n      <td>5.26</td>\n      <td>196.9</td>\n      <td>89</td>\n      <td>8.86</td>\n      <td>6.6</td>\n      <td>7</td>\n      <td>1.78</td>\n      <td>2</td>\n      <td>False.</td>\n    </tr>\n    <tr>\n      <th>4</th>\n      <td>OK</td>\n      <td>75</td>\n      <td>415</td>\n      <td>330-6626</td>\n      <td>yes</td>\n      <td>no</td>\n      <td>0</td>\n      <td>166.7</td>\n      <td>113</td>\n      <td>28.34</td>\n      <td>...</td>\n      <td>122</td>\n      <td>12.61</td>\n      <td>186.9</td>\n      <td>121</td>\n      <td>8.41</td>\n      <td>10.1</td>\n      <td>3</td>\n      <td>2.73</td>\n      <td>3</td>\n      <td>False.</td>\n    </tr>\n  </tbody>\n</table>\n<p>5 rows × 21 columns</p>\n</div>"
     },
     "metadata": {},
     "output_type": "execute_result",
     "execution_count": 160
    }
   ],
   "source": [
    "import jenkspy as jenkspy\n",
    "import pandas as pd\n",
    "\n",
    "df = pd.read_csv('churn.csv')\n",
    "df.head()"
   ]
  },
  {
   "cell_type": "code",
   "execution_count": 161,
   "outputs": [
    {
     "data": {
      "text/plain": "  State  Account Length  Area Code     Phone Int'l Plan VMail Plan  \\\n0    KS             128        415  382-4657         no        yes   \n1    OH             107        415  371-7191         no        yes   \n2    NJ             137        415  358-1921         no         no   \n3    OH              84        408  375-9999        yes         no   \n4    OK              75        415  330-6626        yes         no   \n\n   VMail Message  Day Mins  Day Calls  Day Charge  ...  Eve Charge  \\\n0             25     265.1        110       45.07  ...       16.78   \n1             26     161.6        123       27.47  ...       16.62   \n2              0     243.4        114       41.38  ...       10.30   \n3              0     299.4         71       50.90  ...        5.26   \n4              0     166.7        113       28.34  ...       12.61   \n\n   Night Mins  Night Calls  Night Charge  Intl Mins  Intl Calls  Intl Charge  \\\n0       244.7           91         11.01       10.0           3         2.70   \n1       254.4          103         11.45       13.7           3         3.70   \n2       162.6          104          7.32       12.2           5         3.29   \n3       196.9           89          8.86        6.6           7         1.78   \n4       186.9          121          8.41       10.1           3         2.73   \n\n   CustServ Calls  Churn?  Day_Mins_zscore  \n0               1  False.         1.566767  \n1               1  False.        -0.333738  \n2               0  False.         1.168304  \n3               2  False.         2.196596  \n4               3  False.        -0.240090  \n\n[5 rows x 22 columns]",
      "text/html": "<div>\n<style scoped>\n    .dataframe tbody tr th:only-of-type {\n        vertical-align: middle;\n    }\n\n    .dataframe tbody tr th {\n        vertical-align: top;\n    }\n\n    .dataframe thead th {\n        text-align: right;\n    }\n</style>\n<table border=\"1\" class=\"dataframe\">\n  <thead>\n    <tr style=\"text-align: right;\">\n      <th></th>\n      <th>State</th>\n      <th>Account Length</th>\n      <th>Area Code</th>\n      <th>Phone</th>\n      <th>Int'l Plan</th>\n      <th>VMail Plan</th>\n      <th>VMail Message</th>\n      <th>Day Mins</th>\n      <th>Day Calls</th>\n      <th>Day Charge</th>\n      <th>...</th>\n      <th>Eve Charge</th>\n      <th>Night Mins</th>\n      <th>Night Calls</th>\n      <th>Night Charge</th>\n      <th>Intl Mins</th>\n      <th>Intl Calls</th>\n      <th>Intl Charge</th>\n      <th>CustServ Calls</th>\n      <th>Churn?</th>\n      <th>Day_Mins_zscore</th>\n    </tr>\n  </thead>\n  <tbody>\n    <tr>\n      <th>0</th>\n      <td>KS</td>\n      <td>128</td>\n      <td>415</td>\n      <td>382-4657</td>\n      <td>no</td>\n      <td>yes</td>\n      <td>25</td>\n      <td>265.1</td>\n      <td>110</td>\n      <td>45.07</td>\n      <td>...</td>\n      <td>16.78</td>\n      <td>244.7</td>\n      <td>91</td>\n      <td>11.01</td>\n      <td>10.0</td>\n      <td>3</td>\n      <td>2.70</td>\n      <td>1</td>\n      <td>False.</td>\n      <td>1.566767</td>\n    </tr>\n    <tr>\n      <th>1</th>\n      <td>OH</td>\n      <td>107</td>\n      <td>415</td>\n      <td>371-7191</td>\n      <td>no</td>\n      <td>yes</td>\n      <td>26</td>\n      <td>161.6</td>\n      <td>123</td>\n      <td>27.47</td>\n      <td>...</td>\n      <td>16.62</td>\n      <td>254.4</td>\n      <td>103</td>\n      <td>11.45</td>\n      <td>13.7</td>\n      <td>3</td>\n      <td>3.70</td>\n      <td>1</td>\n      <td>False.</td>\n      <td>-0.333738</td>\n    </tr>\n    <tr>\n      <th>2</th>\n      <td>NJ</td>\n      <td>137</td>\n      <td>415</td>\n      <td>358-1921</td>\n      <td>no</td>\n      <td>no</td>\n      <td>0</td>\n      <td>243.4</td>\n      <td>114</td>\n      <td>41.38</td>\n      <td>...</td>\n      <td>10.30</td>\n      <td>162.6</td>\n      <td>104</td>\n      <td>7.32</td>\n      <td>12.2</td>\n      <td>5</td>\n      <td>3.29</td>\n      <td>0</td>\n      <td>False.</td>\n      <td>1.168304</td>\n    </tr>\n    <tr>\n      <th>3</th>\n      <td>OH</td>\n      <td>84</td>\n      <td>408</td>\n      <td>375-9999</td>\n      <td>yes</td>\n      <td>no</td>\n      <td>0</td>\n      <td>299.4</td>\n      <td>71</td>\n      <td>50.90</td>\n      <td>...</td>\n      <td>5.26</td>\n      <td>196.9</td>\n      <td>89</td>\n      <td>8.86</td>\n      <td>6.6</td>\n      <td>7</td>\n      <td>1.78</td>\n      <td>2</td>\n      <td>False.</td>\n      <td>2.196596</td>\n    </tr>\n    <tr>\n      <th>4</th>\n      <td>OK</td>\n      <td>75</td>\n      <td>415</td>\n      <td>330-6626</td>\n      <td>yes</td>\n      <td>no</td>\n      <td>0</td>\n      <td>166.7</td>\n      <td>113</td>\n      <td>28.34</td>\n      <td>...</td>\n      <td>12.61</td>\n      <td>186.9</td>\n      <td>121</td>\n      <td>8.41</td>\n      <td>10.1</td>\n      <td>3</td>\n      <td>2.73</td>\n      <td>3</td>\n      <td>False.</td>\n      <td>-0.240090</td>\n    </tr>\n  </tbody>\n</table>\n<p>5 rows × 22 columns</p>\n</div>"
     },
     "metadata": {},
     "output_type": "execute_result",
     "execution_count": 161
    }
   ],
   "source": [
    "from scipy import stats\n",
    "df['Day_Mins_zscore'] = stats.zscore(df['Day Mins'])\n",
    "df.head()"
   ],
   "metadata": {
    "collapsed": false,
    "pycharm": {
     "name": "#%%\n",
     "is_executing": false
    }
   }
  },
  {
   "cell_type": "code",
   "execution_count": 162,
   "outputs": [
    {
     "data": {
      "text/plain": "     State  Account Length  Area Code     Phone Int'l Plan VMail Plan  \\\n365     CO             154        415  343-5709         no         no   \n985     NY              64        415  345-9140        yes         no   \n1052    OR              98        415  378-6772        yes         no   \n1345    SD              98        415  392-2555         no         no   \n1397    VT             101        510  413-7655         no         no   \n1986    WI              70        415  405-9233         no         no   \n2594    OH             115        510  348-1163        yes         no   \n2736    OK             127        510  403-1128         no        yes   \n2753    OH             134        415  406-4158         no         no   \n\n      VMail Message  Day Mins  Day Calls  Day Charge  ...  Eve Charge  \\\n365               0     350.8         75       59.64  ...       18.40   \n985               0     346.8         55       58.96  ...       21.21   \n1052              0      12.5         67        2.13  ...       21.81   \n1345              0       0.0          0        0.00  ...       13.57   \n1397              0       0.0          0        0.00  ...       16.33   \n1986              0       7.9        100        1.34  ...       11.59   \n2594              0     345.3         81       58.70  ...       17.29   \n2736             27       2.6        113        0.44  ...       21.59   \n2753              0       7.8         86        1.33  ...       14.57   \n\n      Night Mins  Night Calls  Night Charge  Intl Mins  Intl Calls  \\\n365        253.9          100         11.43       10.1           9   \n985        275.4          102         12.39       13.3           9   \n1052       169.4           88          7.62        7.7           9   \n1345       167.1           88          7.52        6.8           1   \n1397       168.8           95          7.60        7.2           4   \n1986       156.6           89          7.05       12.1           1   \n2594       217.5          107          9.79       11.8           8   \n2736       242.7          156         10.92        9.2           5   \n2753       186.5           80          8.39       12.9           2   \n\n      Intl Charge  CustServ Calls  Churn?  Day_Mins_zscore  \n365          2.73               1   True.         3.140422  \n985          3.59               1   True.         3.066972  \n1052         2.08               1  False.        -3.071566  \n1345         1.84               4   True.        -3.301096  \n1397         1.94               1  False.        -3.301096  \n1986         3.27               0  False.        -3.156033  \n2594         3.19               1   True.         3.039429  \n2736         2.48               3  False.        -3.253354  \n2753         3.48               2  False.        -3.157869  \n\n[9 rows x 22 columns]",
      "text/html": "<div>\n<style scoped>\n    .dataframe tbody tr th:only-of-type {\n        vertical-align: middle;\n    }\n\n    .dataframe tbody tr th {\n        vertical-align: top;\n    }\n\n    .dataframe thead th {\n        text-align: right;\n    }\n</style>\n<table border=\"1\" class=\"dataframe\">\n  <thead>\n    <tr style=\"text-align: right;\">\n      <th></th>\n      <th>State</th>\n      <th>Account Length</th>\n      <th>Area Code</th>\n      <th>Phone</th>\n      <th>Int'l Plan</th>\n      <th>VMail Plan</th>\n      <th>VMail Message</th>\n      <th>Day Mins</th>\n      <th>Day Calls</th>\n      <th>Day Charge</th>\n      <th>...</th>\n      <th>Eve Charge</th>\n      <th>Night Mins</th>\n      <th>Night Calls</th>\n      <th>Night Charge</th>\n      <th>Intl Mins</th>\n      <th>Intl Calls</th>\n      <th>Intl Charge</th>\n      <th>CustServ Calls</th>\n      <th>Churn?</th>\n      <th>Day_Mins_zscore</th>\n    </tr>\n  </thead>\n  <tbody>\n    <tr>\n      <th>365</th>\n      <td>CO</td>\n      <td>154</td>\n      <td>415</td>\n      <td>343-5709</td>\n      <td>no</td>\n      <td>no</td>\n      <td>0</td>\n      <td>350.8</td>\n      <td>75</td>\n      <td>59.64</td>\n      <td>...</td>\n      <td>18.40</td>\n      <td>253.9</td>\n      <td>100</td>\n      <td>11.43</td>\n      <td>10.1</td>\n      <td>9</td>\n      <td>2.73</td>\n      <td>1</td>\n      <td>True.</td>\n      <td>3.140422</td>\n    </tr>\n    <tr>\n      <th>985</th>\n      <td>NY</td>\n      <td>64</td>\n      <td>415</td>\n      <td>345-9140</td>\n      <td>yes</td>\n      <td>no</td>\n      <td>0</td>\n      <td>346.8</td>\n      <td>55</td>\n      <td>58.96</td>\n      <td>...</td>\n      <td>21.21</td>\n      <td>275.4</td>\n      <td>102</td>\n      <td>12.39</td>\n      <td>13.3</td>\n      <td>9</td>\n      <td>3.59</td>\n      <td>1</td>\n      <td>True.</td>\n      <td>3.066972</td>\n    </tr>\n    <tr>\n      <th>1052</th>\n      <td>OR</td>\n      <td>98</td>\n      <td>415</td>\n      <td>378-6772</td>\n      <td>yes</td>\n      <td>no</td>\n      <td>0</td>\n      <td>12.5</td>\n      <td>67</td>\n      <td>2.13</td>\n      <td>...</td>\n      <td>21.81</td>\n      <td>169.4</td>\n      <td>88</td>\n      <td>7.62</td>\n      <td>7.7</td>\n      <td>9</td>\n      <td>2.08</td>\n      <td>1</td>\n      <td>False.</td>\n      <td>-3.071566</td>\n    </tr>\n    <tr>\n      <th>1345</th>\n      <td>SD</td>\n      <td>98</td>\n      <td>415</td>\n      <td>392-2555</td>\n      <td>no</td>\n      <td>no</td>\n      <td>0</td>\n      <td>0.0</td>\n      <td>0</td>\n      <td>0.00</td>\n      <td>...</td>\n      <td>13.57</td>\n      <td>167.1</td>\n      <td>88</td>\n      <td>7.52</td>\n      <td>6.8</td>\n      <td>1</td>\n      <td>1.84</td>\n      <td>4</td>\n      <td>True.</td>\n      <td>-3.301096</td>\n    </tr>\n    <tr>\n      <th>1397</th>\n      <td>VT</td>\n      <td>101</td>\n      <td>510</td>\n      <td>413-7655</td>\n      <td>no</td>\n      <td>no</td>\n      <td>0</td>\n      <td>0.0</td>\n      <td>0</td>\n      <td>0.00</td>\n      <td>...</td>\n      <td>16.33</td>\n      <td>168.8</td>\n      <td>95</td>\n      <td>7.60</td>\n      <td>7.2</td>\n      <td>4</td>\n      <td>1.94</td>\n      <td>1</td>\n      <td>False.</td>\n      <td>-3.301096</td>\n    </tr>\n    <tr>\n      <th>1986</th>\n      <td>WI</td>\n      <td>70</td>\n      <td>415</td>\n      <td>405-9233</td>\n      <td>no</td>\n      <td>no</td>\n      <td>0</td>\n      <td>7.9</td>\n      <td>100</td>\n      <td>1.34</td>\n      <td>...</td>\n      <td>11.59</td>\n      <td>156.6</td>\n      <td>89</td>\n      <td>7.05</td>\n      <td>12.1</td>\n      <td>1</td>\n      <td>3.27</td>\n      <td>0</td>\n      <td>False.</td>\n      <td>-3.156033</td>\n    </tr>\n    <tr>\n      <th>2594</th>\n      <td>OH</td>\n      <td>115</td>\n      <td>510</td>\n      <td>348-1163</td>\n      <td>yes</td>\n      <td>no</td>\n      <td>0</td>\n      <td>345.3</td>\n      <td>81</td>\n      <td>58.70</td>\n      <td>...</td>\n      <td>17.29</td>\n      <td>217.5</td>\n      <td>107</td>\n      <td>9.79</td>\n      <td>11.8</td>\n      <td>8</td>\n      <td>3.19</td>\n      <td>1</td>\n      <td>True.</td>\n      <td>3.039429</td>\n    </tr>\n    <tr>\n      <th>2736</th>\n      <td>OK</td>\n      <td>127</td>\n      <td>510</td>\n      <td>403-1128</td>\n      <td>no</td>\n      <td>yes</td>\n      <td>27</td>\n      <td>2.6</td>\n      <td>113</td>\n      <td>0.44</td>\n      <td>...</td>\n      <td>21.59</td>\n      <td>242.7</td>\n      <td>156</td>\n      <td>10.92</td>\n      <td>9.2</td>\n      <td>5</td>\n      <td>2.48</td>\n      <td>3</td>\n      <td>False.</td>\n      <td>-3.253354</td>\n    </tr>\n    <tr>\n      <th>2753</th>\n      <td>OH</td>\n      <td>134</td>\n      <td>415</td>\n      <td>406-4158</td>\n      <td>no</td>\n      <td>no</td>\n      <td>0</td>\n      <td>7.8</td>\n      <td>86</td>\n      <td>1.33</td>\n      <td>...</td>\n      <td>14.57</td>\n      <td>186.5</td>\n      <td>80</td>\n      <td>8.39</td>\n      <td>12.9</td>\n      <td>2</td>\n      <td>3.48</td>\n      <td>2</td>\n      <td>False.</td>\n      <td>-3.157869</td>\n    </tr>\n  </tbody>\n</table>\n<p>9 rows × 22 columns</p>\n</div>"
     },
     "metadata": {},
     "output_type": "execute_result",
     "execution_count": 162
    }
   ],
   "source": [
    "Day_Mins_Zscore_outlier= df.query('Day_Mins_zscore>3 | Day_Mins_zscore<-3')\n",
    "Day_Mins_Zscore_outlier"
   ],
   "metadata": {
    "collapsed": false,
    "pycharm": {
     "name": "#%%\n",
     "is_executing": false
    }
   }
  },
  {
   "cell_type": "code",
   "execution_count": 163,
   "outputs": [
    {
     "data": {
      "text/plain": "      CustServ Calls  Account Length\n542                9             152\n2380               9              53\n1502               8              64\n1912               8             103\n332                7              86\n3112               7             115\n2979               7              99\n2953               7             136\n522                7             122\n1831               7              93\n1694               7              99\n1865               7             146\n902                7             149\n1407               6              73\n2428               6              40\n694                6             165\n3081               6             204\n3026               6              78\n721                6             103\n2961               6              98\n2958               6              95\n778                6             115\n2786               6             109\n2553               6              67\n2387               6             108\n1325               6              17\n2327               6              82\n2223               6             134\n1919               6             100\n908                6              23\n974                6              21\n1142               6             105\n1273               6              28\n1638               6             116\n3190               6             103",
      "text/html": "<div>\n<style scoped>\n    .dataframe tbody tr th:only-of-type {\n        vertical-align: middle;\n    }\n\n    .dataframe tbody tr th {\n        vertical-align: top;\n    }\n\n    .dataframe thead th {\n        text-align: right;\n    }\n</style>\n<table border=\"1\" class=\"dataframe\">\n  <thead>\n    <tr style=\"text-align: right;\">\n      <th></th>\n      <th>CustServ Calls</th>\n      <th>Account Length</th>\n    </tr>\n  </thead>\n  <tbody>\n    <tr>\n      <th>542</th>\n      <td>9</td>\n      <td>152</td>\n    </tr>\n    <tr>\n      <th>2380</th>\n      <td>9</td>\n      <td>53</td>\n    </tr>\n    <tr>\n      <th>1502</th>\n      <td>8</td>\n      <td>64</td>\n    </tr>\n    <tr>\n      <th>1912</th>\n      <td>8</td>\n      <td>103</td>\n    </tr>\n    <tr>\n      <th>332</th>\n      <td>7</td>\n      <td>86</td>\n    </tr>\n    <tr>\n      <th>3112</th>\n      <td>7</td>\n      <td>115</td>\n    </tr>\n    <tr>\n      <th>2979</th>\n      <td>7</td>\n      <td>99</td>\n    </tr>\n    <tr>\n      <th>2953</th>\n      <td>7</td>\n      <td>136</td>\n    </tr>\n    <tr>\n      <th>522</th>\n      <td>7</td>\n      <td>122</td>\n    </tr>\n    <tr>\n      <th>1831</th>\n      <td>7</td>\n      <td>93</td>\n    </tr>\n    <tr>\n      <th>1694</th>\n      <td>7</td>\n      <td>99</td>\n    </tr>\n    <tr>\n      <th>1865</th>\n      <td>7</td>\n      <td>146</td>\n    </tr>\n    <tr>\n      <th>902</th>\n      <td>7</td>\n      <td>149</td>\n    </tr>\n    <tr>\n      <th>1407</th>\n      <td>6</td>\n      <td>73</td>\n    </tr>\n    <tr>\n      <th>2428</th>\n      <td>6</td>\n      <td>40</td>\n    </tr>\n    <tr>\n      <th>694</th>\n      <td>6</td>\n      <td>165</td>\n    </tr>\n    <tr>\n      <th>3081</th>\n      <td>6</td>\n      <td>204</td>\n    </tr>\n    <tr>\n      <th>3026</th>\n      <td>6</td>\n      <td>78</td>\n    </tr>\n    <tr>\n      <th>721</th>\n      <td>6</td>\n      <td>103</td>\n    </tr>\n    <tr>\n      <th>2961</th>\n      <td>6</td>\n      <td>98</td>\n    </tr>\n    <tr>\n      <th>2958</th>\n      <td>6</td>\n      <td>95</td>\n    </tr>\n    <tr>\n      <th>778</th>\n      <td>6</td>\n      <td>115</td>\n    </tr>\n    <tr>\n      <th>2786</th>\n      <td>6</td>\n      <td>109</td>\n    </tr>\n    <tr>\n      <th>2553</th>\n      <td>6</td>\n      <td>67</td>\n    </tr>\n    <tr>\n      <th>2387</th>\n      <td>6</td>\n      <td>108</td>\n    </tr>\n    <tr>\n      <th>1325</th>\n      <td>6</td>\n      <td>17</td>\n    </tr>\n    <tr>\n      <th>2327</th>\n      <td>6</td>\n      <td>82</td>\n    </tr>\n    <tr>\n      <th>2223</th>\n      <td>6</td>\n      <td>134</td>\n    </tr>\n    <tr>\n      <th>1919</th>\n      <td>6</td>\n      <td>100</td>\n    </tr>\n    <tr>\n      <th>908</th>\n      <td>6</td>\n      <td>23</td>\n    </tr>\n    <tr>\n      <th>974</th>\n      <td>6</td>\n      <td>21</td>\n    </tr>\n    <tr>\n      <th>1142</th>\n      <td>6</td>\n      <td>105</td>\n    </tr>\n    <tr>\n      <th>1273</th>\n      <td>6</td>\n      <td>28</td>\n    </tr>\n    <tr>\n      <th>1638</th>\n      <td>6</td>\n      <td>116</td>\n    </tr>\n    <tr>\n      <th>3190</th>\n      <td>6</td>\n      <td>103</td>\n    </tr>\n  </tbody>\n</table>\n</div>"
     },
     "metadata": {},
     "output_type": "execute_result",
     "execution_count": 163
    }
   ],
   "source": [
    "df['CustServ_Calls_Zscore']= stats.zscore(df['CustServ Calls'])\n",
    "\n",
    "CustServ_Calls_Zscore_Outlier=df.query('CustServ_Calls_Zscore>3 | CustServ_Calls_Zscore<-3')\n",
    "CustServ_Calls_Zscore_Outlier[['CustServ Calls','Account Length']].sort_values(by=['CustServ Calls'],ascending=False)"
   ],
   "metadata": {
    "collapsed": false,
    "pycharm": {
     "name": "#%%\n",
     "is_executing": false
    }
   }
  },
  {
   "cell_type": "code",
   "execution_count": 164,
   "outputs": [
    {
     "data": {
      "text/plain": "<AxesSubplot:>"
     },
     "metadata": {},
     "output_type": "execute_result",
     "execution_count": 164
    },
    {
     "data": {
      "text/plain": "<Figure size 432x288 with 1 Axes>",
      "image/png": "[encoded data removed]"
     },
     "metadata": {
      "needs_background": "light"
     },
     "output_type": "display_data"
    }
   ],
   "source": [
    "df['CustServ Calls'].hist()"
   ],
   "metadata": {
    "collapsed": false,
    "pycharm": {
     "name": "#%%\n",
     "is_executing": false
    }
   }
  },
  {
   "cell_type": "code",
   "execution_count": 165,
   "outputs": [
    {
     "data": {
      "text/plain": "count    3333.000000\nmean      179.775098\nstd        54.467389\nmin         0.000000\n25%       143.700000\n50%       179.400000\n75%       216.400000\nmax       350.800000\nName: Day Mins, dtype: float64"
     },
     "metadata": {},
     "output_type": "execute_result",
     "execution_count": 165
    }
   ],
   "source": [
    "df['Day Mins'].describe()"
   ],
   "metadata": {
    "collapsed": false,
    "pycharm": {
     "name": "#%%\n",
     "is_executing": false
    }
   }
  },
  {
   "cell_type": "code",
   "execution_count": 166,
   "outputs": [
    {
     "data": {
      "text/plain": "bucket_1    837\nbucket_4    833\nbucket_2    832\nbucket_3    831\nName: Day Mins qcut, dtype: int64"
     },
     "metadata": {},
     "output_type": "execute_result",
     "execution_count": 166
    }
   ],
   "source": [
    "df['Day Mins qcut'] = pd.qcut(df['Day Mins'], q=4, labels=['bucket_1', 'bucket_2','bucket_3','bucket_4'])\n",
    "df['Day Mins qcut'].value_counts()"
   ],
   "metadata": {
    "collapsed": false,
    "pycharm": {
     "name": "#%%\n",
     "is_executing": false
    }
   }
  },
  {
   "cell_type": "code",
   "execution_count": 167,
   "outputs": [
    {
     "data": {
      "text/plain": "<AxesSubplot:>"
     },
     "metadata": {},
     "output_type": "execute_result",
     "execution_count": 167
    },
    {
     "data": {
      "text/plain": "<Figure size 432x288 with 1 Axes>",
      "image/png": "[encoded data removed]"
     },
     "metadata": {
      "needs_background": "light"
     },
     "output_type": "display_data"
    }
   ],
   "source": [
    "df['Day Mins qcut'].hist()"
   ],
   "metadata": {
    "collapsed": false,
    "pycharm": {
     "name": "#%%\n",
     "is_executing": false
    }
   }
  },
  {
   "cell_type": "code",
   "execution_count": 168,
   "outputs": [
    {
     "data": {
      "text/plain": "<AxesSubplot:>"
     },
     "metadata": {},
     "output_type": "execute_result",
     "execution_count": 168
    },
    {
     "data": {
      "text/plain": "<Figure size 432x288 with 1 Axes>",
      "image/png": "[encoded data removed]"
     },
     "metadata": {
      "needs_background": "light"
     },
     "output_type": "display_data"
    }
   ],
   "source": [
    "df['Day Mins cut']= pd.cut(df['Day Mins'],bins=4,labels=['b1','b2','b3','b4'])\n",
    "#pd.cut(df['Day Mins'],bins=10).value_counts()\n",
    "df['Day Mins cut'].hist()"
   ],
   "metadata": {
    "collapsed": false,
    "pycharm": {
     "name": "#%%\n",
     "is_executing": false
    }
   }
  },
  {
   "cell_type": "code",
   "execution_count": 169,
   "outputs": [
    {
     "name": "stdout",
     "text": [
      "[0.0, 123.3, 178.5, 232.9, 350.8]\n"
     ],
     "output_type": "stream"
    }
   ],
   "source": [
    "breaks=jenkspy.jenks_breaks(df['Day Mins'], nb_class=4)\n",
    "print(breaks)"
   ],
   "metadata": {
    "collapsed": false,
    "pycharm": {
     "name": "#%%\n",
     "is_executing": false
    }
   }
  },
  {
   "cell_type": "code",
   "execution_count": 170,
   "outputs": [
    {
     "data": {
      "text/plain": "<AxesSubplot:>"
     },
     "metadata": {},
     "output_type": "execute_result",
     "execution_count": 170
    },
    {
     "data": {
      "text/plain": "<Figure size 432x288 with 1 Axes>",
      "image/png": "[encoded data removed]"
     },
     "metadata": {
      "needs_background": "light"
     },
     "output_type": "display_data"
    }
   ],
   "source": [
    "df['Day Mins jenkspy']=pd.cut(df['Day Mins'],bins=breaks,labels=['bucket_1', 'bucket_2','bucket_3','bucket_4'])\n",
    "df['Day Mins jenkspy'].hist()"
   ],
   "metadata": {
    "collapsed": false,
    "pycharm": {
     "name": "#%%\n",
     "is_executing": false
    }
   }
  }
 ],
 "metadata": {
  "kernelspec": {
   "display_name": "Python 3",
   "language": "python",
   "name": "python3"
  },
  "language_info": {
   "codemirror_mode": {
    "name": "ipython",
    "version": 2
   },
   "file_extension": ".py",
   "mimetype": "text/x-python",
   "name": "python",
   "nbconvert_exporter": "python",
   "pygments_lexer": "ipython2",
   "version": "2.7.6"
  },
  "pycharm": {
   "stem_cell": {
    "cell_type": "raw",
    "source": [],
    "metadata": {
     "collapsed": false
    }
   }
  }
 },
 "nbformat": 4,
 "nbformat_minor": 0
}
