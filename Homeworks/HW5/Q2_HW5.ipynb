{
 "cells": [
  {
   "cell_type": "markdown",
   "source": [
    "Ghazaleh Zehtab\n",
    "HW5, Q2"
   ],
   "metadata": {
    "collapsed": false
   }
  },
  {
   "cell_type": "code",
   "execution_count": 172,
   "outputs": [],
   "source": [
    "import jenkspy\n",
    "\n",
    "import pandas as pd\n",
    "import matplotlib.pyplot as plt\n",
    "import numpy as np\n",
    "import matplotlib.cm as cm\n",
    "import plot_utils\n",
    "import seaborn as sns\n",
    "import statistics\n",
    "from sklearn import tree, metrics, preprocessing\n",
    "from sklearn.datasets import load_iris\n",
    "from sklearn.metrics import accuracy_score, silhouette_score, silhouette_samples\n",
    "from sklearn.model_selection import train_test_split\n",
    "from sklearn.naive_bayes import MultinomialNB\n",
    "from sklearn.tree import DecisionTreeClassifier, export_graphviz\n",
    "from sklearn.cluster import KMeans\n",
    "from sklearn.decomposition import PCA"
   ],
   "metadata": {
    "collapsed": false,
    "pycharm": {
     "name": "#%%\n",
     "is_executing": false
    }
   }
  },
  {
   "cell_type": "markdown",
   "source": [
    "## a"
   ],
   "metadata": {
    "collapsed": false
   }
  },
  {
   "cell_type": "code",
   "execution_count": 173,
   "outputs": [
    {
     "data": {
      "text/plain": "       3.6216    8.6661  -2.8073  -0.44699  0\n0     4.54590   8.16740  -2.4586  -1.46210  0\n1     3.86600  -2.63830   1.9242   0.10645  0\n2     3.45660   9.52280  -4.0112  -3.59440  0\n3     0.32924  -4.45520   4.5718  -0.98880  0\n4     4.36840   9.67180  -3.9606  -3.16250  0\n...       ...       ...      ...       ... ..\n1366  0.40614   1.34920  -1.4501  -0.55949  1\n1367 -1.38870  -4.87730   6.4774   0.34179  1\n1368 -3.75030 -13.45860  17.5932  -2.77710  1\n1369 -3.56370  -8.38270  12.3930  -1.28230  1\n1370 -2.54190  -0.65804   2.6842   1.19520  1\n\n[1371 rows x 5 columns]",
      "text/html": "<div>\n<style scoped>\n    .dataframe tbody tr th:only-of-type {\n        vertical-align: middle;\n    }\n\n    .dataframe tbody tr th {\n        vertical-align: top;\n    }\n\n    .dataframe thead th {\n        text-align: right;\n    }\n</style>\n<table border=\"1\" class=\"dataframe\">\n  <thead>\n    <tr style=\"text-align: right;\">\n      <th></th>\n      <th>3.6216</th>\n      <th>8.6661</th>\n      <th>-2.8073</th>\n      <th>-0.44699</th>\n      <th>0</th>\n    </tr>\n  </thead>\n  <tbody>\n    <tr>\n      <th>0</th>\n      <td>4.54590</td>\n      <td>8.16740</td>\n      <td>-2.4586</td>\n      <td>-1.46210</td>\n      <td>0</td>\n    </tr>\n    <tr>\n      <th>1</th>\n      <td>3.86600</td>\n      <td>-2.63830</td>\n      <td>1.9242</td>\n      <td>0.10645</td>\n      <td>0</td>\n    </tr>\n    <tr>\n      <th>2</th>\n      <td>3.45660</td>\n      <td>9.52280</td>\n      <td>-4.0112</td>\n      <td>-3.59440</td>\n      <td>0</td>\n    </tr>\n    <tr>\n      <th>3</th>\n      <td>0.32924</td>\n      <td>-4.45520</td>\n      <td>4.5718</td>\n      <td>-0.98880</td>\n      <td>0</td>\n    </tr>\n    <tr>\n      <th>4</th>\n      <td>4.36840</td>\n      <td>9.67180</td>\n      <td>-3.9606</td>\n      <td>-3.16250</td>\n      <td>0</td>\n    </tr>\n    <tr>\n      <th>...</th>\n      <td>...</td>\n      <td>...</td>\n      <td>...</td>\n      <td>...</td>\n      <td>...</td>\n    </tr>\n    <tr>\n      <th>1366</th>\n      <td>0.40614</td>\n      <td>1.34920</td>\n      <td>-1.4501</td>\n      <td>-0.55949</td>\n      <td>1</td>\n    </tr>\n    <tr>\n      <th>1367</th>\n      <td>-1.38870</td>\n      <td>-4.87730</td>\n      <td>6.4774</td>\n      <td>0.34179</td>\n      <td>1</td>\n    </tr>\n    <tr>\n      <th>1368</th>\n      <td>-3.75030</td>\n      <td>-13.45860</td>\n      <td>17.5932</td>\n      <td>-2.77710</td>\n      <td>1</td>\n    </tr>\n    <tr>\n      <th>1369</th>\n      <td>-3.56370</td>\n      <td>-8.38270</td>\n      <td>12.3930</td>\n      <td>-1.28230</td>\n      <td>1</td>\n    </tr>\n    <tr>\n      <th>1370</th>\n      <td>-2.54190</td>\n      <td>-0.65804</td>\n      <td>2.6842</td>\n      <td>1.19520</td>\n      <td>1</td>\n    </tr>\n  </tbody>\n</table>\n<p>1371 rows × 5 columns</p>\n</div>"
     },
     "metadata": {},
     "output_type": "execute_result",
     "execution_count": 173
    }
   ],
   "source": [
    "df = pd.read_csv(\"Banknote.csv\")\n",
    "df"
   ],
   "metadata": {
    "collapsed": false,
    "pycharm": {
     "name": "#%%\n",
     "is_executing": false
    }
   }
  },
  {
   "cell_type": "markdown",
   "source": [
    "## b"
   ],
   "metadata": {
    "collapsed": false,
    "pycharm": {
     "name": "#%% md\n"
    }
   }
  },
  {
   "cell_type": "code",
   "execution_count": 174,
   "outputs": [
    {
     "data": {
      "text/plain": "            c1        c2        c3        c4  goal\n0     0.835659  0.820982  0.121804  0.644326     0\n1     0.786629  0.416648  0.310608  0.786951     0\n2     0.757105  0.871699  0.054921  0.450440     0\n3     0.531578  0.348662  0.424662  0.687362     0\n4     0.822859  0.877275  0.057100  0.489711     0\n...        ...       ...       ...       ...   ...\n1366  0.537124  0.565855  0.165249  0.726398     1\n1367  0.407690  0.332868  0.506753  0.808350     1\n1368  0.237385  0.011768  0.985603  0.524755     1\n1369  0.250842  0.201701  0.761587  0.660675     1\n1370  0.324528  0.490747  0.343348  0.885949     1\n\n[1371 rows x 5 columns]",
      "text/html": "<div>\n<style scoped>\n    .dataframe tbody tr th:only-of-type {\n        vertical-align: middle;\n    }\n\n    .dataframe tbody tr th {\n        vertical-align: top;\n    }\n\n    .dataframe thead th {\n        text-align: right;\n    }\n</style>\n<table border=\"1\" class=\"dataframe\">\n  <thead>\n    <tr style=\"text-align: right;\">\n      <th></th>\n      <th>c1</th>\n      <th>c2</th>\n      <th>c3</th>\n      <th>c4</th>\n      <th>goal</th>\n    </tr>\n  </thead>\n  <tbody>\n    <tr>\n      <th>0</th>\n      <td>0.835659</td>\n      <td>0.820982</td>\n      <td>0.121804</td>\n      <td>0.644326</td>\n      <td>0</td>\n    </tr>\n    <tr>\n      <th>1</th>\n      <td>0.786629</td>\n      <td>0.416648</td>\n      <td>0.310608</td>\n      <td>0.786951</td>\n      <td>0</td>\n    </tr>\n    <tr>\n      <th>2</th>\n      <td>0.757105</td>\n      <td>0.871699</td>\n      <td>0.054921</td>\n      <td>0.450440</td>\n      <td>0</td>\n    </tr>\n    <tr>\n      <th>3</th>\n      <td>0.531578</td>\n      <td>0.348662</td>\n      <td>0.424662</td>\n      <td>0.687362</td>\n      <td>0</td>\n    </tr>\n    <tr>\n      <th>4</th>\n      <td>0.822859</td>\n      <td>0.877275</td>\n      <td>0.057100</td>\n      <td>0.489711</td>\n      <td>0</td>\n    </tr>\n    <tr>\n      <th>...</th>\n      <td>...</td>\n      <td>...</td>\n      <td>...</td>\n      <td>...</td>\n      <td>...</td>\n    </tr>\n    <tr>\n      <th>1366</th>\n      <td>0.537124</td>\n      <td>0.565855</td>\n      <td>0.165249</td>\n      <td>0.726398</td>\n      <td>1</td>\n    </tr>\n    <tr>\n      <th>1367</th>\n      <td>0.407690</td>\n      <td>0.332868</td>\n      <td>0.506753</td>\n      <td>0.808350</td>\n      <td>1</td>\n    </tr>\n    <tr>\n      <th>1368</th>\n      <td>0.237385</td>\n      <td>0.011768</td>\n      <td>0.985603</td>\n      <td>0.524755</td>\n      <td>1</td>\n    </tr>\n    <tr>\n      <th>1369</th>\n      <td>0.250842</td>\n      <td>0.201701</td>\n      <td>0.761587</td>\n      <td>0.660675</td>\n      <td>1</td>\n    </tr>\n    <tr>\n      <th>1370</th>\n      <td>0.324528</td>\n      <td>0.490747</td>\n      <td>0.343348</td>\n      <td>0.885949</td>\n      <td>1</td>\n    </tr>\n  </tbody>\n</table>\n<p>1371 rows × 5 columns</p>\n</div>"
     },
     "metadata": {},
     "output_type": "execute_result",
     "execution_count": 174
    }
   ],
   "source": [
    "df=df.replace('MISS',np.nan)\n",
    "df=df.replace('missing',np.nan)\n",
    "df=df.replace('NULL',np.nan)\n",
    "df=df.replace(\"''\",np.nan)\n",
    "df=df.replace(\"?\",np.nan)\n",
    "df.columns=['c1','c2','c3','c4','goal']\n",
    "df.c1 = df.c1.fillna(df.c1.mean())\n",
    "df.c2 = df.c2.fillna(df.c2.mean())\n",
    "df.c3 = df.c3.fillna(df.c3.mean())\n",
    "df.c4 = df.c4.fillna(df.c4.mean())\n",
    "x = df.values #returns a numpy array\n",
    "min_max_scaler = preprocessing.MinMaxScaler()\n",
    "x_scaled = min_max_scaler.fit_transform(x)\n",
    "df = pd.DataFrame(x_scaled,index=df.index, columns=df.columns)\n",
    "df = df.astype({\"goal\": int})\n",
    "df"
   ],
   "metadata": {
    "collapsed": false,
    "pycharm": {
     "name": "#%%\n",
     "is_executing": false
    }
   }
  },
  {
   "cell_type": "markdown",
   "source": [
    "## c"
   ],
   "metadata": {
    "collapsed": false,
    "pycharm": {
     "name": "#%% md\n"
    }
   }
  },
  {
   "cell_type": "code",
   "execution_count": 175,
   "outputs": [],
   "source": [
    "clo = df.values[:, 0:4]\n",
    "fit_m = PCA(n_components=2).fit(clo)\n",
    "new_clo = fit_m.transform(clo)\n",
    "k_means = KMeans(init=\"k-means++\", n_clusters=2)\n",
    "k_means.fit(clo)\n",
    "k_predict = k_means.predict(clo)"
   ],
   "metadata": {
    "collapsed": false,
    "pycharm": {
     "name": "#%%\n",
     "is_executing": false
    }
   }
  },
  {
   "cell_type": "markdown",
   "source": [
    "## d"
   ],
   "metadata": {
    "collapsed": false,
    "pycharm": {
     "name": "#%% md\n"
    }
   }
  },
  {
   "cell_type": "code",
   "execution_count": 176,
   "outputs": [
    {
     "data": {
      "text/plain": "array([[-0.24203572,  0.06385481],\n       [ 0.23336681, -0.06156774]])"
     },
     "metadata": {},
     "output_type": "execute_result",
     "execution_count": 176
    }
   ],
   "source": [
    "d = np.column_stack((new_clo, k_predict))\n",
    "centroids = fit_m.transform(k_means.cluster_centers_)\n",
    "centroids"
   ],
   "metadata": {
    "collapsed": false,
    "pycharm": {
     "name": "#%%\n",
     "is_executing": false
    }
   }
  },
  {
   "cell_type": "markdown",
   "source": [
    "## e"
   ],
   "metadata": {
    "collapsed": false,
    "pycharm": {
     "name": "#%% md\n"
    }
   }
  },
  {
   "cell_type": "code",
   "execution_count": 177,
   "outputs": [
    {
     "data": {
      "text/plain": "<Figure size 432x288 with 1 Axes>",
      "image/png": "[encoded data removed]"
     },
     "metadata": {
      "needs_background": "light"
     },
     "output_type": "display_data"
    }
   ],
   "source": [
    "plt.scatter(d[d[:,2] == 0][:,0], d[d[:,2] == 0][:,1], color = 'r',label = 'goal 0')\n",
    "plt.scatter(d[d[:,2] == 1][:,0], d[d[:,2] == 1][:,1], color = 'b',label = 'goal 1')\n",
    "plt.scatter(centroids[:, 0], centroids[:, 1], marker=\"x\", s=169, linewidths=3, color=\"yellow\", zorder=10)\n",
    "plt.legend()\n",
    "plt.show()"
   ],
   "metadata": {
    "collapsed": false,
    "pycharm": {
     "name": "#%%\n",
     "is_executing": false
    }
   }
  },
  {
   "cell_type": "markdown",
   "source": [
    "## g :inertia"
   ],
   "metadata": {
    "collapsed": false,
    "pycharm": {
     "name": "#%% md\n"
    }
   }
  },
  {
   "cell_type": "code",
   "execution_count": 178,
   "outputs": [
    {
     "data": {
      "text/plain": "138.05271054394973"
     },
     "metadata": {},
     "output_type": "execute_result",
     "execution_count": 178
    }
   ],
   "source": [
    "k_means.inertia_"
   ],
   "metadata": {
    "collapsed": false,
    "pycharm": {
     "name": "#%%\n",
     "is_executing": false
    }
   }
  },
  {
   "cell_type": "markdown",
   "source": [
    "## h"
   ],
   "metadata": {
    "collapsed": false,
    "pycharm": {
     "name": "#%% md\n"
    }
   }
  },
  {
   "cell_type": "code",
   "execution_count": 179,
   "outputs": [
    {
     "data": {
      "text/plain": "[535.2907792275818,\n 109.82646748322296,\n 77.74512996900927,\n 51.467025087392585,\n 41.36598163646291]"
     },
     "metadata": {},
     "output_type": "execute_result",
     "execution_count": 179
    }
   ],
   "source": [
    "inertia_list = []\n",
    "for i in range(1,6):\n",
    "    k_means = KMeans(init=\"k-means++\", n_clusters=i)\n",
    "    k_means.fit(d)\n",
    "    inertia_list.append(k_means.inertia_)\n",
    "inertia_list"
   ],
   "metadata": {
    "collapsed": false,
    "pycharm": {
     "name": "#%%\n",
     "is_executing": false
    }
   }
  },
  {
   "cell_type": "markdown",
   "source": [
    "## i"
   ],
   "metadata": {
    "collapsed": false
   }
  },
  {
   "cell_type": "code",
   "execution_count": 180,
   "outputs": [
    {
     "data": {
      "text/plain": "[<matplotlib.lines.Line2D at 0x2a192ea6828>]"
     },
     "metadata": {},
     "output_type": "execute_result",
     "execution_count": 180
    },
    {
     "data": {
      "text/plain": "<Figure size 432x288 with 1 Axes>",
      "image/png": "[encoded data removed]"
     },
     "metadata": {
      "needs_background": "light"
     },
     "output_type": "display_data"
    }
   ],
   "source": [
    "plt.legend(['k-means inertia'], loc='lower right')\n",
    "plt.plot(inertia_list)\n",
    "\n",
    "\n"
   ],
   "metadata": {
    "collapsed": false,
    "pycharm": {
     "name": "#%%\n",
     "is_executing": false
    }
   }
  },
  {
   "cell_type": "markdown",
   "source": [
    "## j"
   ],
   "metadata": {
    "collapsed": false,
    "pycharm": {
     "name": "#%% md\n"
    }
   }
  },
  {
   "cell_type": "code",
   "execution_count": 181,
   "outputs": [],
   "source": [
    "silhouette_list = []\n",
    "for i in range(2,6):\n",
    "    fig, (first, second) = plt.subplots(1, 2)\n",
    "    fig.set_size_inches(15, 5)\n",
    "    K_means_cluster = KMeans(n_clusters = i, random_state = 20)\n",
    "    Predict_cluster = K_means_cluster.fit_predict(d)\n",
    "\n",
    "    score_silhouette = silhouette_score(d, Predict_cluster)\n",
    "    silhouette_list.append(score_silhouette)\n",
    "    value_for_plot = silhouette_samples(d, Predict_cluster)\n",
    "\n",
    "    y_l = 10\n",
    "    for j in range(i):\n",
    "        counter_cluster = \\\n",
    "            value_for_plot[Predict_cluster == j]\n",
    "        counter_cluster.sort()\n",
    "        counter_shape = counter_cluster.shape[0]\n",
    "        y_u = y_l + counter_shape\n",
    "        color = cm.nipy_spectral(float(j) / i)\n",
    "        first.fill_betweenx(np.arange(y_l, y_u),\n",
    "                          0, counter_cluster,\n",
    "                          facecolor=color, edgecolor=color, alpha=0.7)\n",
    "        first.text(-0.05, y_l + 0.5 * counter_shape, str(i))\n",
    "        y_l = y_u + 10\n",
    "\n",
    "    first.set_title(\"Cluster's plot of the silhouette\")\n",
    "    first.set_xlabel(\"coefficient\")\n",
    "    first.set_ylabel(\"label\")\n",
    "    first.axvline(x=score_silhouette, color=\"blue\", linestyle=\"--\")\n",
    "    first.set_yticks([])  \n",
    "    first.set_xticks([-0.1, 0, 0.2, 0.4, 0.6, 0.8, 1])\n",
    "    my_color = cm.nipy_spectral(Predict_cluster.astype(float) / i)\n",
    "    second.scatter(new_clo[:, 0], new_clo[:, 1], marker='.', s=30, lw=0, alpha=0.7,\n",
    "                c=my_color, edgecolor='k')\n",
    "    cc = fit_m.transform(K_means_cluster.cluster_centers_)\n",
    "    second.scatter(cc[:, 0], cc[:, 1], marker='x',\n",
    "                c=\"white\", alpha=0.5, s=300, edgecolor='k')\n",
    "\n",
    "    for j, k in enumerate(cc):\n",
    "        second.scatter(k[0], k[1], marker='$%d$' % j, alpha=1,\n",
    "                    s=50, edgecolor='k')\n",
    "\n",
    "        second.set_title(\"clustered data visualization : \")\n",
    "        second.set_xlabel(\"C1\")\n",
    "        second.set_ylabel(\"C2\")\n",
    "\n",
    "        plt.suptitle((\"KMeans clustering  \"\n",
    "                  \"with n_clusters = %d\" % i),\n",
    "                    fontsize=16)\n",
    "plt.show()\n",
    "print(silhouette_list)\n",
    "plt.figure()\n",
    "plt.plot(silhouette_list)\n"
   ],
   "metadata": {
    "collapsed": false,
    "pycharm": {
     "name": "#%%\n",
     "is_executing": false
    }
   }
  }
 ],
 "metadata": {
  "kernelspec": {
   "display_name": "Python 3",
   "language": "python",
   "name": "python3"
  },
  "language_info": {
   "codemirror_mode": {
    "name": "ipython",
    "version": 2
   },
   "file_extension": ".py",
   "mimetype": "text/x-python",
   "name": "python",
   "nbconvert_exporter": "python",
   "pygments_lexer": "ipython2",
   "version": "2.7.6"
  },
  "pycharm": {
   "stem_cell": {
    "cell_type": "raw",
    "source": [],
    "metadata": {
     "collapsed": false
    }
   }
  }
 },
 "nbformat": 4,
 "nbformat_minor": 0
}
