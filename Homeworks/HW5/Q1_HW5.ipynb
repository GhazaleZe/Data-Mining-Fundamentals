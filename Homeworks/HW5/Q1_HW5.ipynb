{
 "cells": [
  {
   "cell_type": "markdown",
   "metadata": {
    "collapsed": true,
    "pycharm": {
     "name": "#%% md\n"
    }
   },
   "source": [
    "Ghazaleh Zehtab\n",
    "HW5, Q1"
   ]
  },
  {
   "cell_type": "code",
   "execution_count": 161,
   "outputs": [],
   "source": [
    "import jenkspy\n",
    "\n",
    "import pandas as pd\n",
    "import matplotlib.pyplot as plt\n",
    "import numpy as np\n",
    "import plot_utils\n",
    "import seaborn as sns\n",
    "import statistics\n",
    "from sklearn import tree, metrics, preprocessing\n",
    "from sklearn.datasets import load_iris\n",
    "from sklearn.metrics import accuracy_score\n",
    "from sklearn.model_selection import train_test_split\n",
    "from sklearn.naive_bayes import MultinomialNB\n",
    "from sklearn.tree import DecisionTreeClassifier, export_graphviz\n"
   ],
   "metadata": {
    "collapsed": false,
    "pycharm": {
     "name": "#%%\n",
     "is_executing": false
    }
   }
  },
  {
   "cell_type": "markdown",
   "source": [
    "## a"
   ],
   "metadata": {
    "collapsed": false,
    "pycharm": {
     "name": "#%% md\n"
    }
   }
  },
  {
   "cell_type": "code",
   "execution_count": 162,
   "outputs": [
    {
     "data": {
      "text/plain": "           X1        X2  Class\n0    1.204442  3.576114      0\n1    0.158710 -1.482171      0\n2    0.095247 -1.279955      0\n3    0.349178 -2.064380      0\n4    0.694150  2.889109      0\n..        ...       ...    ...\n395  0.450368  2.408121      1\n396  0.037573  0.891601      1\n397  0.213641  1.732016      1\n398  0.324387 -2.116325      1\n399  0.730781  3.068329      1\n\n[400 rows x 3 columns]",
      "text/html": "<div>\n<style scoped>\n    .dataframe tbody tr th:only-of-type {\n        vertical-align: middle;\n    }\n\n    .dataframe tbody tr th {\n        vertical-align: top;\n    }\n\n    .dataframe thead th {\n        text-align: right;\n    }\n</style>\n<table border=\"1\" class=\"dataframe\">\n  <thead>\n    <tr style=\"text-align: right;\">\n      <th></th>\n      <th>X1</th>\n      <th>X2</th>\n      <th>Class</th>\n    </tr>\n  </thead>\n  <tbody>\n    <tr>\n      <th>0</th>\n      <td>1.204442</td>\n      <td>3.576114</td>\n      <td>0</td>\n    </tr>\n    <tr>\n      <th>1</th>\n      <td>0.158710</td>\n      <td>-1.482171</td>\n      <td>0</td>\n    </tr>\n    <tr>\n      <th>2</th>\n      <td>0.095247</td>\n      <td>-1.279955</td>\n      <td>0</td>\n    </tr>\n    <tr>\n      <th>3</th>\n      <td>0.349178</td>\n      <td>-2.064380</td>\n      <td>0</td>\n    </tr>\n    <tr>\n      <th>4</th>\n      <td>0.694150</td>\n      <td>2.889109</td>\n      <td>0</td>\n    </tr>\n    <tr>\n      <th>...</th>\n      <td>...</td>\n      <td>...</td>\n      <td>...</td>\n    </tr>\n    <tr>\n      <th>395</th>\n      <td>0.450368</td>\n      <td>2.408121</td>\n      <td>1</td>\n    </tr>\n    <tr>\n      <th>396</th>\n      <td>0.037573</td>\n      <td>0.891601</td>\n      <td>1</td>\n    </tr>\n    <tr>\n      <th>397</th>\n      <td>0.213641</td>\n      <td>1.732016</td>\n      <td>1</td>\n    </tr>\n    <tr>\n      <th>398</th>\n      <td>0.324387</td>\n      <td>-2.116325</td>\n      <td>1</td>\n    </tr>\n    <tr>\n      <th>399</th>\n      <td>0.730781</td>\n      <td>3.068329</td>\n      <td>1</td>\n    </tr>\n  </tbody>\n</table>\n<p>400 rows × 3 columns</p>\n</div>"
     },
     "metadata": {},
     "output_type": "execute_result",
     "execution_count": 162
    }
   ],
   "source": [
    "df= pd.read_csv(\"Flower.csv\")\n",
    "df"
   ],
   "metadata": {
    "collapsed": false,
    "pycharm": {
     "name": "#%%\n",
     "is_executing": false
    }
   }
  },
  {
   "cell_type": "markdown",
   "source": [
    "## b "
   ],
   "metadata": {
    "collapsed": false,
    "pycharm": {
     "name": "#%% md\n",
     "is_executing": false
    }
   }
  },
  {
   "cell_type": "code",
   "execution_count": 163,
   "outputs": [
    {
     "data": {
      "text/plain": "           X1        X2  Class\n0    0.653353  0.942829      0\n1    0.527210  0.316243      0\n2    0.519555  0.341292      0\n3    0.550186  0.244122      0\n4    0.591799  0.857727      0\n..        ...       ...    ...\n395  0.562392  0.798146      1\n396  0.512598  0.610289      1\n397  0.533837  0.714394      1\n398  0.547195  0.237688      1\n399  0.596217  0.879928      1\n\n[400 rows x 3 columns]",
      "text/html": "<div>\n<style scoped>\n    .dataframe tbody tr th:only-of-type {\n        vertical-align: middle;\n    }\n\n    .dataframe tbody tr th {\n        vertical-align: top;\n    }\n\n    .dataframe thead th {\n        text-align: right;\n    }\n</style>\n<table border=\"1\" class=\"dataframe\">\n  <thead>\n    <tr style=\"text-align: right;\">\n      <th></th>\n      <th>X1</th>\n      <th>X2</th>\n      <th>Class</th>\n    </tr>\n  </thead>\n  <tbody>\n    <tr>\n      <th>0</th>\n      <td>0.653353</td>\n      <td>0.942829</td>\n      <td>0</td>\n    </tr>\n    <tr>\n      <th>1</th>\n      <td>0.527210</td>\n      <td>0.316243</td>\n      <td>0</td>\n    </tr>\n    <tr>\n      <th>2</th>\n      <td>0.519555</td>\n      <td>0.341292</td>\n      <td>0</td>\n    </tr>\n    <tr>\n      <th>3</th>\n      <td>0.550186</td>\n      <td>0.244122</td>\n      <td>0</td>\n    </tr>\n    <tr>\n      <th>4</th>\n      <td>0.591799</td>\n      <td>0.857727</td>\n      <td>0</td>\n    </tr>\n    <tr>\n      <th>...</th>\n      <td>...</td>\n      <td>...</td>\n      <td>...</td>\n    </tr>\n    <tr>\n      <th>395</th>\n      <td>0.562392</td>\n      <td>0.798146</td>\n      <td>1</td>\n    </tr>\n    <tr>\n      <th>396</th>\n      <td>0.512598</td>\n      <td>0.610289</td>\n      <td>1</td>\n    </tr>\n    <tr>\n      <th>397</th>\n      <td>0.533837</td>\n      <td>0.714394</td>\n      <td>1</td>\n    </tr>\n    <tr>\n      <th>398</th>\n      <td>0.547195</td>\n      <td>0.237688</td>\n      <td>1</td>\n    </tr>\n    <tr>\n      <th>399</th>\n      <td>0.596217</td>\n      <td>0.879928</td>\n      <td>1</td>\n    </tr>\n  </tbody>\n</table>\n<p>400 rows × 3 columns</p>\n</div>"
     },
     "metadata": {},
     "output_type": "execute_result",
     "execution_count": 163
    }
   ],
   "source": [
    "df=df.replace('MISS',np.nan)\n",
    "df=df.replace('missing',np.nan)\n",
    "df=df.replace('NULL',np.nan)\n",
    "df=df.replace(\"''\",np.nan)\n",
    "df=df.replace(\"?\",np.nan)\n",
    "df.X1 = df.X1.fillna(df.X1.mean())\n",
    "df.X2 = df.X2.fillna(df.X2.mean())\n",
    "x = df.values #returns a numpy array\n",
    "min_max_scaler = preprocessing.MinMaxScaler()\n",
    "x_scaled = min_max_scaler.fit_transform(x)\n",
    "df = pd.DataFrame(x_scaled,index=df.index, columns=df.columns)\n",
    "df = df.astype({\"Class\": int})\n",
    "df"
   ],
   "metadata": {
    "collapsed": false,
    "pycharm": {
     "name": "#%%\n",
     "is_executing": false
    }
   }
  },
  {
   "cell_type": "code",
   "execution_count": 164,
   "outputs": [
    {
     "data": {
      "text/plain": "<AxesSubplot:>"
     },
     "metadata": {},
     "output_type": "execute_result",
     "execution_count": 164
    },
    {
     "data": {
      "text/plain": "<Figure size 432x288 with 1 Axes>",
      "image/png": "[encoded data removed]"
     },
     "metadata": {
      "needs_background": "light"
     },
     "output_type": "display_data"
    }
   ],
   "source": [
    "df['Class'].hist()"
   ],
   "metadata": {
    "collapsed": false,
    "pycharm": {
     "name": "#%%\n",
     "is_executing": false
    }
   }
  },
  {
   "cell_type": "markdown",
   "source": [
    "## c\n"
   ],
   "metadata": {
    "collapsed": false,
    "pycharm": {
     "name": "#%% md\n"
    }
   }
  },
  {
   "cell_type": "code",
   "execution_count": 165,
   "outputs": [
    {
     "data": {
      "text/plain": "<matplotlib.legend.Legend at 0x1c466a35fd0>"
     },
     "metadata": {},
     "output_type": "execute_result",
     "execution_count": 165
    },
    {
     "data": {
      "text/plain": "<Figure size 432x288 with 1 Axes>",
      "image/png": "[encoded data removed]"
     },
     "metadata": {
      "needs_background": "light"
     },
     "output_type": "display_data"
    }
   ],
   "source": [
    "plt.scatter(df[df.Class == 0].X1, df[df.Class == 0].X2, label = 'Class 0')\n",
    "plt.scatter(df[df.Class == 1].X1, df[df.Class == 1].X2, label = 'Class 1')\n",
    "plt.legend()"
   ],
   "metadata": {
    "collapsed": false,
    "pycharm": {
     "name": "#%%\n",
     "is_executing": false
    }
   }
  },
  {
   "cell_type": "markdown",
   "source": [
    "## d"
   ],
   "metadata": {
    "collapsed": false,
    "pycharm": {
     "name": "#%% md\n"
    }
   }
  },
  {
   "cell_type": "code",
   "execution_count": 166,
   "outputs": [
    {
     "data": {
      "text/plain": "           X1        X2\n0    0.653353  0.942829\n1    0.527210  0.316243\n2    0.519555  0.341292\n3    0.550186  0.244122\n4    0.591799  0.857727\n..        ...       ...\n395  0.562392  0.798146\n396  0.512598  0.610289\n397  0.533837  0.714394\n398  0.547195  0.237688\n399  0.596217  0.879928\n\n[400 rows x 2 columns]",
      "text/html": "<div>\n<style scoped>\n    .dataframe tbody tr th:only-of-type {\n        vertical-align: middle;\n    }\n\n    .dataframe tbody tr th {\n        vertical-align: top;\n    }\n\n    .dataframe thead th {\n        text-align: right;\n    }\n</style>\n<table border=\"1\" class=\"dataframe\">\n  <thead>\n    <tr style=\"text-align: right;\">\n      <th></th>\n      <th>X1</th>\n      <th>X2</th>\n    </tr>\n  </thead>\n  <tbody>\n    <tr>\n      <th>0</th>\n      <td>0.653353</td>\n      <td>0.942829</td>\n    </tr>\n    <tr>\n      <th>1</th>\n      <td>0.527210</td>\n      <td>0.316243</td>\n    </tr>\n    <tr>\n      <th>2</th>\n      <td>0.519555</td>\n      <td>0.341292</td>\n    </tr>\n    <tr>\n      <th>3</th>\n      <td>0.550186</td>\n      <td>0.244122</td>\n    </tr>\n    <tr>\n      <th>4</th>\n      <td>0.591799</td>\n      <td>0.857727</td>\n    </tr>\n    <tr>\n      <th>...</th>\n      <td>...</td>\n      <td>...</td>\n    </tr>\n    <tr>\n      <th>395</th>\n      <td>0.562392</td>\n      <td>0.798146</td>\n    </tr>\n    <tr>\n      <th>396</th>\n      <td>0.512598</td>\n      <td>0.610289</td>\n    </tr>\n    <tr>\n      <th>397</th>\n      <td>0.533837</td>\n      <td>0.714394</td>\n    </tr>\n    <tr>\n      <th>398</th>\n      <td>0.547195</td>\n      <td>0.237688</td>\n    </tr>\n    <tr>\n      <th>399</th>\n      <td>0.596217</td>\n      <td>0.879928</td>\n    </tr>\n  </tbody>\n</table>\n<p>400 rows × 2 columns</p>\n</div>"
     },
     "metadata": {},
     "output_type": "execute_result",
     "execution_count": 166
    }
   ],
   "source": [
    "x = df.iloc[:,:-1]\n",
    "y = df.iloc[:,-1]\n",
    "x"
   ],
   "metadata": {
    "collapsed": false,
    "pycharm": {
     "name": "#%%\n",
     "is_executing": false
    }
   }
  },
  {
   "cell_type": "markdown",
   "source": [
    "## e"
   ],
   "metadata": {
    "collapsed": false,
    "pycharm": {
     "name": "#%% md\n",
     "is_executing": false
    }
   }
  },
  {
   "cell_type": "code",
   "execution_count": 167,
   "outputs": [
    {
     "data": {
      "text/plain": "<AxesSubplot:>"
     },
     "metadata": {},
     "output_type": "execute_result",
     "execution_count": 167
    },
    {
     "data": {
      "text/plain": "<Figure size 432x288 with 1 Axes>",
      "image/png": "[encoded data removed]"
     },
     "metadata": {
      "needs_background": "light"
     },
     "output_type": "display_data"
    }
   ],
   "source": [
    "x_train, x_test, y_train, y_test = train_test_split(x,y,test_size=0.2)\n",
    "y_train.hist()"
   ],
   "metadata": {
    "collapsed": false,
    "pycharm": {
     "name": "#%%\n",
     "is_executing": false
    }
   }
  },
  {
   "cell_type": "code",
   "execution_count": 168,
   "outputs": [
    {
     "data": {
      "text/plain": "<AxesSubplot:>"
     },
     "metadata": {},
     "output_type": "execute_result",
     "execution_count": 168
    },
    {
     "data": {
      "text/plain": "<Figure size 432x288 with 1 Axes>",
      "image/png": "[encoded data removed]"
     },
     "metadata": {
      "needs_background": "light"
     },
     "output_type": "display_data"
    }
   ],
   "source": [
    "y_test.hist()"
   ],
   "metadata": {
    "collapsed": false,
    "pycharm": {
     "name": "#%%\n",
     "is_executing": false
    }
   }
  },
  {
   "cell_type": "markdown",
   "source": [
    "## f\n",
    "MLPClassifier"
   ],
   "metadata": {
    "collapsed": false,
    "pycharm": {
     "name": "#%% md\n"
    }
   }
  },
  {
   "cell_type": "code",
   "source": [
    "from sklearn.neural_network import MLPClassifier\n",
    "mlp = MLPClassifier(hidden_layer_sizes=(10, 10, 10), max_iter=1000)\n",
    "mlp.fit(x_train, y_train.values.ravel())\n",
    "Y_predicted=mlp.predict(x_test)"
   ],
   "metadata": {
    "collapsed": false,
    "pycharm": {
     "name": "#%%\n",
     "is_executing": false
    }
   },
   "execution_count": 169,
   "outputs": []
  },
  {
   "cell_type": "markdown",
   "source": [
    "## g"
   ],
   "metadata": {
    "collapsed": false,
    "pycharm": {
     "name": "#%% md\n",
     "is_executing": false
    }
   }
  },
  {
   "cell_type": "code",
   "execution_count": 170,
   "outputs": [
    {
     "name": "stdout",
     "text": [
      "[[31  7]\n",
      " [26 16]]\n"
     ],
     "output_type": "stream"
    }
   ],
   "source": [
    "from sklearn.metrics import confusion_matrix, classification_report\n",
    "print(confusion_matrix(y_test, Y_predicted))"
   ],
   "metadata": {
    "collapsed": false,
    "pycharm": {
     "name": "#%%\n",
     "is_executing": false
    }
   }
  },
  {
   "cell_type": "code",
   "source": [
    "print(classification_report(y_test, Y_predicted))"
   ],
   "metadata": {
    "collapsed": false,
    "pycharm": {
     "name": "#%%\n",
     "is_executing": false
    }
   },
   "execution_count": 171,
   "outputs": [
    {
     "name": "stdout",
     "text": [
      "              precision    recall  f1-score   support\n",
      "\n",
      "           0       0.54      0.82      0.65        38\n",
      "           1       0.70      0.38      0.49        42\n",
      "\n",
      "    accuracy                           0.59        80\n",
      "   macro avg       0.62      0.60      0.57        80\n",
      "weighted avg       0.62      0.59      0.57        80\n",
      "\n"
     ],
     "output_type": "stream"
    }
   ]
  },
  {
   "cell_type": "markdown",
   "source": [
    "## h"
   ],
   "metadata": {
    "collapsed": false,
    "pycharm": {
     "name": "#%% md\n",
     "is_executing": false
    }
   }
  },
  {
   "cell_type": "markdown",
   "source": [
    "def plot_prediction(model, X, y):\n",
    "    x_min, x_max = X.T.iloc[0, :].min() - 1, X.T.iloc[0, :].max() + 1\n",
    "    y_min, y_max = X.T.iloc[1, :].min() - 1, X.T.iloc[1, :].max() + 1\n",
    "    h = 0.01\n",
    "\n",
    "    xx, yy = np.meshgrid(np.arange(x_min, x_max, h), np.arange(y_min, y_max, h))\n",
    "\n",
    "    Z = model(np.c_[xx.ravel(), yy.ravel()])\n",
    "    Z = Z.reshape(xx.shape)\n",
    "\n",
    "    plt.contourf(xx, yy, Z, cmap=plt.cm.Spectral)\n",
    "    plt.ylabel('X1')\n",
    "    plt.xlabel('X2')\n",
    "    plt.scatter(X.T.iloc[0, :], X.T.iloc[1, :], c=(y.iloc[:]), cmap=plt.cm.Spectral)\n",
    "\n",
    "plot_prediction(lambda x: mlp.predict(x), pd.DataFrame(x_train), pd.DataFrame(y_train))"
   ],
   "metadata": {
    "collapsed": false,
    "pycharm": {
     "name": "#%% md\n",
     "is_executing": false
    }
   }
  },
  {
   "cell_type": "markdown",
   "source": [
    "## i"
   ],
   "metadata": {
    "collapsed": false,
    "pycharm": {
     "name": "#%% md\n"
    }
   }
  },
  {
   "cell_type": "code",
   "source": [
    "accuracy = accuracy_score(y_test,Y_predicted)*100\n",
    "print(\"Accuracy = \", accuracy)\n",
    "mlp = MLPClassifier(hidden_layer_sizes=(10, 10, 10), max_iter=1000,activation='relu')\n",
    "mlp.fit(x_train, y_train.values.ravel())\n",
    "\n",
    "auc_test = []\n",
    "auc_test_tanh = []\n",
    "auc_test_logistic=[]\n",
    "auc_test_identity=[]\n",
    "i_list_iter=[]\n",
    "for i in range(200,2000,100):\n",
    "    i_list_iter.append(i)\n",
    "    mlp = MLPClassifier(hidden_layer_sizes=(10, 10, 10), max_iter=i,activation='relu')\n",
    "    mlp.fit(x_train, y_train.values.ravel())\n",
    "    Y_predicted=mlp.predict(x_test)\n",
    "    auc_test.append(accuracy_score(y_test,Y_predicted))\n",
    "for i in range(200,2000,100):\n",
    "    mlp = MLPClassifier(hidden_layer_sizes=(10, 10, 10), max_iter=i,activation='tanh')\n",
    "    mlp.fit(x_train, y_train.values.ravel())\n",
    "    Y_predicted=mlp.predict(x_test)\n",
    "    auc_test_tanh.append(accuracy_score(y_test,Y_predicted))\n",
    "for i in range(200,2000,100):\n",
    "    mlp = MLPClassifier(hidden_layer_sizes=(10, 10, 10), max_iter=i,activation='logistic')\n",
    "    mlp.fit(x_train, y_train.values.ravel())\n",
    "    Y_predicted=mlp.predict(x_test)\n",
    "    auc_test_logistic.append(accuracy_score(y_test,Y_predicted))\n",
    "for i in range(200,2000,100):\n",
    "    mlp = MLPClassifier(hidden_layer_sizes=(10, 10, 10), max_iter=i,activation='identity')\n",
    "    mlp.fit(x_train, y_train.values.ravel())\n",
    "    Y_predicted=mlp.predict(x_test)\n",
    "    auc_test_identity.append(accuracy_score(y_test,Y_predicted))\n",
    "x = np.arange(len(i_list_iter))\n",
    "plt.plot(x, np.array(auc_test))\n",
    "plt.plot(x, np.array(auc_test_tanh))\n",
    "plt.plot(x, np.array(auc_test_logistic))\n",
    "plt.plot(x, np.array(auc_test_identity))\n",
    "plt.legend(['relu', 'tanh','logistic','identity'], loc='lower right')\n",
    "plt.show()"
   ],
   "metadata": {
    "collapsed": false,
    "pycharm": {
     "name": "#%% \n",
     "is_executing": false
    }
   },
   "execution_count": 172,
   "outputs": [
    {
     "name": "stdout",
     "text": [
      "Accuracy =  58.75\n"
     ],
     "output_type": "stream"
    },
    {
     "data": {
      "text/plain": "<Figure size 432x288 with 1 Axes>",
      "image/png": "[encoded data removed]"
     },
     "metadata": {
      "needs_background": "light"
     },
     "output_type": "display_data"
    }
   ]
  },
  {
   "cell_type": "code",
   "source": [
    " \n",
    "auc_layer=[]\n",
    "i_list=[]\n",
    "for i in range(3,15):\n",
    "    i_list.append(i)\n",
    "    mlp = MLPClassifier(hidden_layer_sizes=(i, i, i), max_iter=1000,activation='tanh')\n",
    "    mlp.fit(x_train, y_train.values.ravel())\n",
    "    Y_predicted=mlp.predict(x_test)\n",
    "    auc_layer.append(accuracy_score(y_test,Y_predicted))\n",
    "x = np.arange(len(i_list))\n",
    "plt.plot(x, np.array(auc_layer))\n",
    "plt.legend(['hidden layer size'], loc='lower right')\n",
    "plt.show()"
   ],
   "metadata": {
    "collapsed": false,
    "pycharm": {
     "name": "#%% \n",
     "is_executing": false
    }
   },
   "execution_count": 173,
   "outputs": [
    {
     "data": {
      "text/plain": "<Figure size 432x288 with 1 Axes>",
      "image/png": "[encoded data removed]"
     },
     "metadata": {
      "needs_background": "light"
     },
     "output_type": "display_data"
    }
   ]
  },
  {
   "cell_type": "markdown",
   "source": [
    "### final model"
   ],
   "metadata": {
    "collapsed": false,
    "pycharm": {
     "name": "#%% md\n"
    }
   }
  },
  {
   "cell_type": "code",
   "source": [
    "mlp = MLPClassifier(hidden_layer_sizes=(8, 8, 8), max_iter=1100,activation='relu')\n",
    "mlp.fit(x_train, y_train.values.ravel())\n",
    "Y_predicted=mlp.predict(x_test)\n",
    "accuracy_score(y_test,Y_predicted)*100"
   ],
   "metadata": {
    "collapsed": false,
    "pycharm": {
     "name": "#%% \n",
     "is_executing": false
    }
   },
   "execution_count": 176,
   "outputs": [
    {
     "data": {
      "text/plain": "62.5"
     },
     "metadata": {},
     "output_type": "execute_result",
     "execution_count": 176
    }
   ]
  },
  {
   "cell_type": "code",
   "source": [
    "print(classification_report(y_test, Y_predicted))"
   ],
   "metadata": {
    "collapsed": false,
    "pycharm": {
     "name": "#%% \n",
     "is_executing": false
    }
   },
   "execution_count": 177,
   "outputs": [
    {
     "name": "stdout",
     "text": [
      "              precision    recall  f1-score   support\n",
      "\n",
      "           0       0.59      0.68      0.63        38\n",
      "           1       0.67      0.57      0.62        42\n",
      "\n",
      "    accuracy                           0.62        80\n",
      "   macro avg       0.63      0.63      0.62        80\n",
      "weighted avg       0.63      0.62      0.62        80\n",
      "\n"
     ],
     "output_type": "stream"
    }
   ]
  }
 ],
 "metadata": {
  "kernelspec": {
   "display_name": "Python 3",
   "language": "python",
   "name": "python3"
  },
  "language_info": {
   "codemirror_mode": {
    "name": "ipython",
    "version": 2
   },
   "file_extension": ".py",
   "mimetype": "text/x-python",
   "name": "python",
   "nbconvert_exporter": "python",
   "pygments_lexer": "ipython2",
   "version": "2.7.6"
  },
  "pycharm": {
   "stem_cell": {
    "cell_type": "raw",
    "source": [],
    "metadata": {
     "collapsed": false
    }
   }
  }
 },
 "nbformat": 4,
 "nbformat_minor": 0
}
