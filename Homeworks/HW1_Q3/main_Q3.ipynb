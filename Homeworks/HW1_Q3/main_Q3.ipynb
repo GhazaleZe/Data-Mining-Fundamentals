{
 "cells": [
  {
   "cell_type": "markdown",
   "metadata": {
    "collapsed": true,
    "pycharm": {
     "name": "#%% md\n",
     "is_executing": false
    }
   },
   "source": [
    "# HW1, Q3, Ghazaleh Zehtab\n",
    "## Q3.1"
   ]
  },
  {
   "cell_type": "code",
   "execution_count": 746,
   "outputs": [
    {
     "data": {
      "text/plain": "     COMPACTNESS  CIRCULARITY  DISTANCE_CIRCULARITY  RADIUS_RATIO  \\\n0             95           48                    83           178   \n1             91           41                    84           141   \n2            104           50                   106           209   \n3             93           41                    82           159   \n4             85           44                    70           205   \n..           ...          ...                   ...           ...   \n841           93           39                    87           183   \n842           89           46                    84           163   \n843          106           54                   101           222   \n844           86           36                    78           146   \n845           85           36                    66           123   \n\n     PR.AXIS_ASPECT_RATIO  MAX.LENGTH_ASPECT_RATIO  SCATTER_RATIO  \\\n0                      72                       10            162   \n1                      57                        9            149   \n2                      66                       10            207   \n3                      63                        9            144   \n4                     103                       52            149   \n..                    ...                      ...            ...   \n841                    64                        8            169   \n842                    66                       11            159   \n843                    67                       12            222   \n844                    58                        7            135   \n845                    55                        5            120   \n\n     ELONGATEDNESS  PR.AXIS_RECTANGULARITY  MAX.LENGTH_RECTANGULARITY  \\\n0               42                      20                        159   \n1               45                      19                        143   \n2               32                      23                        158   \n3               46                      19                        143   \n4               45                      19                        144   \n..             ...                     ...                        ...   \n841             40                      20                        134   \n842             43                      20                        159   \n843             30                      25                        173   \n844             50                      18                        124   \n845             56                      17                        128   \n\n     SCALED_VARIANCE_MAJOR  SCALED_VARIANCE_MINOR  SCALED_RADIUS_OF_GYRATION  \\\n0                      176                    379                        184   \n1                      170                    330                        158   \n2                      223                    635                        220   \n3                      160                    309                        127   \n4                      241                    325                        188   \n..                     ...                    ...                        ...   \n841                    200                    422                        149   \n842                    173                    368                        176   \n843                    228                    721                        200   \n844                    155                    270                        148   \n845                    140                    212                        131   \n\n     SKEWNESS_ABOUT_MAJOR  SKEWNESS_ABOUT_MINOR  KURTOSIS_ABOUT_MAJOR  \\\n0                      70                     6                    16   \n1                      72                     9                    14   \n2                      73                    14                     9   \n3                      63                     6                    10   \n4                     127                     9                    11   \n..                    ...                   ...                   ...   \n841                    72                     7                    25   \n842                    72                     1                    20   \n843                    70                     3                     4   \n844                    66                     0                    25   \n845                    73                     1                    18   \n\n     KURTOSIS_ABOUT_MINOR  HOLLOWS_RATIO Class  \n0                     187            197   van  \n1                     189            199   van  \n2                     188            196  saab  \n3                     199            207   van  \n4                     180            183   bus  \n..                    ...            ...   ...  \n841                   188            195  saab  \n842                   186            197   van  \n843                   187            201  saab  \n844                   190            195  saab  \n845                   186            190   van  \n\n[846 rows x 19 columns]",
      "text/html": "<div>\n<style scoped>\n    .dataframe tbody tr th:only-of-type {\n        vertical-align: middle;\n    }\n\n    .dataframe tbody tr th {\n        vertical-align: top;\n    }\n\n    .dataframe thead th {\n        text-align: right;\n    }\n</style>\n<table border=\"1\" class=\"dataframe\">\n  <thead>\n    <tr style=\"text-align: right;\">\n      <th></th>\n      <th>COMPACTNESS</th>\n      <th>CIRCULARITY</th>\n      <th>DISTANCE_CIRCULARITY</th>\n      <th>RADIUS_RATIO</th>\n      <th>PR.AXIS_ASPECT_RATIO</th>\n      <th>MAX.LENGTH_ASPECT_RATIO</th>\n      <th>SCATTER_RATIO</th>\n      <th>ELONGATEDNESS</th>\n      <th>PR.AXIS_RECTANGULARITY</th>\n      <th>MAX.LENGTH_RECTANGULARITY</th>\n      <th>SCALED_VARIANCE_MAJOR</th>\n      <th>SCALED_VARIANCE_MINOR</th>\n      <th>SCALED_RADIUS_OF_GYRATION</th>\n      <th>SKEWNESS_ABOUT_MAJOR</th>\n      <th>SKEWNESS_ABOUT_MINOR</th>\n      <th>KURTOSIS_ABOUT_MAJOR</th>\n      <th>KURTOSIS_ABOUT_MINOR</th>\n      <th>HOLLOWS_RATIO</th>\n      <th>Class</th>\n    </tr>\n  </thead>\n  <tbody>\n    <tr>\n      <th>0</th>\n      <td>95</td>\n      <td>48</td>\n      <td>83</td>\n      <td>178</td>\n      <td>72</td>\n      <td>10</td>\n      <td>162</td>\n      <td>42</td>\n      <td>20</td>\n      <td>159</td>\n      <td>176</td>\n      <td>379</td>\n      <td>184</td>\n      <td>70</td>\n      <td>6</td>\n      <td>16</td>\n      <td>187</td>\n      <td>197</td>\n      <td>van</td>\n    </tr>\n    <tr>\n      <th>1</th>\n      <td>91</td>\n      <td>41</td>\n      <td>84</td>\n      <td>141</td>\n      <td>57</td>\n      <td>9</td>\n      <td>149</td>\n      <td>45</td>\n      <td>19</td>\n      <td>143</td>\n      <td>170</td>\n      <td>330</td>\n      <td>158</td>\n      <td>72</td>\n      <td>9</td>\n      <td>14</td>\n      <td>189</td>\n      <td>199</td>\n      <td>van</td>\n    </tr>\n    <tr>\n      <th>2</th>\n      <td>104</td>\n      <td>50</td>\n      <td>106</td>\n      <td>209</td>\n      <td>66</td>\n      <td>10</td>\n      <td>207</td>\n      <td>32</td>\n      <td>23</td>\n      <td>158</td>\n      <td>223</td>\n      <td>635</td>\n      <td>220</td>\n      <td>73</td>\n      <td>14</td>\n      <td>9</td>\n      <td>188</td>\n      <td>196</td>\n      <td>saab</td>\n    </tr>\n    <tr>\n      <th>3</th>\n      <td>93</td>\n      <td>41</td>\n      <td>82</td>\n      <td>159</td>\n      <td>63</td>\n      <td>9</td>\n      <td>144</td>\n      <td>46</td>\n      <td>19</td>\n      <td>143</td>\n      <td>160</td>\n      <td>309</td>\n      <td>127</td>\n      <td>63</td>\n      <td>6</td>\n      <td>10</td>\n      <td>199</td>\n      <td>207</td>\n      <td>van</td>\n    </tr>\n    <tr>\n      <th>4</th>\n      <td>85</td>\n      <td>44</td>\n      <td>70</td>\n      <td>205</td>\n      <td>103</td>\n      <td>52</td>\n      <td>149</td>\n      <td>45</td>\n      <td>19</td>\n      <td>144</td>\n      <td>241</td>\n      <td>325</td>\n      <td>188</td>\n      <td>127</td>\n      <td>9</td>\n      <td>11</td>\n      <td>180</td>\n      <td>183</td>\n      <td>bus</td>\n    </tr>\n    <tr>\n      <th>...</th>\n      <td>...</td>\n      <td>...</td>\n      <td>...</td>\n      <td>...</td>\n      <td>...</td>\n      <td>...</td>\n      <td>...</td>\n      <td>...</td>\n      <td>...</td>\n      <td>...</td>\n      <td>...</td>\n      <td>...</td>\n      <td>...</td>\n      <td>...</td>\n      <td>...</td>\n      <td>...</td>\n      <td>...</td>\n      <td>...</td>\n      <td>...</td>\n    </tr>\n    <tr>\n      <th>841</th>\n      <td>93</td>\n      <td>39</td>\n      <td>87</td>\n      <td>183</td>\n      <td>64</td>\n      <td>8</td>\n      <td>169</td>\n      <td>40</td>\n      <td>20</td>\n      <td>134</td>\n      <td>200</td>\n      <td>422</td>\n      <td>149</td>\n      <td>72</td>\n      <td>7</td>\n      <td>25</td>\n      <td>188</td>\n      <td>195</td>\n      <td>saab</td>\n    </tr>\n    <tr>\n      <th>842</th>\n      <td>89</td>\n      <td>46</td>\n      <td>84</td>\n      <td>163</td>\n      <td>66</td>\n      <td>11</td>\n      <td>159</td>\n      <td>43</td>\n      <td>20</td>\n      <td>159</td>\n      <td>173</td>\n      <td>368</td>\n      <td>176</td>\n      <td>72</td>\n      <td>1</td>\n      <td>20</td>\n      <td>186</td>\n      <td>197</td>\n      <td>van</td>\n    </tr>\n    <tr>\n      <th>843</th>\n      <td>106</td>\n      <td>54</td>\n      <td>101</td>\n      <td>222</td>\n      <td>67</td>\n      <td>12</td>\n      <td>222</td>\n      <td>30</td>\n      <td>25</td>\n      <td>173</td>\n      <td>228</td>\n      <td>721</td>\n      <td>200</td>\n      <td>70</td>\n      <td>3</td>\n      <td>4</td>\n      <td>187</td>\n      <td>201</td>\n      <td>saab</td>\n    </tr>\n    <tr>\n      <th>844</th>\n      <td>86</td>\n      <td>36</td>\n      <td>78</td>\n      <td>146</td>\n      <td>58</td>\n      <td>7</td>\n      <td>135</td>\n      <td>50</td>\n      <td>18</td>\n      <td>124</td>\n      <td>155</td>\n      <td>270</td>\n      <td>148</td>\n      <td>66</td>\n      <td>0</td>\n      <td>25</td>\n      <td>190</td>\n      <td>195</td>\n      <td>saab</td>\n    </tr>\n    <tr>\n      <th>845</th>\n      <td>85</td>\n      <td>36</td>\n      <td>66</td>\n      <td>123</td>\n      <td>55</td>\n      <td>5</td>\n      <td>120</td>\n      <td>56</td>\n      <td>17</td>\n      <td>128</td>\n      <td>140</td>\n      <td>212</td>\n      <td>131</td>\n      <td>73</td>\n      <td>1</td>\n      <td>18</td>\n      <td>186</td>\n      <td>190</td>\n      <td>van</td>\n    </tr>\n  </tbody>\n</table>\n<p>846 rows × 19 columns</p>\n</div>"
     },
     "metadata": {},
     "output_type": "execute_result",
     "execution_count": 746
    }
   ],
   "source": [
    "import pandas as pd\n",
    "import  numpy as np\n",
    "df = pd.read_csv ('Vehicle.csv')\n",
    "df"
   ],
   "metadata": {
    "collapsed": false,
    "pycharm": {
     "name": "#%%\n",
     "is_executing": false
    }
   }
  },
  {
   "cell_type": "markdown",
   "source": [
    "## Q3.2"
   ],
   "metadata": {
    "collapsed": false
   }
  },
  {
   "cell_type": "code",
   "execution_count": 747,
   "outputs": [
    {
     "data": {
      "text/plain": "<bound method DataFrame.info of      COMPACTNESS  CIRCULARITY  DISTANCE_CIRCULARITY  RADIUS_RATIO  \\\n0             95           48                    83           178   \n1             91           41                    84           141   \n2            104           50                   106           209   \n3             93           41                    82           159   \n4             85           44                    70           205   \n..           ...          ...                   ...           ...   \n841           93           39                    87           183   \n842           89           46                    84           163   \n843          106           54                   101           222   \n844           86           36                    78           146   \n845           85           36                    66           123   \n\n     PR.AXIS_ASPECT_RATIO  MAX.LENGTH_ASPECT_RATIO  SCATTER_RATIO  \\\n0                      72                       10            162   \n1                      57                        9            149   \n2                      66                       10            207   \n3                      63                        9            144   \n4                     103                       52            149   \n..                    ...                      ...            ...   \n841                    64                        8            169   \n842                    66                       11            159   \n843                    67                       12            222   \n844                    58                        7            135   \n845                    55                        5            120   \n\n     ELONGATEDNESS  PR.AXIS_RECTANGULARITY  MAX.LENGTH_RECTANGULARITY  \\\n0               42                      20                        159   \n1               45                      19                        143   \n2               32                      23                        158   \n3               46                      19                        143   \n4               45                      19                        144   \n..             ...                     ...                        ...   \n841             40                      20                        134   \n842             43                      20                        159   \n843             30                      25                        173   \n844             50                      18                        124   \n845             56                      17                        128   \n\n     SCALED_VARIANCE_MAJOR  SCALED_VARIANCE_MINOR  SCALED_RADIUS_OF_GYRATION  \\\n0                      176                    379                        184   \n1                      170                    330                        158   \n2                      223                    635                        220   \n3                      160                    309                        127   \n4                      241                    325                        188   \n..                     ...                    ...                        ...   \n841                    200                    422                        149   \n842                    173                    368                        176   \n843                    228                    721                        200   \n844                    155                    270                        148   \n845                    140                    212                        131   \n\n     SKEWNESS_ABOUT_MAJOR  SKEWNESS_ABOUT_MINOR  KURTOSIS_ABOUT_MAJOR  \\\n0                      70                     6                    16   \n1                      72                     9                    14   \n2                      73                    14                     9   \n3                      63                     6                    10   \n4                     127                     9                    11   \n..                    ...                   ...                   ...   \n841                    72                     7                    25   \n842                    72                     1                    20   \n843                    70                     3                     4   \n844                    66                     0                    25   \n845                    73                     1                    18   \n\n     KURTOSIS_ABOUT_MINOR  HOLLOWS_RATIO Class  \n0                     187            197   van  \n1                     189            199   van  \n2                     188            196  saab  \n3                     199            207   van  \n4                     180            183   bus  \n..                    ...            ...   ...  \n841                   188            195  saab  \n842                   186            197   van  \n843                   187            201  saab  \n844                   190            195  saab  \n845                   186            190   van  \n\n[846 rows x 19 columns]>"
     },
     "metadata": {},
     "output_type": "execute_result",
     "execution_count": 747
    }
   ],
   "source": [
    "df.info"
   ],
   "metadata": {
    "collapsed": false,
    "pycharm": {
     "name": "#%%\n",
     "is_executing": false
    }
   }
  },
  {
   "cell_type": "code",
   "execution_count": 748,
   "outputs": [
    {
     "data": {
      "text/plain": "846"
     },
     "metadata": {},
     "output_type": "execute_result",
     "execution_count": 748
    }
   ],
   "source": [
    "len(df)"
   ],
   "metadata": {
    "collapsed": false,
    "pycharm": {
     "name": "#%%\n",
     "is_executing": false
    }
   }
  },
  {
   "cell_type": "code",
   "execution_count": 749,
   "outputs": [
    {
     "data": {
      "text/plain": "Index(['COMPACTNESS', 'CIRCULARITY', 'DISTANCE_CIRCULARITY', 'RADIUS_RATIO',\n       'PR.AXIS_ASPECT_RATIO', 'MAX.LENGTH_ASPECT_RATIO', 'SCATTER_RATIO',\n       'ELONGATEDNESS', 'PR.AXIS_RECTANGULARITY', 'MAX.LENGTH_RECTANGULARITY',\n       'SCALED_VARIANCE_MAJOR', 'SCALED_VARIANCE_MINOR',\n       'SCALED_RADIUS_OF_GYRATION', 'SKEWNESS_ABOUT_MAJOR',\n       'SKEWNESS_ABOUT_MINOR', 'KURTOSIS_ABOUT_MAJOR', 'KURTOSIS_ABOUT_MINOR',\n       'HOLLOWS_RATIO', 'Class'],\n      dtype='object')"
     },
     "metadata": {},
     "output_type": "execute_result",
     "execution_count": 749
    }
   ],
   "source": [
    "df.columns"
   ],
   "metadata": {
    "collapsed": false,
    "pycharm": {
     "name": "#%%\n",
     "is_executing": false
    }
   }
  },
  {
   "cell_type": "code",
   "execution_count": 750,
   "outputs": [
    {
     "data": {
      "text/plain": "19"
     },
     "metadata": {},
     "output_type": "execute_result",
     "execution_count": 750
    }
   ],
   "source": [
    "len(df.columns)"
   ],
   "metadata": {
    "collapsed": false,
    "pycharm": {
     "name": "#%%\n",
     "is_executing": false
    }
   }
  },
  {
   "cell_type": "code",
   "execution_count": 751,
   "outputs": [
    {
     "data": {
      "text/plain": "16074"
     },
     "metadata": {},
     "output_type": "execute_result",
     "execution_count": 751
    }
   ],
   "source": [
    "df.size"
   ],
   "metadata": {
    "collapsed": false,
    "pycharm": {
     "name": "#%%\n",
     "is_executing": false
    }
   }
  },
  {
   "cell_type": "code",
   "execution_count": 752,
   "outputs": [
    {
     "data": {
      "text/plain": "(846, 19)"
     },
     "metadata": {},
     "output_type": "execute_result",
     "execution_count": 752
    }
   ],
   "source": [
    "df.shape"
   ],
   "metadata": {
    "collapsed": false,
    "pycharm": {
     "name": "#%%\n",
     "is_executing": false
    }
   }
  },
  {
   "cell_type": "markdown",
   "source": [
    "## Q3.3"
   ],
   "metadata": {
    "collapsed": false,
    "pycharm": {
     "name": "#%% md\n",
     "is_executing": false
    }
   }
  },
  {
   "cell_type": "code",
   "execution_count": 753,
   "outputs": [
    {
     "data": {
      "text/plain": "     COMPACTNESS  CIRCULARITY  DISTANCE_CIRCULARITY  RADIUS_RATIO  \\\n5            107           57                   106           172   \n15            96           55                   103           201   \n18           104           54                   100           186   \n19           101           56                   100           215   \n24            99           53                   105           219   \n..           ...          ...                   ...           ...   \n823          105           54                   105           213   \n824          106           55                    96           196   \n827           99           57                   100           177   \n835          111           58                   105           183   \n843          106           54                   101           222   \n\n     PR.AXIS_ASPECT_RATIO  MAX.LENGTH_ASPECT_RATIO  SCATTER_RATIO  \\\n5                      50                        6            255   \n15                     65                        9            204   \n18                     61                       10            216   \n19                     69                       10            208   \n24                     66                       11            204   \n..                    ...                      ...            ...   \n823                    67                       10            200   \n824                    60                       12            221   \n827                    54                       13            224   \n835                    51                        6            265   \n843                    67                       12            222   \n\n     ELONGATEDNESS  PR.AXIS_RECTANGULARITY  MAX.LENGTH_RECTANGULARITY  \\\n5               26                      28                        169   \n15              32                      23                        166   \n18              31                      24                        173   \n19              32                      24                        169   \n24              32                      23                        165   \n..             ...                     ...                        ...   \n823             33                      23                        163   \n824             30                      25                        173   \n827             30                      25                        188   \n835             26                      29                        174   \n843             30                      25                        173   \n\n     SCALED_VARIANCE_MAJOR  SCALED_VARIANCE_MINOR  SCALED_RADIUS_OF_GYRATION  \\\n5                      280                    957                        264   \n15                     227                    624                        246   \n18                     225                    686                        220   \n19                     227                    651                        223   \n24                     221                    623                        224   \n..                     ...                    ...                        ...   \n823                    214                    597                        214   \n824                    225                    717                        214   \n827                    223                    726                        213   \n835                    285                   1018                        255   \n843                    228                    721                        200   \n\n     SKEWNESS_ABOUT_MAJOR  SKEWNESS_ABOUT_MINOR  KURTOSIS_ABOUT_MAJOR  \\\n5                      85                     5                     9   \n15                     74                     6                     2   \n18                     74                     5                    11   \n19                     74                     6                     5   \n24                     68                     0                     6   \n..                    ...                   ...                   ...   \n823                    68                    10                    20   \n824                    72                     9                    13   \n827                    72                     4                     7   \n835                    85                     4                     8   \n843                    70                     3                     4   \n\n     KURTOSIS_ABOUT_MINOR  HOLLOWS_RATIO Class  \n5                     181            183   bus  \n15                    186            194  opel  \n18                    185            195  saab  \n19                    186            193  opel  \n24                    191            201  saab  \n..                    ...            ...   ...  \n823                   190            198  opel  \n824                   186            196  opel  \n827                   185            198  opel  \n835                   181            183   bus  \n843                   187            201  saab  \n\n[195 rows x 19 columns]",
      "text/html": "<div>\n<style scoped>\n    .dataframe tbody tr th:only-of-type {\n        vertical-align: middle;\n    }\n\n    .dataframe tbody tr th {\n        vertical-align: top;\n    }\n\n    .dataframe thead th {\n        text-align: right;\n    }\n</style>\n<table border=\"1\" class=\"dataframe\">\n  <thead>\n    <tr style=\"text-align: right;\">\n      <th></th>\n      <th>COMPACTNESS</th>\n      <th>CIRCULARITY</th>\n      <th>DISTANCE_CIRCULARITY</th>\n      <th>RADIUS_RATIO</th>\n      <th>PR.AXIS_ASPECT_RATIO</th>\n      <th>MAX.LENGTH_ASPECT_RATIO</th>\n      <th>SCATTER_RATIO</th>\n      <th>ELONGATEDNESS</th>\n      <th>PR.AXIS_RECTANGULARITY</th>\n      <th>MAX.LENGTH_RECTANGULARITY</th>\n      <th>SCALED_VARIANCE_MAJOR</th>\n      <th>SCALED_VARIANCE_MINOR</th>\n      <th>SCALED_RADIUS_OF_GYRATION</th>\n      <th>SKEWNESS_ABOUT_MAJOR</th>\n      <th>SKEWNESS_ABOUT_MINOR</th>\n      <th>KURTOSIS_ABOUT_MAJOR</th>\n      <th>KURTOSIS_ABOUT_MINOR</th>\n      <th>HOLLOWS_RATIO</th>\n      <th>Class</th>\n    </tr>\n  </thead>\n  <tbody>\n    <tr>\n      <th>5</th>\n      <td>107</td>\n      <td>57</td>\n      <td>106</td>\n      <td>172</td>\n      <td>50</td>\n      <td>6</td>\n      <td>255</td>\n      <td>26</td>\n      <td>28</td>\n      <td>169</td>\n      <td>280</td>\n      <td>957</td>\n      <td>264</td>\n      <td>85</td>\n      <td>5</td>\n      <td>9</td>\n      <td>181</td>\n      <td>183</td>\n      <td>bus</td>\n    </tr>\n    <tr>\n      <th>15</th>\n      <td>96</td>\n      <td>55</td>\n      <td>103</td>\n      <td>201</td>\n      <td>65</td>\n      <td>9</td>\n      <td>204</td>\n      <td>32</td>\n      <td>23</td>\n      <td>166</td>\n      <td>227</td>\n      <td>624</td>\n      <td>246</td>\n      <td>74</td>\n      <td>6</td>\n      <td>2</td>\n      <td>186</td>\n      <td>194</td>\n      <td>opel</td>\n    </tr>\n    <tr>\n      <th>18</th>\n      <td>104</td>\n      <td>54</td>\n      <td>100</td>\n      <td>186</td>\n      <td>61</td>\n      <td>10</td>\n      <td>216</td>\n      <td>31</td>\n      <td>24</td>\n      <td>173</td>\n      <td>225</td>\n      <td>686</td>\n      <td>220</td>\n      <td>74</td>\n      <td>5</td>\n      <td>11</td>\n      <td>185</td>\n      <td>195</td>\n      <td>saab</td>\n    </tr>\n    <tr>\n      <th>19</th>\n      <td>101</td>\n      <td>56</td>\n      <td>100</td>\n      <td>215</td>\n      <td>69</td>\n      <td>10</td>\n      <td>208</td>\n      <td>32</td>\n      <td>24</td>\n      <td>169</td>\n      <td>227</td>\n      <td>651</td>\n      <td>223</td>\n      <td>74</td>\n      <td>6</td>\n      <td>5</td>\n      <td>186</td>\n      <td>193</td>\n      <td>opel</td>\n    </tr>\n    <tr>\n      <th>24</th>\n      <td>99</td>\n      <td>53</td>\n      <td>105</td>\n      <td>219</td>\n      <td>66</td>\n      <td>11</td>\n      <td>204</td>\n      <td>32</td>\n      <td>23</td>\n      <td>165</td>\n      <td>221</td>\n      <td>623</td>\n      <td>224</td>\n      <td>68</td>\n      <td>0</td>\n      <td>6</td>\n      <td>191</td>\n      <td>201</td>\n      <td>saab</td>\n    </tr>\n    <tr>\n      <th>...</th>\n      <td>...</td>\n      <td>...</td>\n      <td>...</td>\n      <td>...</td>\n      <td>...</td>\n      <td>...</td>\n      <td>...</td>\n      <td>...</td>\n      <td>...</td>\n      <td>...</td>\n      <td>...</td>\n      <td>...</td>\n      <td>...</td>\n      <td>...</td>\n      <td>...</td>\n      <td>...</td>\n      <td>...</td>\n      <td>...</td>\n      <td>...</td>\n    </tr>\n    <tr>\n      <th>823</th>\n      <td>105</td>\n      <td>54</td>\n      <td>105</td>\n      <td>213</td>\n      <td>67</td>\n      <td>10</td>\n      <td>200</td>\n      <td>33</td>\n      <td>23</td>\n      <td>163</td>\n      <td>214</td>\n      <td>597</td>\n      <td>214</td>\n      <td>68</td>\n      <td>10</td>\n      <td>20</td>\n      <td>190</td>\n      <td>198</td>\n      <td>opel</td>\n    </tr>\n    <tr>\n      <th>824</th>\n      <td>106</td>\n      <td>55</td>\n      <td>96</td>\n      <td>196</td>\n      <td>60</td>\n      <td>12</td>\n      <td>221</td>\n      <td>30</td>\n      <td>25</td>\n      <td>173</td>\n      <td>225</td>\n      <td>717</td>\n      <td>214</td>\n      <td>72</td>\n      <td>9</td>\n      <td>13</td>\n      <td>186</td>\n      <td>196</td>\n      <td>opel</td>\n    </tr>\n    <tr>\n      <th>827</th>\n      <td>99</td>\n      <td>57</td>\n      <td>100</td>\n      <td>177</td>\n      <td>54</td>\n      <td>13</td>\n      <td>224</td>\n      <td>30</td>\n      <td>25</td>\n      <td>188</td>\n      <td>223</td>\n      <td>726</td>\n      <td>213</td>\n      <td>72</td>\n      <td>4</td>\n      <td>7</td>\n      <td>185</td>\n      <td>198</td>\n      <td>opel</td>\n    </tr>\n    <tr>\n      <th>835</th>\n      <td>111</td>\n      <td>58</td>\n      <td>105</td>\n      <td>183</td>\n      <td>51</td>\n      <td>6</td>\n      <td>265</td>\n      <td>26</td>\n      <td>29</td>\n      <td>174</td>\n      <td>285</td>\n      <td>1018</td>\n      <td>255</td>\n      <td>85</td>\n      <td>4</td>\n      <td>8</td>\n      <td>181</td>\n      <td>183</td>\n      <td>bus</td>\n    </tr>\n    <tr>\n      <th>843</th>\n      <td>106</td>\n      <td>54</td>\n      <td>101</td>\n      <td>222</td>\n      <td>67</td>\n      <td>12</td>\n      <td>222</td>\n      <td>30</td>\n      <td>25</td>\n      <td>173</td>\n      <td>228</td>\n      <td>721</td>\n      <td>200</td>\n      <td>70</td>\n      <td>3</td>\n      <td>4</td>\n      <td>187</td>\n      <td>201</td>\n      <td>saab</td>\n    </tr>\n  </tbody>\n</table>\n<p>195 rows × 19 columns</p>\n</div>"
     },
     "metadata": {},
     "output_type": "execute_result",
     "execution_count": 753
    }
   ],
   "source": [
    "CIRCULARITY_Q33=df[(df['CIRCULARITY'] < 60) & (df['CIRCULARITY'] >50)]\n",
    "CIRCULARITY_Q33"
   ],
   "metadata": {
    "collapsed": false,
    "pycharm": {
     "name": "#%%\n",
     "is_executing": false
    }
   }
  },
  {
   "cell_type": "code",
   "execution_count": 754,
   "outputs": [
    {
     "data": {
      "text/plain": "     COMPACTNESS  CIRCULARITY  DISTANCE_CIRCULARITY  RADIUS_RATIO  \\\n0            107           57                   106           172   \n1             96           55                   103           201   \n2            104           54                   100           186   \n3            101           56                   100           215   \n4             99           53                   105           219   \n..           ...          ...                   ...           ...   \n190          105           54                   105           213   \n191          106           55                    96           196   \n192           99           57                   100           177   \n193          111           58                   105           183   \n194          106           54                   101           222   \n\n     PR.AXIS_ASPECT_RATIO  MAX.LENGTH_ASPECT_RATIO  SCATTER_RATIO  \\\n0                      50                        6            255   \n1                      65                        9            204   \n2                      61                       10            216   \n3                      69                       10            208   \n4                      66                       11            204   \n..                    ...                      ...            ...   \n190                    67                       10            200   \n191                    60                       12            221   \n192                    54                       13            224   \n193                    51                        6            265   \n194                    67                       12            222   \n\n     ELONGATEDNESS  PR.AXIS_RECTANGULARITY  MAX.LENGTH_RECTANGULARITY  \\\n0               26                      28                        169   \n1               32                      23                        166   \n2               31                      24                        173   \n3               32                      24                        169   \n4               32                      23                        165   \n..             ...                     ...                        ...   \n190             33                      23                        163   \n191             30                      25                        173   \n192             30                      25                        188   \n193             26                      29                        174   \n194             30                      25                        173   \n\n     SCALED_VARIANCE_MAJOR  SCALED_VARIANCE_MINOR  SCALED_RADIUS_OF_GYRATION  \\\n0                      280                    957                        264   \n1                      227                    624                        246   \n2                      225                    686                        220   \n3                      227                    651                        223   \n4                      221                    623                        224   \n..                     ...                    ...                        ...   \n190                    214                    597                        214   \n191                    225                    717                        214   \n192                    223                    726                        213   \n193                    285                   1018                        255   \n194                    228                    721                        200   \n\n     SKEWNESS_ABOUT_MAJOR  SKEWNESS_ABOUT_MINOR  KURTOSIS_ABOUT_MAJOR  \\\n0                      85                     5                     9   \n1                      74                     6                     2   \n2                      74                     5                    11   \n3                      74                     6                     5   \n4                      68                     0                     6   \n..                    ...                   ...                   ...   \n190                    68                    10                    20   \n191                    72                     9                    13   \n192                    72                     4                     7   \n193                    85                     4                     8   \n194                    70                     3                     4   \n\n     KURTOSIS_ABOUT_MINOR  HOLLOWS_RATIO Class  \n0                     181            183   bus  \n1                     186            194  opel  \n2                     185            195  saab  \n3                     186            193  opel  \n4                     191            201  saab  \n..                    ...            ...   ...  \n190                   190            198  opel  \n191                   186            196  opel  \n192                   185            198  opel  \n193                   181            183   bus  \n194                   187            201  saab  \n\n[195 rows x 19 columns]",
      "text/html": "<div>\n<style scoped>\n    .dataframe tbody tr th:only-of-type {\n        vertical-align: middle;\n    }\n\n    .dataframe tbody tr th {\n        vertical-align: top;\n    }\n\n    .dataframe thead th {\n        text-align: right;\n    }\n</style>\n<table border=\"1\" class=\"dataframe\">\n  <thead>\n    <tr style=\"text-align: right;\">\n      <th></th>\n      <th>COMPACTNESS</th>\n      <th>CIRCULARITY</th>\n      <th>DISTANCE_CIRCULARITY</th>\n      <th>RADIUS_RATIO</th>\n      <th>PR.AXIS_ASPECT_RATIO</th>\n      <th>MAX.LENGTH_ASPECT_RATIO</th>\n      <th>SCATTER_RATIO</th>\n      <th>ELONGATEDNESS</th>\n      <th>PR.AXIS_RECTANGULARITY</th>\n      <th>MAX.LENGTH_RECTANGULARITY</th>\n      <th>SCALED_VARIANCE_MAJOR</th>\n      <th>SCALED_VARIANCE_MINOR</th>\n      <th>SCALED_RADIUS_OF_GYRATION</th>\n      <th>SKEWNESS_ABOUT_MAJOR</th>\n      <th>SKEWNESS_ABOUT_MINOR</th>\n      <th>KURTOSIS_ABOUT_MAJOR</th>\n      <th>KURTOSIS_ABOUT_MINOR</th>\n      <th>HOLLOWS_RATIO</th>\n      <th>Class</th>\n    </tr>\n  </thead>\n  <tbody>\n    <tr>\n      <th>0</th>\n      <td>107</td>\n      <td>57</td>\n      <td>106</td>\n      <td>172</td>\n      <td>50</td>\n      <td>6</td>\n      <td>255</td>\n      <td>26</td>\n      <td>28</td>\n      <td>169</td>\n      <td>280</td>\n      <td>957</td>\n      <td>264</td>\n      <td>85</td>\n      <td>5</td>\n      <td>9</td>\n      <td>181</td>\n      <td>183</td>\n      <td>bus</td>\n    </tr>\n    <tr>\n      <th>1</th>\n      <td>96</td>\n      <td>55</td>\n      <td>103</td>\n      <td>201</td>\n      <td>65</td>\n      <td>9</td>\n      <td>204</td>\n      <td>32</td>\n      <td>23</td>\n      <td>166</td>\n      <td>227</td>\n      <td>624</td>\n      <td>246</td>\n      <td>74</td>\n      <td>6</td>\n      <td>2</td>\n      <td>186</td>\n      <td>194</td>\n      <td>opel</td>\n    </tr>\n    <tr>\n      <th>2</th>\n      <td>104</td>\n      <td>54</td>\n      <td>100</td>\n      <td>186</td>\n      <td>61</td>\n      <td>10</td>\n      <td>216</td>\n      <td>31</td>\n      <td>24</td>\n      <td>173</td>\n      <td>225</td>\n      <td>686</td>\n      <td>220</td>\n      <td>74</td>\n      <td>5</td>\n      <td>11</td>\n      <td>185</td>\n      <td>195</td>\n      <td>saab</td>\n    </tr>\n    <tr>\n      <th>3</th>\n      <td>101</td>\n      <td>56</td>\n      <td>100</td>\n      <td>215</td>\n      <td>69</td>\n      <td>10</td>\n      <td>208</td>\n      <td>32</td>\n      <td>24</td>\n      <td>169</td>\n      <td>227</td>\n      <td>651</td>\n      <td>223</td>\n      <td>74</td>\n      <td>6</td>\n      <td>5</td>\n      <td>186</td>\n      <td>193</td>\n      <td>opel</td>\n    </tr>\n    <tr>\n      <th>4</th>\n      <td>99</td>\n      <td>53</td>\n      <td>105</td>\n      <td>219</td>\n      <td>66</td>\n      <td>11</td>\n      <td>204</td>\n      <td>32</td>\n      <td>23</td>\n      <td>165</td>\n      <td>221</td>\n      <td>623</td>\n      <td>224</td>\n      <td>68</td>\n      <td>0</td>\n      <td>6</td>\n      <td>191</td>\n      <td>201</td>\n      <td>saab</td>\n    </tr>\n    <tr>\n      <th>...</th>\n      <td>...</td>\n      <td>...</td>\n      <td>...</td>\n      <td>...</td>\n      <td>...</td>\n      <td>...</td>\n      <td>...</td>\n      <td>...</td>\n      <td>...</td>\n      <td>...</td>\n      <td>...</td>\n      <td>...</td>\n      <td>...</td>\n      <td>...</td>\n      <td>...</td>\n      <td>...</td>\n      <td>...</td>\n      <td>...</td>\n      <td>...</td>\n    </tr>\n    <tr>\n      <th>190</th>\n      <td>105</td>\n      <td>54</td>\n      <td>105</td>\n      <td>213</td>\n      <td>67</td>\n      <td>10</td>\n      <td>200</td>\n      <td>33</td>\n      <td>23</td>\n      <td>163</td>\n      <td>214</td>\n      <td>597</td>\n      <td>214</td>\n      <td>68</td>\n      <td>10</td>\n      <td>20</td>\n      <td>190</td>\n      <td>198</td>\n      <td>opel</td>\n    </tr>\n    <tr>\n      <th>191</th>\n      <td>106</td>\n      <td>55</td>\n      <td>96</td>\n      <td>196</td>\n      <td>60</td>\n      <td>12</td>\n      <td>221</td>\n      <td>30</td>\n      <td>25</td>\n      <td>173</td>\n      <td>225</td>\n      <td>717</td>\n      <td>214</td>\n      <td>72</td>\n      <td>9</td>\n      <td>13</td>\n      <td>186</td>\n      <td>196</td>\n      <td>opel</td>\n    </tr>\n    <tr>\n      <th>192</th>\n      <td>99</td>\n      <td>57</td>\n      <td>100</td>\n      <td>177</td>\n      <td>54</td>\n      <td>13</td>\n      <td>224</td>\n      <td>30</td>\n      <td>25</td>\n      <td>188</td>\n      <td>223</td>\n      <td>726</td>\n      <td>213</td>\n      <td>72</td>\n      <td>4</td>\n      <td>7</td>\n      <td>185</td>\n      <td>198</td>\n      <td>opel</td>\n    </tr>\n    <tr>\n      <th>193</th>\n      <td>111</td>\n      <td>58</td>\n      <td>105</td>\n      <td>183</td>\n      <td>51</td>\n      <td>6</td>\n      <td>265</td>\n      <td>26</td>\n      <td>29</td>\n      <td>174</td>\n      <td>285</td>\n      <td>1018</td>\n      <td>255</td>\n      <td>85</td>\n      <td>4</td>\n      <td>8</td>\n      <td>181</td>\n      <td>183</td>\n      <td>bus</td>\n    </tr>\n    <tr>\n      <th>194</th>\n      <td>106</td>\n      <td>54</td>\n      <td>101</td>\n      <td>222</td>\n      <td>67</td>\n      <td>12</td>\n      <td>222</td>\n      <td>30</td>\n      <td>25</td>\n      <td>173</td>\n      <td>228</td>\n      <td>721</td>\n      <td>200</td>\n      <td>70</td>\n      <td>3</td>\n      <td>4</td>\n      <td>187</td>\n      <td>201</td>\n      <td>saab</td>\n    </tr>\n  </tbody>\n</table>\n<p>195 rows × 19 columns</p>\n</div>"
     },
     "metadata": {},
     "output_type": "execute_result",
     "execution_count": 754
    }
   ],
   "source": [
    "CIRCULARITY_Q33.to_csv('Q33.csv',index=False)\n",
    "dfq33=pd.read_csv('Q33.csv')\n",
    "dfq33"
   ],
   "metadata": {
    "collapsed": false,
    "pycharm": {
     "name": "#%%\n",
     "is_executing": false
    }
   }
  },
  {
   "cell_type": "markdown",
   "source": [
    "## Q3.4"
   ],
   "metadata": {
    "collapsed": false,
    "pycharm": {
     "name": "#%% md\n"
    }
   }
  },
  {
   "cell_type": "code",
   "execution_count": 755,
   "outputs": [
    {
     "data": {
      "text/plain": "333"
     },
     "metadata": {},
     "output_type": "execute_result",
     "execution_count": 755
    }
   ],
   "source": [
    "df['RADIUS_RATIO'].max()"
   ],
   "metadata": {
    "collapsed": false,
    "pycharm": {
     "name": "#%%\n",
     "is_executing": false
    }
   }
  },
  {
   "cell_type": "code",
   "execution_count": 756,
   "outputs": [
    {
     "data": {
      "text/plain": "104"
     },
     "metadata": {},
     "output_type": "execute_result",
     "execution_count": 756
    }
   ],
   "source": [
    "df['RADIUS_RATIO'].min()"
   ],
   "metadata": {
    "collapsed": false,
    "pycharm": {
     "name": "#%%\n",
     "is_executing": false
    }
   }
  },
  {
   "cell_type": "code",
   "execution_count": 757,
   "outputs": [
    {
     "data": {
      "text/plain": "168.94089834515367"
     },
     "metadata": {},
     "output_type": "execute_result",
     "execution_count": 757
    }
   ],
   "source": [
    "df['RADIUS_RATIO'].mean()"
   ],
   "metadata": {
    "collapsed": false,
    "pycharm": {
     "name": "#%%\n",
     "is_executing": false
    }
   }
  },
  {
   "cell_type": "code",
   "execution_count": 758,
   "outputs": [
    {
     "data": {
      "text/plain": "33.47218300925469"
     },
     "metadata": {},
     "output_type": "execute_result",
     "execution_count": 758
    }
   ],
   "source": [
    "df['RADIUS_RATIO'].std()"
   ],
   "metadata": {
    "collapsed": false,
    "pycharm": {
     "name": "#%%\n",
     "is_executing": false
    }
   }
  },
  {
   "cell_type": "markdown",
   "source": [
    "## Q3.5"
   ],
   "metadata": {
    "collapsed": false,
    "pycharm": {
     "name": "#%% md\n"
    }
   }
  },
  {
   "cell_type": "code",
   "execution_count": 759,
   "outputs": [
    {
     "data": {
      "text/plain": "     COMPACTNESS  CIRCULARITY  DISTANCE_CIRCULARITY  RADIUS_RATIO  \\\n0             95           48                    83           178   \n1             91           41                    84           141   \n2            104           50                   106           209   \n3             93           41                    82           159   \n4             85           44                    70           205   \n..           ...          ...                   ...           ...   \n841           93           39                    87           183   \n842           89           46                    84           163   \n843          106           54                   101           222   \n844           86           36                    78           146   \n845           85           36                    66           123   \n\n     PR.AXIS_ASPECT_RATIO  MAX.LENGTH_ASPECT_RATIO  SCATTER_RATIO  \\\n0                      72                       10            162   \n1                      57                        9            149   \n2                      66                       10            207   \n3                      63                        9            144   \n4                     103                       52            149   \n..                    ...                      ...            ...   \n841                    64                        8            169   \n842                    66                       11            159   \n843                    67                       12            222   \n844                    58                        7            135   \n845                    55                        5            120   \n\n     ELONGATEDNESS  PR.AXIS_RECTANGULARITY  MAX.LENGTH_RECTANGULARITY  \\\n0               42                      20                        159   \n1               45                      19                        143   \n2               32                      23                        158   \n3               46                      19                        143   \n4               45                      19                        144   \n..             ...                     ...                        ...   \n841             40                      20                        134   \n842             43                      20                        159   \n843             30                      25                        173   \n844             50                      18                        124   \n845             56                      17                        128   \n\n     SCALED_VARIANCE_MAJOR  SCALED_VARIANCE_MINOR  SCALED_RADIUS_OF_GYRATION  \\\n0                      176                    379                        184   \n1                      170                    330                        158   \n2                      223                    635                        220   \n3                      160                    309                        127   \n4                      241                    325                        188   \n..                     ...                    ...                        ...   \n841                    200                    422                        149   \n842                    173                    368                        176   \n843                    228                    721                        200   \n844                    155                    270                        148   \n845                    140                    212                        131   \n\n     SKEWNESS_ABOUT_MAJOR  SKEWNESS_ABOUT_MINOR  KURTOSIS_ABOUT_MAJOR  \\\n0                      70                     6                    16   \n1                      72                     9                    14   \n2                      73                    14                     9   \n3                      63                     6                    10   \n4                     127                     9                    11   \n..                    ...                   ...                   ...   \n841                    72                     7                    25   \n842                    72                     1                    20   \n843                    70                     3                     4   \n844                    66                     0                    25   \n845                    73                     1                    18   \n\n     KURTOSIS_ABOUT_MINOR  HOLLOWS_RATIO Class ElonBin  \n0                     187            197   van  MEDIUM  \n1                     189            199   van  MEDIUM  \n2                     188            196  saab  MEDIUM  \n3                     199            207   van    HIGH  \n4                     180            183   bus  MEDIUM  \n..                    ...            ...   ...     ...  \n841                   188            195  saab  MEDIUM  \n842                   186            197   van  MEDIUM  \n843                   187            201  saab  MEDIUM  \n844                   190            195  saab    HIGH  \n845                   186            190   van    HIGH  \n\n[846 rows x 20 columns]",
      "text/html": "<div>\n<style scoped>\n    .dataframe tbody tr th:only-of-type {\n        vertical-align: middle;\n    }\n\n    .dataframe tbody tr th {\n        vertical-align: top;\n    }\n\n    .dataframe thead th {\n        text-align: right;\n    }\n</style>\n<table border=\"1\" class=\"dataframe\">\n  <thead>\n    <tr style=\"text-align: right;\">\n      <th></th>\n      <th>COMPACTNESS</th>\n      <th>CIRCULARITY</th>\n      <th>DISTANCE_CIRCULARITY</th>\n      <th>RADIUS_RATIO</th>\n      <th>PR.AXIS_ASPECT_RATIO</th>\n      <th>MAX.LENGTH_ASPECT_RATIO</th>\n      <th>SCATTER_RATIO</th>\n      <th>ELONGATEDNESS</th>\n      <th>PR.AXIS_RECTANGULARITY</th>\n      <th>MAX.LENGTH_RECTANGULARITY</th>\n      <th>SCALED_VARIANCE_MAJOR</th>\n      <th>SCALED_VARIANCE_MINOR</th>\n      <th>SCALED_RADIUS_OF_GYRATION</th>\n      <th>SKEWNESS_ABOUT_MAJOR</th>\n      <th>SKEWNESS_ABOUT_MINOR</th>\n      <th>KURTOSIS_ABOUT_MAJOR</th>\n      <th>KURTOSIS_ABOUT_MINOR</th>\n      <th>HOLLOWS_RATIO</th>\n      <th>Class</th>\n      <th>ElonBin</th>\n    </tr>\n  </thead>\n  <tbody>\n    <tr>\n      <th>0</th>\n      <td>95</td>\n      <td>48</td>\n      <td>83</td>\n      <td>178</td>\n      <td>72</td>\n      <td>10</td>\n      <td>162</td>\n      <td>42</td>\n      <td>20</td>\n      <td>159</td>\n      <td>176</td>\n      <td>379</td>\n      <td>184</td>\n      <td>70</td>\n      <td>6</td>\n      <td>16</td>\n      <td>187</td>\n      <td>197</td>\n      <td>van</td>\n      <td>MEDIUM</td>\n    </tr>\n    <tr>\n      <th>1</th>\n      <td>91</td>\n      <td>41</td>\n      <td>84</td>\n      <td>141</td>\n      <td>57</td>\n      <td>9</td>\n      <td>149</td>\n      <td>45</td>\n      <td>19</td>\n      <td>143</td>\n      <td>170</td>\n      <td>330</td>\n      <td>158</td>\n      <td>72</td>\n      <td>9</td>\n      <td>14</td>\n      <td>189</td>\n      <td>199</td>\n      <td>van</td>\n      <td>MEDIUM</td>\n    </tr>\n    <tr>\n      <th>2</th>\n      <td>104</td>\n      <td>50</td>\n      <td>106</td>\n      <td>209</td>\n      <td>66</td>\n      <td>10</td>\n      <td>207</td>\n      <td>32</td>\n      <td>23</td>\n      <td>158</td>\n      <td>223</td>\n      <td>635</td>\n      <td>220</td>\n      <td>73</td>\n      <td>14</td>\n      <td>9</td>\n      <td>188</td>\n      <td>196</td>\n      <td>saab</td>\n      <td>MEDIUM</td>\n    </tr>\n    <tr>\n      <th>3</th>\n      <td>93</td>\n      <td>41</td>\n      <td>82</td>\n      <td>159</td>\n      <td>63</td>\n      <td>9</td>\n      <td>144</td>\n      <td>46</td>\n      <td>19</td>\n      <td>143</td>\n      <td>160</td>\n      <td>309</td>\n      <td>127</td>\n      <td>63</td>\n      <td>6</td>\n      <td>10</td>\n      <td>199</td>\n      <td>207</td>\n      <td>van</td>\n      <td>HIGH</td>\n    </tr>\n    <tr>\n      <th>4</th>\n      <td>85</td>\n      <td>44</td>\n      <td>70</td>\n      <td>205</td>\n      <td>103</td>\n      <td>52</td>\n      <td>149</td>\n      <td>45</td>\n      <td>19</td>\n      <td>144</td>\n      <td>241</td>\n      <td>325</td>\n      <td>188</td>\n      <td>127</td>\n      <td>9</td>\n      <td>11</td>\n      <td>180</td>\n      <td>183</td>\n      <td>bus</td>\n      <td>MEDIUM</td>\n    </tr>\n    <tr>\n      <th>...</th>\n      <td>...</td>\n      <td>...</td>\n      <td>...</td>\n      <td>...</td>\n      <td>...</td>\n      <td>...</td>\n      <td>...</td>\n      <td>...</td>\n      <td>...</td>\n      <td>...</td>\n      <td>...</td>\n      <td>...</td>\n      <td>...</td>\n      <td>...</td>\n      <td>...</td>\n      <td>...</td>\n      <td>...</td>\n      <td>...</td>\n      <td>...</td>\n      <td>...</td>\n    </tr>\n    <tr>\n      <th>841</th>\n      <td>93</td>\n      <td>39</td>\n      <td>87</td>\n      <td>183</td>\n      <td>64</td>\n      <td>8</td>\n      <td>169</td>\n      <td>40</td>\n      <td>20</td>\n      <td>134</td>\n      <td>200</td>\n      <td>422</td>\n      <td>149</td>\n      <td>72</td>\n      <td>7</td>\n      <td>25</td>\n      <td>188</td>\n      <td>195</td>\n      <td>saab</td>\n      <td>MEDIUM</td>\n    </tr>\n    <tr>\n      <th>842</th>\n      <td>89</td>\n      <td>46</td>\n      <td>84</td>\n      <td>163</td>\n      <td>66</td>\n      <td>11</td>\n      <td>159</td>\n      <td>43</td>\n      <td>20</td>\n      <td>159</td>\n      <td>173</td>\n      <td>368</td>\n      <td>176</td>\n      <td>72</td>\n      <td>1</td>\n      <td>20</td>\n      <td>186</td>\n      <td>197</td>\n      <td>van</td>\n      <td>MEDIUM</td>\n    </tr>\n    <tr>\n      <th>843</th>\n      <td>106</td>\n      <td>54</td>\n      <td>101</td>\n      <td>222</td>\n      <td>67</td>\n      <td>12</td>\n      <td>222</td>\n      <td>30</td>\n      <td>25</td>\n      <td>173</td>\n      <td>228</td>\n      <td>721</td>\n      <td>200</td>\n      <td>70</td>\n      <td>3</td>\n      <td>4</td>\n      <td>187</td>\n      <td>201</td>\n      <td>saab</td>\n      <td>MEDIUM</td>\n    </tr>\n    <tr>\n      <th>844</th>\n      <td>86</td>\n      <td>36</td>\n      <td>78</td>\n      <td>146</td>\n      <td>58</td>\n      <td>7</td>\n      <td>135</td>\n      <td>50</td>\n      <td>18</td>\n      <td>124</td>\n      <td>155</td>\n      <td>270</td>\n      <td>148</td>\n      <td>66</td>\n      <td>0</td>\n      <td>25</td>\n      <td>190</td>\n      <td>195</td>\n      <td>saab</td>\n      <td>HIGH</td>\n    </tr>\n    <tr>\n      <th>845</th>\n      <td>85</td>\n      <td>36</td>\n      <td>66</td>\n      <td>123</td>\n      <td>55</td>\n      <td>5</td>\n      <td>120</td>\n      <td>56</td>\n      <td>17</td>\n      <td>128</td>\n      <td>140</td>\n      <td>212</td>\n      <td>131</td>\n      <td>73</td>\n      <td>1</td>\n      <td>18</td>\n      <td>186</td>\n      <td>190</td>\n      <td>van</td>\n      <td>HIGH</td>\n    </tr>\n  </tbody>\n</table>\n<p>846 rows × 20 columns</p>\n</div>"
     },
     "metadata": {},
     "output_type": "execute_result",
     "execution_count": 759
    }
   ],
   "source": [
    "df.insert(19,column='ElonBin', value='default')\n",
    "df.loc[df.ELONGATEDNESS < 30,'ElonBin'] = \"LOW\"\n",
    "df.loc[((df.ELONGATEDNESS <=45) & (df.ELONGATEDNESS >= 30)),'ElonBin'] = \"MEDIUM\"\n",
    "df.loc[df.ELONGATEDNESS > 45,'ElonBin'] = \"HIGH\"\n",
    "df"
   ],
   "metadata": {
    "collapsed": false,
    "pycharm": {
     "name": "#%%\n",
     "is_executing": false
    }
   }
  },
  {
   "cell_type": "markdown",
   "source": [
    "## Q3.6"
   ],
   "metadata": {
    "collapsed": false,
    "pycharm": {
     "name": "#%% md\n"
    }
   }
  },
  {
   "cell_type": "code",
   "execution_count": 760,
   "outputs": [
    {
     "data": {
      "text/plain": "Class\nbus     76.720183\nopel    89.089623\nsaab    88.672811\nvan     73.331658\nName: DISTANCE_CIRCULARITY, dtype: float64"
     },
     "metadata": {},
     "output_type": "execute_result",
     "execution_count": 760
    }
   ],
   "source": [
    "df.groupby(by='Class').mean().DISTANCE_CIRCULARITY"
   ],
   "metadata": {
    "collapsed": false,
    "pycharm": {
     "name": "#%%\n",
     "is_executing": false
    }
   }
  },
  {
   "cell_type": "markdown",
   "source": [
    "## Q3.7"
   ],
   "metadata": {
    "collapsed": false,
    "pycharm": {
     "name": "#%% md\n"
    }
   }
  },
  {
   "cell_type": "code",
   "execution_count": 761,
   "outputs": [
    {
     "data": {
      "text/plain": "                           COMPACTNESS  CIRCULARITY  DISTANCE_CIRCULARITY  \\\nCOMPACTNESS                   1.000000     0.692869              0.792444   \nCIRCULARITY                   0.692869     1.000000              0.798492   \nDISTANCE_CIRCULARITY          0.792444     0.798492              1.000000   \nRADIUS_RATIO                  0.691659     0.622778              0.771644   \nPR.AXIS_ASPECT_RATIO          0.093222     0.149692              0.161529   \nMAX.LENGTH_ASPECT_RATIO       0.148249     0.247467              0.264309   \nSCATTER_RATIO                 0.813003     0.860367              0.907280   \nELONGATEDNESS                -0.788647    -0.828755             -0.912307   \nPR.AXIS_RECTANGULARITY        0.813437     0.857925              0.895326   \nMAX.LENGTH_RECTANGULARITY     0.676143     0.965776              0.774524   \nSCALED_VARIANCE_MAJOR         0.764415     0.808496              0.864432   \nSCALED_VARIANCE_MINOR         0.818632     0.852679              0.889661   \nSCALED_RADIUS_OF_GYRATION     0.585347     0.936080              0.705818   \nSKEWNESS_ABOUT_MAJOR         -0.252984     0.058669             -0.231660   \nSKEWNESS_ABOUT_MINOR          0.233693     0.148433              0.116478   \nKURTOSIS_ABOUT_MAJOR          0.156779    -0.015482              0.264522   \nKURTOSIS_ABOUT_MINOR          0.297780    -0.113047              0.147980   \nHOLLOWS_RATIO                 0.365552     0.038677              0.335453   \n\n                           RADIUS_RATIO  PR.AXIS_ASPECT_RATIO  \\\nCOMPACTNESS                    0.691659              0.093222   \nCIRCULARITY                    0.622778              0.149692   \nDISTANCE_CIRCULARITY           0.771644              0.161529   \nRADIUS_RATIO                   1.000000              0.665407   \nPR.AXIS_ASPECT_RATIO           0.665407              1.000000   \nMAX.LENGTH_ASPECT_RATIO        0.448048              0.648096   \nSCATTER_RATIO                  0.738460              0.106064   \nELONGATEDNESS                 -0.792557             -0.185086   \nPR.AXIS_RECTANGULARITY         0.711497              0.079982   \nMAX.LENGTH_RECTANGULARITY      0.570154              0.129168   \nSCALED_VARIANCE_MAJOR          0.797588              0.274705   \nSCALED_VARIANCE_MINOR          0.725781              0.092182   \nSCALED_RADIUS_OF_GYRATION      0.539069              0.124408   \nSKEWNESS_ABOUT_MAJOR          -0.182412              0.152304   \nSKEWNESS_ABOUT_MINOR           0.050534             -0.056807   \nKURTOSIS_ABOUT_MAJOR           0.174299             -0.034180   \nKURTOSIS_ABOUT_MINOR           0.380757              0.238195   \nHOLLOWS_RATIO                  0.469278              0.267381   \n\n                           MAX.LENGTH_ASPECT_RATIO  SCATTER_RATIO  \\\nCOMPACTNESS                               0.148249       0.813003   \nCIRCULARITY                               0.247467       0.860367   \nDISTANCE_CIRCULARITY                      0.264309       0.907280   \nRADIUS_RATIO                              0.448048       0.738460   \nPR.AXIS_ASPECT_RATIO                      0.648096       0.106064   \nMAX.LENGTH_ASPECT_RATIO                   1.000000       0.166769   \nSCATTER_RATIO                             0.166769       1.000000   \nELONGATEDNESS                            -0.180044      -0.973385   \nPR.AXIS_RECTANGULARITY                    0.161861       0.992088   \nMAX.LENGTH_RECTANGULARITY                 0.305943       0.810648   \nSCALED_VARIANCE_MAJOR                     0.319430       0.951862   \nSCALED_VARIANCE_MINOR                     0.144606       0.996318   \nSCALED_RADIUS_OF_GYRATION                 0.189791       0.800932   \nSKEWNESS_ABOUT_MAJOR                      0.294548      -0.028618   \nSKEWNESS_ABOUT_MINOR                      0.015218       0.074347   \nKURTOSIS_ABOUT_MAJOR                      0.043379       0.210706   \nKURTOSIS_ABOUT_MINOR                     -0.027317       0.004053   \nHOLLOWS_RATIO                             0.143919       0.119950   \n\n                           ELONGATEDNESS  PR.AXIS_RECTANGULARITY  \\\nCOMPACTNESS                    -0.788647                0.813437   \nCIRCULARITY                    -0.828755                0.857925   \nDISTANCE_CIRCULARITY           -0.912307                0.895326   \nRADIUS_RATIO                   -0.792557                0.711497   \nPR.AXIS_ASPECT_RATIO           -0.185086                0.079982   \nMAX.LENGTH_ASPECT_RATIO        -0.180044                0.161861   \nSCATTER_RATIO                  -0.973385                0.992088   \nELONGATEDNESS                   1.000000               -0.950512   \nPR.AXIS_RECTANGULARITY         -0.950512                1.000000   \nMAX.LENGTH_RECTANGULARITY      -0.775531                0.813305   \nSCALED_VARIANCE_MAJOR          -0.938392                0.938266   \nSCALED_VARIANCE_MINOR          -0.956522                0.992346   \nSCALED_RADIUS_OF_GYRATION      -0.766146                0.798282   \nSKEWNESS_ABOUT_MAJOR            0.104875               -0.016333   \nSKEWNESS_ABOUT_MINOR           -0.053346                0.082346   \nKURTOSIS_ABOUT_MAJOR           -0.185189                0.213088   \nKURTOSIS_ABOUT_MINOR           -0.112046               -0.022056   \nHOLLOWS_RATIO                  -0.216725                0.098519   \n\n                           MAX.LENGTH_RECTANGULARITY  SCALED_VARIANCE_MAJOR  \\\nCOMPACTNESS                                 0.676143               0.764415   \nCIRCULARITY                                 0.965776               0.808496   \nDISTANCE_CIRCULARITY                        0.774524               0.864432   \nRADIUS_RATIO                                0.570154               0.797588   \nPR.AXIS_ASPECT_RATIO                        0.129168               0.274705   \nMAX.LENGTH_ASPECT_RATIO                     0.305943               0.319430   \nSCATTER_RATIO                               0.810648               0.951862   \nELONGATEDNESS                              -0.775531              -0.938392   \nPR.AXIS_RECTANGULARITY                      0.813305               0.938266   \nMAX.LENGTH_RECTANGULARITY                   1.000000               0.747152   \nSCALED_VARIANCE_MAJOR                       0.747152               1.000000   \nSCALED_VARIANCE_MINOR                       0.798071               0.949888   \nSCALED_RADIUS_OF_GYRATION                   0.866479               0.780962   \nSKEWNESS_ABOUT_MAJOR                        0.040339               0.111296   \nSKEWNESS_ABOUT_MINOR                        0.137473               0.039137   \nKURTOSIS_ABOUT_MAJOR                        0.001183               0.191948   \nKURTOSIS_ABOUT_MINOR                       -0.107718               0.011189   \nHOLLOWS_RATIO                               0.076770               0.085540   \n\n                           SCALED_VARIANCE_MINOR  SCALED_RADIUS_OF_GYRATION  \\\nCOMPACTNESS                             0.818632                   0.585347   \nCIRCULARITY                             0.852679                   0.936080   \nDISTANCE_CIRCULARITY                    0.889661                   0.705818   \nRADIUS_RATIO                            0.725781                   0.539069   \nPR.AXIS_ASPECT_RATIO                    0.092182                   0.124408   \nMAX.LENGTH_ASPECT_RATIO                 0.144606                   0.189791   \nSCATTER_RATIO                           0.996318                   0.800932   \nELONGATEDNESS                          -0.956522                  -0.766146   \nPR.AXIS_RECTANGULARITY                  0.992346                   0.798282   \nMAX.LENGTH_RECTANGULARITY               0.798071                   0.866479   \nSCALED_VARIANCE_MAJOR                   0.949888                   0.780962   \nSCALED_VARIANCE_MINOR                   1.000000                   0.797540   \nSCALED_RADIUS_OF_GYRATION               0.797540                   1.000000   \nSKEWNESS_ABOUT_MAJOR                   -0.019872                   0.191209   \nSKEWNESS_ABOUT_MINOR                    0.076435                   0.168003   \nKURTOSIS_ABOUT_MAJOR                    0.202894                  -0.056218   \nKURTOSIS_ABOUT_MINOR                    0.005380                  -0.227366   \nHOLLOWS_RATIO                           0.105432                  -0.117808   \n\n                           SKEWNESS_ABOUT_MAJOR  SKEWNESS_ABOUT_MINOR  \\\nCOMPACTNESS                           -0.252984              0.233693   \nCIRCULARITY                            0.058669              0.148433   \nDISTANCE_CIRCULARITY                  -0.231660              0.116478   \nRADIUS_RATIO                          -0.182412              0.050534   \nPR.AXIS_ASPECT_RATIO                   0.152304             -0.056807   \nMAX.LENGTH_ASPECT_RATIO                0.294548              0.015218   \nSCATTER_RATIO                         -0.028618              0.074347   \nELONGATEDNESS                          0.104875             -0.053346   \nPR.AXIS_RECTANGULARITY                -0.016333              0.082346   \nMAX.LENGTH_RECTANGULARITY              0.040339              0.137473   \nSCALED_VARIANCE_MAJOR                  0.111296              0.039137   \nSCALED_VARIANCE_MINOR                 -0.019872              0.076435   \nSCALED_RADIUS_OF_GYRATION              0.191209              0.168003   \nSKEWNESS_ABOUT_MAJOR                   1.000000             -0.092539   \nSKEWNESS_ABOUT_MINOR                  -0.092539              1.000000   \nKURTOSIS_ABOUT_MAJOR                  -0.126157             -0.039365   \nKURTOSIS_ABOUT_MINOR                  -0.754142              0.116932   \nHOLLOWS_RATIO                         -0.805399              0.099149   \n\n                           KURTOSIS_ABOUT_MAJOR  KURTOSIS_ABOUT_MINOR  \\\nCOMPACTNESS                            0.156779              0.297780   \nCIRCULARITY                           -0.015482             -0.113047   \nDISTANCE_CIRCULARITY                   0.264522              0.147980   \nRADIUS_RATIO                           0.174299              0.380757   \nPR.AXIS_ASPECT_RATIO                  -0.034180              0.238195   \nMAX.LENGTH_ASPECT_RATIO                0.043379             -0.027317   \nSCATTER_RATIO                          0.210706              0.004053   \nELONGATEDNESS                         -0.185189             -0.112046   \nPR.AXIS_RECTANGULARITY                 0.213088             -0.022056   \nMAX.LENGTH_RECTANGULARITY              0.001183             -0.107718   \nSCALED_VARIANCE_MAJOR                  0.191948              0.011189   \nSCALED_VARIANCE_MINOR                  0.202894              0.005380   \nSCALED_RADIUS_OF_GYRATION             -0.056218             -0.227366   \nSKEWNESS_ABOUT_MAJOR                  -0.126157             -0.754142   \nSKEWNESS_ABOUT_MINOR                  -0.039365              0.116932   \nKURTOSIS_ABOUT_MAJOR                   1.000000              0.079090   \nKURTOSIS_ABOUT_MINOR                   0.079090              1.000000   \nHOLLOWS_RATIO                          0.204924              0.894098   \n\n                           HOLLOWS_RATIO  \nCOMPACTNESS                     0.365552  \nCIRCULARITY                     0.038677  \nDISTANCE_CIRCULARITY            0.335453  \nRADIUS_RATIO                    0.469278  \nPR.AXIS_ASPECT_RATIO            0.267381  \nMAX.LENGTH_ASPECT_RATIO         0.143919  \nSCATTER_RATIO                   0.119950  \nELONGATEDNESS                  -0.216725  \nPR.AXIS_RECTANGULARITY          0.098519  \nMAX.LENGTH_RECTANGULARITY       0.076770  \nSCALED_VARIANCE_MAJOR           0.085540  \nSCALED_VARIANCE_MINOR           0.105432  \nSCALED_RADIUS_OF_GYRATION      -0.117808  \nSKEWNESS_ABOUT_MAJOR           -0.805399  \nSKEWNESS_ABOUT_MINOR            0.099149  \nKURTOSIS_ABOUT_MAJOR            0.204924  \nKURTOSIS_ABOUT_MINOR            0.894098  \nHOLLOWS_RATIO                   1.000000  ",
      "text/html": "<div>\n<style scoped>\n    .dataframe tbody tr th:only-of-type {\n        vertical-align: middle;\n    }\n\n    .dataframe tbody tr th {\n        vertical-align: top;\n    }\n\n    .dataframe thead th {\n        text-align: right;\n    }\n</style>\n<table border=\"1\" class=\"dataframe\">\n  <thead>\n    <tr style=\"text-align: right;\">\n      <th></th>\n      <th>COMPACTNESS</th>\n      <th>CIRCULARITY</th>\n      <th>DISTANCE_CIRCULARITY</th>\n      <th>RADIUS_RATIO</th>\n      <th>PR.AXIS_ASPECT_RATIO</th>\n      <th>MAX.LENGTH_ASPECT_RATIO</th>\n      <th>SCATTER_RATIO</th>\n      <th>ELONGATEDNESS</th>\n      <th>PR.AXIS_RECTANGULARITY</th>\n      <th>MAX.LENGTH_RECTANGULARITY</th>\n      <th>SCALED_VARIANCE_MAJOR</th>\n      <th>SCALED_VARIANCE_MINOR</th>\n      <th>SCALED_RADIUS_OF_GYRATION</th>\n      <th>SKEWNESS_ABOUT_MAJOR</th>\n      <th>SKEWNESS_ABOUT_MINOR</th>\n      <th>KURTOSIS_ABOUT_MAJOR</th>\n      <th>KURTOSIS_ABOUT_MINOR</th>\n      <th>HOLLOWS_RATIO</th>\n    </tr>\n  </thead>\n  <tbody>\n    <tr>\n      <th>COMPACTNESS</th>\n      <td>1.000000</td>\n      <td>0.692869</td>\n      <td>0.792444</td>\n      <td>0.691659</td>\n      <td>0.093222</td>\n      <td>0.148249</td>\n      <td>0.813003</td>\n      <td>-0.788647</td>\n      <td>0.813437</td>\n      <td>0.676143</td>\n      <td>0.764415</td>\n      <td>0.818632</td>\n      <td>0.585347</td>\n      <td>-0.252984</td>\n      <td>0.233693</td>\n      <td>0.156779</td>\n      <td>0.297780</td>\n      <td>0.365552</td>\n    </tr>\n    <tr>\n      <th>CIRCULARITY</th>\n      <td>0.692869</td>\n      <td>1.000000</td>\n      <td>0.798492</td>\n      <td>0.622778</td>\n      <td>0.149692</td>\n      <td>0.247467</td>\n      <td>0.860367</td>\n      <td>-0.828755</td>\n      <td>0.857925</td>\n      <td>0.965776</td>\n      <td>0.808496</td>\n      <td>0.852679</td>\n      <td>0.936080</td>\n      <td>0.058669</td>\n      <td>0.148433</td>\n      <td>-0.015482</td>\n      <td>-0.113047</td>\n      <td>0.038677</td>\n    </tr>\n    <tr>\n      <th>DISTANCE_CIRCULARITY</th>\n      <td>0.792444</td>\n      <td>0.798492</td>\n      <td>1.000000</td>\n      <td>0.771644</td>\n      <td>0.161529</td>\n      <td>0.264309</td>\n      <td>0.907280</td>\n      <td>-0.912307</td>\n      <td>0.895326</td>\n      <td>0.774524</td>\n      <td>0.864432</td>\n      <td>0.889661</td>\n      <td>0.705818</td>\n      <td>-0.231660</td>\n      <td>0.116478</td>\n      <td>0.264522</td>\n      <td>0.147980</td>\n      <td>0.335453</td>\n    </tr>\n    <tr>\n      <th>RADIUS_RATIO</th>\n      <td>0.691659</td>\n      <td>0.622778</td>\n      <td>0.771644</td>\n      <td>1.000000</td>\n      <td>0.665407</td>\n      <td>0.448048</td>\n      <td>0.738460</td>\n      <td>-0.792557</td>\n      <td>0.711497</td>\n      <td>0.570154</td>\n      <td>0.797588</td>\n      <td>0.725781</td>\n      <td>0.539069</td>\n      <td>-0.182412</td>\n      <td>0.050534</td>\n      <td>0.174299</td>\n      <td>0.380757</td>\n      <td>0.469278</td>\n    </tr>\n    <tr>\n      <th>PR.AXIS_ASPECT_RATIO</th>\n      <td>0.093222</td>\n      <td>0.149692</td>\n      <td>0.161529</td>\n      <td>0.665407</td>\n      <td>1.000000</td>\n      <td>0.648096</td>\n      <td>0.106064</td>\n      <td>-0.185086</td>\n      <td>0.079982</td>\n      <td>0.129168</td>\n      <td>0.274705</td>\n      <td>0.092182</td>\n      <td>0.124408</td>\n      <td>0.152304</td>\n      <td>-0.056807</td>\n      <td>-0.034180</td>\n      <td>0.238195</td>\n      <td>0.267381</td>\n    </tr>\n    <tr>\n      <th>MAX.LENGTH_ASPECT_RATIO</th>\n      <td>0.148249</td>\n      <td>0.247467</td>\n      <td>0.264309</td>\n      <td>0.448048</td>\n      <td>0.648096</td>\n      <td>1.000000</td>\n      <td>0.166769</td>\n      <td>-0.180044</td>\n      <td>0.161861</td>\n      <td>0.305943</td>\n      <td>0.319430</td>\n      <td>0.144606</td>\n      <td>0.189791</td>\n      <td>0.294548</td>\n      <td>0.015218</td>\n      <td>0.043379</td>\n      <td>-0.027317</td>\n      <td>0.143919</td>\n    </tr>\n    <tr>\n      <th>SCATTER_RATIO</th>\n      <td>0.813003</td>\n      <td>0.860367</td>\n      <td>0.907280</td>\n      <td>0.738460</td>\n      <td>0.106064</td>\n      <td>0.166769</td>\n      <td>1.000000</td>\n      <td>-0.973385</td>\n      <td>0.992088</td>\n      <td>0.810648</td>\n      <td>0.951862</td>\n      <td>0.996318</td>\n      <td>0.800932</td>\n      <td>-0.028618</td>\n      <td>0.074347</td>\n      <td>0.210706</td>\n      <td>0.004053</td>\n      <td>0.119950</td>\n    </tr>\n    <tr>\n      <th>ELONGATEDNESS</th>\n      <td>-0.788647</td>\n      <td>-0.828755</td>\n      <td>-0.912307</td>\n      <td>-0.792557</td>\n      <td>-0.185086</td>\n      <td>-0.180044</td>\n      <td>-0.973385</td>\n      <td>1.000000</td>\n      <td>-0.950512</td>\n      <td>-0.775531</td>\n      <td>-0.938392</td>\n      <td>-0.956522</td>\n      <td>-0.766146</td>\n      <td>0.104875</td>\n      <td>-0.053346</td>\n      <td>-0.185189</td>\n      <td>-0.112046</td>\n      <td>-0.216725</td>\n    </tr>\n    <tr>\n      <th>PR.AXIS_RECTANGULARITY</th>\n      <td>0.813437</td>\n      <td>0.857925</td>\n      <td>0.895326</td>\n      <td>0.711497</td>\n      <td>0.079982</td>\n      <td>0.161861</td>\n      <td>0.992088</td>\n      <td>-0.950512</td>\n      <td>1.000000</td>\n      <td>0.813305</td>\n      <td>0.938266</td>\n      <td>0.992346</td>\n      <td>0.798282</td>\n      <td>-0.016333</td>\n      <td>0.082346</td>\n      <td>0.213088</td>\n      <td>-0.022056</td>\n      <td>0.098519</td>\n    </tr>\n    <tr>\n      <th>MAX.LENGTH_RECTANGULARITY</th>\n      <td>0.676143</td>\n      <td>0.965776</td>\n      <td>0.774524</td>\n      <td>0.570154</td>\n      <td>0.129168</td>\n      <td>0.305943</td>\n      <td>0.810648</td>\n      <td>-0.775531</td>\n      <td>0.813305</td>\n      <td>1.000000</td>\n      <td>0.747152</td>\n      <td>0.798071</td>\n      <td>0.866479</td>\n      <td>0.040339</td>\n      <td>0.137473</td>\n      <td>0.001183</td>\n      <td>-0.107718</td>\n      <td>0.076770</td>\n    </tr>\n    <tr>\n      <th>SCALED_VARIANCE_MAJOR</th>\n      <td>0.764415</td>\n      <td>0.808496</td>\n      <td>0.864432</td>\n      <td>0.797588</td>\n      <td>0.274705</td>\n      <td>0.319430</td>\n      <td>0.951862</td>\n      <td>-0.938392</td>\n      <td>0.938266</td>\n      <td>0.747152</td>\n      <td>1.000000</td>\n      <td>0.949888</td>\n      <td>0.780962</td>\n      <td>0.111296</td>\n      <td>0.039137</td>\n      <td>0.191948</td>\n      <td>0.011189</td>\n      <td>0.085540</td>\n    </tr>\n    <tr>\n      <th>SCALED_VARIANCE_MINOR</th>\n      <td>0.818632</td>\n      <td>0.852679</td>\n      <td>0.889661</td>\n      <td>0.725781</td>\n      <td>0.092182</td>\n      <td>0.144606</td>\n      <td>0.996318</td>\n      <td>-0.956522</td>\n      <td>0.992346</td>\n      <td>0.798071</td>\n      <td>0.949888</td>\n      <td>1.000000</td>\n      <td>0.797540</td>\n      <td>-0.019872</td>\n      <td>0.076435</td>\n      <td>0.202894</td>\n      <td>0.005380</td>\n      <td>0.105432</td>\n    </tr>\n    <tr>\n      <th>SCALED_RADIUS_OF_GYRATION</th>\n      <td>0.585347</td>\n      <td>0.936080</td>\n      <td>0.705818</td>\n      <td>0.539069</td>\n      <td>0.124408</td>\n      <td>0.189791</td>\n      <td>0.800932</td>\n      <td>-0.766146</td>\n      <td>0.798282</td>\n      <td>0.866479</td>\n      <td>0.780962</td>\n      <td>0.797540</td>\n      <td>1.000000</td>\n      <td>0.191209</td>\n      <td>0.168003</td>\n      <td>-0.056218</td>\n      <td>-0.227366</td>\n      <td>-0.117808</td>\n    </tr>\n    <tr>\n      <th>SKEWNESS_ABOUT_MAJOR</th>\n      <td>-0.252984</td>\n      <td>0.058669</td>\n      <td>-0.231660</td>\n      <td>-0.182412</td>\n      <td>0.152304</td>\n      <td>0.294548</td>\n      <td>-0.028618</td>\n      <td>0.104875</td>\n      <td>-0.016333</td>\n      <td>0.040339</td>\n      <td>0.111296</td>\n      <td>-0.019872</td>\n      <td>0.191209</td>\n      <td>1.000000</td>\n      <td>-0.092539</td>\n      <td>-0.126157</td>\n      <td>-0.754142</td>\n      <td>-0.805399</td>\n    </tr>\n    <tr>\n      <th>SKEWNESS_ABOUT_MINOR</th>\n      <td>0.233693</td>\n      <td>0.148433</td>\n      <td>0.116478</td>\n      <td>0.050534</td>\n      <td>-0.056807</td>\n      <td>0.015218</td>\n      <td>0.074347</td>\n      <td>-0.053346</td>\n      <td>0.082346</td>\n      <td>0.137473</td>\n      <td>0.039137</td>\n      <td>0.076435</td>\n      <td>0.168003</td>\n      <td>-0.092539</td>\n      <td>1.000000</td>\n      <td>-0.039365</td>\n      <td>0.116932</td>\n      <td>0.099149</td>\n    </tr>\n    <tr>\n      <th>KURTOSIS_ABOUT_MAJOR</th>\n      <td>0.156779</td>\n      <td>-0.015482</td>\n      <td>0.264522</td>\n      <td>0.174299</td>\n      <td>-0.034180</td>\n      <td>0.043379</td>\n      <td>0.210706</td>\n      <td>-0.185189</td>\n      <td>0.213088</td>\n      <td>0.001183</td>\n      <td>0.191948</td>\n      <td>0.202894</td>\n      <td>-0.056218</td>\n      <td>-0.126157</td>\n      <td>-0.039365</td>\n      <td>1.000000</td>\n      <td>0.079090</td>\n      <td>0.204924</td>\n    </tr>\n    <tr>\n      <th>KURTOSIS_ABOUT_MINOR</th>\n      <td>0.297780</td>\n      <td>-0.113047</td>\n      <td>0.147980</td>\n      <td>0.380757</td>\n      <td>0.238195</td>\n      <td>-0.027317</td>\n      <td>0.004053</td>\n      <td>-0.112046</td>\n      <td>-0.022056</td>\n      <td>-0.107718</td>\n      <td>0.011189</td>\n      <td>0.005380</td>\n      <td>-0.227366</td>\n      <td>-0.754142</td>\n      <td>0.116932</td>\n      <td>0.079090</td>\n      <td>1.000000</td>\n      <td>0.894098</td>\n    </tr>\n    <tr>\n      <th>HOLLOWS_RATIO</th>\n      <td>0.365552</td>\n      <td>0.038677</td>\n      <td>0.335453</td>\n      <td>0.469278</td>\n      <td>0.267381</td>\n      <td>0.143919</td>\n      <td>0.119950</td>\n      <td>-0.216725</td>\n      <td>0.098519</td>\n      <td>0.076770</td>\n      <td>0.085540</td>\n      <td>0.105432</td>\n      <td>-0.117808</td>\n      <td>-0.805399</td>\n      <td>0.099149</td>\n      <td>0.204924</td>\n      <td>0.894098</td>\n      <td>1.000000</td>\n    </tr>\n  </tbody>\n</table>\n</div>"
     },
     "metadata": {},
     "output_type": "execute_result",
     "execution_count": 761
    }
   ],
   "source": [
    "df.corr()"
   ],
   "metadata": {
    "collapsed": false,
    "pycharm": {
     "name": "#%%\n",
     "is_executing": false
    }
   }
  },
  {
   "cell_type": "markdown",
   "source": [
    "## Q3.8"
   ],
   "metadata": {
    "collapsed": false,
    "pycharm": {
     "name": "#%% md\n"
    }
   }
  },
  {
   "cell_type": "code",
   "execution_count": 762,
   "outputs": [
    {
     "data": {
      "text/plain": "<Figure size 432x288 with 1 Axes>",
      "image/png": "[encoded data removed]"
     },
     "metadata": {
      "needs_background": "light"
     },
     "output_type": "display_data"
    }
   ],
   "source": [
    "import matplotlib.pyplot as plt\n",
    "\n",
    "plt.hist(df.SCATTER_RATIO)\n",
    "plt.show()\n",
    "\n"
   ],
   "metadata": {
    "collapsed": false,
    "pycharm": {
     "name": "#%%\n",
     "is_executing": false
    }
   }
  }
 ],
 "metadata": {
  "kernelspec": {
   "display_name": "Python 3",
   "language": "python",
   "name": "python3"
  },
  "language_info": {
   "codemirror_mode": {
    "name": "ipython",
    "version": 2
   },
   "file_extension": ".py",
   "mimetype": "text/x-python",
   "name": "python",
   "nbconvert_exporter": "python",
   "pygments_lexer": "ipython2",
   "version": "2.7.6"
  },
  "pycharm": {
   "stem_cell": {
    "cell_type": "raw",
    "source": [],
    "metadata": {
     "collapsed": false
    }
   }
  }
 },
 "nbformat": 4,
 "nbformat_minor": 0
}
