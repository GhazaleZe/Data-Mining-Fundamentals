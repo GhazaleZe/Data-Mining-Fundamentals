{
 "cells": [
  {
   "cell_type": "markdown",
   "source": [
    "# Ghazaleh Zehtab\n",
    "# HW7, Question2"
   ],
   "metadata": {
    "collapsed": false
   }
  },
  {
   "cell_type": "code",
   "execution_count": 83,
   "outputs": [],
   "source": [
    "import jenkspy\n",
    "import numpy as np\n",
    "import pandas as pd\n",
    "import statsmodels.api as sm\n",
    "import math\n",
    "from sklearn import tree, metrics, preprocessing\n",
    "from sklearn.metrics import accuracy_score, silhouette_score, silhouette_samples, mean_squared_error\n",
    "from sklearn.model_selection import train_test_split, cross_val_score\n",
    "from sklearn.linear_model import LinearRegression, LogisticRegression\n",
    "from sklearn.metrics import mean_absolute_error"
   ],
   "metadata": {
    "collapsed": false,
    "pycharm": {
     "name": "#%%\n",
     "is_executing": false
    }
   }
  },
  {
   "cell_type": "code",
   "execution_count": 83,
   "outputs": [],
   "source": [],
   "metadata": {
    "collapsed": false,
    "pycharm": {
     "name": "#%%\n",
     "is_executing": false
    }
   }
  },
  {
   "cell_type": "markdown",
   "source": [
    "## a"
   ],
   "metadata": {
    "collapsed": false
   }
  },
  {
   "cell_type": "code",
   "execution_count": 84,
   "outputs": [
    {
     "name": "stdout",
     "text": [
      "dict_keys(['data', 'target', 'feature_names', 'DESCR', 'filename'])\n",
      "(506, 13)\n",
      ".. _boston_dataset:\n",
      "\n",
      "Boston house prices dataset\n",
      "---------------------------\n",
      "\n",
      "**Data Set Characteristics:**  \n",
      "\n",
      "    :Number of Instances: 506 \n",
      "\n",
      "    :Number of Attributes: 13 numeric/categorical predictive. Median Value (attribute 14) is usually the target.\n",
      "\n",
      "    :Attribute Information (in order):\n",
      "        - CRIM     per capita crime rate by town\n",
      "        - ZN       proportion of residential land zoned for lots over 25,000 sq.ft.\n",
      "        - INDUS    proportion of non-retail business acres per town\n",
      "        - CHAS     Charles River dummy variable (= 1 if tract bounds river; 0 otherwise)\n",
      "        - NOX      nitric oxides concentration (parts per 10 million)\n",
      "        - RM       average number of rooms per dwelling\n",
      "        - AGE      proportion of owner-occupied units built prior to 1940\n",
      "        - DIS      weighted distances to five Boston employment centres\n",
      "        - RAD      index of accessibility to radial highways\n",
      "        - TAX      full-value property-tax rate per $10,000\n",
      "        - PTRATIO  pupil-teacher ratio by town\n",
      "        - B        1000(Bk - 0.63)^2 where Bk is the proportion of blacks by town\n",
      "        - LSTAT    % lower status of the population\n",
      "        - MEDV     Median value of owner-occupied homes in $1000's\n",
      "\n",
      "    :Missing Attribute Values: None\n",
      "\n",
      "    :Creator: Harrison, D. and Rubinfeld, D.L.\n",
      "\n",
      "This is a copy of UCI ML housing dataset.\n",
      "https://archive.ics.uci.edu/ml/machine-learning-databases/housing/\n",
      "\n",
      "\n",
      "This dataset was taken from the StatLib library which is maintained at Carnegie Mellon University.\n",
      "\n",
      "The Boston house-price data of Harrison, D. and Rubinfeld, D.L. 'Hedonic\n",
      "prices and the demand for clean air', J. Environ. Economics & Management,\n",
      "vol.5, 81-102, 1978.   Used in Belsley, Kuh & Welsch, 'Regression diagnostics\n",
      "...', Wiley, 1980.   N.B. Various transformations are used in the table on\n",
      "pages 244-261 of the latter.\n",
      "\n",
      "The Boston house-price data has been used in many machine learning papers that address regression\n",
      "problems.   \n",
      "     \n",
      ".. topic:: References\n",
      "\n",
      "   - Belsley, Kuh & Welsch, 'Regression diagnostics: Identifying Influential Data and Sources of Collinearity', Wiley, 1980. 244-261.\n",
      "   - Quinlan,R. (1993). Combining Instance-Based and Model-Based Learning. In Proceedings on the Tenth International Conference of Machine Learning, 236-243, University of Massachusetts, Amherst. Morgan Kaufmann.\n",
      "\n"
     ],
     "output_type": "stream"
    }
   ],
   "source": [
    "from sklearn.datasets import load_boston\n",
    "boston = load_boston()\t\n",
    "print(boston.keys())\n",
    "print(boston.data.shape)\n",
    "print(boston.DESCR)"
   ],
   "metadata": {
    "collapsed": false,
    "pycharm": {
     "name": "#%%\n",
     "is_executing": false
    }
   }
  },
  {
   "cell_type": "code",
   "execution_count": 85,
   "outputs": [
    {
     "name": "stdout",
     "text": [
      "['CRIM' 'ZN' 'INDUS' 'CHAS' 'NOX' 'RM' 'AGE' 'DIS' 'RAD' 'TAX' 'PTRATIO'\n",
      " 'B' 'LSTAT']\n"
     ],
     "output_type": "stream"
    }
   ],
   "source": [
    "print(boston.feature_names)"
   ],
   "metadata": {
    "collapsed": false,
    "pycharm": {
     "name": "#%%\n",
     "is_executing": false
    }
   }
  },
  {
   "cell_type": "markdown",
   "source": [
    "## b"
   ],
   "metadata": {
    "collapsed": false
   }
  },
  {
   "cell_type": "code",
   "execution_count": 86,
   "outputs": [
    {
     "data": {
      "text/plain": "      CRIM    ZN  INDUS  CHAS    NOX     RM   AGE     DIS  RAD    TAX  \\\n0  0.00632  18.0   2.31   0.0  0.538  6.575  65.2  4.0900  1.0  296.0   \n1  0.02731   0.0   7.07   0.0  0.469  6.421  78.9  4.9671  2.0  242.0   \n2  0.02729   0.0   7.07   0.0  0.469  7.185  61.1  4.9671  2.0  242.0   \n3  0.03237   0.0   2.18   0.0  0.458  6.998  45.8  6.0622  3.0  222.0   \n4  0.06905   0.0   2.18   0.0  0.458  7.147  54.2  6.0622  3.0  222.0   \n\n   PTRATIO       B  LSTAT  \n0     15.3  396.90   4.98  \n1     17.8  396.90   9.14  \n2     17.8  392.83   4.03  \n3     18.7  394.63   2.94  \n4     18.7  396.90   5.33  ",
      "text/html": "<div>\n<style scoped>\n    .dataframe tbody tr th:only-of-type {\n        vertical-align: middle;\n    }\n\n    .dataframe tbody tr th {\n        vertical-align: top;\n    }\n\n    .dataframe thead th {\n        text-align: right;\n    }\n</style>\n<table border=\"1\" class=\"dataframe\">\n  <thead>\n    <tr style=\"text-align: right;\">\n      <th></th>\n      <th>CRIM</th>\n      <th>ZN</th>\n      <th>INDUS</th>\n      <th>CHAS</th>\n      <th>NOX</th>\n      <th>RM</th>\n      <th>AGE</th>\n      <th>DIS</th>\n      <th>RAD</th>\n      <th>TAX</th>\n      <th>PTRATIO</th>\n      <th>B</th>\n      <th>LSTAT</th>\n    </tr>\n  </thead>\n  <tbody>\n    <tr>\n      <th>0</th>\n      <td>0.00632</td>\n      <td>18.0</td>\n      <td>2.31</td>\n      <td>0.0</td>\n      <td>0.538</td>\n      <td>6.575</td>\n      <td>65.2</td>\n      <td>4.0900</td>\n      <td>1.0</td>\n      <td>296.0</td>\n      <td>15.3</td>\n      <td>396.90</td>\n      <td>4.98</td>\n    </tr>\n    <tr>\n      <th>1</th>\n      <td>0.02731</td>\n      <td>0.0</td>\n      <td>7.07</td>\n      <td>0.0</td>\n      <td>0.469</td>\n      <td>6.421</td>\n      <td>78.9</td>\n      <td>4.9671</td>\n      <td>2.0</td>\n      <td>242.0</td>\n      <td>17.8</td>\n      <td>396.90</td>\n      <td>9.14</td>\n    </tr>\n    <tr>\n      <th>2</th>\n      <td>0.02729</td>\n      <td>0.0</td>\n      <td>7.07</td>\n      <td>0.0</td>\n      <td>0.469</td>\n      <td>7.185</td>\n      <td>61.1</td>\n      <td>4.9671</td>\n      <td>2.0</td>\n      <td>242.0</td>\n      <td>17.8</td>\n      <td>392.83</td>\n      <td>4.03</td>\n    </tr>\n    <tr>\n      <th>3</th>\n      <td>0.03237</td>\n      <td>0.0</td>\n      <td>2.18</td>\n      <td>0.0</td>\n      <td>0.458</td>\n      <td>6.998</td>\n      <td>45.8</td>\n      <td>6.0622</td>\n      <td>3.0</td>\n      <td>222.0</td>\n      <td>18.7</td>\n      <td>394.63</td>\n      <td>2.94</td>\n    </tr>\n    <tr>\n      <th>4</th>\n      <td>0.06905</td>\n      <td>0.0</td>\n      <td>2.18</td>\n      <td>0.0</td>\n      <td>0.458</td>\n      <td>7.147</td>\n      <td>54.2</td>\n      <td>6.0622</td>\n      <td>3.0</td>\n      <td>222.0</td>\n      <td>18.7</td>\n      <td>396.90</td>\n      <td>5.33</td>\n    </tr>\n  </tbody>\n</table>\n</div>"
     },
     "metadata": {},
     "output_type": "execute_result",
     "execution_count": 86
    }
   ],
   "source": [
    "boston_pd = pd.DataFrame(boston.data,columns=boston.feature_names)\n",
    "boston_pd.head()"
   ],
   "metadata": {
    "collapsed": false,
    "pycharm": {
     "name": "#%%\n",
     "is_executing": false
    }
   }
  },
  {
   "cell_type": "markdown",
   "source": [
    "## c\n"
   ],
   "metadata": {
    "collapsed": false
   }
  },
  {
   "cell_type": "code",
   "execution_count": 87,
   "outputs": [],
   "source": [
    "df=boston_pd"
   ],
   "metadata": {
    "collapsed": false,
    "pycharm": {
     "name": "#%%\n",
     "is_executing": false
    }
   }
  },
  {
   "cell_type": "code",
   "execution_count": 88,
   "outputs": [
    {
     "data": {
      "text/plain": "         CRIM    ZN     INDUS  CHAS       NOX        RM       AGE       DIS  \\\n0    0.000000  0.18  0.067815   0.0  0.314815  0.577505  0.641607  0.269203   \n1    0.000236  0.00  0.242302   0.0  0.172840  0.547998  0.782698  0.348962   \n2    0.000236  0.00  0.242302   0.0  0.172840  0.694386  0.599382  0.348962   \n3    0.000293  0.00  0.063050   0.0  0.150206  0.658555  0.441813  0.448545   \n4    0.000705  0.00  0.063050   0.0  0.150206  0.687105  0.528321  0.448545   \n..        ...   ...       ...   ...       ...       ...       ...       ...   \n501  0.000633  0.00  0.420455   0.0  0.386831  0.580954  0.681771  0.122671   \n502  0.000438  0.00  0.420455   0.0  0.386831  0.490324  0.760041  0.105293   \n503  0.000612  0.00  0.420455   0.0  0.386831  0.654340  0.907312  0.094381   \n504  0.001161  0.00  0.420455   0.0  0.386831  0.619467  0.889804  0.114514   \n505  0.000462  0.00  0.420455   0.0  0.386831  0.473079  0.802266  0.125072   \n\n          RAD       TAX   PTRATIO         B     LSTAT  \n0    0.000000  0.208015  0.287234  1.000000  0.089680  \n1    0.043478  0.104962  0.553191  1.000000  0.204470  \n2    0.043478  0.104962  0.553191  0.989737  0.063466  \n3    0.086957  0.066794  0.648936  0.994276  0.033389  \n4    0.086957  0.066794  0.648936  1.000000  0.099338  \n..        ...       ...       ...       ...       ...  \n501  0.000000  0.164122  0.893617  0.987619  0.219095  \n502  0.000000  0.164122  0.893617  1.000000  0.202815  \n503  0.000000  0.164122  0.893617  1.000000  0.107892  \n504  0.000000  0.164122  0.893617  0.991301  0.131071  \n505  0.000000  0.164122  0.893617  1.000000  0.169702  \n\n[506 rows x 13 columns]",
      "text/html": "<div>\n<style scoped>\n    .dataframe tbody tr th:only-of-type {\n        vertical-align: middle;\n    }\n\n    .dataframe tbody tr th {\n        vertical-align: top;\n    }\n\n    .dataframe thead th {\n        text-align: right;\n    }\n</style>\n<table border=\"1\" class=\"dataframe\">\n  <thead>\n    <tr style=\"text-align: right;\">\n      <th></th>\n      <th>CRIM</th>\n      <th>ZN</th>\n      <th>INDUS</th>\n      <th>CHAS</th>\n      <th>NOX</th>\n      <th>RM</th>\n      <th>AGE</th>\n      <th>DIS</th>\n      <th>RAD</th>\n      <th>TAX</th>\n      <th>PTRATIO</th>\n      <th>B</th>\n      <th>LSTAT</th>\n    </tr>\n  </thead>\n  <tbody>\n    <tr>\n      <th>0</th>\n      <td>0.000000</td>\n      <td>0.18</td>\n      <td>0.067815</td>\n      <td>0.0</td>\n      <td>0.314815</td>\n      <td>0.577505</td>\n      <td>0.641607</td>\n      <td>0.269203</td>\n      <td>0.000000</td>\n      <td>0.208015</td>\n      <td>0.287234</td>\n      <td>1.000000</td>\n      <td>0.089680</td>\n    </tr>\n    <tr>\n      <th>1</th>\n      <td>0.000236</td>\n      <td>0.00</td>\n      <td>0.242302</td>\n      <td>0.0</td>\n      <td>0.172840</td>\n      <td>0.547998</td>\n      <td>0.782698</td>\n      <td>0.348962</td>\n      <td>0.043478</td>\n      <td>0.104962</td>\n      <td>0.553191</td>\n      <td>1.000000</td>\n      <td>0.204470</td>\n    </tr>\n    <tr>\n      <th>2</th>\n      <td>0.000236</td>\n      <td>0.00</td>\n      <td>0.242302</td>\n      <td>0.0</td>\n      <td>0.172840</td>\n      <td>0.694386</td>\n      <td>0.599382</td>\n      <td>0.348962</td>\n      <td>0.043478</td>\n      <td>0.104962</td>\n      <td>0.553191</td>\n      <td>0.989737</td>\n      <td>0.063466</td>\n    </tr>\n    <tr>\n      <th>3</th>\n      <td>0.000293</td>\n      <td>0.00</td>\n      <td>0.063050</td>\n      <td>0.0</td>\n      <td>0.150206</td>\n      <td>0.658555</td>\n      <td>0.441813</td>\n      <td>0.448545</td>\n      <td>0.086957</td>\n      <td>0.066794</td>\n      <td>0.648936</td>\n      <td>0.994276</td>\n      <td>0.033389</td>\n    </tr>\n    <tr>\n      <th>4</th>\n      <td>0.000705</td>\n      <td>0.00</td>\n      <td>0.063050</td>\n      <td>0.0</td>\n      <td>0.150206</td>\n      <td>0.687105</td>\n      <td>0.528321</td>\n      <td>0.448545</td>\n      <td>0.086957</td>\n      <td>0.066794</td>\n      <td>0.648936</td>\n      <td>1.000000</td>\n      <td>0.099338</td>\n    </tr>\n    <tr>\n      <th>...</th>\n      <td>...</td>\n      <td>...</td>\n      <td>...</td>\n      <td>...</td>\n      <td>...</td>\n      <td>...</td>\n      <td>...</td>\n      <td>...</td>\n      <td>...</td>\n      <td>...</td>\n      <td>...</td>\n      <td>...</td>\n      <td>...</td>\n    </tr>\n    <tr>\n      <th>501</th>\n      <td>0.000633</td>\n      <td>0.00</td>\n      <td>0.420455</td>\n      <td>0.0</td>\n      <td>0.386831</td>\n      <td>0.580954</td>\n      <td>0.681771</td>\n      <td>0.122671</td>\n      <td>0.000000</td>\n      <td>0.164122</td>\n      <td>0.893617</td>\n      <td>0.987619</td>\n      <td>0.219095</td>\n    </tr>\n    <tr>\n      <th>502</th>\n      <td>0.000438</td>\n      <td>0.00</td>\n      <td>0.420455</td>\n      <td>0.0</td>\n      <td>0.386831</td>\n      <td>0.490324</td>\n      <td>0.760041</td>\n      <td>0.105293</td>\n      <td>0.000000</td>\n      <td>0.164122</td>\n      <td>0.893617</td>\n      <td>1.000000</td>\n      <td>0.202815</td>\n    </tr>\n    <tr>\n      <th>503</th>\n      <td>0.000612</td>\n      <td>0.00</td>\n      <td>0.420455</td>\n      <td>0.0</td>\n      <td>0.386831</td>\n      <td>0.654340</td>\n      <td>0.907312</td>\n      <td>0.094381</td>\n      <td>0.000000</td>\n      <td>0.164122</td>\n      <td>0.893617</td>\n      <td>1.000000</td>\n      <td>0.107892</td>\n    </tr>\n    <tr>\n      <th>504</th>\n      <td>0.001161</td>\n      <td>0.00</td>\n      <td>0.420455</td>\n      <td>0.0</td>\n      <td>0.386831</td>\n      <td>0.619467</td>\n      <td>0.889804</td>\n      <td>0.114514</td>\n      <td>0.000000</td>\n      <td>0.164122</td>\n      <td>0.893617</td>\n      <td>0.991301</td>\n      <td>0.131071</td>\n    </tr>\n    <tr>\n      <th>505</th>\n      <td>0.000462</td>\n      <td>0.00</td>\n      <td>0.420455</td>\n      <td>0.0</td>\n      <td>0.386831</td>\n      <td>0.473079</td>\n      <td>0.802266</td>\n      <td>0.125072</td>\n      <td>0.000000</td>\n      <td>0.164122</td>\n      <td>0.893617</td>\n      <td>1.000000</td>\n      <td>0.169702</td>\n    </tr>\n  </tbody>\n</table>\n<p>506 rows × 13 columns</p>\n</div>"
     },
     "metadata": {},
     "output_type": "execute_result",
     "execution_count": 88
    }
   ],
   "source": [
    "x = df.values #returns a numpy array\n",
    "min_max_scaler = preprocessing.MinMaxScaler()\n",
    "x_scaled = min_max_scaler.fit_transform(x)\n",
    "df = pd.DataFrame(x_scaled,index=df.index, columns=df.columns)\n",
    "df"
   ],
   "metadata": {
    "collapsed": false,
    "pycharm": {
     "name": "#%%\n",
     "is_executing": false
    }
   }
  },
  {
   "cell_type": "code",
   "execution_count": 89,
   "outputs": [
    {
     "data": {
      "text/plain": "         CRIM    ZN     INDUS  CHAS       NOX        RM       AGE       DIS  \\\n0    0.000000  0.18  0.067815   0.0  0.314815  0.577505  0.641607  0.269203   \n1    0.000236  0.00  0.242302   0.0  0.172840  0.547998  0.782698  0.348962   \n2    0.000236  0.00  0.242302   0.0  0.172840  0.694386  0.599382  0.348962   \n3    0.000293  0.00  0.063050   0.0  0.150206  0.658555  0.441813  0.448545   \n4    0.000705  0.00  0.063050   0.0  0.150206  0.687105  0.528321  0.448545   \n..        ...   ...       ...   ...       ...       ...       ...       ...   \n501  0.000633  0.00  0.420455   0.0  0.386831  0.580954  0.681771  0.122671   \n502  0.000438  0.00  0.420455   0.0  0.386831  0.490324  0.760041  0.105293   \n503  0.000612  0.00  0.420455   0.0  0.386831  0.654340  0.907312  0.094381   \n504  0.001161  0.00  0.420455   0.0  0.386831  0.619467  0.889804  0.114514   \n505  0.000462  0.00  0.420455   0.0  0.386831  0.473079  0.802266  0.125072   \n\n          RAD       TAX   PTRATIO         B     LSTAT  Price  \n0    0.000000  0.208015  0.287234  1.000000  0.089680   24.0  \n1    0.043478  0.104962  0.553191  1.000000  0.204470   21.6  \n2    0.043478  0.104962  0.553191  0.989737  0.063466   34.7  \n3    0.086957  0.066794  0.648936  0.994276  0.033389   33.4  \n4    0.086957  0.066794  0.648936  1.000000  0.099338   36.2  \n..        ...       ...       ...       ...       ...    ...  \n501  0.000000  0.164122  0.893617  0.987619  0.219095   22.4  \n502  0.000000  0.164122  0.893617  1.000000  0.202815   20.6  \n503  0.000000  0.164122  0.893617  1.000000  0.107892   23.9  \n504  0.000000  0.164122  0.893617  0.991301  0.131071   22.0  \n505  0.000000  0.164122  0.893617  1.000000  0.169702   11.9  \n\n[506 rows x 14 columns]",
      "text/html": "<div>\n<style scoped>\n    .dataframe tbody tr th:only-of-type {\n        vertical-align: middle;\n    }\n\n    .dataframe tbody tr th {\n        vertical-align: top;\n    }\n\n    .dataframe thead th {\n        text-align: right;\n    }\n</style>\n<table border=\"1\" class=\"dataframe\">\n  <thead>\n    <tr style=\"text-align: right;\">\n      <th></th>\n      <th>CRIM</th>\n      <th>ZN</th>\n      <th>INDUS</th>\n      <th>CHAS</th>\n      <th>NOX</th>\n      <th>RM</th>\n      <th>AGE</th>\n      <th>DIS</th>\n      <th>RAD</th>\n      <th>TAX</th>\n      <th>PTRATIO</th>\n      <th>B</th>\n      <th>LSTAT</th>\n      <th>Price</th>\n    </tr>\n  </thead>\n  <tbody>\n    <tr>\n      <th>0</th>\n      <td>0.000000</td>\n      <td>0.18</td>\n      <td>0.067815</td>\n      <td>0.0</td>\n      <td>0.314815</td>\n      <td>0.577505</td>\n      <td>0.641607</td>\n      <td>0.269203</td>\n      <td>0.000000</td>\n      <td>0.208015</td>\n      <td>0.287234</td>\n      <td>1.000000</td>\n      <td>0.089680</td>\n      <td>24.0</td>\n    </tr>\n    <tr>\n      <th>1</th>\n      <td>0.000236</td>\n      <td>0.00</td>\n      <td>0.242302</td>\n      <td>0.0</td>\n      <td>0.172840</td>\n      <td>0.547998</td>\n      <td>0.782698</td>\n      <td>0.348962</td>\n      <td>0.043478</td>\n      <td>0.104962</td>\n      <td>0.553191</td>\n      <td>1.000000</td>\n      <td>0.204470</td>\n      <td>21.6</td>\n    </tr>\n    <tr>\n      <th>2</th>\n      <td>0.000236</td>\n      <td>0.00</td>\n      <td>0.242302</td>\n      <td>0.0</td>\n      <td>0.172840</td>\n      <td>0.694386</td>\n      <td>0.599382</td>\n      <td>0.348962</td>\n      <td>0.043478</td>\n      <td>0.104962</td>\n      <td>0.553191</td>\n      <td>0.989737</td>\n      <td>0.063466</td>\n      <td>34.7</td>\n    </tr>\n    <tr>\n      <th>3</th>\n      <td>0.000293</td>\n      <td>0.00</td>\n      <td>0.063050</td>\n      <td>0.0</td>\n      <td>0.150206</td>\n      <td>0.658555</td>\n      <td>0.441813</td>\n      <td>0.448545</td>\n      <td>0.086957</td>\n      <td>0.066794</td>\n      <td>0.648936</td>\n      <td>0.994276</td>\n      <td>0.033389</td>\n      <td>33.4</td>\n    </tr>\n    <tr>\n      <th>4</th>\n      <td>0.000705</td>\n      <td>0.00</td>\n      <td>0.063050</td>\n      <td>0.0</td>\n      <td>0.150206</td>\n      <td>0.687105</td>\n      <td>0.528321</td>\n      <td>0.448545</td>\n      <td>0.086957</td>\n      <td>0.066794</td>\n      <td>0.648936</td>\n      <td>1.000000</td>\n      <td>0.099338</td>\n      <td>36.2</td>\n    </tr>\n    <tr>\n      <th>...</th>\n      <td>...</td>\n      <td>...</td>\n      <td>...</td>\n      <td>...</td>\n      <td>...</td>\n      <td>...</td>\n      <td>...</td>\n      <td>...</td>\n      <td>...</td>\n      <td>...</td>\n      <td>...</td>\n      <td>...</td>\n      <td>...</td>\n      <td>...</td>\n    </tr>\n    <tr>\n      <th>501</th>\n      <td>0.000633</td>\n      <td>0.00</td>\n      <td>0.420455</td>\n      <td>0.0</td>\n      <td>0.386831</td>\n      <td>0.580954</td>\n      <td>0.681771</td>\n      <td>0.122671</td>\n      <td>0.000000</td>\n      <td>0.164122</td>\n      <td>0.893617</td>\n      <td>0.987619</td>\n      <td>0.219095</td>\n      <td>22.4</td>\n    </tr>\n    <tr>\n      <th>502</th>\n      <td>0.000438</td>\n      <td>0.00</td>\n      <td>0.420455</td>\n      <td>0.0</td>\n      <td>0.386831</td>\n      <td>0.490324</td>\n      <td>0.760041</td>\n      <td>0.105293</td>\n      <td>0.000000</td>\n      <td>0.164122</td>\n      <td>0.893617</td>\n      <td>1.000000</td>\n      <td>0.202815</td>\n      <td>20.6</td>\n    </tr>\n    <tr>\n      <th>503</th>\n      <td>0.000612</td>\n      <td>0.00</td>\n      <td>0.420455</td>\n      <td>0.0</td>\n      <td>0.386831</td>\n      <td>0.654340</td>\n      <td>0.907312</td>\n      <td>0.094381</td>\n      <td>0.000000</td>\n      <td>0.164122</td>\n      <td>0.893617</td>\n      <td>1.000000</td>\n      <td>0.107892</td>\n      <td>23.9</td>\n    </tr>\n    <tr>\n      <th>504</th>\n      <td>0.001161</td>\n      <td>0.00</td>\n      <td>0.420455</td>\n      <td>0.0</td>\n      <td>0.386831</td>\n      <td>0.619467</td>\n      <td>0.889804</td>\n      <td>0.114514</td>\n      <td>0.000000</td>\n      <td>0.164122</td>\n      <td>0.893617</td>\n      <td>0.991301</td>\n      <td>0.131071</td>\n      <td>22.0</td>\n    </tr>\n    <tr>\n      <th>505</th>\n      <td>0.000462</td>\n      <td>0.00</td>\n      <td>0.420455</td>\n      <td>0.0</td>\n      <td>0.386831</td>\n      <td>0.473079</td>\n      <td>0.802266</td>\n      <td>0.125072</td>\n      <td>0.000000</td>\n      <td>0.164122</td>\n      <td>0.893617</td>\n      <td>1.000000</td>\n      <td>0.169702</td>\n      <td>11.9</td>\n    </tr>\n  </tbody>\n</table>\n<p>506 rows × 14 columns</p>\n</div>"
     },
     "metadata": {},
     "output_type": "execute_result",
     "execution_count": 89
    }
   ],
   "source": [
    "df['Price']=0\n",
    "df['Price']=boston.target\n",
    "df"
   ],
   "metadata": {
    "collapsed": false,
    "pycharm": {
     "name": "#%%\n",
     "is_executing": false
    }
   }
  },
  {
   "cell_type": "markdown",
   "source": [
    "## i"
   ],
   "metadata": {
    "collapsed": false
   }
  },
  {
   "cell_type": "code",
   "execution_count": 90,
   "outputs": [
    {
     "data": {
      "text/plain": "Empty DataFrame\nColumns: [CRIM, ZN, INDUS, CHAS, NOX, RM, AGE, DIS, RAD, TAX, PTRATIO, B, LSTAT, Price]\nIndex: []",
      "text/html": "<div>\n<style scoped>\n    .dataframe tbody tr th:only-of-type {\n        vertical-align: middle;\n    }\n\n    .dataframe tbody tr th {\n        vertical-align: top;\n    }\n\n    .dataframe thead th {\n        text-align: right;\n    }\n</style>\n<table border=\"1\" class=\"dataframe\">\n  <thead>\n    <tr style=\"text-align: right;\">\n      <th></th>\n      <th>CRIM</th>\n      <th>ZN</th>\n      <th>INDUS</th>\n      <th>CHAS</th>\n      <th>NOX</th>\n      <th>RM</th>\n      <th>AGE</th>\n      <th>DIS</th>\n      <th>RAD</th>\n      <th>TAX</th>\n      <th>PTRATIO</th>\n      <th>B</th>\n      <th>LSTAT</th>\n      <th>Price</th>\n    </tr>\n  </thead>\n  <tbody>\n  </tbody>\n</table>\n</div>"
     },
     "metadata": {},
     "output_type": "execute_result",
     "execution_count": 90
    }
   ],
   "source": [
    "df[df.isna().any(axis=1)]\n",
    "\n"
   ],
   "metadata": {
    "collapsed": false,
    "pycharm": {
     "name": "#%%\n",
     "is_executing": false
    }
   }
  },
  {
   "cell_type": "markdown",
   "source": [
    "## j"
   ],
   "metadata": {
    "collapsed": false
   }
  },
  {
   "cell_type": "code",
   "execution_count": 91,
   "outputs": [
    {
     "data": {
      "text/plain": "         CRIM    ZN     INDUS  CHAS       NOX        RM       AGE       DIS  \\\n0    0.000000  0.18  0.067815   0.0  0.314815  0.577505  0.641607  0.269203   \n1    0.000236  0.00  0.242302   0.0  0.172840  0.547998  0.782698  0.348962   \n2    0.000236  0.00  0.242302   0.0  0.172840  0.694386  0.599382  0.348962   \n3    0.000293  0.00  0.063050   0.0  0.150206  0.658555  0.441813  0.448545   \n4    0.000705  0.00  0.063050   0.0  0.150206  0.687105  0.528321  0.448545   \n..        ...   ...       ...   ...       ...       ...       ...       ...   \n501  0.000633  0.00  0.420455   0.0  0.386831  0.580954  0.681771  0.122671   \n502  0.000438  0.00  0.420455   0.0  0.386831  0.490324  0.760041  0.105293   \n503  0.000612  0.00  0.420455   0.0  0.386831  0.654340  0.907312  0.094381   \n504  0.001161  0.00  0.420455   0.0  0.386831  0.619467  0.889804  0.114514   \n505  0.000462  0.00  0.420455   0.0  0.386831  0.473079  0.802266  0.125072   \n\n          RAD       TAX   PTRATIO         B     LSTAT  \n0    0.000000  0.208015  0.287234  1.000000  0.089680  \n1    0.043478  0.104962  0.553191  1.000000  0.204470  \n2    0.043478  0.104962  0.553191  0.989737  0.063466  \n3    0.086957  0.066794  0.648936  0.994276  0.033389  \n4    0.086957  0.066794  0.648936  1.000000  0.099338  \n..        ...       ...       ...       ...       ...  \n501  0.000000  0.164122  0.893617  0.987619  0.219095  \n502  0.000000  0.164122  0.893617  1.000000  0.202815  \n503  0.000000  0.164122  0.893617  1.000000  0.107892  \n504  0.000000  0.164122  0.893617  0.991301  0.131071  \n505  0.000000  0.164122  0.893617  1.000000  0.169702  \n\n[506 rows x 13 columns]",
      "text/html": "<div>\n<style scoped>\n    .dataframe tbody tr th:only-of-type {\n        vertical-align: middle;\n    }\n\n    .dataframe tbody tr th {\n        vertical-align: top;\n    }\n\n    .dataframe thead th {\n        text-align: right;\n    }\n</style>\n<table border=\"1\" class=\"dataframe\">\n  <thead>\n    <tr style=\"text-align: right;\">\n      <th></th>\n      <th>CRIM</th>\n      <th>ZN</th>\n      <th>INDUS</th>\n      <th>CHAS</th>\n      <th>NOX</th>\n      <th>RM</th>\n      <th>AGE</th>\n      <th>DIS</th>\n      <th>RAD</th>\n      <th>TAX</th>\n      <th>PTRATIO</th>\n      <th>B</th>\n      <th>LSTAT</th>\n    </tr>\n  </thead>\n  <tbody>\n    <tr>\n      <th>0</th>\n      <td>0.000000</td>\n      <td>0.18</td>\n      <td>0.067815</td>\n      <td>0.0</td>\n      <td>0.314815</td>\n      <td>0.577505</td>\n      <td>0.641607</td>\n      <td>0.269203</td>\n      <td>0.000000</td>\n      <td>0.208015</td>\n      <td>0.287234</td>\n      <td>1.000000</td>\n      <td>0.089680</td>\n    </tr>\n    <tr>\n      <th>1</th>\n      <td>0.000236</td>\n      <td>0.00</td>\n      <td>0.242302</td>\n      <td>0.0</td>\n      <td>0.172840</td>\n      <td>0.547998</td>\n      <td>0.782698</td>\n      <td>0.348962</td>\n      <td>0.043478</td>\n      <td>0.104962</td>\n      <td>0.553191</td>\n      <td>1.000000</td>\n      <td>0.204470</td>\n    </tr>\n    <tr>\n      <th>2</th>\n      <td>0.000236</td>\n      <td>0.00</td>\n      <td>0.242302</td>\n      <td>0.0</td>\n      <td>0.172840</td>\n      <td>0.694386</td>\n      <td>0.599382</td>\n      <td>0.348962</td>\n      <td>0.043478</td>\n      <td>0.104962</td>\n      <td>0.553191</td>\n      <td>0.989737</td>\n      <td>0.063466</td>\n    </tr>\n    <tr>\n      <th>3</th>\n      <td>0.000293</td>\n      <td>0.00</td>\n      <td>0.063050</td>\n      <td>0.0</td>\n      <td>0.150206</td>\n      <td>0.658555</td>\n      <td>0.441813</td>\n      <td>0.448545</td>\n      <td>0.086957</td>\n      <td>0.066794</td>\n      <td>0.648936</td>\n      <td>0.994276</td>\n      <td>0.033389</td>\n    </tr>\n    <tr>\n      <th>4</th>\n      <td>0.000705</td>\n      <td>0.00</td>\n      <td>0.063050</td>\n      <td>0.0</td>\n      <td>0.150206</td>\n      <td>0.687105</td>\n      <td>0.528321</td>\n      <td>0.448545</td>\n      <td>0.086957</td>\n      <td>0.066794</td>\n      <td>0.648936</td>\n      <td>1.000000</td>\n      <td>0.099338</td>\n    </tr>\n    <tr>\n      <th>...</th>\n      <td>...</td>\n      <td>...</td>\n      <td>...</td>\n      <td>...</td>\n      <td>...</td>\n      <td>...</td>\n      <td>...</td>\n      <td>...</td>\n      <td>...</td>\n      <td>...</td>\n      <td>...</td>\n      <td>...</td>\n      <td>...</td>\n    </tr>\n    <tr>\n      <th>501</th>\n      <td>0.000633</td>\n      <td>0.00</td>\n      <td>0.420455</td>\n      <td>0.0</td>\n      <td>0.386831</td>\n      <td>0.580954</td>\n      <td>0.681771</td>\n      <td>0.122671</td>\n      <td>0.000000</td>\n      <td>0.164122</td>\n      <td>0.893617</td>\n      <td>0.987619</td>\n      <td>0.219095</td>\n    </tr>\n    <tr>\n      <th>502</th>\n      <td>0.000438</td>\n      <td>0.00</td>\n      <td>0.420455</td>\n      <td>0.0</td>\n      <td>0.386831</td>\n      <td>0.490324</td>\n      <td>0.760041</td>\n      <td>0.105293</td>\n      <td>0.000000</td>\n      <td>0.164122</td>\n      <td>0.893617</td>\n      <td>1.000000</td>\n      <td>0.202815</td>\n    </tr>\n    <tr>\n      <th>503</th>\n      <td>0.000612</td>\n      <td>0.00</td>\n      <td>0.420455</td>\n      <td>0.0</td>\n      <td>0.386831</td>\n      <td>0.654340</td>\n      <td>0.907312</td>\n      <td>0.094381</td>\n      <td>0.000000</td>\n      <td>0.164122</td>\n      <td>0.893617</td>\n      <td>1.000000</td>\n      <td>0.107892</td>\n    </tr>\n    <tr>\n      <th>504</th>\n      <td>0.001161</td>\n      <td>0.00</td>\n      <td>0.420455</td>\n      <td>0.0</td>\n      <td>0.386831</td>\n      <td>0.619467</td>\n      <td>0.889804</td>\n      <td>0.114514</td>\n      <td>0.000000</td>\n      <td>0.164122</td>\n      <td>0.893617</td>\n      <td>0.991301</td>\n      <td>0.131071</td>\n    </tr>\n    <tr>\n      <th>505</th>\n      <td>0.000462</td>\n      <td>0.00</td>\n      <td>0.420455</td>\n      <td>0.0</td>\n      <td>0.386831</td>\n      <td>0.473079</td>\n      <td>0.802266</td>\n      <td>0.125072</td>\n      <td>0.000000</td>\n      <td>0.164122</td>\n      <td>0.893617</td>\n      <td>1.000000</td>\n      <td>0.169702</td>\n    </tr>\n  </tbody>\n</table>\n<p>506 rows × 13 columns</p>\n</div>"
     },
     "metadata": {},
     "output_type": "execute_result",
     "execution_count": 91
    }
   ],
   "source": [
    "y=df['Price']\n",
    "x=df.drop(columns=\"Price\")\n",
    "x"
   ],
   "metadata": {
    "collapsed": false,
    "pycharm": {
     "name": "#%%\n",
     "is_executing": false
    }
   }
  },
  {
   "cell_type": "code",
   "execution_count": 92,
   "outputs": [
    {
     "data": {
      "text/plain": "         CRIM    ZN     INDUS  CHAS       NOX        RM       AGE       DIS  \\\n39   0.000240  0.75  0.091276   0.0  0.088477  0.581337  0.194645  0.388428   \n199  0.000283  0.95  0.037023   0.0  0.037037  0.654148  0.127703  0.593240   \n356  0.100895  0.00  0.646628   1.0  0.792181  0.507952  0.973223  0.090262   \n476  0.054682  0.00  0.646628   0.0  0.471193  0.560069  0.934089  0.106912   \n482  0.064346  0.00  0.646628   0.0  0.302469  0.670627  0.763131  0.207422   \n\n          RAD       TAX   PTRATIO         B     LSTAT  \n39   0.086957  0.124046  0.606383  0.996798  0.071468  \n199  0.086957  0.410305  0.468085  1.000000  0.078091  \n356  1.000000  0.914122  0.808511  0.951662  0.437914  \n476  1.000000  0.914122  0.808511  0.998260  0.467715  \n482  1.000000  0.914122  0.808511  0.995915  0.145695  ",
      "text/html": "<div>\n<style scoped>\n    .dataframe tbody tr th:only-of-type {\n        vertical-align: middle;\n    }\n\n    .dataframe tbody tr th {\n        vertical-align: top;\n    }\n\n    .dataframe thead th {\n        text-align: right;\n    }\n</style>\n<table border=\"1\" class=\"dataframe\">\n  <thead>\n    <tr style=\"text-align: right;\">\n      <th></th>\n      <th>CRIM</th>\n      <th>ZN</th>\n      <th>INDUS</th>\n      <th>CHAS</th>\n      <th>NOX</th>\n      <th>RM</th>\n      <th>AGE</th>\n      <th>DIS</th>\n      <th>RAD</th>\n      <th>TAX</th>\n      <th>PTRATIO</th>\n      <th>B</th>\n      <th>LSTAT</th>\n    </tr>\n  </thead>\n  <tbody>\n    <tr>\n      <th>39</th>\n      <td>0.000240</td>\n      <td>0.75</td>\n      <td>0.091276</td>\n      <td>0.0</td>\n      <td>0.088477</td>\n      <td>0.581337</td>\n      <td>0.194645</td>\n      <td>0.388428</td>\n      <td>0.086957</td>\n      <td>0.124046</td>\n      <td>0.606383</td>\n      <td>0.996798</td>\n      <td>0.071468</td>\n    </tr>\n    <tr>\n      <th>199</th>\n      <td>0.000283</td>\n      <td>0.95</td>\n      <td>0.037023</td>\n      <td>0.0</td>\n      <td>0.037037</td>\n      <td>0.654148</td>\n      <td>0.127703</td>\n      <td>0.593240</td>\n      <td>0.086957</td>\n      <td>0.410305</td>\n      <td>0.468085</td>\n      <td>1.000000</td>\n      <td>0.078091</td>\n    </tr>\n    <tr>\n      <th>356</th>\n      <td>0.100895</td>\n      <td>0.00</td>\n      <td>0.646628</td>\n      <td>1.0</td>\n      <td>0.792181</td>\n      <td>0.507952</td>\n      <td>0.973223</td>\n      <td>0.090262</td>\n      <td>1.000000</td>\n      <td>0.914122</td>\n      <td>0.808511</td>\n      <td>0.951662</td>\n      <td>0.437914</td>\n    </tr>\n    <tr>\n      <th>476</th>\n      <td>0.054682</td>\n      <td>0.00</td>\n      <td>0.646628</td>\n      <td>0.0</td>\n      <td>0.471193</td>\n      <td>0.560069</td>\n      <td>0.934089</td>\n      <td>0.106912</td>\n      <td>1.000000</td>\n      <td>0.914122</td>\n      <td>0.808511</td>\n      <td>0.998260</td>\n      <td>0.467715</td>\n    </tr>\n    <tr>\n      <th>482</th>\n      <td>0.064346</td>\n      <td>0.00</td>\n      <td>0.646628</td>\n      <td>0.0</td>\n      <td>0.302469</td>\n      <td>0.670627</td>\n      <td>0.763131</td>\n      <td>0.207422</td>\n      <td>1.000000</td>\n      <td>0.914122</td>\n      <td>0.808511</td>\n      <td>0.995915</td>\n      <td>0.145695</td>\n    </tr>\n  </tbody>\n</table>\n</div>"
     },
     "metadata": {},
     "output_type": "execute_result",
     "execution_count": 92
    }
   ],
   "source": [
    "x_train, x_test, y_train, y_test = train_test_split(x,y,test_size=0.2)\n",
    "x_train.head()"
   ],
   "metadata": {
    "collapsed": false,
    "pycharm": {
     "name": "#%%\n",
     "is_executing": false
    }
   }
  },
  {
   "cell_type": "markdown",
   "source": [
    "# d"
   ],
   "metadata": {
    "collapsed": false,
    "pycharm": {
     "name": "#%% md\n"
    }
   }
  },
  {
   "cell_type": "code",
   "execution_count": 93,
   "outputs": [
    {
     "name": "stdout",
     "text": [
      "acc for training data: 0.653\n",
      "acc for test data: 0.533\n"
     ],
     "output_type": "stream"
    }
   ],
   "source": [
    "from sklearn.linear_model import PoissonRegressor\n",
    "\n",
    "clf = PoissonRegressor().fit(x_train,y_train)\n",
    "\n",
    "y_predicted=clf.predict(x_test)\n",
    "print('acc for training data: {:.3f}'.format(clf.score(x_train, y_train)))\n",
    "print('acc for test data: {:.3f}'.format(clf.score(x_test, y_test)))"
   ],
   "metadata": {
    "collapsed": false,
    "pycharm": {
     "name": "#%%\n",
     "is_executing": false
    }
   }
  },
  {
   "cell_type": "code",
   "execution_count": 94,
   "outputs": [
    {
     "data": {
      "text/plain": "array([23.3479361 , 16.95005906, 28.02598055, 16.92758548, 21.30911547,\n       12.98853593, 25.93469094, 27.09264836, 20.56117096, 23.7305383 ,\n       28.72919363, 24.92520148, 25.34939848, 27.76273707, 18.24950597,\n       18.04651038, 23.25226854, 16.99520146, 13.30131821, 29.7085988 ,\n       14.62912808, 16.87104928, 15.95550903, 25.74276021, 17.19708188,\n       20.33991287, 35.95673175, 18.28921699, 24.33167022, 26.79185092,\n       14.90065348, 24.48813693, 18.44958379, 30.77090288, 31.53513263,\n       24.10911745, 18.08135655, 22.17981411, 31.94059751, 19.06997063,\n       23.76683576, 20.82740467, 13.590142  , 25.34868155, 15.71234862,\n       16.7750006 , 12.87145446, 24.35747994, 22.24776712, 22.10575419,\n       20.12056284, 14.25233285, 16.8325823 , 23.69398041, 17.54457911,\n       24.39549493, 29.15502669, 31.22527954, 26.48562385, 23.93793265,\n       21.05421383, 15.95358973, 23.03429033, 16.52448732, 29.77250542,\n       23.28977487, 27.95008001, 15.19378798, 23.22098279, 27.34633386,\n       25.6230984 , 20.48045895, 29.85038011, 21.74242057, 19.796467  ,\n       28.90540715, 30.7975825 , 17.50792341, 16.70534147, 21.25484757,\n       18.39852106, 19.12713661, 31.22718694, 25.34611786, 25.63175246,\n       25.19855001, 36.49475582, 19.01555502, 21.4299451 , 21.82683783,\n       26.50579742, 21.63668693, 25.92670405, 17.2827994 , 22.44064148,\n       20.77465924, 16.21441079, 26.36973606, 14.76097782, 22.7245804 ,\n       25.25939108, 19.770619  ])"
     },
     "metadata": {},
     "output_type": "execute_result",
     "execution_count": 94
    }
   ],
   "source": [
    "y_predicted\n"
   ],
   "metadata": {
    "collapsed": false,
    "pycharm": {
     "name": "#%%\n",
     "is_executing": false
    }
   }
  }
 ],
 "metadata": {
  "kernelspec": {
   "display_name": "Python 3",
   "language": "python",
   "name": "python3"
  },
  "language_info": {
   "codemirror_mode": {
    "name": "ipython",
    "version": 2
   },
   "file_extension": ".py",
   "mimetype": "text/x-python",
   "name": "python",
   "nbconvert_exporter": "python",
   "pygments_lexer": "ipython2",
   "version": "2.7.6"
  },
  "pycharm": {
   "stem_cell": {
    "cell_type": "raw",
    "source": [],
    "metadata": {
     "collapsed": false
    }
   }
  }
 },
 "nbformat": 4,
 "nbformat_minor": 0
}
