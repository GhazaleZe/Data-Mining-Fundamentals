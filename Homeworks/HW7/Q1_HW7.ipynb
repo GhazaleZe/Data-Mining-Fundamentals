{
 "cells": [
  {
   "cell_type": "markdown",
   "source": [
    "# Ghazaleh Zehtab\n",
    "# HW7, Question1"
   ],
   "metadata": {
    "collapsed": false
   }
  },
  {
   "cell_type": "code",
   "execution_count": 96,
   "outputs": [],
   "source": [
    "import jenkspy\n",
    "import numpy as np\n",
    "import pandas as pd\n",
    "import statsmodels.api as sm\n",
    "import math\n",
    "from sklearn import tree, metrics, preprocessing\n",
    "from sklearn.datasets import load_breast_cancer\n",
    "from sklearn.metrics import accuracy_score, silhouette_score, silhouette_samples, mean_squared_error\n",
    "from sklearn.model_selection import train_test_split, cross_val_score\n",
    "from sklearn.linear_model import LinearRegression, LogisticRegression\n",
    "from sklearn.metrics import mean_absolute_error"
   ],
   "metadata": {
    "collapsed": false,
    "pycharm": {
     "name": "#%%\n",
     "is_executing": false
    }
   }
  },
  {
   "cell_type": "markdown",
   "source": [
    "#a"
   ],
   "metadata": {
    "collapsed": false
   }
  },
  {
   "cell_type": "code",
   "execution_count": 97,
   "outputs": [],
   "source": [
    "cancer = load_breast_cancer()"
   ],
   "metadata": {
    "collapsed": false,
    "pycharm": {
     "name": "#%%\n",
     "is_executing": false
    }
   }
  },
  {
   "cell_type": "code",
   "execution_count": 98,
   "outputs": [
    {
     "name": "stdout",
     "text": [
      "['mean radius' 'mean texture' 'mean perimeter' 'mean area'\n",
      " 'mean smoothness' 'mean compactness' 'mean concavity'\n",
      " 'mean concave points' 'mean symmetry' 'mean fractal dimension'\n",
      " 'radius error' 'texture error' 'perimeter error' 'area error'\n",
      " 'smoothness error' 'compactness error' 'concavity error'\n",
      " 'concave points error' 'symmetry error' 'fractal dimension error'\n",
      " 'worst radius' 'worst texture' 'worst perimeter' 'worst area'\n",
      " 'worst smoothness' 'worst compactness' 'worst concavity'\n",
      " 'worst concave points' 'worst symmetry' 'worst fractal dimension']\n"
     ],
     "output_type": "stream"
    }
   ],
   "source": [
    "print(cancer.feature_names)"
   ],
   "metadata": {
    "collapsed": false,
    "pycharm": {
     "name": "#%%\n",
     "is_executing": false
    }
   }
  },
  {
   "cell_type": "code",
   "execution_count": 99,
   "outputs": [
    {
     "name": "stdout",
     "text": [
      "['malignant' 'benign']\n"
     ],
     "output_type": "stream"
    }
   ],
   "source": [
    "print(cancer.target_names)"
   ],
   "metadata": {
    "collapsed": false,
    "pycharm": {
     "name": "#%%\n",
     "is_executing": false
    }
   }
  },
  {
   "cell_type": "code",
   "execution_count": 100,
   "outputs": [
    {
     "data": {
      "text/plain": "    mean radius mean texture mean perimeter mean area mean smoothness  \\\n0         17.99        10.38         122.80    1001.0         0.11840   \n1         20.57        17.77         132.90    1326.0         0.08474   \n2         19.69        21.25         130.00    1203.0         0.10960   \n3         11.42        20.38          77.58     386.1         0.14250   \n4         20.29        14.34         135.10    1297.0         0.10030   \n..          ...          ...            ...       ...             ...   \n564       21.56        22.39         142.00    1479.0         0.11100   \n565       20.13        28.25         131.20    1261.0         0.09780   \n566       16.60        28.08         108.30     858.1         0.08455   \n567       20.60        29.33         140.10    1265.0         0.11780   \n568        7.76        24.54          47.92     181.0         0.05263   \n\n    mean compactness mean concavity mean concave points mean symmetry  \\\n0            0.27760        0.30010             0.14710        0.2419   \n1            0.07864        0.08690             0.07017        0.1812   \n2            0.15990        0.19740             0.12790        0.2069   \n3            0.28390        0.24140             0.10520        0.2597   \n4            0.13280        0.19800             0.10430        0.1809   \n..               ...            ...                 ...           ...   \n564          0.11590        0.24390             0.13890        0.1726   \n565          0.10340        0.14400             0.09791        0.1752   \n566          0.10230        0.09251             0.05302        0.1590   \n567          0.27700        0.35140             0.15200        0.2397   \n568          0.04362        0.00000             0.00000        0.1587   \n\n    mean fractal dimension  ... worst radius worst texture worst perimeter  \\\n0                  0.07871  ...       25.380         17.33          184.60   \n1                  0.05667  ...       24.990         23.41          158.80   \n2                  0.05999  ...       23.570         25.53          152.50   \n3                  0.09744  ...       14.910         26.50           98.87   \n4                  0.05883  ...       22.540         16.67          152.20   \n..                     ...  ...          ...           ...             ...   \n564                0.05623  ...       25.450         26.40          166.10   \n565                0.05533  ...       23.690         38.25          155.00   \n566                0.05648  ...       18.980         34.12          126.70   \n567                0.07016  ...       25.740         39.42          184.60   \n568                0.05884  ...        9.456         30.37           59.16   \n\n    worst area worst smoothness worst compactness worst concavity  \\\n0       2019.0          0.16220           0.66560          0.7119   \n1       1956.0          0.12380           0.18660          0.2416   \n2       1709.0          0.14440           0.42450          0.4504   \n3        567.7          0.20980           0.86630          0.6869   \n4       1575.0          0.13740           0.20500          0.4000   \n..         ...              ...               ...             ...   \n564     2027.0          0.14100           0.21130          0.4107   \n565     1731.0          0.11660           0.19220          0.3215   \n566     1124.0          0.11390           0.30940          0.3403   \n567     1821.0          0.16500           0.86810          0.9387   \n568      268.6          0.08996           0.06444          0.0000   \n\n    worst concave points worst symmetry worst fractal dimension  \n0                 0.2654         0.4601                 0.11890  \n1                 0.1860         0.2750                 0.08902  \n2                 0.2430         0.3613                 0.08758  \n3                 0.2575         0.6638                 0.17300  \n4                 0.1625         0.2364                 0.07678  \n..                   ...            ...                     ...  \n564               0.2216         0.2060                 0.07115  \n565               0.1628         0.2572                 0.06637  \n566               0.1418         0.2218                 0.07820  \n567               0.2650         0.4087                 0.12400  \n568               0.0000         0.2871                 0.07039  \n\n[569 rows x 30 columns]",
      "text/html": "<div>\n<style scoped>\n    .dataframe tbody tr th:only-of-type {\n        vertical-align: middle;\n    }\n\n    .dataframe tbody tr th {\n        vertical-align: top;\n    }\n\n    .dataframe thead tr th {\n        text-align: left;\n    }\n</style>\n<table border=\"1\" class=\"dataframe\">\n  <thead>\n    <tr>\n      <th></th>\n      <th>mean radius</th>\n      <th>mean texture</th>\n      <th>mean perimeter</th>\n      <th>mean area</th>\n      <th>mean smoothness</th>\n      <th>mean compactness</th>\n      <th>mean concavity</th>\n      <th>mean concave points</th>\n      <th>mean symmetry</th>\n      <th>mean fractal dimension</th>\n      <th>...</th>\n      <th>worst radius</th>\n      <th>worst texture</th>\n      <th>worst perimeter</th>\n      <th>worst area</th>\n      <th>worst smoothness</th>\n      <th>worst compactness</th>\n      <th>worst concavity</th>\n      <th>worst concave points</th>\n      <th>worst symmetry</th>\n      <th>worst fractal dimension</th>\n    </tr>\n  </thead>\n  <tbody>\n    <tr>\n      <th>0</th>\n      <td>17.99</td>\n      <td>10.38</td>\n      <td>122.80</td>\n      <td>1001.0</td>\n      <td>0.11840</td>\n      <td>0.27760</td>\n      <td>0.30010</td>\n      <td>0.14710</td>\n      <td>0.2419</td>\n      <td>0.07871</td>\n      <td>...</td>\n      <td>25.380</td>\n      <td>17.33</td>\n      <td>184.60</td>\n      <td>2019.0</td>\n      <td>0.16220</td>\n      <td>0.66560</td>\n      <td>0.7119</td>\n      <td>0.2654</td>\n      <td>0.4601</td>\n      <td>0.11890</td>\n    </tr>\n    <tr>\n      <th>1</th>\n      <td>20.57</td>\n      <td>17.77</td>\n      <td>132.90</td>\n      <td>1326.0</td>\n      <td>0.08474</td>\n      <td>0.07864</td>\n      <td>0.08690</td>\n      <td>0.07017</td>\n      <td>0.1812</td>\n      <td>0.05667</td>\n      <td>...</td>\n      <td>24.990</td>\n      <td>23.41</td>\n      <td>158.80</td>\n      <td>1956.0</td>\n      <td>0.12380</td>\n      <td>0.18660</td>\n      <td>0.2416</td>\n      <td>0.1860</td>\n      <td>0.2750</td>\n      <td>0.08902</td>\n    </tr>\n    <tr>\n      <th>2</th>\n      <td>19.69</td>\n      <td>21.25</td>\n      <td>130.00</td>\n      <td>1203.0</td>\n      <td>0.10960</td>\n      <td>0.15990</td>\n      <td>0.19740</td>\n      <td>0.12790</td>\n      <td>0.2069</td>\n      <td>0.05999</td>\n      <td>...</td>\n      <td>23.570</td>\n      <td>25.53</td>\n      <td>152.50</td>\n      <td>1709.0</td>\n      <td>0.14440</td>\n      <td>0.42450</td>\n      <td>0.4504</td>\n      <td>0.2430</td>\n      <td>0.3613</td>\n      <td>0.08758</td>\n    </tr>\n    <tr>\n      <th>3</th>\n      <td>11.42</td>\n      <td>20.38</td>\n      <td>77.58</td>\n      <td>386.1</td>\n      <td>0.14250</td>\n      <td>0.28390</td>\n      <td>0.24140</td>\n      <td>0.10520</td>\n      <td>0.2597</td>\n      <td>0.09744</td>\n      <td>...</td>\n      <td>14.910</td>\n      <td>26.50</td>\n      <td>98.87</td>\n      <td>567.7</td>\n      <td>0.20980</td>\n      <td>0.86630</td>\n      <td>0.6869</td>\n      <td>0.2575</td>\n      <td>0.6638</td>\n      <td>0.17300</td>\n    </tr>\n    <tr>\n      <th>4</th>\n      <td>20.29</td>\n      <td>14.34</td>\n      <td>135.10</td>\n      <td>1297.0</td>\n      <td>0.10030</td>\n      <td>0.13280</td>\n      <td>0.19800</td>\n      <td>0.10430</td>\n      <td>0.1809</td>\n      <td>0.05883</td>\n      <td>...</td>\n      <td>22.540</td>\n      <td>16.67</td>\n      <td>152.20</td>\n      <td>1575.0</td>\n      <td>0.13740</td>\n      <td>0.20500</td>\n      <td>0.4000</td>\n      <td>0.1625</td>\n      <td>0.2364</td>\n      <td>0.07678</td>\n    </tr>\n    <tr>\n      <th>...</th>\n      <td>...</td>\n      <td>...</td>\n      <td>...</td>\n      <td>...</td>\n      <td>...</td>\n      <td>...</td>\n      <td>...</td>\n      <td>...</td>\n      <td>...</td>\n      <td>...</td>\n      <td>...</td>\n      <td>...</td>\n      <td>...</td>\n      <td>...</td>\n      <td>...</td>\n      <td>...</td>\n      <td>...</td>\n      <td>...</td>\n      <td>...</td>\n      <td>...</td>\n      <td>...</td>\n    </tr>\n    <tr>\n      <th>564</th>\n      <td>21.56</td>\n      <td>22.39</td>\n      <td>142.00</td>\n      <td>1479.0</td>\n      <td>0.11100</td>\n      <td>0.11590</td>\n      <td>0.24390</td>\n      <td>0.13890</td>\n      <td>0.1726</td>\n      <td>0.05623</td>\n      <td>...</td>\n      <td>25.450</td>\n      <td>26.40</td>\n      <td>166.10</td>\n      <td>2027.0</td>\n      <td>0.14100</td>\n      <td>0.21130</td>\n      <td>0.4107</td>\n      <td>0.2216</td>\n      <td>0.2060</td>\n      <td>0.07115</td>\n    </tr>\n    <tr>\n      <th>565</th>\n      <td>20.13</td>\n      <td>28.25</td>\n      <td>131.20</td>\n      <td>1261.0</td>\n      <td>0.09780</td>\n      <td>0.10340</td>\n      <td>0.14400</td>\n      <td>0.09791</td>\n      <td>0.1752</td>\n      <td>0.05533</td>\n      <td>...</td>\n      <td>23.690</td>\n      <td>38.25</td>\n      <td>155.00</td>\n      <td>1731.0</td>\n      <td>0.11660</td>\n      <td>0.19220</td>\n      <td>0.3215</td>\n      <td>0.1628</td>\n      <td>0.2572</td>\n      <td>0.06637</td>\n    </tr>\n    <tr>\n      <th>566</th>\n      <td>16.60</td>\n      <td>28.08</td>\n      <td>108.30</td>\n      <td>858.1</td>\n      <td>0.08455</td>\n      <td>0.10230</td>\n      <td>0.09251</td>\n      <td>0.05302</td>\n      <td>0.1590</td>\n      <td>0.05648</td>\n      <td>...</td>\n      <td>18.980</td>\n      <td>34.12</td>\n      <td>126.70</td>\n      <td>1124.0</td>\n      <td>0.11390</td>\n      <td>0.30940</td>\n      <td>0.3403</td>\n      <td>0.1418</td>\n      <td>0.2218</td>\n      <td>0.07820</td>\n    </tr>\n    <tr>\n      <th>567</th>\n      <td>20.60</td>\n      <td>29.33</td>\n      <td>140.10</td>\n      <td>1265.0</td>\n      <td>0.11780</td>\n      <td>0.27700</td>\n      <td>0.35140</td>\n      <td>0.15200</td>\n      <td>0.2397</td>\n      <td>0.07016</td>\n      <td>...</td>\n      <td>25.740</td>\n      <td>39.42</td>\n      <td>184.60</td>\n      <td>1821.0</td>\n      <td>0.16500</td>\n      <td>0.86810</td>\n      <td>0.9387</td>\n      <td>0.2650</td>\n      <td>0.4087</td>\n      <td>0.12400</td>\n    </tr>\n    <tr>\n      <th>568</th>\n      <td>7.76</td>\n      <td>24.54</td>\n      <td>47.92</td>\n      <td>181.0</td>\n      <td>0.05263</td>\n      <td>0.04362</td>\n      <td>0.00000</td>\n      <td>0.00000</td>\n      <td>0.1587</td>\n      <td>0.05884</td>\n      <td>...</td>\n      <td>9.456</td>\n      <td>30.37</td>\n      <td>59.16</td>\n      <td>268.6</td>\n      <td>0.08996</td>\n      <td>0.06444</td>\n      <td>0.0000</td>\n      <td>0.0000</td>\n      <td>0.2871</td>\n      <td>0.07039</td>\n    </tr>\n  </tbody>\n</table>\n<p>569 rows × 30 columns</p>\n</div>"
     },
     "metadata": {},
     "output_type": "execute_result",
     "execution_count": 100
    }
   ],
   "source": [
    "df = pd.DataFrame(cancer.data, columns=[cancer.feature_names])\n",
    "df"
   ],
   "metadata": {
    "collapsed": false,
    "pycharm": {
     "name": "#%%\n",
     "is_executing": false
    }
   }
  },
  {
   "cell_type": "markdown",
   "source": [
    "# b"
   ],
   "metadata": {
    "collapsed": false,
    "pycharm": {
     "name": "#%% md\n"
    }
   }
  },
  {
   "cell_type": "code",
   "execution_count": 101,
   "outputs": [
    {
     "data": {
      "text/plain": "    mean radius mean texture mean perimeter mean area mean smoothness  \\\n0         17.99        10.38         122.80    1001.0         0.11840   \n1         20.57        17.77         132.90    1326.0         0.08474   \n2         19.69        21.25         130.00    1203.0         0.10960   \n3         11.42        20.38          77.58     386.1         0.14250   \n4         20.29        14.34         135.10    1297.0         0.10030   \n..          ...          ...            ...       ...             ...   \n564       21.56        22.39         142.00    1479.0         0.11100   \n565       20.13        28.25         131.20    1261.0         0.09780   \n566       16.60        28.08         108.30     858.1         0.08455   \n567       20.60        29.33         140.10    1265.0         0.11780   \n568        7.76        24.54          47.92     181.0         0.05263   \n\n    mean compactness mean concavity mean concave points mean symmetry  \\\n0            0.27760        0.30010             0.14710        0.2419   \n1            0.07864        0.08690             0.07017        0.1812   \n2            0.15990        0.19740             0.12790        0.2069   \n3            0.28390        0.24140             0.10520        0.2597   \n4            0.13280        0.19800             0.10430        0.1809   \n..               ...            ...                 ...           ...   \n564          0.11590        0.24390             0.13890        0.1726   \n565          0.10340        0.14400             0.09791        0.1752   \n566          0.10230        0.09251             0.05302        0.1590   \n567          0.27700        0.35140             0.15200        0.2397   \n568          0.04362        0.00000             0.00000        0.1587   \n\n    mean fractal dimension  ... worst texture worst perimeter worst area  \\\n0                  0.07871  ...         17.33          184.60     2019.0   \n1                  0.05667  ...         23.41          158.80     1956.0   \n2                  0.05999  ...         25.53          152.50     1709.0   \n3                  0.09744  ...         26.50           98.87      567.7   \n4                  0.05883  ...         16.67          152.20     1575.0   \n..                     ...  ...           ...             ...        ...   \n564                0.05623  ...         26.40          166.10     2027.0   \n565                0.05533  ...         38.25          155.00     1731.0   \n566                0.05648  ...         34.12          126.70     1124.0   \n567                0.07016  ...         39.42          184.60     1821.0   \n568                0.05884  ...         30.37           59.16      268.6   \n\n    worst smoothness worst compactness worst concavity worst concave points  \\\n0            0.16220           0.66560          0.7119               0.2654   \n1            0.12380           0.18660          0.2416               0.1860   \n2            0.14440           0.42450          0.4504               0.2430   \n3            0.20980           0.86630          0.6869               0.2575   \n4            0.13740           0.20500          0.4000               0.1625   \n..               ...               ...             ...                  ...   \n564          0.14100           0.21130          0.4107               0.2216   \n565          0.11660           0.19220          0.3215               0.1628   \n566          0.11390           0.30940          0.3403               0.1418   \n567          0.16500           0.86810          0.9387               0.2650   \n568          0.08996           0.06444          0.0000               0.0000   \n\n    worst symmetry worst fractal dimension Cancer  \n0           0.4601                 0.11890      0  \n1           0.2750                 0.08902      0  \n2           0.3613                 0.08758      0  \n3           0.6638                 0.17300      0  \n4           0.2364                 0.07678      0  \n..             ...                     ...    ...  \n564         0.2060                 0.07115      0  \n565         0.2572                 0.06637      0  \n566         0.2218                 0.07820      0  \n567         0.4087                 0.12400      0  \n568         0.2871                 0.07039      1  \n\n[569 rows x 31 columns]",
      "text/html": "<div>\n<style scoped>\n    .dataframe tbody tr th:only-of-type {\n        vertical-align: middle;\n    }\n\n    .dataframe tbody tr th {\n        vertical-align: top;\n    }\n\n    .dataframe thead tr th {\n        text-align: left;\n    }\n</style>\n<table border=\"1\" class=\"dataframe\">\n  <thead>\n    <tr>\n      <th></th>\n      <th>mean radius</th>\n      <th>mean texture</th>\n      <th>mean perimeter</th>\n      <th>mean area</th>\n      <th>mean smoothness</th>\n      <th>mean compactness</th>\n      <th>mean concavity</th>\n      <th>mean concave points</th>\n      <th>mean symmetry</th>\n      <th>mean fractal dimension</th>\n      <th>...</th>\n      <th>worst texture</th>\n      <th>worst perimeter</th>\n      <th>worst area</th>\n      <th>worst smoothness</th>\n      <th>worst compactness</th>\n      <th>worst concavity</th>\n      <th>worst concave points</th>\n      <th>worst symmetry</th>\n      <th>worst fractal dimension</th>\n      <th>Cancer</th>\n    </tr>\n  </thead>\n  <tbody>\n    <tr>\n      <th>0</th>\n      <td>17.99</td>\n      <td>10.38</td>\n      <td>122.80</td>\n      <td>1001.0</td>\n      <td>0.11840</td>\n      <td>0.27760</td>\n      <td>0.30010</td>\n      <td>0.14710</td>\n      <td>0.2419</td>\n      <td>0.07871</td>\n      <td>...</td>\n      <td>17.33</td>\n      <td>184.60</td>\n      <td>2019.0</td>\n      <td>0.16220</td>\n      <td>0.66560</td>\n      <td>0.7119</td>\n      <td>0.2654</td>\n      <td>0.4601</td>\n      <td>0.11890</td>\n      <td>0</td>\n    </tr>\n    <tr>\n      <th>1</th>\n      <td>20.57</td>\n      <td>17.77</td>\n      <td>132.90</td>\n      <td>1326.0</td>\n      <td>0.08474</td>\n      <td>0.07864</td>\n      <td>0.08690</td>\n      <td>0.07017</td>\n      <td>0.1812</td>\n      <td>0.05667</td>\n      <td>...</td>\n      <td>23.41</td>\n      <td>158.80</td>\n      <td>1956.0</td>\n      <td>0.12380</td>\n      <td>0.18660</td>\n      <td>0.2416</td>\n      <td>0.1860</td>\n      <td>0.2750</td>\n      <td>0.08902</td>\n      <td>0</td>\n    </tr>\n    <tr>\n      <th>2</th>\n      <td>19.69</td>\n      <td>21.25</td>\n      <td>130.00</td>\n      <td>1203.0</td>\n      <td>0.10960</td>\n      <td>0.15990</td>\n      <td>0.19740</td>\n      <td>0.12790</td>\n      <td>0.2069</td>\n      <td>0.05999</td>\n      <td>...</td>\n      <td>25.53</td>\n      <td>152.50</td>\n      <td>1709.0</td>\n      <td>0.14440</td>\n      <td>0.42450</td>\n      <td>0.4504</td>\n      <td>0.2430</td>\n      <td>0.3613</td>\n      <td>0.08758</td>\n      <td>0</td>\n    </tr>\n    <tr>\n      <th>3</th>\n      <td>11.42</td>\n      <td>20.38</td>\n      <td>77.58</td>\n      <td>386.1</td>\n      <td>0.14250</td>\n      <td>0.28390</td>\n      <td>0.24140</td>\n      <td>0.10520</td>\n      <td>0.2597</td>\n      <td>0.09744</td>\n      <td>...</td>\n      <td>26.50</td>\n      <td>98.87</td>\n      <td>567.7</td>\n      <td>0.20980</td>\n      <td>0.86630</td>\n      <td>0.6869</td>\n      <td>0.2575</td>\n      <td>0.6638</td>\n      <td>0.17300</td>\n      <td>0</td>\n    </tr>\n    <tr>\n      <th>4</th>\n      <td>20.29</td>\n      <td>14.34</td>\n      <td>135.10</td>\n      <td>1297.0</td>\n      <td>0.10030</td>\n      <td>0.13280</td>\n      <td>0.19800</td>\n      <td>0.10430</td>\n      <td>0.1809</td>\n      <td>0.05883</td>\n      <td>...</td>\n      <td>16.67</td>\n      <td>152.20</td>\n      <td>1575.0</td>\n      <td>0.13740</td>\n      <td>0.20500</td>\n      <td>0.4000</td>\n      <td>0.1625</td>\n      <td>0.2364</td>\n      <td>0.07678</td>\n      <td>0</td>\n    </tr>\n    <tr>\n      <th>...</th>\n      <td>...</td>\n      <td>...</td>\n      <td>...</td>\n      <td>...</td>\n      <td>...</td>\n      <td>...</td>\n      <td>...</td>\n      <td>...</td>\n      <td>...</td>\n      <td>...</td>\n      <td>...</td>\n      <td>...</td>\n      <td>...</td>\n      <td>...</td>\n      <td>...</td>\n      <td>...</td>\n      <td>...</td>\n      <td>...</td>\n      <td>...</td>\n      <td>...</td>\n      <td>...</td>\n    </tr>\n    <tr>\n      <th>564</th>\n      <td>21.56</td>\n      <td>22.39</td>\n      <td>142.00</td>\n      <td>1479.0</td>\n      <td>0.11100</td>\n      <td>0.11590</td>\n      <td>0.24390</td>\n      <td>0.13890</td>\n      <td>0.1726</td>\n      <td>0.05623</td>\n      <td>...</td>\n      <td>26.40</td>\n      <td>166.10</td>\n      <td>2027.0</td>\n      <td>0.14100</td>\n      <td>0.21130</td>\n      <td>0.4107</td>\n      <td>0.2216</td>\n      <td>0.2060</td>\n      <td>0.07115</td>\n      <td>0</td>\n    </tr>\n    <tr>\n      <th>565</th>\n      <td>20.13</td>\n      <td>28.25</td>\n      <td>131.20</td>\n      <td>1261.0</td>\n      <td>0.09780</td>\n      <td>0.10340</td>\n      <td>0.14400</td>\n      <td>0.09791</td>\n      <td>0.1752</td>\n      <td>0.05533</td>\n      <td>...</td>\n      <td>38.25</td>\n      <td>155.00</td>\n      <td>1731.0</td>\n      <td>0.11660</td>\n      <td>0.19220</td>\n      <td>0.3215</td>\n      <td>0.1628</td>\n      <td>0.2572</td>\n      <td>0.06637</td>\n      <td>0</td>\n    </tr>\n    <tr>\n      <th>566</th>\n      <td>16.60</td>\n      <td>28.08</td>\n      <td>108.30</td>\n      <td>858.1</td>\n      <td>0.08455</td>\n      <td>0.10230</td>\n      <td>0.09251</td>\n      <td>0.05302</td>\n      <td>0.1590</td>\n      <td>0.05648</td>\n      <td>...</td>\n      <td>34.12</td>\n      <td>126.70</td>\n      <td>1124.0</td>\n      <td>0.11390</td>\n      <td>0.30940</td>\n      <td>0.3403</td>\n      <td>0.1418</td>\n      <td>0.2218</td>\n      <td>0.07820</td>\n      <td>0</td>\n    </tr>\n    <tr>\n      <th>567</th>\n      <td>20.60</td>\n      <td>29.33</td>\n      <td>140.10</td>\n      <td>1265.0</td>\n      <td>0.11780</td>\n      <td>0.27700</td>\n      <td>0.35140</td>\n      <td>0.15200</td>\n      <td>0.2397</td>\n      <td>0.07016</td>\n      <td>...</td>\n      <td>39.42</td>\n      <td>184.60</td>\n      <td>1821.0</td>\n      <td>0.16500</td>\n      <td>0.86810</td>\n      <td>0.9387</td>\n      <td>0.2650</td>\n      <td>0.4087</td>\n      <td>0.12400</td>\n      <td>0</td>\n    </tr>\n    <tr>\n      <th>568</th>\n      <td>7.76</td>\n      <td>24.54</td>\n      <td>47.92</td>\n      <td>181.0</td>\n      <td>0.05263</td>\n      <td>0.04362</td>\n      <td>0.00000</td>\n      <td>0.00000</td>\n      <td>0.1587</td>\n      <td>0.05884</td>\n      <td>...</td>\n      <td>30.37</td>\n      <td>59.16</td>\n      <td>268.6</td>\n      <td>0.08996</td>\n      <td>0.06444</td>\n      <td>0.0000</td>\n      <td>0.0000</td>\n      <td>0.2871</td>\n      <td>0.07039</td>\n      <td>1</td>\n    </tr>\n  </tbody>\n</table>\n<p>569 rows × 31 columns</p>\n</div>"
     },
     "metadata": {},
     "output_type": "execute_result",
     "execution_count": 101
    }
   ],
   "source": [
    "df['Cancer']=0\n",
    "df['Cancer']=cancer.target\n",
    "df"
   ],
   "metadata": {
    "collapsed": false,
    "pycharm": {
     "name": "#%%\n",
     "is_executing": false
    }
   }
  },
  {
   "cell_type": "markdown",
   "source": [
    "# c"
   ],
   "metadata": {
    "collapsed": false,
    "pycharm": {
     "name": "#%% md\n"
    }
   }
  },
  {
   "cell_type": "code",
   "execution_count": 102,
   "outputs": [
    {
     "data": {
      "text/plain": "Empty DataFrame\nColumns: [(mean radius,), (mean texture,), (mean perimeter,), (mean area,), (mean smoothness,), (mean compactness,), (mean concavity,), (mean concave points,), (mean symmetry,), (mean fractal dimension,), (radius error,), (texture error,), (perimeter error,), (area error,), (smoothness error,), (compactness error,), (concavity error,), (concave points error,), (symmetry error,), (fractal dimension error,), (worst radius,), (worst texture,), (worst perimeter,), (worst area,), (worst smoothness,), (worst compactness,), (worst concavity,), (worst concave points,), (worst symmetry,), (worst fractal dimension,), (Cancer,)]\nIndex: []\n\n[0 rows x 31 columns]",
      "text/html": "<div>\n<style scoped>\n    .dataframe tbody tr th:only-of-type {\n        vertical-align: middle;\n    }\n\n    .dataframe tbody tr th {\n        vertical-align: top;\n    }\n\n    .dataframe thead tr th {\n        text-align: left;\n    }\n</style>\n<table border=\"1\" class=\"dataframe\">\n  <thead>\n    <tr>\n      <th></th>\n      <th>mean radius</th>\n      <th>mean texture</th>\n      <th>mean perimeter</th>\n      <th>mean area</th>\n      <th>mean smoothness</th>\n      <th>mean compactness</th>\n      <th>mean concavity</th>\n      <th>mean concave points</th>\n      <th>mean symmetry</th>\n      <th>mean fractal dimension</th>\n      <th>...</th>\n      <th>worst texture</th>\n      <th>worst perimeter</th>\n      <th>worst area</th>\n      <th>worst smoothness</th>\n      <th>worst compactness</th>\n      <th>worst concavity</th>\n      <th>worst concave points</th>\n      <th>worst symmetry</th>\n      <th>worst fractal dimension</th>\n      <th>Cancer</th>\n    </tr>\n  </thead>\n  <tbody>\n  </tbody>\n</table>\n<p>0 rows × 31 columns</p>\n</div>"
     },
     "metadata": {},
     "output_type": "execute_result",
     "execution_count": 102
    }
   ],
   "source": [
    "df[df.isna().any(axis=1)]"
   ],
   "metadata": {
    "collapsed": false,
    "pycharm": {
     "name": "#%%\n",
     "is_executing": false
    }
   }
  },
  {
   "cell_type": "code",
   "execution_count": 103,
   "outputs": [
    {
     "data": {
      "text/plain": "    mean radius mean texture mean perimeter mean area mean smoothness  \\\n0      0.521037     0.022658       0.545989  0.363733        0.593753   \n1      0.643144     0.272574       0.615783  0.501591        0.289880   \n2      0.601496     0.390260       0.595743  0.449417        0.514309   \n3      0.210090     0.360839       0.233501  0.102906        0.811321   \n4      0.629893     0.156578       0.630986  0.489290        0.430351   \n..          ...          ...            ...       ...             ...   \n564    0.690000     0.428813       0.678668  0.566490        0.526948   \n565    0.622320     0.626987       0.604036  0.474019        0.407782   \n566    0.455251     0.621238       0.445788  0.303118        0.288165   \n567    0.644564     0.663510       0.665538  0.475716        0.588336   \n568    0.036869     0.501522       0.028540  0.015907        0.000000   \n\n    mean compactness mean concavity mean concave points mean symmetry  \\\n0           0.792037       0.703140            0.731113      0.686364   \n1           0.181768       0.203608            0.348757      0.379798   \n2           0.431017       0.462512            0.635686      0.509596   \n3           0.811361       0.565604            0.522863      0.776263   \n4           0.347893       0.463918            0.518390      0.378283   \n..               ...            ...                 ...           ...   \n564         0.296055       0.571462            0.690358      0.336364   \n565         0.257714       0.337395            0.486630      0.349495   \n566         0.254340       0.216753            0.263519      0.267677   \n567         0.790197       0.823336            0.755467      0.675253   \n568         0.074351       0.000000            0.000000      0.266162   \n\n    mean fractal dimension  ... worst texture worst perimeter worst area  \\\n0                 0.605518  ...      0.141525        0.668310   0.450698   \n1                 0.141323  ...      0.303571        0.539818   0.435214   \n2                 0.211247  ...      0.360075        0.508442   0.374508   \n3                 1.000000  ...      0.385928        0.241347   0.094008   \n4                 0.186816  ...      0.123934        0.506948   0.341575   \n..                     ...  ...           ...             ...        ...   \n564               0.132056  ...      0.383262        0.576174   0.452664   \n565               0.113100  ...      0.699094        0.520892   0.379915   \n566               0.137321  ...      0.589019        0.379949   0.230731   \n567               0.425442  ...      0.730277        0.668310   0.402035   \n568               0.187026  ...      0.489072        0.043578   0.020497   \n\n    worst smoothness worst compactness worst concavity worst concave points  \\\n0           0.601136          0.619292        0.568610             0.912027   \n1           0.347553          0.154563        0.192971             0.639175   \n2           0.483590          0.385375        0.359744             0.835052   \n3           0.915472          0.814012        0.548642             0.884880   \n4           0.437364          0.172415        0.319489             0.558419   \n..               ...               ...             ...                  ...   \n564         0.461137          0.178527        0.328035             0.761512   \n565         0.300007          0.159997        0.256789             0.559450   \n566         0.282177          0.273705        0.271805             0.487285   \n567         0.619626          0.815758        0.749760             0.910653   \n568         0.124084          0.036043        0.000000             0.000000   \n\n    worst symmetry worst fractal dimension Cancer  \n0         0.598462                0.418864      0  \n1         0.233590                0.222878      0  \n2         0.403706                0.213433      0  \n3         1.000000                0.773711      0  \n4         0.157500                0.142595      0  \n..             ...                     ...    ...  \n564       0.097575                0.105667      0  \n565       0.198502                0.074315      0  \n566       0.128721                0.151909      0  \n567       0.497142                0.452315      0  \n568       0.257441                0.100682      1  \n\n[569 rows x 31 columns]",
      "text/html": "<div>\n<style scoped>\n    .dataframe tbody tr th:only-of-type {\n        vertical-align: middle;\n    }\n\n    .dataframe tbody tr th {\n        vertical-align: top;\n    }\n\n    .dataframe thead tr th {\n        text-align: left;\n    }\n</style>\n<table border=\"1\" class=\"dataframe\">\n  <thead>\n    <tr>\n      <th></th>\n      <th>mean radius</th>\n      <th>mean texture</th>\n      <th>mean perimeter</th>\n      <th>mean area</th>\n      <th>mean smoothness</th>\n      <th>mean compactness</th>\n      <th>mean concavity</th>\n      <th>mean concave points</th>\n      <th>mean symmetry</th>\n      <th>mean fractal dimension</th>\n      <th>...</th>\n      <th>worst texture</th>\n      <th>worst perimeter</th>\n      <th>worst area</th>\n      <th>worst smoothness</th>\n      <th>worst compactness</th>\n      <th>worst concavity</th>\n      <th>worst concave points</th>\n      <th>worst symmetry</th>\n      <th>worst fractal dimension</th>\n      <th>Cancer</th>\n    </tr>\n  </thead>\n  <tbody>\n    <tr>\n      <th>0</th>\n      <td>0.521037</td>\n      <td>0.022658</td>\n      <td>0.545989</td>\n      <td>0.363733</td>\n      <td>0.593753</td>\n      <td>0.792037</td>\n      <td>0.703140</td>\n      <td>0.731113</td>\n      <td>0.686364</td>\n      <td>0.605518</td>\n      <td>...</td>\n      <td>0.141525</td>\n      <td>0.668310</td>\n      <td>0.450698</td>\n      <td>0.601136</td>\n      <td>0.619292</td>\n      <td>0.568610</td>\n      <td>0.912027</td>\n      <td>0.598462</td>\n      <td>0.418864</td>\n      <td>0</td>\n    </tr>\n    <tr>\n      <th>1</th>\n      <td>0.643144</td>\n      <td>0.272574</td>\n      <td>0.615783</td>\n      <td>0.501591</td>\n      <td>0.289880</td>\n      <td>0.181768</td>\n      <td>0.203608</td>\n      <td>0.348757</td>\n      <td>0.379798</td>\n      <td>0.141323</td>\n      <td>...</td>\n      <td>0.303571</td>\n      <td>0.539818</td>\n      <td>0.435214</td>\n      <td>0.347553</td>\n      <td>0.154563</td>\n      <td>0.192971</td>\n      <td>0.639175</td>\n      <td>0.233590</td>\n      <td>0.222878</td>\n      <td>0</td>\n    </tr>\n    <tr>\n      <th>2</th>\n      <td>0.601496</td>\n      <td>0.390260</td>\n      <td>0.595743</td>\n      <td>0.449417</td>\n      <td>0.514309</td>\n      <td>0.431017</td>\n      <td>0.462512</td>\n      <td>0.635686</td>\n      <td>0.509596</td>\n      <td>0.211247</td>\n      <td>...</td>\n      <td>0.360075</td>\n      <td>0.508442</td>\n      <td>0.374508</td>\n      <td>0.483590</td>\n      <td>0.385375</td>\n      <td>0.359744</td>\n      <td>0.835052</td>\n      <td>0.403706</td>\n      <td>0.213433</td>\n      <td>0</td>\n    </tr>\n    <tr>\n      <th>3</th>\n      <td>0.210090</td>\n      <td>0.360839</td>\n      <td>0.233501</td>\n      <td>0.102906</td>\n      <td>0.811321</td>\n      <td>0.811361</td>\n      <td>0.565604</td>\n      <td>0.522863</td>\n      <td>0.776263</td>\n      <td>1.000000</td>\n      <td>...</td>\n      <td>0.385928</td>\n      <td>0.241347</td>\n      <td>0.094008</td>\n      <td>0.915472</td>\n      <td>0.814012</td>\n      <td>0.548642</td>\n      <td>0.884880</td>\n      <td>1.000000</td>\n      <td>0.773711</td>\n      <td>0</td>\n    </tr>\n    <tr>\n      <th>4</th>\n      <td>0.629893</td>\n      <td>0.156578</td>\n      <td>0.630986</td>\n      <td>0.489290</td>\n      <td>0.430351</td>\n      <td>0.347893</td>\n      <td>0.463918</td>\n      <td>0.518390</td>\n      <td>0.378283</td>\n      <td>0.186816</td>\n      <td>...</td>\n      <td>0.123934</td>\n      <td>0.506948</td>\n      <td>0.341575</td>\n      <td>0.437364</td>\n      <td>0.172415</td>\n      <td>0.319489</td>\n      <td>0.558419</td>\n      <td>0.157500</td>\n      <td>0.142595</td>\n      <td>0</td>\n    </tr>\n    <tr>\n      <th>...</th>\n      <td>...</td>\n      <td>...</td>\n      <td>...</td>\n      <td>...</td>\n      <td>...</td>\n      <td>...</td>\n      <td>...</td>\n      <td>...</td>\n      <td>...</td>\n      <td>...</td>\n      <td>...</td>\n      <td>...</td>\n      <td>...</td>\n      <td>...</td>\n      <td>...</td>\n      <td>...</td>\n      <td>...</td>\n      <td>...</td>\n      <td>...</td>\n      <td>...</td>\n      <td>...</td>\n    </tr>\n    <tr>\n      <th>564</th>\n      <td>0.690000</td>\n      <td>0.428813</td>\n      <td>0.678668</td>\n      <td>0.566490</td>\n      <td>0.526948</td>\n      <td>0.296055</td>\n      <td>0.571462</td>\n      <td>0.690358</td>\n      <td>0.336364</td>\n      <td>0.132056</td>\n      <td>...</td>\n      <td>0.383262</td>\n      <td>0.576174</td>\n      <td>0.452664</td>\n      <td>0.461137</td>\n      <td>0.178527</td>\n      <td>0.328035</td>\n      <td>0.761512</td>\n      <td>0.097575</td>\n      <td>0.105667</td>\n      <td>0</td>\n    </tr>\n    <tr>\n      <th>565</th>\n      <td>0.622320</td>\n      <td>0.626987</td>\n      <td>0.604036</td>\n      <td>0.474019</td>\n      <td>0.407782</td>\n      <td>0.257714</td>\n      <td>0.337395</td>\n      <td>0.486630</td>\n      <td>0.349495</td>\n      <td>0.113100</td>\n      <td>...</td>\n      <td>0.699094</td>\n      <td>0.520892</td>\n      <td>0.379915</td>\n      <td>0.300007</td>\n      <td>0.159997</td>\n      <td>0.256789</td>\n      <td>0.559450</td>\n      <td>0.198502</td>\n      <td>0.074315</td>\n      <td>0</td>\n    </tr>\n    <tr>\n      <th>566</th>\n      <td>0.455251</td>\n      <td>0.621238</td>\n      <td>0.445788</td>\n      <td>0.303118</td>\n      <td>0.288165</td>\n      <td>0.254340</td>\n      <td>0.216753</td>\n      <td>0.263519</td>\n      <td>0.267677</td>\n      <td>0.137321</td>\n      <td>...</td>\n      <td>0.589019</td>\n      <td>0.379949</td>\n      <td>0.230731</td>\n      <td>0.282177</td>\n      <td>0.273705</td>\n      <td>0.271805</td>\n      <td>0.487285</td>\n      <td>0.128721</td>\n      <td>0.151909</td>\n      <td>0</td>\n    </tr>\n    <tr>\n      <th>567</th>\n      <td>0.644564</td>\n      <td>0.663510</td>\n      <td>0.665538</td>\n      <td>0.475716</td>\n      <td>0.588336</td>\n      <td>0.790197</td>\n      <td>0.823336</td>\n      <td>0.755467</td>\n      <td>0.675253</td>\n      <td>0.425442</td>\n      <td>...</td>\n      <td>0.730277</td>\n      <td>0.668310</td>\n      <td>0.402035</td>\n      <td>0.619626</td>\n      <td>0.815758</td>\n      <td>0.749760</td>\n      <td>0.910653</td>\n      <td>0.497142</td>\n      <td>0.452315</td>\n      <td>0</td>\n    </tr>\n    <tr>\n      <th>568</th>\n      <td>0.036869</td>\n      <td>0.501522</td>\n      <td>0.028540</td>\n      <td>0.015907</td>\n      <td>0.000000</td>\n      <td>0.074351</td>\n      <td>0.000000</td>\n      <td>0.000000</td>\n      <td>0.266162</td>\n      <td>0.187026</td>\n      <td>...</td>\n      <td>0.489072</td>\n      <td>0.043578</td>\n      <td>0.020497</td>\n      <td>0.124084</td>\n      <td>0.036043</td>\n      <td>0.000000</td>\n      <td>0.000000</td>\n      <td>0.257441</td>\n      <td>0.100682</td>\n      <td>1</td>\n    </tr>\n  </tbody>\n</table>\n<p>569 rows × 31 columns</p>\n</div>"
     },
     "metadata": {},
     "output_type": "execute_result",
     "execution_count": 103
    }
   ],
   "source": [
    "x = df.values #returns a numpy array\n",
    "min_max_scaler = preprocessing.MinMaxScaler()\n",
    "x_scaled = min_max_scaler.fit_transform(x)\n",
    "df = pd.DataFrame(x_scaled,index=df.index, columns=df.columns)\n",
    "df['Cancer'] = df['Cancer'].astype('int')\n",
    "df"
   ],
   "metadata": {
    "collapsed": false,
    "pycharm": {
     "name": "#%%\n",
     "is_executing": false
    }
   }
  },
  {
   "cell_type": "markdown",
   "source": [
    "# d, e"
   ],
   "metadata": {
    "collapsed": false,
    "pycharm": {
     "name": "#%% md\n"
    }
   }
  },
  {
   "cell_type": "code",
   "execution_count": 104,
   "outputs": [
    {
     "name": "stderr",
     "text": [
      "c:\\_uni\\term8\\datamining\\hws\\codes\\venv\\lib\\site-packages\\pandas\\core\\generic.py:4153: PerformanceWarning: dropping on a non-lexsorted multi-index without a level parameter may impact performance.\n",
      "  obj = obj._drop_axis(labels, axis, level=level, errors=errors)\n"
     ],
     "output_type": "stream"
    },
    {
     "data": {
      "text/plain": "    mean radius mean texture mean perimeter mean area mean smoothness  \\\n496    0.268304     0.286101       0.268813  0.145111        0.496253   \n298    0.344503     0.286101       0.327759  0.207678        0.118534   \n19     0.310426     0.157254       0.301776  0.179343        0.407692   \n233    0.640305     0.612107       0.626149  0.498621        0.351720   \n403    0.282029     0.218465       0.272200  0.154443        0.416719   \n..          ...          ...            ...       ...             ...   \n187    0.223816     0.252959       0.213461  0.117413        0.407240   \n116    0.093189     0.204599       0.103310  0.043139        0.379074   \n161    0.577831     0.210687       0.570175  0.429905        0.309741   \n125    0.325098     0.253635       0.308548  0.188844        0.317956   \n54     0.384259     0.416300       0.369498  0.241485        0.342421   \n\n    mean compactness mean concavity mean concave points mean symmetry  \\\n496         0.349733       0.187840            0.252187      0.293434   \n298         0.100669       0.057990            0.068290      0.290404   \n19          0.189896       0.156139            0.237624      0.416667   \n233         0.269983       0.364105            0.414513      0.195960   \n403         0.211582       0.077226            0.118787      0.340909   \n..               ...            ...                 ...           ...   \n187         0.128918       0.089246            0.160984      0.230303   \n116         0.321821       0.217034            0.114712      0.123737   \n161         0.304030       0.279522            0.480467      0.343939   \n125         0.128765       0.033271            0.056710      0.279798   \n54          0.157751       0.123079            0.165706      0.280808   \n\n    mean fractal dimension  ... worst radius worst texture worst perimeter  \\\n496               0.391323  ...     0.229456      0.269989        0.223517   \n298               0.124263  ...     0.294913      0.352878        0.275860   \n19                0.162174  ...     0.255425      0.192964        0.245480   \n233               0.125527  ...     0.588403      0.675906        0.559241   \n403               0.253580  ...     0.210957      0.293177        0.195627   \n..                     ...  ...          ...           ...             ...   \n187               0.231466  ...     0.180719      0.249733        0.169381   \n116               0.456403  ...     0.052793      0.134595        0.064396   \n161               0.037911  ...     0.501601      0.154318        0.479058   \n125               0.188290  ...     0.268943      0.308102        0.248469   \n54                0.144903  ...     0.361793      0.524254        0.335126   \n\n    worst area worst smoothness worst compactness worst concavity  \\\n496   0.110229         0.542363          0.346276        0.286102   \n298   0.155943         0.153734          0.183767        0.125000   \n19    0.129276         0.480948          0.145540        0.190895   \n233   0.414569         0.337648          0.241397        0.331150   \n403   0.097252         0.303969          0.163489        0.144569   \n..         ...              ...               ...             ...   \n187   0.082653         0.403685          0.074424        0.121486   \n116   0.020842         0.308591          0.155825        0.123323   \n161   0.321913         0.272271          0.169116        0.180831   \n125   0.132889         0.294063          0.104501        0.064816   \n54    0.207629         0.447269          0.173094        0.216613   \n\n    worst concave points worst symmetry worst fractal dimension  \n496             0.483505       0.328208                0.316542  \n298             0.258763       0.211118                0.142464  \n19              0.442612       0.278336                0.115112  \n233             0.537113       0.171890                0.185229  \n403             0.288247       0.341415                0.152827  \n..                   ...            ...                     ...  \n187             0.377663       0.198502                0.104486  \n116             0.132165       0.017150                0.145481  \n161             0.610653       0.173073                0.048996  \n125             0.175395       0.157500                0.110062  \n54              0.525773       0.218805                0.155385  \n\n[455 rows x 30 columns]",
      "text/html": "<div>\n<style scoped>\n    .dataframe tbody tr th:only-of-type {\n        vertical-align: middle;\n    }\n\n    .dataframe tbody tr th {\n        vertical-align: top;\n    }\n\n    .dataframe thead tr th {\n        text-align: left;\n    }\n</style>\n<table border=\"1\" class=\"dataframe\">\n  <thead>\n    <tr>\n      <th></th>\n      <th>mean radius</th>\n      <th>mean texture</th>\n      <th>mean perimeter</th>\n      <th>mean area</th>\n      <th>mean smoothness</th>\n      <th>mean compactness</th>\n      <th>mean concavity</th>\n      <th>mean concave points</th>\n      <th>mean symmetry</th>\n      <th>mean fractal dimension</th>\n      <th>...</th>\n      <th>worst radius</th>\n      <th>worst texture</th>\n      <th>worst perimeter</th>\n      <th>worst area</th>\n      <th>worst smoothness</th>\n      <th>worst compactness</th>\n      <th>worst concavity</th>\n      <th>worst concave points</th>\n      <th>worst symmetry</th>\n      <th>worst fractal dimension</th>\n    </tr>\n  </thead>\n  <tbody>\n    <tr>\n      <th>496</th>\n      <td>0.268304</td>\n      <td>0.286101</td>\n      <td>0.268813</td>\n      <td>0.145111</td>\n      <td>0.496253</td>\n      <td>0.349733</td>\n      <td>0.187840</td>\n      <td>0.252187</td>\n      <td>0.293434</td>\n      <td>0.391323</td>\n      <td>...</td>\n      <td>0.229456</td>\n      <td>0.269989</td>\n      <td>0.223517</td>\n      <td>0.110229</td>\n      <td>0.542363</td>\n      <td>0.346276</td>\n      <td>0.286102</td>\n      <td>0.483505</td>\n      <td>0.328208</td>\n      <td>0.316542</td>\n    </tr>\n    <tr>\n      <th>298</th>\n      <td>0.344503</td>\n      <td>0.286101</td>\n      <td>0.327759</td>\n      <td>0.207678</td>\n      <td>0.118534</td>\n      <td>0.100669</td>\n      <td>0.057990</td>\n      <td>0.068290</td>\n      <td>0.290404</td>\n      <td>0.124263</td>\n      <td>...</td>\n      <td>0.294913</td>\n      <td>0.352878</td>\n      <td>0.275860</td>\n      <td>0.155943</td>\n      <td>0.153734</td>\n      <td>0.183767</td>\n      <td>0.125000</td>\n      <td>0.258763</td>\n      <td>0.211118</td>\n      <td>0.142464</td>\n    </tr>\n    <tr>\n      <th>19</th>\n      <td>0.310426</td>\n      <td>0.157254</td>\n      <td>0.301776</td>\n      <td>0.179343</td>\n      <td>0.407692</td>\n      <td>0.189896</td>\n      <td>0.156139</td>\n      <td>0.237624</td>\n      <td>0.416667</td>\n      <td>0.162174</td>\n      <td>...</td>\n      <td>0.255425</td>\n      <td>0.192964</td>\n      <td>0.245480</td>\n      <td>0.129276</td>\n      <td>0.480948</td>\n      <td>0.145540</td>\n      <td>0.190895</td>\n      <td>0.442612</td>\n      <td>0.278336</td>\n      <td>0.115112</td>\n    </tr>\n    <tr>\n      <th>233</th>\n      <td>0.640305</td>\n      <td>0.612107</td>\n      <td>0.626149</td>\n      <td>0.498621</td>\n      <td>0.351720</td>\n      <td>0.269983</td>\n      <td>0.364105</td>\n      <td>0.414513</td>\n      <td>0.195960</td>\n      <td>0.125527</td>\n      <td>...</td>\n      <td>0.588403</td>\n      <td>0.675906</td>\n      <td>0.559241</td>\n      <td>0.414569</td>\n      <td>0.337648</td>\n      <td>0.241397</td>\n      <td>0.331150</td>\n      <td>0.537113</td>\n      <td>0.171890</td>\n      <td>0.185229</td>\n    </tr>\n    <tr>\n      <th>403</th>\n      <td>0.282029</td>\n      <td>0.218465</td>\n      <td>0.272200</td>\n      <td>0.154443</td>\n      <td>0.416719</td>\n      <td>0.211582</td>\n      <td>0.077226</td>\n      <td>0.118787</td>\n      <td>0.340909</td>\n      <td>0.253580</td>\n      <td>...</td>\n      <td>0.210957</td>\n      <td>0.293177</td>\n      <td>0.195627</td>\n      <td>0.097252</td>\n      <td>0.303969</td>\n      <td>0.163489</td>\n      <td>0.144569</td>\n      <td>0.288247</td>\n      <td>0.341415</td>\n      <td>0.152827</td>\n    </tr>\n    <tr>\n      <th>...</th>\n      <td>...</td>\n      <td>...</td>\n      <td>...</td>\n      <td>...</td>\n      <td>...</td>\n      <td>...</td>\n      <td>...</td>\n      <td>...</td>\n      <td>...</td>\n      <td>...</td>\n      <td>...</td>\n      <td>...</td>\n      <td>...</td>\n      <td>...</td>\n      <td>...</td>\n      <td>...</td>\n      <td>...</td>\n      <td>...</td>\n      <td>...</td>\n      <td>...</td>\n      <td>...</td>\n    </tr>\n    <tr>\n      <th>187</th>\n      <td>0.223816</td>\n      <td>0.252959</td>\n      <td>0.213461</td>\n      <td>0.117413</td>\n      <td>0.407240</td>\n      <td>0.128918</td>\n      <td>0.089246</td>\n      <td>0.160984</td>\n      <td>0.230303</td>\n      <td>0.231466</td>\n      <td>...</td>\n      <td>0.180719</td>\n      <td>0.249733</td>\n      <td>0.169381</td>\n      <td>0.082653</td>\n      <td>0.403685</td>\n      <td>0.074424</td>\n      <td>0.121486</td>\n      <td>0.377663</td>\n      <td>0.198502</td>\n      <td>0.104486</td>\n    </tr>\n    <tr>\n      <th>116</th>\n      <td>0.093189</td>\n      <td>0.204599</td>\n      <td>0.103310</td>\n      <td>0.043139</td>\n      <td>0.379074</td>\n      <td>0.321821</td>\n      <td>0.217034</td>\n      <td>0.114712</td>\n      <td>0.123737</td>\n      <td>0.456403</td>\n      <td>...</td>\n      <td>0.052793</td>\n      <td>0.134595</td>\n      <td>0.064396</td>\n      <td>0.020842</td>\n      <td>0.308591</td>\n      <td>0.155825</td>\n      <td>0.123323</td>\n      <td>0.132165</td>\n      <td>0.017150</td>\n      <td>0.145481</td>\n    </tr>\n    <tr>\n      <th>161</th>\n      <td>0.577831</td>\n      <td>0.210687</td>\n      <td>0.570175</td>\n      <td>0.429905</td>\n      <td>0.309741</td>\n      <td>0.304030</td>\n      <td>0.279522</td>\n      <td>0.480467</td>\n      <td>0.343939</td>\n      <td>0.037911</td>\n      <td>...</td>\n      <td>0.501601</td>\n      <td>0.154318</td>\n      <td>0.479058</td>\n      <td>0.321913</td>\n      <td>0.272271</td>\n      <td>0.169116</td>\n      <td>0.180831</td>\n      <td>0.610653</td>\n      <td>0.173073</td>\n      <td>0.048996</td>\n    </tr>\n    <tr>\n      <th>125</th>\n      <td>0.325098</td>\n      <td>0.253635</td>\n      <td>0.308548</td>\n      <td>0.188844</td>\n      <td>0.317956</td>\n      <td>0.128765</td>\n      <td>0.033271</td>\n      <td>0.056710</td>\n      <td>0.279798</td>\n      <td>0.188290</td>\n      <td>...</td>\n      <td>0.268943</td>\n      <td>0.308102</td>\n      <td>0.248469</td>\n      <td>0.132889</td>\n      <td>0.294063</td>\n      <td>0.104501</td>\n      <td>0.064816</td>\n      <td>0.175395</td>\n      <td>0.157500</td>\n      <td>0.110062</td>\n    </tr>\n    <tr>\n      <th>54</th>\n      <td>0.384259</td>\n      <td>0.416300</td>\n      <td>0.369498</td>\n      <td>0.241485</td>\n      <td>0.342421</td>\n      <td>0.157751</td>\n      <td>0.123079</td>\n      <td>0.165706</td>\n      <td>0.280808</td>\n      <td>0.144903</td>\n      <td>...</td>\n      <td>0.361793</td>\n      <td>0.524254</td>\n      <td>0.335126</td>\n      <td>0.207629</td>\n      <td>0.447269</td>\n      <td>0.173094</td>\n      <td>0.216613</td>\n      <td>0.525773</td>\n      <td>0.218805</td>\n      <td>0.155385</td>\n    </tr>\n  </tbody>\n</table>\n<p>455 rows × 30 columns</p>\n</div>"
     },
     "metadata": {},
     "output_type": "execute_result",
     "execution_count": 104
    }
   ],
   "source": [
    "\n",
    "y=df['Cancer']\n",
    "x=df.drop(columns='Cancer')\n",
    "x_train, x_test, y_train, y_test = train_test_split(x,y,test_size=0.2)\n",
    "x_train"
   ],
   "metadata": {
    "collapsed": false,
    "pycharm": {
     "name": "#%%\n",
     "is_executing": false
    }
   }
  },
  {
   "cell_type": "markdown",
   "source": [
    "# f"
   ],
   "metadata": {
    "collapsed": false
   }
  },
  {
   "cell_type": "code",
   "execution_count": 105,
   "outputs": [
    {
     "name": "stderr",
     "text": [
      "c:\\_uni\\term8\\datamining\\hws\\codes\\venv\\lib\\site-packages\\sklearn\\utils\\validation.py:63: DataConversionWarning: A column-vector y was passed when a 1d array was expected. Please change the shape of y to (n_samples, ), for example using ravel().\n",
      "  return f(*args, **kwargs)\n"
     ],
     "output_type": "stream"
    },
    {
     "data": {
      "text/plain": "{'C': 1.0,\n 'class_weight': None,\n 'dual': False,\n 'fit_intercept': True,\n 'intercept_scaling': 1,\n 'l1_ratio': None,\n 'max_iter': 100,\n 'multi_class': 'auto',\n 'n_jobs': None,\n 'penalty': 'l2',\n 'random_state': 0,\n 'solver': 'lbfgs',\n 'tol': 0.0001,\n 'verbose': 0,\n 'warm_start': False}"
     },
     "metadata": {},
     "output_type": "execute_result",
     "execution_count": 105
    }
   ],
   "source": [
    "clf = LogisticRegression(random_state=0).fit(x_train, y_train)\n",
    "clf.get_params()"
   ],
   "metadata": {
    "collapsed": false,
    "pycharm": {
     "name": "#%%\n",
     "is_executing": false
    }
   }
  },
  {
   "cell_type": "markdown",
   "source": [
    "# g"
   ],
   "metadata": {
    "collapsed": false
   }
  },
  {
   "cell_type": "code",
   "execution_count": 106,
   "outputs": [
    {
     "name": "stdout",
     "text": [
      "acc for training data: 0.971\n",
      "acc for test data: 0.974\n"
     ],
     "output_type": "stream"
    }
   ],
   "source": [
    "y_predicted=clf.predict(x_test)\n",
    "print('acc for training data: {:.3f}'.format(clf.score(x_train, y_train)))\n",
    "print('acc for test data: {:.3f}'.format(clf.score(x_test, y_test)))"
   ],
   "metadata": {
    "collapsed": false,
    "pycharm": {
     "name": "#%%\n",
     "is_executing": false
    }
   }
  },
  {
   "cell_type": "markdown",
   "source": [
    "# h\n",
    "## liblinear"
   ],
   "metadata": {
    "collapsed": false,
    "pycharm": {
     "name": "#%% md\n"
    }
   }
  },
  {
   "cell_type": "code",
   "execution_count": 107,
   "outputs": [
    {
     "name": "stderr",
     "text": [
      "c:\\_uni\\term8\\datamining\\hws\\codes\\venv\\lib\\site-packages\\sklearn\\utils\\validation.py:63: DataConversionWarning: A column-vector y was passed when a 1d array was expected. Please change the shape of y to (n_samples, ), for example using ravel().\n",
      "  return f(*args, **kwargs)\n"
     ],
     "output_type": "stream"
    },
    {
     "name": "stdout",
     "text": [
      "acc for training data: 0.967\n",
      "acc for test data: 0.974\n"
     ],
     "output_type": "stream"
    }
   ],
   "source": [
    "clf1 = LogisticRegression(random_state=0,solver='liblinear').fit(x_train, y_train)\n",
    "print('acc for training data: {:.3f}'.format(clf1.score(x_train, y_train)))\n",
    "print('acc for test data: {:.3f}'.format(clf1.score(x_test, y_test)))"
   ],
   "metadata": {
    "collapsed": false,
    "pycharm": {
     "name": "#%%\n",
     "is_executing": false
    }
   }
  },
  {
   "cell_type": "markdown",
   "source": [
    "## saga"
   ],
   "metadata": {
    "collapsed": false
   }
  },
  {
   "cell_type": "code",
   "execution_count": 108,
   "outputs": [
    {
     "name": "stdout",
     "text": [
      "acc for training data: 0.971\n",
      "acc for test data: 0.974\n"
     ],
     "output_type": "stream"
    },
    {
     "name": "stderr",
     "text": [
      "c:\\_uni\\term8\\datamining\\hws\\codes\\venv\\lib\\site-packages\\sklearn\\utils\\validation.py:63: DataConversionWarning: A column-vector y was passed when a 1d array was expected. Please change the shape of y to (n_samples, ), for example using ravel().\n",
      "  return f(*args, **kwargs)\n"
     ],
     "output_type": "stream"
    }
   ],
   "source": [
    "clf2 = LogisticRegression(random_state=0,solver='saga').fit(x_train, y_train)\n",
    "print('acc for training data: {:.3f}'.format(clf2.score(x_train, y_train)))\n",
    "print('acc for test data: {:.3f}'.format(clf2.score(x_test, y_test)))\n",
    "\n"
   ],
   "metadata": {
    "collapsed": false,
    "pycharm": {
     "name": "#%%\n",
     "is_executing": false
    }
   }
  }
 ],
 "metadata": {
  "kernelspec": {
   "display_name": "Python 3",
   "language": "python",
   "name": "python3"
  },
  "language_info": {
   "codemirror_mode": {
    "name": "ipython",
    "version": 2
   },
   "file_extension": ".py",
   "mimetype": "text/x-python",
   "name": "python",
   "nbconvert_exporter": "python",
   "pygments_lexer": "ipython2",
   "version": "2.7.6"
  },
  "pycharm": {
   "stem_cell": {
    "cell_type": "raw",
    "source": [],
    "metadata": {
     "collapsed": false
    }
   }
  }
 },
 "nbformat": 4,
 "nbformat_minor": 0
}
