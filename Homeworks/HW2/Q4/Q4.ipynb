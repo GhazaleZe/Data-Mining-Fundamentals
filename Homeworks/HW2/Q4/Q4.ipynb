{
 "cells": [
  {
   "cell_type": "code",
   "execution_count": 63,
   "metadata": {
    "collapsed": true,
    "pycharm": {
     "name": "#%%\n",
     "is_executing": false
    }
   },
   "outputs": [
    {
     "data": {
      "text/plain": "     Pregnancies Glucose  BloodPressure SkinThickness Insulin   BMI  \\\n0              6     148           72.0            35       0  33.6   \n1              1      85           66.0            29       0  26.6   \n2              8     183           64.0             0       0  23.3   \n3              1      89           66.0            23      94  28.1   \n4              0     137           40.0            35     168  43.1   \n..           ...     ...            ...           ...     ...   ...   \n497            2      81           72.0            15      76  30.1   \n498            7     195           70.0            33     145  25.1   \n499            6     154           74.0            32     193  29.3   \n500            2     117           90.0            19      71  25.2   \n501            3      84           72.0            32       0  37.2   \n\n    DiabetesPedigreeFunction Age Outcome  \n0                      0.627  50       1  \n1                      0.351  31       0  \n2                      0.672  32       1  \n3                      0.167  21       0  \n4                      2.288  33       1  \n..                       ...  ..     ...  \n497                    0.547  25       0  \n498                    0.163  55       1  \n499                    0.839  39       0  \n500                    0.313  21       0  \n501                    0.267  28       0  \n\n[502 rows x 9 columns]",
      "text/html": "<div>\n<style scoped>\n    .dataframe tbody tr th:only-of-type {\n        vertical-align: middle;\n    }\n\n    .dataframe tbody tr th {\n        vertical-align: top;\n    }\n\n    .dataframe thead th {\n        text-align: right;\n    }\n</style>\n<table border=\"1\" class=\"dataframe\">\n  <thead>\n    <tr style=\"text-align: right;\">\n      <th></th>\n      <th>Pregnancies</th>\n      <th>Glucose</th>\n      <th>BloodPressure</th>\n      <th>SkinThickness</th>\n      <th>Insulin</th>\n      <th>BMI</th>\n      <th>DiabetesPedigreeFunction</th>\n      <th>Age</th>\n      <th>Outcome</th>\n    </tr>\n  </thead>\n  <tbody>\n    <tr>\n      <th>0</th>\n      <td>6</td>\n      <td>148</td>\n      <td>72.0</td>\n      <td>35</td>\n      <td>0</td>\n      <td>33.6</td>\n      <td>0.627</td>\n      <td>50</td>\n      <td>1</td>\n    </tr>\n    <tr>\n      <th>1</th>\n      <td>1</td>\n      <td>85</td>\n      <td>66.0</td>\n      <td>29</td>\n      <td>0</td>\n      <td>26.6</td>\n      <td>0.351</td>\n      <td>31</td>\n      <td>0</td>\n    </tr>\n    <tr>\n      <th>2</th>\n      <td>8</td>\n      <td>183</td>\n      <td>64.0</td>\n      <td>0</td>\n      <td>0</td>\n      <td>23.3</td>\n      <td>0.672</td>\n      <td>32</td>\n      <td>1</td>\n    </tr>\n    <tr>\n      <th>3</th>\n      <td>1</td>\n      <td>89</td>\n      <td>66.0</td>\n      <td>23</td>\n      <td>94</td>\n      <td>28.1</td>\n      <td>0.167</td>\n      <td>21</td>\n      <td>0</td>\n    </tr>\n    <tr>\n      <th>4</th>\n      <td>0</td>\n      <td>137</td>\n      <td>40.0</td>\n      <td>35</td>\n      <td>168</td>\n      <td>43.1</td>\n      <td>2.288</td>\n      <td>33</td>\n      <td>1</td>\n    </tr>\n    <tr>\n      <th>...</th>\n      <td>...</td>\n      <td>...</td>\n      <td>...</td>\n      <td>...</td>\n      <td>...</td>\n      <td>...</td>\n      <td>...</td>\n      <td>...</td>\n      <td>...</td>\n    </tr>\n    <tr>\n      <th>497</th>\n      <td>2</td>\n      <td>81</td>\n      <td>72.0</td>\n      <td>15</td>\n      <td>76</td>\n      <td>30.1</td>\n      <td>0.547</td>\n      <td>25</td>\n      <td>0</td>\n    </tr>\n    <tr>\n      <th>498</th>\n      <td>7</td>\n      <td>195</td>\n      <td>70.0</td>\n      <td>33</td>\n      <td>145</td>\n      <td>25.1</td>\n      <td>0.163</td>\n      <td>55</td>\n      <td>1</td>\n    </tr>\n    <tr>\n      <th>499</th>\n      <td>6</td>\n      <td>154</td>\n      <td>74.0</td>\n      <td>32</td>\n      <td>193</td>\n      <td>29.3</td>\n      <td>0.839</td>\n      <td>39</td>\n      <td>0</td>\n    </tr>\n    <tr>\n      <th>500</th>\n      <td>2</td>\n      <td>117</td>\n      <td>90.0</td>\n      <td>19</td>\n      <td>71</td>\n      <td>25.2</td>\n      <td>0.313</td>\n      <td>21</td>\n      <td>0</td>\n    </tr>\n    <tr>\n      <th>501</th>\n      <td>3</td>\n      <td>84</td>\n      <td>72.0</td>\n      <td>32</td>\n      <td>0</td>\n      <td>37.2</td>\n      <td>0.267</td>\n      <td>28</td>\n      <td>0</td>\n    </tr>\n  </tbody>\n</table>\n<p>502 rows × 9 columns</p>\n</div>"
     },
     "metadata": {},
     "output_type": "execute_result",
     "execution_count": 63
    }
   ],
   "source": [
    "import pandas as pd\n",
    "import numpy as np\n",
    "from sklearn.impute import KNNImputer\n",
    "from sklearn import preprocessing\n",
    "import matplotlib as plt\n",
    "df= pd.read_csv('Diabetes.csv')\n",
    "df=df.replace('?',np.nan)\n",
    "df=df.replace('MISS',np.nan)\n",
    "df=df.replace('missing',np.nan)\n",
    "df=df.replace('NULL',np.nan)\n",
    "df=df.replace(\"''\",np.nan)\n",
    "df"
   ]
  },
  {
   "cell_type": "markdown",
   "source": [
    "# 3.b"
   ],
   "metadata": {
    "collapsed": false,
    "pycharm": {
     "name": "#%% md\n"
    }
   }
  },
  {
   "cell_type": "code",
   "execution_count": 64,
   "outputs": [
    {
     "data": {
      "text/plain": "     Pregnancies  Glucose  BloodPressure  SkinThickness  Insulin   BMI  \\\n0            6.0    148.0           72.0           35.0      0.0  33.6   \n1            1.0     85.0           66.0           29.0      0.0  26.6   \n2            8.0    183.0           64.0            0.0      0.0  23.3   \n3            1.0     89.0           66.0           23.0     94.0  28.1   \n4            0.0    137.0           40.0           35.0    168.0  43.1   \n..           ...      ...            ...            ...      ...   ...   \n497          2.0     81.0           72.0           15.0     76.0  30.1   \n498          7.0    195.0           70.0           33.0    145.0  25.1   \n499          6.0    154.0           74.0           32.0    193.0  29.3   \n500          2.0    117.0           90.0           19.0     71.0  25.2   \n501          3.0     84.0           72.0           32.0      0.0  37.2   \n\n     DiabetesPedigreeFunction   Age  Outcome  \n0                       0.627  50.0      1.0  \n1                       0.351  31.0      0.0  \n2                       0.672  32.0      1.0  \n3                       0.167  21.0      0.0  \n4                       2.288  33.0      1.0  \n..                        ...   ...      ...  \n497                     0.547  25.0      0.0  \n498                     0.163  55.0      1.0  \n499                     0.839  39.0      0.0  \n500                     0.313  21.0      0.0  \n501                     0.267  28.0      0.0  \n\n[502 rows x 9 columns]",
      "text/html": "<div>\n<style scoped>\n    .dataframe tbody tr th:only-of-type {\n        vertical-align: middle;\n    }\n\n    .dataframe tbody tr th {\n        vertical-align: top;\n    }\n\n    .dataframe thead th {\n        text-align: right;\n    }\n</style>\n<table border=\"1\" class=\"dataframe\">\n  <thead>\n    <tr style=\"text-align: right;\">\n      <th></th>\n      <th>Pregnancies</th>\n      <th>Glucose</th>\n      <th>BloodPressure</th>\n      <th>SkinThickness</th>\n      <th>Insulin</th>\n      <th>BMI</th>\n      <th>DiabetesPedigreeFunction</th>\n      <th>Age</th>\n      <th>Outcome</th>\n    </tr>\n  </thead>\n  <tbody>\n    <tr>\n      <th>0</th>\n      <td>6.0</td>\n      <td>148.0</td>\n      <td>72.0</td>\n      <td>35.0</td>\n      <td>0.0</td>\n      <td>33.6</td>\n      <td>0.627</td>\n      <td>50.0</td>\n      <td>1.0</td>\n    </tr>\n    <tr>\n      <th>1</th>\n      <td>1.0</td>\n      <td>85.0</td>\n      <td>66.0</td>\n      <td>29.0</td>\n      <td>0.0</td>\n      <td>26.6</td>\n      <td>0.351</td>\n      <td>31.0</td>\n      <td>0.0</td>\n    </tr>\n    <tr>\n      <th>2</th>\n      <td>8.0</td>\n      <td>183.0</td>\n      <td>64.0</td>\n      <td>0.0</td>\n      <td>0.0</td>\n      <td>23.3</td>\n      <td>0.672</td>\n      <td>32.0</td>\n      <td>1.0</td>\n    </tr>\n    <tr>\n      <th>3</th>\n      <td>1.0</td>\n      <td>89.0</td>\n      <td>66.0</td>\n      <td>23.0</td>\n      <td>94.0</td>\n      <td>28.1</td>\n      <td>0.167</td>\n      <td>21.0</td>\n      <td>0.0</td>\n    </tr>\n    <tr>\n      <th>4</th>\n      <td>0.0</td>\n      <td>137.0</td>\n      <td>40.0</td>\n      <td>35.0</td>\n      <td>168.0</td>\n      <td>43.1</td>\n      <td>2.288</td>\n      <td>33.0</td>\n      <td>1.0</td>\n    </tr>\n    <tr>\n      <th>...</th>\n      <td>...</td>\n      <td>...</td>\n      <td>...</td>\n      <td>...</td>\n      <td>...</td>\n      <td>...</td>\n      <td>...</td>\n      <td>...</td>\n      <td>...</td>\n    </tr>\n    <tr>\n      <th>497</th>\n      <td>2.0</td>\n      <td>81.0</td>\n      <td>72.0</td>\n      <td>15.0</td>\n      <td>76.0</td>\n      <td>30.1</td>\n      <td>0.547</td>\n      <td>25.0</td>\n      <td>0.0</td>\n    </tr>\n    <tr>\n      <th>498</th>\n      <td>7.0</td>\n      <td>195.0</td>\n      <td>70.0</td>\n      <td>33.0</td>\n      <td>145.0</td>\n      <td>25.1</td>\n      <td>0.163</td>\n      <td>55.0</td>\n      <td>1.0</td>\n    </tr>\n    <tr>\n      <th>499</th>\n      <td>6.0</td>\n      <td>154.0</td>\n      <td>74.0</td>\n      <td>32.0</td>\n      <td>193.0</td>\n      <td>29.3</td>\n      <td>0.839</td>\n      <td>39.0</td>\n      <td>0.0</td>\n    </tr>\n    <tr>\n      <th>500</th>\n      <td>2.0</td>\n      <td>117.0</td>\n      <td>90.0</td>\n      <td>19.0</td>\n      <td>71.0</td>\n      <td>25.2</td>\n      <td>0.313</td>\n      <td>21.0</td>\n      <td>0.0</td>\n    </tr>\n    <tr>\n      <th>501</th>\n      <td>3.0</td>\n      <td>84.0</td>\n      <td>72.0</td>\n      <td>32.0</td>\n      <td>0.0</td>\n      <td>37.2</td>\n      <td>0.267</td>\n      <td>28.0</td>\n      <td>0.0</td>\n    </tr>\n  </tbody>\n</table>\n<p>502 rows × 9 columns</p>\n</div>"
     },
     "metadata": {},
     "output_type": "execute_result",
     "execution_count": 64
    }
   ],
   "source": [
    "imputer = KNNImputer(n_neighbors=5, weights=\"uniform\")\n",
    "dff=pd.DataFrame(imputer.fit_transform(df))\n",
    "dff.columns=df.columns\n",
    "dff"
   ],
   "metadata": {
    "collapsed": false,
    "pycharm": {
     "name": "#%%\n",
     "is_executing": false
    }
   }
  },
  {
   "cell_type": "markdown",
   "source": [
    "# 3.c StandardScaler"
   ],
   "metadata": {
    "collapsed": false,
    "pycharm": {
     "name": "#%% md\n"
    }
   }
  },
  {
   "cell_type": "code",
   "execution_count": 65,
   "outputs": [
    {
     "data": {
      "text/plain": "     Pregnancies   Glucose  BloodPressure  SkinThickness   Insulin       BMI  \\\n0       0.658827  0.541457       0.166343       0.920268 -0.643214  0.198875   \n1      -0.840407 -0.830492      -0.142932       0.535610 -0.643214 -0.655543   \n2       1.258521  1.303650      -0.246024      -1.323572 -0.643214 -1.058340   \n3      -0.840407 -0.743384      -0.142932       0.150952  0.071519 -0.472454   \n4      -1.140254  0.301910      -1.483126       0.920268  0.634181  1.358442   \n..           ...       ...            ...            ...       ...       ...   \n497    -0.540561 -0.917600       0.166343      -0.361926 -0.065345 -0.228334   \n498     0.958674  1.564974       0.063252       0.792049  0.459299 -0.838633   \n499     0.658827  0.672119       0.269435       0.727939  0.824269 -0.325982   \n500    -0.540561 -0.133629       1.094170      -0.105487 -0.103363 -0.826427   \n501    -0.240714 -0.852269       0.166343       0.727939 -0.643214  0.638290   \n\n     DiabetesPedigreeFunction       Age   Outcome  \n0                    0.410487  1.399137  1.341002  \n1                   -0.390133 -0.166218 -0.753531  \n2                    0.541023 -0.083831  1.341002  \n3                   -0.923879 -0.990090 -0.753531  \n4                    5.228710 -0.001444  1.341002  \n..                        ...       ...       ...  \n497                  0.178423 -0.660541 -0.753531  \n498                 -0.935483  1.811072  1.341002  \n499                  1.025456  0.492878 -0.753531  \n500                 -0.500363 -0.990090 -0.753531  \n501                 -0.633800 -0.413380 -0.753531  \n\n[502 rows x 9 columns]",
      "text/html": "<div>\n<style scoped>\n    .dataframe tbody tr th:only-of-type {\n        vertical-align: middle;\n    }\n\n    .dataframe tbody tr th {\n        vertical-align: top;\n    }\n\n    .dataframe thead th {\n        text-align: right;\n    }\n</style>\n<table border=\"1\" class=\"dataframe\">\n  <thead>\n    <tr style=\"text-align: right;\">\n      <th></th>\n      <th>Pregnancies</th>\n      <th>Glucose</th>\n      <th>BloodPressure</th>\n      <th>SkinThickness</th>\n      <th>Insulin</th>\n      <th>BMI</th>\n      <th>DiabetesPedigreeFunction</th>\n      <th>Age</th>\n      <th>Outcome</th>\n    </tr>\n  </thead>\n  <tbody>\n    <tr>\n      <th>0</th>\n      <td>0.658827</td>\n      <td>0.541457</td>\n      <td>0.166343</td>\n      <td>0.920268</td>\n      <td>-0.643214</td>\n      <td>0.198875</td>\n      <td>0.410487</td>\n      <td>1.399137</td>\n      <td>1.341002</td>\n    </tr>\n    <tr>\n      <th>1</th>\n      <td>-0.840407</td>\n      <td>-0.830492</td>\n      <td>-0.142932</td>\n      <td>0.535610</td>\n      <td>-0.643214</td>\n      <td>-0.655543</td>\n      <td>-0.390133</td>\n      <td>-0.166218</td>\n      <td>-0.753531</td>\n    </tr>\n    <tr>\n      <th>2</th>\n      <td>1.258521</td>\n      <td>1.303650</td>\n      <td>-0.246024</td>\n      <td>-1.323572</td>\n      <td>-0.643214</td>\n      <td>-1.058340</td>\n      <td>0.541023</td>\n      <td>-0.083831</td>\n      <td>1.341002</td>\n    </tr>\n    <tr>\n      <th>3</th>\n      <td>-0.840407</td>\n      <td>-0.743384</td>\n      <td>-0.142932</td>\n      <td>0.150952</td>\n      <td>0.071519</td>\n      <td>-0.472454</td>\n      <td>-0.923879</td>\n      <td>-0.990090</td>\n      <td>-0.753531</td>\n    </tr>\n    <tr>\n      <th>4</th>\n      <td>-1.140254</td>\n      <td>0.301910</td>\n      <td>-1.483126</td>\n      <td>0.920268</td>\n      <td>0.634181</td>\n      <td>1.358442</td>\n      <td>5.228710</td>\n      <td>-0.001444</td>\n      <td>1.341002</td>\n    </tr>\n    <tr>\n      <th>...</th>\n      <td>...</td>\n      <td>...</td>\n      <td>...</td>\n      <td>...</td>\n      <td>...</td>\n      <td>...</td>\n      <td>...</td>\n      <td>...</td>\n      <td>...</td>\n    </tr>\n    <tr>\n      <th>497</th>\n      <td>-0.540561</td>\n      <td>-0.917600</td>\n      <td>0.166343</td>\n      <td>-0.361926</td>\n      <td>-0.065345</td>\n      <td>-0.228334</td>\n      <td>0.178423</td>\n      <td>-0.660541</td>\n      <td>-0.753531</td>\n    </tr>\n    <tr>\n      <th>498</th>\n      <td>0.958674</td>\n      <td>1.564974</td>\n      <td>0.063252</td>\n      <td>0.792049</td>\n      <td>0.459299</td>\n      <td>-0.838633</td>\n      <td>-0.935483</td>\n      <td>1.811072</td>\n      <td>1.341002</td>\n    </tr>\n    <tr>\n      <th>499</th>\n      <td>0.658827</td>\n      <td>0.672119</td>\n      <td>0.269435</td>\n      <td>0.727939</td>\n      <td>0.824269</td>\n      <td>-0.325982</td>\n      <td>1.025456</td>\n      <td>0.492878</td>\n      <td>-0.753531</td>\n    </tr>\n    <tr>\n      <th>500</th>\n      <td>-0.540561</td>\n      <td>-0.133629</td>\n      <td>1.094170</td>\n      <td>-0.105487</td>\n      <td>-0.103363</td>\n      <td>-0.826427</td>\n      <td>-0.500363</td>\n      <td>-0.990090</td>\n      <td>-0.753531</td>\n    </tr>\n    <tr>\n      <th>501</th>\n      <td>-0.240714</td>\n      <td>-0.852269</td>\n      <td>0.166343</td>\n      <td>0.727939</td>\n      <td>-0.643214</td>\n      <td>0.638290</td>\n      <td>-0.633800</td>\n      <td>-0.413380</td>\n      <td>-0.753531</td>\n    </tr>\n  </tbody>\n</table>\n<p>502 rows × 9 columns</p>\n</div>"
     },
     "metadata": {},
     "output_type": "execute_result",
     "execution_count": 65
    }
   ],
   "source": [
    "from sklearn.preprocessing import StandardScaler, MinMaxScaler\n",
    "scaled_features = StandardScaler().fit_transform(dff.values)\n",
    "scaled_features_df = pd.DataFrame(scaled_features, index=dff.index, columns=dff.columns)\n",
    "scaled_features_df"
   ],
   "metadata": {
    "collapsed": false,
    "pycharm": {
     "name": "#%%\n",
     "is_executing": false
    }
   }
  },
  {
   "cell_type": "markdown",
   "source": [
    "# 3.c Normalize"
   ],
   "metadata": {
    "collapsed": false
   }
  },
  {
   "cell_type": "code",
   "execution_count": 66,
   "outputs": [
    {
     "data": {
      "text/plain": "     Pregnancies   Glucose  BloodPressure  SkinThickness   Insulin       BMI  \\\n0       0.033552  0.827612       0.402622       0.195719  0.000000  0.187890   \n1       0.008424  0.716040       0.555984       0.244296  0.000000  0.224079   \n2       0.040397  0.924085       0.323177       0.000000  0.000000  0.117657   \n3       0.006612  0.588467       0.436392       0.152076  0.621527  0.185797   \n4       0.000000  0.596381       0.174126       0.152360  0.731328  0.187620   \n..           ...       ...            ...            ...       ...       ...   \n497     0.014403  0.583333       0.518518       0.108025  0.547325  0.216770   \n498     0.026698  0.743733       0.266981       0.125863  0.553032  0.095732   \n499     0.022697  0.582560       0.279931       0.121051  0.730091  0.110838   \n500     0.011895  0.695848       0.535267       0.113001  0.422267  0.149875   \n501     0.024143  0.675994       0.579423       0.257522  0.000000  0.299369   \n\n     DiabetesPedigreeFunction       Age   Outcome  \n0                    0.003506  0.279599  0.005592  \n1                    0.002957  0.261144  0.000000  \n2                    0.003393  0.161589  0.005050  \n3                    0.001104  0.138852  0.000000  \n4                    0.009960  0.143654  0.004353  \n..                        ...       ...       ...  \n497                  0.003939  0.180041  0.000000  \n498                  0.000622  0.209771  0.003814  \n499                  0.003174  0.147531  0.000000  \n500                  0.001862  0.124896  0.000000  \n501                  0.002149  0.225331  0.000000  \n\n[502 rows x 9 columns]",
      "text/html": "<div>\n<style scoped>\n    .dataframe tbody tr th:only-of-type {\n        vertical-align: middle;\n    }\n\n    .dataframe tbody tr th {\n        vertical-align: top;\n    }\n\n    .dataframe thead th {\n        text-align: right;\n    }\n</style>\n<table border=\"1\" class=\"dataframe\">\n  <thead>\n    <tr style=\"text-align: right;\">\n      <th></th>\n      <th>Pregnancies</th>\n      <th>Glucose</th>\n      <th>BloodPressure</th>\n      <th>SkinThickness</th>\n      <th>Insulin</th>\n      <th>BMI</th>\n      <th>DiabetesPedigreeFunction</th>\n      <th>Age</th>\n      <th>Outcome</th>\n    </tr>\n  </thead>\n  <tbody>\n    <tr>\n      <th>0</th>\n      <td>0.033552</td>\n      <td>0.827612</td>\n      <td>0.402622</td>\n      <td>0.195719</td>\n      <td>0.000000</td>\n      <td>0.187890</td>\n      <td>0.003506</td>\n      <td>0.279599</td>\n      <td>0.005592</td>\n    </tr>\n    <tr>\n      <th>1</th>\n      <td>0.008424</td>\n      <td>0.716040</td>\n      <td>0.555984</td>\n      <td>0.244296</td>\n      <td>0.000000</td>\n      <td>0.224079</td>\n      <td>0.002957</td>\n      <td>0.261144</td>\n      <td>0.000000</td>\n    </tr>\n    <tr>\n      <th>2</th>\n      <td>0.040397</td>\n      <td>0.924085</td>\n      <td>0.323177</td>\n      <td>0.000000</td>\n      <td>0.000000</td>\n      <td>0.117657</td>\n      <td>0.003393</td>\n      <td>0.161589</td>\n      <td>0.005050</td>\n    </tr>\n    <tr>\n      <th>3</th>\n      <td>0.006612</td>\n      <td>0.588467</td>\n      <td>0.436392</td>\n      <td>0.152076</td>\n      <td>0.621527</td>\n      <td>0.185797</td>\n      <td>0.001104</td>\n      <td>0.138852</td>\n      <td>0.000000</td>\n    </tr>\n    <tr>\n      <th>4</th>\n      <td>0.000000</td>\n      <td>0.596381</td>\n      <td>0.174126</td>\n      <td>0.152360</td>\n      <td>0.731328</td>\n      <td>0.187620</td>\n      <td>0.009960</td>\n      <td>0.143654</td>\n      <td>0.004353</td>\n    </tr>\n    <tr>\n      <th>...</th>\n      <td>...</td>\n      <td>...</td>\n      <td>...</td>\n      <td>...</td>\n      <td>...</td>\n      <td>...</td>\n      <td>...</td>\n      <td>...</td>\n      <td>...</td>\n    </tr>\n    <tr>\n      <th>497</th>\n      <td>0.014403</td>\n      <td>0.583333</td>\n      <td>0.518518</td>\n      <td>0.108025</td>\n      <td>0.547325</td>\n      <td>0.216770</td>\n      <td>0.003939</td>\n      <td>0.180041</td>\n      <td>0.000000</td>\n    </tr>\n    <tr>\n      <th>498</th>\n      <td>0.026698</td>\n      <td>0.743733</td>\n      <td>0.266981</td>\n      <td>0.125863</td>\n      <td>0.553032</td>\n      <td>0.095732</td>\n      <td>0.000622</td>\n      <td>0.209771</td>\n      <td>0.003814</td>\n    </tr>\n    <tr>\n      <th>499</th>\n      <td>0.022697</td>\n      <td>0.582560</td>\n      <td>0.279931</td>\n      <td>0.121051</td>\n      <td>0.730091</td>\n      <td>0.110838</td>\n      <td>0.003174</td>\n      <td>0.147531</td>\n      <td>0.000000</td>\n    </tr>\n    <tr>\n      <th>500</th>\n      <td>0.011895</td>\n      <td>0.695848</td>\n      <td>0.535267</td>\n      <td>0.113001</td>\n      <td>0.422267</td>\n      <td>0.149875</td>\n      <td>0.001862</td>\n      <td>0.124896</td>\n      <td>0.000000</td>\n    </tr>\n    <tr>\n      <th>501</th>\n      <td>0.024143</td>\n      <td>0.675994</td>\n      <td>0.579423</td>\n      <td>0.257522</td>\n      <td>0.000000</td>\n      <td>0.299369</td>\n      <td>0.002149</td>\n      <td>0.225331</td>\n      <td>0.000000</td>\n    </tr>\n  </tbody>\n</table>\n<p>502 rows × 9 columns</p>\n</div>"
     },
     "metadata": {},
     "output_type": "execute_result",
     "execution_count": 66
    }
   ],
   "source": [
    "normalized = preprocessing.normalize(dff)\n",
    "normalized_df = pd.DataFrame(normalized ,index=dff.index, columns=dff.columns)\n",
    "normalized_df"
   ],
   "metadata": {
    "collapsed": false,
    "pycharm": {
     "name": "#%%\n",
     "is_executing": false
    }
   }
  },
  {
   "cell_type": "markdown",
   "source": [
    "# 3.c MinMaxScaler"
   ],
   "metadata": {
    "collapsed": false
   }
  },
  {
   "cell_type": "code",
   "execution_count": 67,
   "outputs": [
    {
     "data": {
      "text/plain": "     Pregnancies  Glucose  BloodPressure  SkinThickness   Insulin       BMI  \\\n0       0.352941  0.18500       0.590164       0.555556  0.000000  0.500745   \n1       0.058824  0.10625       0.540984       0.460317  0.000000  0.396423   \n2       0.470588  0.22875       0.524590       0.000000  0.000000  0.347243   \n3       0.058824  0.11125       0.540984       0.365079  0.097917  0.418778   \n4       0.000000  0.17125       0.327869       0.555556  0.175000  0.642325   \n..           ...      ...            ...            ...       ...       ...   \n497     0.117647  0.10125       0.590164       0.238095  0.079167  0.448584   \n498     0.411765  0.24375       0.573770       0.523810  0.151042  0.374069   \n499     0.352941  0.19250       0.606557       0.507937  0.201042  0.436662   \n500     0.117647  0.14625       0.737705       0.301587  0.073958  0.375559   \n501     0.176471  0.10500       0.590164       0.507937  0.000000  0.554396   \n\n     DiabetesPedigreeFunction       Age  Outcome  \n0                    0.234415  0.500000      1.0  \n1                    0.116567  0.306122      0.0  \n2                    0.253629  0.316327      1.0  \n3                    0.038002  0.204082      0.0  \n4                    0.943638  0.326531      1.0  \n..                        ...       ...      ...  \n497                  0.200256  0.244898      0.0  \n498                  0.036294  0.551020      1.0  \n499                  0.324936  0.387755      0.0  \n500                  0.100342  0.204082      0.0  \n501                  0.080700  0.275510      0.0  \n\n[502 rows x 9 columns]",
      "text/html": "<div>\n<style scoped>\n    .dataframe tbody tr th:only-of-type {\n        vertical-align: middle;\n    }\n\n    .dataframe tbody tr th {\n        vertical-align: top;\n    }\n\n    .dataframe thead th {\n        text-align: right;\n    }\n</style>\n<table border=\"1\" class=\"dataframe\">\n  <thead>\n    <tr style=\"text-align: right;\">\n      <th></th>\n      <th>Pregnancies</th>\n      <th>Glucose</th>\n      <th>BloodPressure</th>\n      <th>SkinThickness</th>\n      <th>Insulin</th>\n      <th>BMI</th>\n      <th>DiabetesPedigreeFunction</th>\n      <th>Age</th>\n      <th>Outcome</th>\n    </tr>\n  </thead>\n  <tbody>\n    <tr>\n      <th>0</th>\n      <td>0.352941</td>\n      <td>0.18500</td>\n      <td>0.590164</td>\n      <td>0.555556</td>\n      <td>0.000000</td>\n      <td>0.500745</td>\n      <td>0.234415</td>\n      <td>0.500000</td>\n      <td>1.0</td>\n    </tr>\n    <tr>\n      <th>1</th>\n      <td>0.058824</td>\n      <td>0.10625</td>\n      <td>0.540984</td>\n      <td>0.460317</td>\n      <td>0.000000</td>\n      <td>0.396423</td>\n      <td>0.116567</td>\n      <td>0.306122</td>\n      <td>0.0</td>\n    </tr>\n    <tr>\n      <th>2</th>\n      <td>0.470588</td>\n      <td>0.22875</td>\n      <td>0.524590</td>\n      <td>0.000000</td>\n      <td>0.000000</td>\n      <td>0.347243</td>\n      <td>0.253629</td>\n      <td>0.316327</td>\n      <td>1.0</td>\n    </tr>\n    <tr>\n      <th>3</th>\n      <td>0.058824</td>\n      <td>0.11125</td>\n      <td>0.540984</td>\n      <td>0.365079</td>\n      <td>0.097917</td>\n      <td>0.418778</td>\n      <td>0.038002</td>\n      <td>0.204082</td>\n      <td>0.0</td>\n    </tr>\n    <tr>\n      <th>4</th>\n      <td>0.000000</td>\n      <td>0.17125</td>\n      <td>0.327869</td>\n      <td>0.555556</td>\n      <td>0.175000</td>\n      <td>0.642325</td>\n      <td>0.943638</td>\n      <td>0.326531</td>\n      <td>1.0</td>\n    </tr>\n    <tr>\n      <th>...</th>\n      <td>...</td>\n      <td>...</td>\n      <td>...</td>\n      <td>...</td>\n      <td>...</td>\n      <td>...</td>\n      <td>...</td>\n      <td>...</td>\n      <td>...</td>\n    </tr>\n    <tr>\n      <th>497</th>\n      <td>0.117647</td>\n      <td>0.10125</td>\n      <td>0.590164</td>\n      <td>0.238095</td>\n      <td>0.079167</td>\n      <td>0.448584</td>\n      <td>0.200256</td>\n      <td>0.244898</td>\n      <td>0.0</td>\n    </tr>\n    <tr>\n      <th>498</th>\n      <td>0.411765</td>\n      <td>0.24375</td>\n      <td>0.573770</td>\n      <td>0.523810</td>\n      <td>0.151042</td>\n      <td>0.374069</td>\n      <td>0.036294</td>\n      <td>0.551020</td>\n      <td>1.0</td>\n    </tr>\n    <tr>\n      <th>499</th>\n      <td>0.352941</td>\n      <td>0.19250</td>\n      <td>0.606557</td>\n      <td>0.507937</td>\n      <td>0.201042</td>\n      <td>0.436662</td>\n      <td>0.324936</td>\n      <td>0.387755</td>\n      <td>0.0</td>\n    </tr>\n    <tr>\n      <th>500</th>\n      <td>0.117647</td>\n      <td>0.14625</td>\n      <td>0.737705</td>\n      <td>0.301587</td>\n      <td>0.073958</td>\n      <td>0.375559</td>\n      <td>0.100342</td>\n      <td>0.204082</td>\n      <td>0.0</td>\n    </tr>\n    <tr>\n      <th>501</th>\n      <td>0.176471</td>\n      <td>0.10500</td>\n      <td>0.590164</td>\n      <td>0.507937</td>\n      <td>0.000000</td>\n      <td>0.554396</td>\n      <td>0.080700</td>\n      <td>0.275510</td>\n      <td>0.0</td>\n    </tr>\n  </tbody>\n</table>\n<p>502 rows × 9 columns</p>\n</div>"
     },
     "metadata": {},
     "output_type": "execute_result",
     "execution_count": 67
    }
   ],
   "source": [
    "\n",
    "x = dff.values #returns a numpy array\n",
    "min_max_scaler = preprocessing.MinMaxScaler()\n",
    "x_scaled = min_max_scaler.fit_transform(x)\n",
    "min_max_scaler_df = pd.DataFrame(x_scaled,index=dff.index, columns=dff.columns)\n",
    "min_max_scaler_df"
   ],
   "metadata": {
    "collapsed": false,
    "pycharm": {
     "name": "#%%\n",
     "is_executing": false
    }
   }
  },
  {
   "cell_type": "markdown",
   "source": [
    "# 3.d "
   ],
   "metadata": {
    "collapsed": false
   }
  },
  {
   "cell_type": "code",
   "execution_count": 68,
   "outputs": [
    {
     "data": {
      "text/plain": "<AxesSubplot:>"
     },
     "metadata": {},
     "output_type": "execute_result",
     "execution_count": 68
    },
    {
     "data": {
      "text/plain": "<Figure size 432x288 with 1 Axes>",
      "image/png": "[encoded data removed]"
     },
     "metadata": {
      "needs_background": "light"
     },
     "output_type": "display_data"
    }
   ],
   "source": [
    "normalized_df['Glucose'].hist()"
   ],
   "metadata": {
    "collapsed": false,
    "pycharm": {
     "name": "#%%\n",
     "is_executing": false
    }
   }
  },
  {
   "cell_type": "code",
   "execution_count": 69,
   "outputs": [
    {
     "data": {
      "text/plain": "<AxesSubplot:>"
     },
     "metadata": {},
     "output_type": "execute_result",
     "execution_count": 69
    },
    {
     "data": {
      "text/plain": "<Figure size 432x288 with 1 Axes>",
      "image/png": "[encoded data removed]"
     },
     "metadata": {
      "needs_background": "light"
     },
     "output_type": "display_data"
    }
   ],
   "source": [
    "min_max_scaler_df['Glucose'].hist()\n"
   ],
   "metadata": {
    "collapsed": false,
    "pycharm": {
     "name": "#%%\n",
     "is_executing": false
    }
   }
  }
 ],
 "metadata": {
  "kernelspec": {
   "display_name": "Python 3",
   "language": "python",
   "name": "python3"
  },
  "language_info": {
   "codemirror_mode": {
    "name": "ipython",
    "version": 2
   },
   "file_extension": ".py",
   "mimetype": "text/x-python",
   "name": "python",
   "nbconvert_exporter": "python",
   "pygments_lexer": "ipython2",
   "version": "2.7.6"
  },
  "pycharm": {
   "stem_cell": {
    "cell_type": "raw",
    "source": [],
    "metadata": {
     "collapsed": false
    }
   }
  }
 },
 "nbformat": 4,
 "nbformat_minor": 0
}
