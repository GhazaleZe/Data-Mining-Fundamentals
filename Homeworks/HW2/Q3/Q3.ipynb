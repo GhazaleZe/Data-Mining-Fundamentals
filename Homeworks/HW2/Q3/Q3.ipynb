{
 "cells": [
  {
   "cell_type": "code",
   "execution_count": 582,
   "metadata": {
    "collapsed": true,
    "pycharm": {
     "is_executing": false
    }
   },
   "outputs": [
    {
     "data": {
      "text/plain": "     Pregnancies Glucose  BloodPressure SkinThickness Insulin   BMI  \\\n0              6     148           72.0            35     NaN  33.6   \n1              1      85           66.0            29     NaN  26.6   \n2              8     183           64.0           NaN     NaN  23.3   \n3              1      89           66.0            23      94  28.1   \n4              0     137           40.0            35     168  43.1   \n..           ...     ...            ...           ...     ...   ...   \n497            2      81           72.0            15      76  30.1   \n498            7     195           70.0            33     145  25.1   \n499            6     154           74.0            32     193  29.3   \n500            2     117           90.0            19      71  25.2   \n501            3      84           72.0            32     NaN  37.2   \n\n    DiabetesPedigreeFunction Age Outcome  \n0                      0.627  50       1  \n1                      0.351  31       0  \n2                      0.672  32       1  \n3                      0.167  21       0  \n4                      2.288  33       1  \n..                       ...  ..     ...  \n497                    0.547  25       0  \n498                    0.163  55       1  \n499                    0.839  39       0  \n500                    0.313  21       0  \n501                    0.267  28       0  \n\n[502 rows x 9 columns]",
      "text/html": "<div>\n<style scoped>\n    .dataframe tbody tr th:only-of-type {\n        vertical-align: middle;\n    }\n\n    .dataframe tbody tr th {\n        vertical-align: top;\n    }\n\n    .dataframe thead th {\n        text-align: right;\n    }\n</style>\n<table border=\"1\" class=\"dataframe\">\n  <thead>\n    <tr style=\"text-align: right;\">\n      <th></th>\n      <th>Pregnancies</th>\n      <th>Glucose</th>\n      <th>BloodPressure</th>\n      <th>SkinThickness</th>\n      <th>Insulin</th>\n      <th>BMI</th>\n      <th>DiabetesPedigreeFunction</th>\n      <th>Age</th>\n      <th>Outcome</th>\n    </tr>\n  </thead>\n  <tbody>\n    <tr>\n      <th>0</th>\n      <td>6</td>\n      <td>148</td>\n      <td>72.0</td>\n      <td>35</td>\n      <td>NaN</td>\n      <td>33.6</td>\n      <td>0.627</td>\n      <td>50</td>\n      <td>1</td>\n    </tr>\n    <tr>\n      <th>1</th>\n      <td>1</td>\n      <td>85</td>\n      <td>66.0</td>\n      <td>29</td>\n      <td>NaN</td>\n      <td>26.6</td>\n      <td>0.351</td>\n      <td>31</td>\n      <td>0</td>\n    </tr>\n    <tr>\n      <th>2</th>\n      <td>8</td>\n      <td>183</td>\n      <td>64.0</td>\n      <td>NaN</td>\n      <td>NaN</td>\n      <td>23.3</td>\n      <td>0.672</td>\n      <td>32</td>\n      <td>1</td>\n    </tr>\n    <tr>\n      <th>3</th>\n      <td>1</td>\n      <td>89</td>\n      <td>66.0</td>\n      <td>23</td>\n      <td>94</td>\n      <td>28.1</td>\n      <td>0.167</td>\n      <td>21</td>\n      <td>0</td>\n    </tr>\n    <tr>\n      <th>4</th>\n      <td>0</td>\n      <td>137</td>\n      <td>40.0</td>\n      <td>35</td>\n      <td>168</td>\n      <td>43.1</td>\n      <td>2.288</td>\n      <td>33</td>\n      <td>1</td>\n    </tr>\n    <tr>\n      <th>...</th>\n      <td>...</td>\n      <td>...</td>\n      <td>...</td>\n      <td>...</td>\n      <td>...</td>\n      <td>...</td>\n      <td>...</td>\n      <td>...</td>\n      <td>...</td>\n    </tr>\n    <tr>\n      <th>497</th>\n      <td>2</td>\n      <td>81</td>\n      <td>72.0</td>\n      <td>15</td>\n      <td>76</td>\n      <td>30.1</td>\n      <td>0.547</td>\n      <td>25</td>\n      <td>0</td>\n    </tr>\n    <tr>\n      <th>498</th>\n      <td>7</td>\n      <td>195</td>\n      <td>70.0</td>\n      <td>33</td>\n      <td>145</td>\n      <td>25.1</td>\n      <td>0.163</td>\n      <td>55</td>\n      <td>1</td>\n    </tr>\n    <tr>\n      <th>499</th>\n      <td>6</td>\n      <td>154</td>\n      <td>74.0</td>\n      <td>32</td>\n      <td>193</td>\n      <td>29.3</td>\n      <td>0.839</td>\n      <td>39</td>\n      <td>0</td>\n    </tr>\n    <tr>\n      <th>500</th>\n      <td>2</td>\n      <td>117</td>\n      <td>90.0</td>\n      <td>19</td>\n      <td>71</td>\n      <td>25.2</td>\n      <td>0.313</td>\n      <td>21</td>\n      <td>0</td>\n    </tr>\n    <tr>\n      <th>501</th>\n      <td>3</td>\n      <td>84</td>\n      <td>72.0</td>\n      <td>32</td>\n      <td>NaN</td>\n      <td>37.2</td>\n      <td>0.267</td>\n      <td>28</td>\n      <td>0</td>\n    </tr>\n  </tbody>\n</table>\n<p>502 rows × 9 columns</p>\n</div>"
     },
     "metadata": {},
     "output_type": "execute_result",
     "execution_count": 582
    }
   ],
   "source": [
    "import pandas as pd\n",
    "import numpy as np\n",
    "import matplotlib as plt\n",
    "df= pd.read_csv('Diabetes.csv')\n",
    "df.head()\n",
    "df=df.replace('?',np.nan)\n",
    "df=df.replace('MISS',np.nan)\n",
    "df=df.replace('NULL',np.nan)\n",
    "df=df.replace(\"''\",np.nan)\n",
    "df['Outcome']=df['Outcome'].fillna(0)\n",
    "df['Glucose']=df['Glucose'].replace(0,np.nan)\n",
    "df['BloodPressure']=df['BloodPressure'].replace(0,np.nan)\n",
    "df['SkinThickness']=df['SkinThickness'].replace('0',np.nan)\n",
    "df['BMI']=df['BMI'].replace('0.0',np.nan)\n",
    "df['Insulin']=df['Insulin'].replace('0',np.nan)\n",
    "df['DiabetesPedigreeFunction']=df['DiabetesPedigreeFunction'].replace(0,np.nan)\n",
    "df['Age']=df['Age'].replace(0,np.nan)\n",
    "df"
   ]
  },
  {
   "cell_type": "markdown",
   "source": [
    "# 3.a \n",
    "## fill NAN with 100"
   ],
   "metadata": {
    "collapsed": false,
    "pycharm": {
     "name": "#%% md\n",
     "is_executing": false
    }
   }
  },
  {
   "cell_type": "code",
   "execution_count": 583,
   "outputs": [
    {
     "data": {
      "text/plain": "     Pregnancies Glucose  BloodPressure SkinThickness Insulin   BMI  \\\n0              6     148           72.0            35     100  33.6   \n1              1      85           66.0            29     100  26.6   \n2              8     183           64.0           100     100  23.3   \n3              1      89           66.0            23      94  28.1   \n4              0     137           40.0            35     168  43.1   \n..           ...     ...            ...           ...     ...   ...   \n497            2      81           72.0            15      76  30.1   \n498            7     195           70.0            33     145  25.1   \n499            6     154           74.0            32     193  29.3   \n500            2     117           90.0            19      71  25.2   \n501            3      84           72.0            32     100  37.2   \n\n    DiabetesPedigreeFunction Age Outcome  \n0                      0.627  50       1  \n1                      0.351  31       0  \n2                      0.672  32       1  \n3                      0.167  21       0  \n4                      2.288  33       1  \n..                       ...  ..     ...  \n497                    0.547  25       0  \n498                    0.163  55       1  \n499                    0.839  39       0  \n500                    0.313  21       0  \n501                    0.267  28       0  \n\n[502 rows x 9 columns]",
      "text/html": "<div>\n<style scoped>\n    .dataframe tbody tr th:only-of-type {\n        vertical-align: middle;\n    }\n\n    .dataframe tbody tr th {\n        vertical-align: top;\n    }\n\n    .dataframe thead th {\n        text-align: right;\n    }\n</style>\n<table border=\"1\" class=\"dataframe\">\n  <thead>\n    <tr style=\"text-align: right;\">\n      <th></th>\n      <th>Pregnancies</th>\n      <th>Glucose</th>\n      <th>BloodPressure</th>\n      <th>SkinThickness</th>\n      <th>Insulin</th>\n      <th>BMI</th>\n      <th>DiabetesPedigreeFunction</th>\n      <th>Age</th>\n      <th>Outcome</th>\n    </tr>\n  </thead>\n  <tbody>\n    <tr>\n      <th>0</th>\n      <td>6</td>\n      <td>148</td>\n      <td>72.0</td>\n      <td>35</td>\n      <td>100</td>\n      <td>33.6</td>\n      <td>0.627</td>\n      <td>50</td>\n      <td>1</td>\n    </tr>\n    <tr>\n      <th>1</th>\n      <td>1</td>\n      <td>85</td>\n      <td>66.0</td>\n      <td>29</td>\n      <td>100</td>\n      <td>26.6</td>\n      <td>0.351</td>\n      <td>31</td>\n      <td>0</td>\n    </tr>\n    <tr>\n      <th>2</th>\n      <td>8</td>\n      <td>183</td>\n      <td>64.0</td>\n      <td>100</td>\n      <td>100</td>\n      <td>23.3</td>\n      <td>0.672</td>\n      <td>32</td>\n      <td>1</td>\n    </tr>\n    <tr>\n      <th>3</th>\n      <td>1</td>\n      <td>89</td>\n      <td>66.0</td>\n      <td>23</td>\n      <td>94</td>\n      <td>28.1</td>\n      <td>0.167</td>\n      <td>21</td>\n      <td>0</td>\n    </tr>\n    <tr>\n      <th>4</th>\n      <td>0</td>\n      <td>137</td>\n      <td>40.0</td>\n      <td>35</td>\n      <td>168</td>\n      <td>43.1</td>\n      <td>2.288</td>\n      <td>33</td>\n      <td>1</td>\n    </tr>\n    <tr>\n      <th>...</th>\n      <td>...</td>\n      <td>...</td>\n      <td>...</td>\n      <td>...</td>\n      <td>...</td>\n      <td>...</td>\n      <td>...</td>\n      <td>...</td>\n      <td>...</td>\n    </tr>\n    <tr>\n      <th>497</th>\n      <td>2</td>\n      <td>81</td>\n      <td>72.0</td>\n      <td>15</td>\n      <td>76</td>\n      <td>30.1</td>\n      <td>0.547</td>\n      <td>25</td>\n      <td>0</td>\n    </tr>\n    <tr>\n      <th>498</th>\n      <td>7</td>\n      <td>195</td>\n      <td>70.0</td>\n      <td>33</td>\n      <td>145</td>\n      <td>25.1</td>\n      <td>0.163</td>\n      <td>55</td>\n      <td>1</td>\n    </tr>\n    <tr>\n      <th>499</th>\n      <td>6</td>\n      <td>154</td>\n      <td>74.0</td>\n      <td>32</td>\n      <td>193</td>\n      <td>29.3</td>\n      <td>0.839</td>\n      <td>39</td>\n      <td>0</td>\n    </tr>\n    <tr>\n      <th>500</th>\n      <td>2</td>\n      <td>117</td>\n      <td>90.0</td>\n      <td>19</td>\n      <td>71</td>\n      <td>25.2</td>\n      <td>0.313</td>\n      <td>21</td>\n      <td>0</td>\n    </tr>\n    <tr>\n      <th>501</th>\n      <td>3</td>\n      <td>84</td>\n      <td>72.0</td>\n      <td>32</td>\n      <td>100</td>\n      <td>37.2</td>\n      <td>0.267</td>\n      <td>28</td>\n      <td>0</td>\n    </tr>\n  </tbody>\n</table>\n<p>502 rows × 9 columns</p>\n</div>"
     },
     "metadata": {},
     "output_type": "execute_result",
     "execution_count": 583
    }
   ],
   "source": [
    "df.fillna(100)"
   ],
   "metadata": {
    "collapsed": false,
    "pycharm": {
     "name": "#%%\n",
     "is_executing": false
    }
   }
  },
  {
   "cell_type": "markdown",
   "source": [
    "# 3.b\n",
    "## fill a num in the column"
   ],
   "metadata": {
    "collapsed": false
   }
  },
  {
   "cell_type": "code",
   "execution_count": 584,
   "outputs": [
    {
     "data": {
      "text/plain": "     Pregnancies Glucose  BloodPressure SkinThickness Insulin   BMI  \\\n0              6     148           72.0            35      94  33.6   \n1              1      85           66.0            29      94  26.6   \n2              8     183           64.0            23      94  23.3   \n3              1      89           66.0            23      94  28.1   \n4              0     137           40.0            35     168  43.1   \n..           ...     ...            ...           ...     ...   ...   \n497            2      81           72.0            15      76  30.1   \n498            7     195           70.0            33     145  25.1   \n499            6     154           74.0            32     193  29.3   \n500            2     117           90.0            19      71  25.2   \n501            3      84           72.0            32     NaN  37.2   \n\n    DiabetesPedigreeFunction Age Outcome  \n0                      0.627  50       1  \n1                      0.351  31       0  \n2                      0.672  32       1  \n3                      0.167  21       0  \n4                      2.288  33       1  \n..                       ...  ..     ...  \n497                    0.547  25       0  \n498                    0.163  55       1  \n499                    0.839  39       0  \n500                    0.313  21       0  \n501                    0.267  28       0  \n\n[502 rows x 9 columns]",
      "text/html": "<div>\n<style scoped>\n    .dataframe tbody tr th:only-of-type {\n        vertical-align: middle;\n    }\n\n    .dataframe tbody tr th {\n        vertical-align: top;\n    }\n\n    .dataframe thead th {\n        text-align: right;\n    }\n</style>\n<table border=\"1\" class=\"dataframe\">\n  <thead>\n    <tr style=\"text-align: right;\">\n      <th></th>\n      <th>Pregnancies</th>\n      <th>Glucose</th>\n      <th>BloodPressure</th>\n      <th>SkinThickness</th>\n      <th>Insulin</th>\n      <th>BMI</th>\n      <th>DiabetesPedigreeFunction</th>\n      <th>Age</th>\n      <th>Outcome</th>\n    </tr>\n  </thead>\n  <tbody>\n    <tr>\n      <th>0</th>\n      <td>6</td>\n      <td>148</td>\n      <td>72.0</td>\n      <td>35</td>\n      <td>94</td>\n      <td>33.6</td>\n      <td>0.627</td>\n      <td>50</td>\n      <td>1</td>\n    </tr>\n    <tr>\n      <th>1</th>\n      <td>1</td>\n      <td>85</td>\n      <td>66.0</td>\n      <td>29</td>\n      <td>94</td>\n      <td>26.6</td>\n      <td>0.351</td>\n      <td>31</td>\n      <td>0</td>\n    </tr>\n    <tr>\n      <th>2</th>\n      <td>8</td>\n      <td>183</td>\n      <td>64.0</td>\n      <td>23</td>\n      <td>94</td>\n      <td>23.3</td>\n      <td>0.672</td>\n      <td>32</td>\n      <td>1</td>\n    </tr>\n    <tr>\n      <th>3</th>\n      <td>1</td>\n      <td>89</td>\n      <td>66.0</td>\n      <td>23</td>\n      <td>94</td>\n      <td>28.1</td>\n      <td>0.167</td>\n      <td>21</td>\n      <td>0</td>\n    </tr>\n    <tr>\n      <th>4</th>\n      <td>0</td>\n      <td>137</td>\n      <td>40.0</td>\n      <td>35</td>\n      <td>168</td>\n      <td>43.1</td>\n      <td>2.288</td>\n      <td>33</td>\n      <td>1</td>\n    </tr>\n    <tr>\n      <th>...</th>\n      <td>...</td>\n      <td>...</td>\n      <td>...</td>\n      <td>...</td>\n      <td>...</td>\n      <td>...</td>\n      <td>...</td>\n      <td>...</td>\n      <td>...</td>\n    </tr>\n    <tr>\n      <th>497</th>\n      <td>2</td>\n      <td>81</td>\n      <td>72.0</td>\n      <td>15</td>\n      <td>76</td>\n      <td>30.1</td>\n      <td>0.547</td>\n      <td>25</td>\n      <td>0</td>\n    </tr>\n    <tr>\n      <th>498</th>\n      <td>7</td>\n      <td>195</td>\n      <td>70.0</td>\n      <td>33</td>\n      <td>145</td>\n      <td>25.1</td>\n      <td>0.163</td>\n      <td>55</td>\n      <td>1</td>\n    </tr>\n    <tr>\n      <th>499</th>\n      <td>6</td>\n      <td>154</td>\n      <td>74.0</td>\n      <td>32</td>\n      <td>193</td>\n      <td>29.3</td>\n      <td>0.839</td>\n      <td>39</td>\n      <td>0</td>\n    </tr>\n    <tr>\n      <th>500</th>\n      <td>2</td>\n      <td>117</td>\n      <td>90.0</td>\n      <td>19</td>\n      <td>71</td>\n      <td>25.2</td>\n      <td>0.313</td>\n      <td>21</td>\n      <td>0</td>\n    </tr>\n    <tr>\n      <th>501</th>\n      <td>3</td>\n      <td>84</td>\n      <td>72.0</td>\n      <td>32</td>\n      <td>NaN</td>\n      <td>37.2</td>\n      <td>0.267</td>\n      <td>28</td>\n      <td>0</td>\n    </tr>\n  </tbody>\n</table>\n<p>502 rows × 9 columns</p>\n</div>"
     },
     "metadata": {},
     "output_type": "execute_result",
     "execution_count": 584
    }
   ],
   "source": [
    "df.fillna(method='bfill')"
   ],
   "metadata": {
    "collapsed": false,
    "pycharm": {
     "name": "#%%\n",
     "is_executing": false
    }
   }
  },
  {
   "cell_type": "markdown",
   "source": [
    "# 3.c\n",
    "## fill with the mean of the column"
   ],
   "metadata": {
    "collapsed": false,
    "pycharm": {
     "name": "#%% md\n"
    }
   }
  },
  {
   "cell_type": "code",
   "execution_count": 585,
   "outputs": [
    {
     "data": {
      "text/plain": "     Pregnancies  Glucose  BloodPressure  SkinThickness     Insulin   BMI  \\\n0              6    148.0           72.0      35.000000  163.513514  33.6   \n1              1     85.0           66.0      29.000000  163.513514  26.6   \n2              8    183.0           64.0      28.904494  163.513514  23.3   \n3              1     89.0           66.0      23.000000   94.000000  28.1   \n4              0    137.0           40.0      35.000000  168.000000  43.1   \n..           ...      ...            ...            ...         ...   ...   \n497            2     81.0           72.0      15.000000   76.000000  30.1   \n498            7    195.0           70.0      33.000000  145.000000  25.1   \n499            6    154.0           74.0      32.000000  193.000000  29.3   \n500            2    117.0           90.0      19.000000   71.000000  25.2   \n501            3     84.0           72.0      32.000000  163.513514  37.2   \n\n     DiabetesPedigreeFunction   Age  Outcome  \n0                       0.627  50.0        1  \n1                       0.351  31.0        0  \n2                       0.672  32.0        1  \n3                       0.167  21.0        0  \n4                       2.288  33.0        1  \n..                        ...   ...      ...  \n497                     0.547  25.0        0  \n498                     0.163  55.0        1  \n499                     0.839  39.0        0  \n500                     0.313  21.0        0  \n501                     0.267  28.0        0  \n\n[502 rows x 9 columns]",
      "text/html": "<div>\n<style scoped>\n    .dataframe tbody tr th:only-of-type {\n        vertical-align: middle;\n    }\n\n    .dataframe tbody tr th {\n        vertical-align: top;\n    }\n\n    .dataframe thead th {\n        text-align: right;\n    }\n</style>\n<table border=\"1\" class=\"dataframe\">\n  <thead>\n    <tr style=\"text-align: right;\">\n      <th></th>\n      <th>Pregnancies</th>\n      <th>Glucose</th>\n      <th>BloodPressure</th>\n      <th>SkinThickness</th>\n      <th>Insulin</th>\n      <th>BMI</th>\n      <th>DiabetesPedigreeFunction</th>\n      <th>Age</th>\n      <th>Outcome</th>\n    </tr>\n  </thead>\n  <tbody>\n    <tr>\n      <th>0</th>\n      <td>6</td>\n      <td>148.0</td>\n      <td>72.0</td>\n      <td>35.000000</td>\n      <td>163.513514</td>\n      <td>33.6</td>\n      <td>0.627</td>\n      <td>50.0</td>\n      <td>1</td>\n    </tr>\n    <tr>\n      <th>1</th>\n      <td>1</td>\n      <td>85.0</td>\n      <td>66.0</td>\n      <td>29.000000</td>\n      <td>163.513514</td>\n      <td>26.6</td>\n      <td>0.351</td>\n      <td>31.0</td>\n      <td>0</td>\n    </tr>\n    <tr>\n      <th>2</th>\n      <td>8</td>\n      <td>183.0</td>\n      <td>64.0</td>\n      <td>28.904494</td>\n      <td>163.513514</td>\n      <td>23.3</td>\n      <td>0.672</td>\n      <td>32.0</td>\n      <td>1</td>\n    </tr>\n    <tr>\n      <th>3</th>\n      <td>1</td>\n      <td>89.0</td>\n      <td>66.0</td>\n      <td>23.000000</td>\n      <td>94.000000</td>\n      <td>28.1</td>\n      <td>0.167</td>\n      <td>21.0</td>\n      <td>0</td>\n    </tr>\n    <tr>\n      <th>4</th>\n      <td>0</td>\n      <td>137.0</td>\n      <td>40.0</td>\n      <td>35.000000</td>\n      <td>168.000000</td>\n      <td>43.1</td>\n      <td>2.288</td>\n      <td>33.0</td>\n      <td>1</td>\n    </tr>\n    <tr>\n      <th>...</th>\n      <td>...</td>\n      <td>...</td>\n      <td>...</td>\n      <td>...</td>\n      <td>...</td>\n      <td>...</td>\n      <td>...</td>\n      <td>...</td>\n      <td>...</td>\n    </tr>\n    <tr>\n      <th>497</th>\n      <td>2</td>\n      <td>81.0</td>\n      <td>72.0</td>\n      <td>15.000000</td>\n      <td>76.000000</td>\n      <td>30.1</td>\n      <td>0.547</td>\n      <td>25.0</td>\n      <td>0</td>\n    </tr>\n    <tr>\n      <th>498</th>\n      <td>7</td>\n      <td>195.0</td>\n      <td>70.0</td>\n      <td>33.000000</td>\n      <td>145.000000</td>\n      <td>25.1</td>\n      <td>0.163</td>\n      <td>55.0</td>\n      <td>1</td>\n    </tr>\n    <tr>\n      <th>499</th>\n      <td>6</td>\n      <td>154.0</td>\n      <td>74.0</td>\n      <td>32.000000</td>\n      <td>193.000000</td>\n      <td>29.3</td>\n      <td>0.839</td>\n      <td>39.0</td>\n      <td>0</td>\n    </tr>\n    <tr>\n      <th>500</th>\n      <td>2</td>\n      <td>117.0</td>\n      <td>90.0</td>\n      <td>19.000000</td>\n      <td>71.000000</td>\n      <td>25.2</td>\n      <td>0.313</td>\n      <td>21.0</td>\n      <td>0</td>\n    </tr>\n    <tr>\n      <th>501</th>\n      <td>3</td>\n      <td>84.0</td>\n      <td>72.0</td>\n      <td>32.000000</td>\n      <td>163.513514</td>\n      <td>37.2</td>\n      <td>0.267</td>\n      <td>28.0</td>\n      <td>0</td>\n    </tr>\n  </tbody>\n</table>\n<p>502 rows × 9 columns</p>\n</div>"
     },
     "metadata": {},
     "output_type": "execute_result",
     "execution_count": 585
    }
   ],
   "source": [
    "#df.fillna(df.median(), inplace=True)\n",
    "df = df.apply(pd.to_numeric) # convert all columns of DataFrame\n",
    "df.fillna(df.mean())"
   ],
   "metadata": {
    "collapsed": false,
    "pycharm": {
     "name": "#%%\n",
     "is_executing": false
    }
   }
  },
  {
   "cell_type": "markdown",
   "source": [
    "# 3.d\n",
    "## fill with the mode of the column"
   ],
   "metadata": {
    "collapsed": false,
    "pycharm": {
     "name": "#%% md\n",
     "is_executing": false
    }
   }
  },
  {
   "cell_type": "code",
   "execution_count": 586,
   "outputs": [
    {
     "data": {
      "text/plain": "     Pregnancies  Glucose  BloodPressure  SkinThickness  Insulin   BMI  \\\n0              6    148.0           72.0           35.0    140.0  33.6   \n1              1     85.0           66.0           29.0      NaN  26.6   \n2              8    183.0           64.0            NaN      NaN  23.3   \n3              1     89.0           66.0           23.0     94.0  28.1   \n4              0    137.0           40.0           35.0    168.0  43.1   \n..           ...      ...            ...            ...      ...   ...   \n497            2     81.0           72.0           15.0     76.0  30.1   \n498            7    195.0           70.0           33.0    145.0  25.1   \n499            6    154.0           74.0           32.0    193.0  29.3   \n500            2    117.0           90.0           19.0     71.0  25.2   \n501            3     84.0           72.0           32.0      NaN  37.2   \n\n     DiabetesPedigreeFunction   Age  Outcome  \n0                       0.627  50.0        1  \n1                       0.351  31.0        0  \n2                       0.672  32.0        1  \n3                       0.167  21.0        0  \n4                       2.288  33.0        1  \n..                        ...   ...      ...  \n497                     0.547  25.0        0  \n498                     0.163  55.0        1  \n499                     0.839  39.0        0  \n500                     0.313  21.0        0  \n501                     0.267  28.0        0  \n\n[502 rows x 9 columns]",
      "text/html": "<div>\n<style scoped>\n    .dataframe tbody tr th:only-of-type {\n        vertical-align: middle;\n    }\n\n    .dataframe tbody tr th {\n        vertical-align: top;\n    }\n\n    .dataframe thead th {\n        text-align: right;\n    }\n</style>\n<table border=\"1\" class=\"dataframe\">\n  <thead>\n    <tr style=\"text-align: right;\">\n      <th></th>\n      <th>Pregnancies</th>\n      <th>Glucose</th>\n      <th>BloodPressure</th>\n      <th>SkinThickness</th>\n      <th>Insulin</th>\n      <th>BMI</th>\n      <th>DiabetesPedigreeFunction</th>\n      <th>Age</th>\n      <th>Outcome</th>\n    </tr>\n  </thead>\n  <tbody>\n    <tr>\n      <th>0</th>\n      <td>6</td>\n      <td>148.0</td>\n      <td>72.0</td>\n      <td>35.0</td>\n      <td>140.0</td>\n      <td>33.6</td>\n      <td>0.627</td>\n      <td>50.0</td>\n      <td>1</td>\n    </tr>\n    <tr>\n      <th>1</th>\n      <td>1</td>\n      <td>85.0</td>\n      <td>66.0</td>\n      <td>29.0</td>\n      <td>NaN</td>\n      <td>26.6</td>\n      <td>0.351</td>\n      <td>31.0</td>\n      <td>0</td>\n    </tr>\n    <tr>\n      <th>2</th>\n      <td>8</td>\n      <td>183.0</td>\n      <td>64.0</td>\n      <td>NaN</td>\n      <td>NaN</td>\n      <td>23.3</td>\n      <td>0.672</td>\n      <td>32.0</td>\n      <td>1</td>\n    </tr>\n    <tr>\n      <th>3</th>\n      <td>1</td>\n      <td>89.0</td>\n      <td>66.0</td>\n      <td>23.0</td>\n      <td>94.0</td>\n      <td>28.1</td>\n      <td>0.167</td>\n      <td>21.0</td>\n      <td>0</td>\n    </tr>\n    <tr>\n      <th>4</th>\n      <td>0</td>\n      <td>137.0</td>\n      <td>40.0</td>\n      <td>35.0</td>\n      <td>168.0</td>\n      <td>43.1</td>\n      <td>2.288</td>\n      <td>33.0</td>\n      <td>1</td>\n    </tr>\n    <tr>\n      <th>...</th>\n      <td>...</td>\n      <td>...</td>\n      <td>...</td>\n      <td>...</td>\n      <td>...</td>\n      <td>...</td>\n      <td>...</td>\n      <td>...</td>\n      <td>...</td>\n    </tr>\n    <tr>\n      <th>497</th>\n      <td>2</td>\n      <td>81.0</td>\n      <td>72.0</td>\n      <td>15.0</td>\n      <td>76.0</td>\n      <td>30.1</td>\n      <td>0.547</td>\n      <td>25.0</td>\n      <td>0</td>\n    </tr>\n    <tr>\n      <th>498</th>\n      <td>7</td>\n      <td>195.0</td>\n      <td>70.0</td>\n      <td>33.0</td>\n      <td>145.0</td>\n      <td>25.1</td>\n      <td>0.163</td>\n      <td>55.0</td>\n      <td>1</td>\n    </tr>\n    <tr>\n      <th>499</th>\n      <td>6</td>\n      <td>154.0</td>\n      <td>74.0</td>\n      <td>32.0</td>\n      <td>193.0</td>\n      <td>29.3</td>\n      <td>0.839</td>\n      <td>39.0</td>\n      <td>0</td>\n    </tr>\n    <tr>\n      <th>500</th>\n      <td>2</td>\n      <td>117.0</td>\n      <td>90.0</td>\n      <td>19.0</td>\n      <td>71.0</td>\n      <td>25.2</td>\n      <td>0.313</td>\n      <td>21.0</td>\n      <td>0</td>\n    </tr>\n    <tr>\n      <th>501</th>\n      <td>3</td>\n      <td>84.0</td>\n      <td>72.0</td>\n      <td>32.0</td>\n      <td>NaN</td>\n      <td>37.2</td>\n      <td>0.267</td>\n      <td>28.0</td>\n      <td>0</td>\n    </tr>\n  </tbody>\n</table>\n<p>502 rows × 9 columns</p>\n</div>"
     },
     "metadata": {},
     "output_type": "execute_result",
     "execution_count": 586
    }
   ],
   "source": [
    "df.fillna(df.mode())"
   ],
   "metadata": {
    "collapsed": false,
    "pycharm": {
     "name": "#%%\n",
     "is_executing": false
    }
   }
  },
  {
   "cell_type": "markdown",
   "source": [
    "# 3.e"
   ],
   "metadata": {
    "collapsed": false
   }
  },
  {
   "cell_type": "code",
   "execution_count": 587,
   "outputs": [
    {
     "data": {
      "text/plain": "<AxesSubplot:>"
     },
     "metadata": {},
     "output_type": "execute_result",
     "execution_count": 587
    },
    {
     "data": {
      "text/plain": "<Figure size 432x288 with 1 Axes>",
      "image/png": "[encoded data removed]"
     },
     "metadata": {
      "needs_background": "light"
     },
     "output_type": "display_data"
    }
   ],
   "source": [
    "df['Glucose'].fillna(100).hist()"
   ],
   "metadata": {
    "collapsed": false,
    "pycharm": {
     "name": "#%%\n",
     "is_executing": false
    }
   }
  },
  {
   "cell_type": "code",
   "execution_count": 588,
   "outputs": [
    {
     "data": {
      "text/plain": "<AxesSubplot:>"
     },
     "metadata": {},
     "output_type": "execute_result",
     "execution_count": 588
    },
    {
     "data": {
      "text/plain": "<Figure size 432x288 with 1 Axes>",
      "image/png": "[encoded data removed]"
     },
     "metadata": {
      "needs_background": "light"
     },
     "output_type": "display_data"
    }
   ],
   "source": [
    "df['Glucose'].fillna(method='bfill').hist()"
   ],
   "metadata": {
    "collapsed": false,
    "pycharm": {
     "name": "#%%\n",
     "is_executing": false
    }
   }
  },
  {
   "cell_type": "code",
   "execution_count": 589,
   "outputs": [
    {
     "data": {
      "text/plain": "<AxesSubplot:>"
     },
     "metadata": {},
     "output_type": "execute_result",
     "execution_count": 589
    },
    {
     "data": {
      "text/plain": "<Figure size 432x288 with 1 Axes>",
      "image/png": "[encoded data removed]"
     },
     "metadata": {
      "needs_background": "light"
     },
     "output_type": "display_data"
    }
   ],
   "source": [
    "df['Glucose'].fillna(df['Glucose'].mean()).hist()"
   ],
   "metadata": {
    "collapsed": false,
    "pycharm": {
     "name": "#%%\n",
     "is_executing": false
    }
   }
  },
  {
   "cell_type": "code",
   "execution_count": 590,
   "outputs": [
    {
     "data": {
      "text/plain": "<AxesSubplot:>"
     },
     "metadata": {},
     "output_type": "execute_result",
     "execution_count": 590
    },
    {
     "data": {
      "text/plain": "<Figure size 432x288 with 1 Axes>",
      "image/png": "[encoded data removed]"
     },
     "metadata": {
      "needs_background": "light"
     },
     "output_type": "display_data"
    }
   ],
   "source": [
    "df['Glucose'].fillna(df['Glucose'].mode()).hist()\n"
   ],
   "metadata": {
    "collapsed": false,
    "pycharm": {
     "name": "#%%\n",
     "is_executing": false
    }
   }
  },
  {
   "cell_type": "markdown",
   "source": [
    "# 3.g\n",
    "## Imputer"
   ],
   "metadata": {
    "collapsed": false,
    "pycharm": {
     "name": "#%% md\n",
     "is_executing": false
    }
   }
  },
  {
   "cell_type": "code",
   "execution_count": 591,
   "outputs": [
    {
     "data": {
      "text/plain": "       0      1     2     3      4     5      6     7    8\n0    6.0  148.0  72.0  35.0  253.8  33.6  0.627  50.0  1.0\n1    1.0   85.0  66.0  29.0   80.6  26.6  0.351  31.0  0.0\n2    8.0  183.0  64.0  26.8  166.8  23.3  0.672  32.0  1.0\n3    1.0   89.0  66.0  23.0   94.0  28.1  0.167  21.0  0.0\n4    0.0  137.0  40.0  35.0  168.0  43.1  2.288  33.0  1.0\n..   ...    ...   ...   ...    ...   ...    ...   ...  ...\n497  2.0   81.0  72.0  15.0   76.0  30.1  0.547  25.0  0.0\n498  7.0  195.0  70.0  33.0  145.0  25.1  0.163  55.0  1.0\n499  6.0  154.0  74.0  32.0  193.0  29.3  0.839  39.0  0.0\n500  2.0  117.0  90.0  19.0   71.0  25.2  0.313  21.0  0.0\n501  3.0   84.0  72.0  32.0  145.6  37.2  0.267  28.0  0.0\n\n[502 rows x 9 columns]",
      "text/html": "<div>\n<style scoped>\n    .dataframe tbody tr th:only-of-type {\n        vertical-align: middle;\n    }\n\n    .dataframe tbody tr th {\n        vertical-align: top;\n    }\n\n    .dataframe thead th {\n        text-align: right;\n    }\n</style>\n<table border=\"1\" class=\"dataframe\">\n  <thead>\n    <tr style=\"text-align: right;\">\n      <th></th>\n      <th>0</th>\n      <th>1</th>\n      <th>2</th>\n      <th>3</th>\n      <th>4</th>\n      <th>5</th>\n      <th>6</th>\n      <th>7</th>\n      <th>8</th>\n    </tr>\n  </thead>\n  <tbody>\n    <tr>\n      <th>0</th>\n      <td>6.0</td>\n      <td>148.0</td>\n      <td>72.0</td>\n      <td>35.0</td>\n      <td>253.8</td>\n      <td>33.6</td>\n      <td>0.627</td>\n      <td>50.0</td>\n      <td>1.0</td>\n    </tr>\n    <tr>\n      <th>1</th>\n      <td>1.0</td>\n      <td>85.0</td>\n      <td>66.0</td>\n      <td>29.0</td>\n      <td>80.6</td>\n      <td>26.6</td>\n      <td>0.351</td>\n      <td>31.0</td>\n      <td>0.0</td>\n    </tr>\n    <tr>\n      <th>2</th>\n      <td>8.0</td>\n      <td>183.0</td>\n      <td>64.0</td>\n      <td>26.8</td>\n      <td>166.8</td>\n      <td>23.3</td>\n      <td>0.672</td>\n      <td>32.0</td>\n      <td>1.0</td>\n    </tr>\n    <tr>\n      <th>3</th>\n      <td>1.0</td>\n      <td>89.0</td>\n      <td>66.0</td>\n      <td>23.0</td>\n      <td>94.0</td>\n      <td>28.1</td>\n      <td>0.167</td>\n      <td>21.0</td>\n      <td>0.0</td>\n    </tr>\n    <tr>\n      <th>4</th>\n      <td>0.0</td>\n      <td>137.0</td>\n      <td>40.0</td>\n      <td>35.0</td>\n      <td>168.0</td>\n      <td>43.1</td>\n      <td>2.288</td>\n      <td>33.0</td>\n      <td>1.0</td>\n    </tr>\n    <tr>\n      <th>...</th>\n      <td>...</td>\n      <td>...</td>\n      <td>...</td>\n      <td>...</td>\n      <td>...</td>\n      <td>...</td>\n      <td>...</td>\n      <td>...</td>\n      <td>...</td>\n    </tr>\n    <tr>\n      <th>497</th>\n      <td>2.0</td>\n      <td>81.0</td>\n      <td>72.0</td>\n      <td>15.0</td>\n      <td>76.0</td>\n      <td>30.1</td>\n      <td>0.547</td>\n      <td>25.0</td>\n      <td>0.0</td>\n    </tr>\n    <tr>\n      <th>498</th>\n      <td>7.0</td>\n      <td>195.0</td>\n      <td>70.0</td>\n      <td>33.0</td>\n      <td>145.0</td>\n      <td>25.1</td>\n      <td>0.163</td>\n      <td>55.0</td>\n      <td>1.0</td>\n    </tr>\n    <tr>\n      <th>499</th>\n      <td>6.0</td>\n      <td>154.0</td>\n      <td>74.0</td>\n      <td>32.0</td>\n      <td>193.0</td>\n      <td>29.3</td>\n      <td>0.839</td>\n      <td>39.0</td>\n      <td>0.0</td>\n    </tr>\n    <tr>\n      <th>500</th>\n      <td>2.0</td>\n      <td>117.0</td>\n      <td>90.0</td>\n      <td>19.0</td>\n      <td>71.0</td>\n      <td>25.2</td>\n      <td>0.313</td>\n      <td>21.0</td>\n      <td>0.0</td>\n    </tr>\n    <tr>\n      <th>501</th>\n      <td>3.0</td>\n      <td>84.0</td>\n      <td>72.0</td>\n      <td>32.0</td>\n      <td>145.6</td>\n      <td>37.2</td>\n      <td>0.267</td>\n      <td>28.0</td>\n      <td>0.0</td>\n    </tr>\n  </tbody>\n</table>\n<p>502 rows × 9 columns</p>\n</div>"
     },
     "metadata": {},
     "output_type": "execute_result",
     "execution_count": 591
    }
   ],
   "source": [
    "from sklearn.impute import KNNImputer\n",
    "imputer = KNNImputer(n_neighbors=5, weights=\"uniform\")\n",
    "pd.DataFrame(imputer.fit_transform(df))"
   ],
   "metadata": {
    "collapsed": false,
    "pycharm": {
     "name": "#%%\n",
     "is_executing": false
    }
   }
  }
 ],
 "metadata": {
  "kernelspec": {
   "display_name": "Python 3",
   "language": "python",
   "name": "python3"
  },
  "language_info": {
   "codemirror_mode": {
    "name": "ipython",
    "version": 2
   },
   "file_extension": ".py",
   "mimetype": "text/x-python",
   "name": "python",
   "nbconvert_exporter": "python",
   "pygments_lexer": "ipython2",
   "version": "2.7.6"
  },
  "pycharm": {
   "stem_cell": {
    "cell_type": "raw",
    "source": [],
    "metadata": {
     "collapsed": false
    }
   }
  }
 },
 "nbformat": 4,
 "nbformat_minor": 0
}
