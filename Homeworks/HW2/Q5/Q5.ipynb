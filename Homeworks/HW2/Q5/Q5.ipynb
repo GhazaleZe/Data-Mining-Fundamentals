{
 "cells": [
  {
   "cell_type": "code",
   "execution_count": 211,
   "metadata": {
    "collapsed": true,
    "pycharm": {
     "is_executing": false
    }
   },
   "outputs": [
    {
     "data": {
      "text/plain": "     Pregnancies  Glucose  BloodPressure  SkinThickness  Insulin   BMI  \\\n0            6.0    148.0           72.0           35.0      0.0  33.6   \n1            1.0     85.0           66.0           29.0      0.0  26.6   \n2            8.0    183.0           64.0            0.0      0.0  23.3   \n3            1.0     89.0           66.0           23.0     94.0  28.1   \n4            0.0    137.0           40.0           35.0    168.0  43.1   \n..           ...      ...            ...            ...      ...   ...   \n497          2.0     81.0           72.0           15.0     76.0  30.1   \n498          7.0    195.0           70.0           33.0    145.0  25.1   \n499          6.0    154.0           74.0           32.0    193.0  29.3   \n500          2.0    117.0           90.0           19.0     71.0  25.2   \n501          3.0     84.0           72.0           32.0      0.0  37.2   \n\n     DiabetesPedigreeFunction   Age  Outcome  \n0                       0.627  50.0      1.0  \n1                       0.351  31.0      0.0  \n2                       0.672  32.0      1.0  \n3                       0.167  21.0      0.0  \n4                       2.288  33.0      1.0  \n..                        ...   ...      ...  \n497                     0.547  25.0      0.0  \n498                     0.163  55.0      1.0  \n499                     0.839  39.0      0.0  \n500                     0.313  21.0      0.0  \n501                     0.267  28.0      0.0  \n\n[502 rows x 9 columns]",
      "text/html": "<div>\n<style scoped>\n    .dataframe tbody tr th:only-of-type {\n        vertical-align: middle;\n    }\n\n    .dataframe tbody tr th {\n        vertical-align: top;\n    }\n\n    .dataframe thead th {\n        text-align: right;\n    }\n</style>\n<table border=\"1\" class=\"dataframe\">\n  <thead>\n    <tr style=\"text-align: right;\">\n      <th></th>\n      <th>Pregnancies</th>\n      <th>Glucose</th>\n      <th>BloodPressure</th>\n      <th>SkinThickness</th>\n      <th>Insulin</th>\n      <th>BMI</th>\n      <th>DiabetesPedigreeFunction</th>\n      <th>Age</th>\n      <th>Outcome</th>\n    </tr>\n  </thead>\n  <tbody>\n    <tr>\n      <th>0</th>\n      <td>6.0</td>\n      <td>148.0</td>\n      <td>72.0</td>\n      <td>35.0</td>\n      <td>0.0</td>\n      <td>33.6</td>\n      <td>0.627</td>\n      <td>50.0</td>\n      <td>1.0</td>\n    </tr>\n    <tr>\n      <th>1</th>\n      <td>1.0</td>\n      <td>85.0</td>\n      <td>66.0</td>\n      <td>29.0</td>\n      <td>0.0</td>\n      <td>26.6</td>\n      <td>0.351</td>\n      <td>31.0</td>\n      <td>0.0</td>\n    </tr>\n    <tr>\n      <th>2</th>\n      <td>8.0</td>\n      <td>183.0</td>\n      <td>64.0</td>\n      <td>0.0</td>\n      <td>0.0</td>\n      <td>23.3</td>\n      <td>0.672</td>\n      <td>32.0</td>\n      <td>1.0</td>\n    </tr>\n    <tr>\n      <th>3</th>\n      <td>1.0</td>\n      <td>89.0</td>\n      <td>66.0</td>\n      <td>23.0</td>\n      <td>94.0</td>\n      <td>28.1</td>\n      <td>0.167</td>\n      <td>21.0</td>\n      <td>0.0</td>\n    </tr>\n    <tr>\n      <th>4</th>\n      <td>0.0</td>\n      <td>137.0</td>\n      <td>40.0</td>\n      <td>35.0</td>\n      <td>168.0</td>\n      <td>43.1</td>\n      <td>2.288</td>\n      <td>33.0</td>\n      <td>1.0</td>\n    </tr>\n    <tr>\n      <th>...</th>\n      <td>...</td>\n      <td>...</td>\n      <td>...</td>\n      <td>...</td>\n      <td>...</td>\n      <td>...</td>\n      <td>...</td>\n      <td>...</td>\n      <td>...</td>\n    </tr>\n    <tr>\n      <th>497</th>\n      <td>2.0</td>\n      <td>81.0</td>\n      <td>72.0</td>\n      <td>15.0</td>\n      <td>76.0</td>\n      <td>30.1</td>\n      <td>0.547</td>\n      <td>25.0</td>\n      <td>0.0</td>\n    </tr>\n    <tr>\n      <th>498</th>\n      <td>7.0</td>\n      <td>195.0</td>\n      <td>70.0</td>\n      <td>33.0</td>\n      <td>145.0</td>\n      <td>25.1</td>\n      <td>0.163</td>\n      <td>55.0</td>\n      <td>1.0</td>\n    </tr>\n    <tr>\n      <th>499</th>\n      <td>6.0</td>\n      <td>154.0</td>\n      <td>74.0</td>\n      <td>32.0</td>\n      <td>193.0</td>\n      <td>29.3</td>\n      <td>0.839</td>\n      <td>39.0</td>\n      <td>0.0</td>\n    </tr>\n    <tr>\n      <th>500</th>\n      <td>2.0</td>\n      <td>117.0</td>\n      <td>90.0</td>\n      <td>19.0</td>\n      <td>71.0</td>\n      <td>25.2</td>\n      <td>0.313</td>\n      <td>21.0</td>\n      <td>0.0</td>\n    </tr>\n    <tr>\n      <th>501</th>\n      <td>3.0</td>\n      <td>84.0</td>\n      <td>72.0</td>\n      <td>32.0</td>\n      <td>0.0</td>\n      <td>37.2</td>\n      <td>0.267</td>\n      <td>28.0</td>\n      <td>0.0</td>\n    </tr>\n  </tbody>\n</table>\n<p>502 rows × 9 columns</p>\n</div>"
     },
     "metadata": {},
     "output_type": "execute_result",
     "execution_count": 211
    }
   ],
   "source": [
    "import pandas as pd\n",
    "import numpy as np\n",
    "from sklearn.impute import KNNImputer\n",
    "from sklearn import preprocessing\n",
    "import matplotlib as plt\n",
    "df= pd.read_csv('Diabetes.csv')\n",
    "df=df.replace('?',np.nan)\n",
    "df=df.replace('MISS',np.nan)\n",
    "df=df.replace('missing',np.nan)\n",
    "df=df.replace('NULL',np.nan)\n",
    "df=df.replace(\"''\",np.nan)\n",
    "from sklearn.impute import KNNImputer\n",
    "imputer = KNNImputer(n_neighbors=5, weights=\"uniform\")\n",
    "df=pd.DataFrame(imputer.fit_transform(df),columns=df.columns)\n",
    "df"
   ]
  },
  {
   "cell_type": "markdown",
   "source": [
    "# 5.b"
   ],
   "metadata": {
    "collapsed": false,
    "pycharm": {
     "name": "#%% md\n",
     "is_executing": false
    }
   }
  },
  {
   "cell_type": "code",
   "execution_count": 212,
   "outputs": [
    {
     "data": {
      "text/plain": "Pregnancies                   5.00000\nGlucose                      43.75000\nBloodPressure                16.00000\nSkinThickness                32.00000\nInsulin                     125.00000\nBMI                           9.75000\nDiabetesPedigreeFunction      0.38275\nAge                          15.00000\nOutcome                       1.00000\ndtype: float64"
     },
     "metadata": {},
     "output_type": "execute_result",
     "execution_count": 212
    }
   ],
   "source": [
    "q1= df.quantile(0.25)\n",
    "q3= df.quantile(0.75)\n",
    "iqr=q3-q1\n",
    "iqr"
   ],
   "metadata": {
    "collapsed": false,
    "pycharm": {
     "name": "#%%\n",
     "is_executing": false
    }
   }
  },
  {
   "cell_type": "code",
   "execution_count": 213,
   "outputs": [
    {
     "data": {
      "text/plain": "     Pregnancies  Glucose  BloodPressure  SkinThickness  Insulin   BMI  \\\n0            6.0    148.0           72.0           35.0      0.0  33.6   \n1            1.0     85.0           66.0           29.0      0.0  26.6   \n2            8.0    183.0           64.0            0.0      0.0  23.3   \n3            1.0     89.0           66.0           23.0     94.0  28.1   \n5            5.0    116.0           74.0            0.0      0.0  25.6   \n..           ...      ...            ...            ...      ...   ...   \n497          2.0     81.0           72.0           15.0     76.0  30.1   \n498          7.0    195.0           70.0           33.0    145.0  25.1   \n499          6.0    154.0           74.0           32.0    193.0  29.3   \n500          2.0    117.0           90.0           19.0     71.0  25.2   \n501          3.0     84.0           72.0           32.0      0.0  37.2   \n\n     DiabetesPedigreeFunction   Age  Outcome  \n0                       0.627  50.0      1.0  \n1                       0.351  31.0      0.0  \n2                       0.672  32.0      1.0  \n3                       0.167  21.0      0.0  \n5                       0.201  30.0      0.0  \n..                        ...   ...      ...  \n497                     0.547  25.0      0.0  \n498                     0.163  55.0      1.0  \n499                     0.839  39.0      0.0  \n500                     0.313  21.0      0.0  \n501                     0.267  28.0      0.0  \n\n[393 rows x 9 columns]",
      "text/html": "<div>\n<style scoped>\n    .dataframe tbody tr th:only-of-type {\n        vertical-align: middle;\n    }\n\n    .dataframe tbody tr th {\n        vertical-align: top;\n    }\n\n    .dataframe thead th {\n        text-align: right;\n    }\n</style>\n<table border=\"1\" class=\"dataframe\">\n  <thead>\n    <tr style=\"text-align: right;\">\n      <th></th>\n      <th>Pregnancies</th>\n      <th>Glucose</th>\n      <th>BloodPressure</th>\n      <th>SkinThickness</th>\n      <th>Insulin</th>\n      <th>BMI</th>\n      <th>DiabetesPedigreeFunction</th>\n      <th>Age</th>\n      <th>Outcome</th>\n    </tr>\n  </thead>\n  <tbody>\n    <tr>\n      <th>0</th>\n      <td>6.0</td>\n      <td>148.0</td>\n      <td>72.0</td>\n      <td>35.0</td>\n      <td>0.0</td>\n      <td>33.6</td>\n      <td>0.627</td>\n      <td>50.0</td>\n      <td>1.0</td>\n    </tr>\n    <tr>\n      <th>1</th>\n      <td>1.0</td>\n      <td>85.0</td>\n      <td>66.0</td>\n      <td>29.0</td>\n      <td>0.0</td>\n      <td>26.6</td>\n      <td>0.351</td>\n      <td>31.0</td>\n      <td>0.0</td>\n    </tr>\n    <tr>\n      <th>2</th>\n      <td>8.0</td>\n      <td>183.0</td>\n      <td>64.0</td>\n      <td>0.0</td>\n      <td>0.0</td>\n      <td>23.3</td>\n      <td>0.672</td>\n      <td>32.0</td>\n      <td>1.0</td>\n    </tr>\n    <tr>\n      <th>3</th>\n      <td>1.0</td>\n      <td>89.0</td>\n      <td>66.0</td>\n      <td>23.0</td>\n      <td>94.0</td>\n      <td>28.1</td>\n      <td>0.167</td>\n      <td>21.0</td>\n      <td>0.0</td>\n    </tr>\n    <tr>\n      <th>5</th>\n      <td>5.0</td>\n      <td>116.0</td>\n      <td>74.0</td>\n      <td>0.0</td>\n      <td>0.0</td>\n      <td>25.6</td>\n      <td>0.201</td>\n      <td>30.0</td>\n      <td>0.0</td>\n    </tr>\n    <tr>\n      <th>...</th>\n      <td>...</td>\n      <td>...</td>\n      <td>...</td>\n      <td>...</td>\n      <td>...</td>\n      <td>...</td>\n      <td>...</td>\n      <td>...</td>\n      <td>...</td>\n    </tr>\n    <tr>\n      <th>497</th>\n      <td>2.0</td>\n      <td>81.0</td>\n      <td>72.0</td>\n      <td>15.0</td>\n      <td>76.0</td>\n      <td>30.1</td>\n      <td>0.547</td>\n      <td>25.0</td>\n      <td>0.0</td>\n    </tr>\n    <tr>\n      <th>498</th>\n      <td>7.0</td>\n      <td>195.0</td>\n      <td>70.0</td>\n      <td>33.0</td>\n      <td>145.0</td>\n      <td>25.1</td>\n      <td>0.163</td>\n      <td>55.0</td>\n      <td>1.0</td>\n    </tr>\n    <tr>\n      <th>499</th>\n      <td>6.0</td>\n      <td>154.0</td>\n      <td>74.0</td>\n      <td>32.0</td>\n      <td>193.0</td>\n      <td>29.3</td>\n      <td>0.839</td>\n      <td>39.0</td>\n      <td>0.0</td>\n    </tr>\n    <tr>\n      <th>500</th>\n      <td>2.0</td>\n      <td>117.0</td>\n      <td>90.0</td>\n      <td>19.0</td>\n      <td>71.0</td>\n      <td>25.2</td>\n      <td>0.313</td>\n      <td>21.0</td>\n      <td>0.0</td>\n    </tr>\n    <tr>\n      <th>501</th>\n      <td>3.0</td>\n      <td>84.0</td>\n      <td>72.0</td>\n      <td>32.0</td>\n      <td>0.0</td>\n      <td>37.2</td>\n      <td>0.267</td>\n      <td>28.0</td>\n      <td>0.0</td>\n    </tr>\n  </tbody>\n</table>\n<p>393 rows × 9 columns</p>\n</div>"
     },
     "metadata": {},
     "output_type": "execute_result",
     "execution_count": 213
    }
   ],
   "source": [
    "index_name=df[((df < (q1 - (1.5*iqr)))| (df > (q3 + (1.5*iqr))) ).any(axis=1)].index\n",
    "df_quan=df.drop(index_name)\n",
    "df_quan"
   ],
   "metadata": {
    "collapsed": false,
    "pycharm": {
     "name": "#%%\n",
     "is_executing": false
    }
   }
  },
  {
   "cell_type": "markdown",
   "source": [
    "# 5.c"
   ],
   "metadata": {
    "collapsed": false,
    "pycharm": {
     "name": "#%% md\n"
    }
   }
  },
  {
   "cell_type": "code",
   "execution_count": 214,
   "outputs": [
    {
     "data": {
      "text/plain": "     Pregnancies   Glucose  BloodPressure  SkinThickness   Insulin       BMI  \\\n0       0.658827  0.541457       0.166343       0.920268 -0.643214  0.198875   \n1      -0.840407 -0.830492      -0.142932       0.535610 -0.643214 -0.655543   \n2       1.258521  1.303650      -0.246024      -1.323572 -0.643214 -1.058340   \n3      -0.840407 -0.743384      -0.142932       0.150952  0.071519 -0.472454   \n5       0.358980 -0.155406       0.269435      -1.323572 -0.643214 -0.777603   \n..           ...       ...            ...            ...       ...       ...   \n497    -0.540561 -0.917600       0.166343      -0.361926 -0.065345 -0.228334   \n498     0.958674  1.564974       0.063252       0.792049  0.459299 -0.838633   \n499     0.658827  0.672119       0.269435       0.727939  0.824269 -0.325982   \n500    -0.540561 -0.133629       1.094170      -0.105487 -0.103363 -0.826427   \n501    -0.240714 -0.852269       0.166343       0.727939 -0.643214  0.638290   \n\n     DiabetesPedigreeFunction       Age   Outcome  \n0                    0.410487  1.399137  1.341002  \n1                   -0.390133 -0.166218 -0.753531  \n2                    0.541023 -0.083831  1.341002  \n3                   -0.923879 -0.990090 -0.753531  \n5                   -0.825252 -0.248606 -0.753531  \n..                        ...       ...       ...  \n497                  0.178423 -0.660541 -0.753531  \n498                 -0.935483  1.811072  1.341002  \n499                  1.025456  0.492878 -0.753531  \n500                 -0.500363 -0.990090 -0.753531  \n501                 -0.633800 -0.413380 -0.753531  \n\n[447 rows x 9 columns]",
      "text/html": "<div>\n<style scoped>\n    .dataframe tbody tr th:only-of-type {\n        vertical-align: middle;\n    }\n\n    .dataframe tbody tr th {\n        vertical-align: top;\n    }\n\n    .dataframe thead th {\n        text-align: right;\n    }\n</style>\n<table border=\"1\" class=\"dataframe\">\n  <thead>\n    <tr style=\"text-align: right;\">\n      <th></th>\n      <th>Pregnancies</th>\n      <th>Glucose</th>\n      <th>BloodPressure</th>\n      <th>SkinThickness</th>\n      <th>Insulin</th>\n      <th>BMI</th>\n      <th>DiabetesPedigreeFunction</th>\n      <th>Age</th>\n      <th>Outcome</th>\n    </tr>\n  </thead>\n  <tbody>\n    <tr>\n      <th>0</th>\n      <td>0.658827</td>\n      <td>0.541457</td>\n      <td>0.166343</td>\n      <td>0.920268</td>\n      <td>-0.643214</td>\n      <td>0.198875</td>\n      <td>0.410487</td>\n      <td>1.399137</td>\n      <td>1.341002</td>\n    </tr>\n    <tr>\n      <th>1</th>\n      <td>-0.840407</td>\n      <td>-0.830492</td>\n      <td>-0.142932</td>\n      <td>0.535610</td>\n      <td>-0.643214</td>\n      <td>-0.655543</td>\n      <td>-0.390133</td>\n      <td>-0.166218</td>\n      <td>-0.753531</td>\n    </tr>\n    <tr>\n      <th>2</th>\n      <td>1.258521</td>\n      <td>1.303650</td>\n      <td>-0.246024</td>\n      <td>-1.323572</td>\n      <td>-0.643214</td>\n      <td>-1.058340</td>\n      <td>0.541023</td>\n      <td>-0.083831</td>\n      <td>1.341002</td>\n    </tr>\n    <tr>\n      <th>3</th>\n      <td>-0.840407</td>\n      <td>-0.743384</td>\n      <td>-0.142932</td>\n      <td>0.150952</td>\n      <td>0.071519</td>\n      <td>-0.472454</td>\n      <td>-0.923879</td>\n      <td>-0.990090</td>\n      <td>-0.753531</td>\n    </tr>\n    <tr>\n      <th>5</th>\n      <td>0.358980</td>\n      <td>-0.155406</td>\n      <td>0.269435</td>\n      <td>-1.323572</td>\n      <td>-0.643214</td>\n      <td>-0.777603</td>\n      <td>-0.825252</td>\n      <td>-0.248606</td>\n      <td>-0.753531</td>\n    </tr>\n    <tr>\n      <th>...</th>\n      <td>...</td>\n      <td>...</td>\n      <td>...</td>\n      <td>...</td>\n      <td>...</td>\n      <td>...</td>\n      <td>...</td>\n      <td>...</td>\n      <td>...</td>\n    </tr>\n    <tr>\n      <th>497</th>\n      <td>-0.540561</td>\n      <td>-0.917600</td>\n      <td>0.166343</td>\n      <td>-0.361926</td>\n      <td>-0.065345</td>\n      <td>-0.228334</td>\n      <td>0.178423</td>\n      <td>-0.660541</td>\n      <td>-0.753531</td>\n    </tr>\n    <tr>\n      <th>498</th>\n      <td>0.958674</td>\n      <td>1.564974</td>\n      <td>0.063252</td>\n      <td>0.792049</td>\n      <td>0.459299</td>\n      <td>-0.838633</td>\n      <td>-0.935483</td>\n      <td>1.811072</td>\n      <td>1.341002</td>\n    </tr>\n    <tr>\n      <th>499</th>\n      <td>0.658827</td>\n      <td>0.672119</td>\n      <td>0.269435</td>\n      <td>0.727939</td>\n      <td>0.824269</td>\n      <td>-0.325982</td>\n      <td>1.025456</td>\n      <td>0.492878</td>\n      <td>-0.753531</td>\n    </tr>\n    <tr>\n      <th>500</th>\n      <td>-0.540561</td>\n      <td>-0.133629</td>\n      <td>1.094170</td>\n      <td>-0.105487</td>\n      <td>-0.103363</td>\n      <td>-0.826427</td>\n      <td>-0.500363</td>\n      <td>-0.990090</td>\n      <td>-0.753531</td>\n    </tr>\n    <tr>\n      <th>501</th>\n      <td>-0.240714</td>\n      <td>-0.852269</td>\n      <td>0.166343</td>\n      <td>0.727939</td>\n      <td>-0.643214</td>\n      <td>0.638290</td>\n      <td>-0.633800</td>\n      <td>-0.413380</td>\n      <td>-0.753531</td>\n    </tr>\n  </tbody>\n</table>\n<p>447 rows × 9 columns</p>\n</div>"
     },
     "metadata": {},
     "output_type": "execute_result",
     "execution_count": 214
    }
   ],
   "source": [
    "from scipy import stats\n",
    "from scipy.stats import zscore\n",
    "df = df.apply(pd.to_numeric)\n",
    "df_zscore=df.apply(zscore)\n",
    "index_name=df_zscore[((df_zscore< -3)| (df_zscore>3)).any(axis=1)].index\n",
    "df_zscore.drop(index_name,inplace=True)\n",
    "df_zscore"
   ],
   "metadata": {
    "collapsed": false,
    "pycharm": {
     "name": "#%%\n",
     "is_executing": false
    }
   }
  },
  {
   "cell_type": "code",
   "execution_count": 215,
   "outputs": [
    {
     "data": {
      "text/plain": "55"
     },
     "metadata": {},
     "output_type": "execute_result",
     "execution_count": 215
    }
   ],
   "source": [
    "len(df.index)-len(df_zscore.index)"
   ],
   "metadata": {
    "collapsed": false,
    "pycharm": {
     "name": "#%%\n",
     "is_executing": false
    }
   }
  },
  {
   "cell_type": "code",
   "execution_count": 216,
   "outputs": [
    {
     "data": {
      "text/plain": "109"
     },
     "metadata": {},
     "output_type": "execute_result",
     "execution_count": 216
    }
   ],
   "source": [
    "len(df.index)-len(df_quan.index)"
   ],
   "metadata": {
    "collapsed": false,
    "pycharm": {
     "name": "#%%\n",
     "is_executing": false
    }
   }
  }
 ],
 "metadata": {
  "kernelspec": {
   "display_name": "Python 3",
   "language": "python",
   "name": "python3"
  },
  "language_info": {
   "codemirror_mode": {
    "name": "ipython",
    "version": 2
   },
   "file_extension": ".py",
   "mimetype": "text/x-python",
   "name": "python",
   "nbconvert_exporter": "python",
   "pygments_lexer": "ipython2",
   "version": "2.7.6"
  },
  "pycharm": {
   "stem_cell": {
    "cell_type": "raw",
    "source": [],
    "metadata": {
     "collapsed": false
    }
   }
  }
 },
 "nbformat": 4,
 "nbformat_minor": 0
}
