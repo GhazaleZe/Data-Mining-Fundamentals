{
 "cells": [
  {
   "cell_type": "code",
   "execution_count": 23,
   "metadata": {
    "collapsed": true,
    "pycharm": {
     "is_executing": false
    }
   },
   "outputs": [
    {
     "data": {
      "text/plain": "482    28\n483    23\n484    31\n485    24\n486    21\n487    58\n488    28\n489    67\n490    24\n491    42\n492    33\n493    45\n494    22\n495    66\n496    30\n497    25\n498    55\n499    39\n500    21\n501    28\nName: Age, dtype: object"
     },
     "metadata": {},
     "output_type": "execute_result",
     "execution_count": 23
    }
   ],
   "source": [
    "import pandas as pd\n",
    "import numpy as np\n",
    "from sklearn.impute import KNNImputer\n",
    "from sklearn import preprocessing\n",
    "import matplotlib as plt\n",
    "df= pd.read_csv('Diabetes.csv')\n",
    "df=df.replace('?',np.nan)\n",
    "df=df.replace('MISS',np.nan)\n",
    "df=df.replace('missing',np.nan)\n",
    "df=df.replace('NULL',np.nan)\n",
    "df=df.replace(\"''\",np.nan)\n",
    "imputer = KNNImputer(n_neighbors=5, weights=\"uniform\")\n",
    "dff=pd.DataFrame(imputer.fit_transform(df))\n",
    "dff.columns=df.columns\n",
    "dff"
   ]
  },
  {
   "cell_type": "markdown",
   "source": [
    "# 6.b"
   ],
   "metadata": {
    "collapsed": false,
    "pycharm": {
     "name": "#%% md\n"
    }
   }
  },
  {
   "cell_type": "code",
   "execution_count": 25,
   "outputs": [
    {
     "data": {
      "text/plain": "<AxesSubplot:>"
     },
     "metadata": {},
     "output_type": "execute_result",
     "execution_count": 25
    },
    {
     "data": {
      "text/plain": "<Figure size 432x288 with 1 Axes>",
      "image/png": "[encoded data removed]"
     },
     "metadata": {
      "needs_background": "light"
     },
     "output_type": "display_data"
    }
   ],
   "source": [
    "dff['Pregnancies_Cut']= pd.cut(df['Pregnancies'],bins=3,labels=['b1','b2','b3'])\n",
    "#pd.cut(df['Day Mins'],bins=10).value_counts()\n",
    "dff['Pregnancies_Cut'].hist()"
   ],
   "metadata": {
    "collapsed": false,
    "pycharm": {
     "name": "#%%\n",
     "is_executing": false
    }
   }
  },
  {
   "cell_type": "code",
   "execution_count": 26,
   "outputs": [
    {
     "data": {
      "text/plain": "<AxesSubplot:>"
     },
     "metadata": {},
     "output_type": "execute_result",
     "execution_count": 26
    },
    {
     "data": {
      "text/plain": "<Figure size 432x288 with 1 Axes>",
      "image/png": "[encoded data removed]"
     },
     "metadata": {
      "needs_background": "light"
     },
     "output_type": "display_data"
    }
   ],
   "source": [
    "dff['Age_Cut']= pd.cut(dff['Age'],bins=4,labels=['b1','b2','b3','b4'])\n",
    "#pd.cut(df['Day Mins'],bins=10).value_counts()\n",
    "dff['Age_Cut'].hist()"
   ],
   "metadata": {
    "collapsed": false,
    "pycharm": {
     "name": "#%%\n",
     "is_executing": false
    }
   }
  }
 ],
 "metadata": {
  "kernelspec": {
   "display_name": "Python 3",
   "language": "python",
   "name": "python3"
  },
  "language_info": {
   "codemirror_mode": {
    "name": "ipython",
    "version": 2
   },
   "file_extension": ".py",
   "mimetype": "text/x-python",
   "name": "python",
   "nbconvert_exporter": "python",
   "pygments_lexer": "ipython2",
   "version": "2.7.6"
  },
  "pycharm": {
   "stem_cell": {
    "cell_type": "raw",
    "source": [],
    "metadata": {
     "collapsed": false
    }
   }
  }
 },
 "nbformat": 4,
 "nbformat_minor": 0
}
