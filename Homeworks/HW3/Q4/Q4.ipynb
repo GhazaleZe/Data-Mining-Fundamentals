{
 "cells": [
  {
   "cell_type": "markdown",
   "metadata": {},
   "source": [
    "# HW3,Q4 Ghazaleh Zehtab"
   ]
  },
  {
   "cell_type": "code",
   "execution_count": 14,
   "metadata": {
    "pycharm": {
     "is_executing": false,
     "name": "#%%\n"
    }
   },
   "outputs": [],
   "source": [
    "import pandas as pd\n",
    "import matplotlib as plt\n",
    "import numpy as np\n",
    "import plot_utils\n",
    "import seaborn as sns"
   ]
  },
  {
   "cell_type": "code",
   "execution_count": 15,
   "metadata": {
    "pycharm": {
     "is_executing": false,
     "name": "#%%\n"
    }
   },
   "outputs": [
    {
     "data": {
      "text/plain": "     T3_resin Serum_thyroxin Serum_triiodothyronine Basal_TSH  Abs_diff_TSH  \\\n0       107.0           10.1                    2.2       0.9           2.7   \n5       105.0            6.1                    2.1       1.4           7.0   \n9       107.0           13.0                    1.1       0.9           3.1   \n10      106.0            4.2                    1.2       1.6           1.4   \n11      110.0           11.3                    2.3       0.9           3.3   \n..        ...            ...                    ...       ...           ...   \n177     110.0           15.2                    1.9       0.7          -0.2   \n178     144.0           22.3                    3.3       1.3           0.6   \n180      88.0           16.5                    4.9       0.8           0.1   \n181      97.0           15.1                    1.8       1.2          -0.2   \n184      92.0           11.1                    2.0       0.7          -0.2   \n\n     Outcome  \n0        1.0  \n5        1.0  \n9        1.0  \n10       1.0  \n11       1.0  \n..       ...  \n177      2.0  \n178      2.0  \n180      2.0  \n181      2.0  \n184      2.0  \n\n[125 rows x 6 columns]",
      "text/html": "<div>\n<style scoped>\n    .dataframe tbody tr th:only-of-type {\n        vertical-align: middle;\n    }\n\n    .dataframe tbody tr th {\n        vertical-align: top;\n    }\n\n    .dataframe thead th {\n        text-align: right;\n    }\n</style>\n<table border=\"1\" class=\"dataframe\">\n  <thead>\n    <tr style=\"text-align: right;\">\n      <th></th>\n      <th>T3_resin</th>\n      <th>Serum_thyroxin</th>\n      <th>Serum_triiodothyronine</th>\n      <th>Basal_TSH</th>\n      <th>Abs_diff_TSH</th>\n      <th>Outcome</th>\n    </tr>\n  </thead>\n  <tbody>\n    <tr>\n      <th>0</th>\n      <td>107.0</td>\n      <td>10.1</td>\n      <td>2.2</td>\n      <td>0.9</td>\n      <td>2.7</td>\n      <td>1.0</td>\n    </tr>\n    <tr>\n      <th>5</th>\n      <td>105.0</td>\n      <td>6.1</td>\n      <td>2.1</td>\n      <td>1.4</td>\n      <td>7.0</td>\n      <td>1.0</td>\n    </tr>\n    <tr>\n      <th>9</th>\n      <td>107.0</td>\n      <td>13.0</td>\n      <td>1.1</td>\n      <td>0.9</td>\n      <td>3.1</td>\n      <td>1.0</td>\n    </tr>\n    <tr>\n      <th>10</th>\n      <td>106.0</td>\n      <td>4.2</td>\n      <td>1.2</td>\n      <td>1.6</td>\n      <td>1.4</td>\n      <td>1.0</td>\n    </tr>\n    <tr>\n      <th>11</th>\n      <td>110.0</td>\n      <td>11.3</td>\n      <td>2.3</td>\n      <td>0.9</td>\n      <td>3.3</td>\n      <td>1.0</td>\n    </tr>\n    <tr>\n      <th>...</th>\n      <td>...</td>\n      <td>...</td>\n      <td>...</td>\n      <td>...</td>\n      <td>...</td>\n      <td>...</td>\n    </tr>\n    <tr>\n      <th>177</th>\n      <td>110.0</td>\n      <td>15.2</td>\n      <td>1.9</td>\n      <td>0.7</td>\n      <td>-0.2</td>\n      <td>2.0</td>\n    </tr>\n    <tr>\n      <th>178</th>\n      <td>144.0</td>\n      <td>22.3</td>\n      <td>3.3</td>\n      <td>1.3</td>\n      <td>0.6</td>\n      <td>2.0</td>\n    </tr>\n    <tr>\n      <th>180</th>\n      <td>88.0</td>\n      <td>16.5</td>\n      <td>4.9</td>\n      <td>0.8</td>\n      <td>0.1</td>\n      <td>2.0</td>\n    </tr>\n    <tr>\n      <th>181</th>\n      <td>97.0</td>\n      <td>15.1</td>\n      <td>1.8</td>\n      <td>1.2</td>\n      <td>-0.2</td>\n      <td>2.0</td>\n    </tr>\n    <tr>\n      <th>184</th>\n      <td>92.0</td>\n      <td>11.1</td>\n      <td>2.0</td>\n      <td>0.7</td>\n      <td>-0.2</td>\n      <td>2.0</td>\n    </tr>\n  </tbody>\n</table>\n<p>125 rows × 6 columns</p>\n</div>"
     },
     "metadata": {},
     "output_type": "execute_result",
     "execution_count": 15
    }
   ],
   "source": [
    "from sklearn.model_selection import train_test_split\n",
    "th=pd.read_csv(\"thyroid.csv\")\n",
    "th.dropna(inplace=True)\n",
    "th"
   ]
  },
  {
   "cell_type": "markdown",
   "metadata": {
    "pycharm": {
     "is_executing": false,
     "name": "#%% md\n"
    }
   },
   "source": [
    "## Q4.a"
   ]
  },
  {
   "cell_type": "code",
   "execution_count": 16,
   "metadata": {
    "pycharm": {
     "is_executing": false,
     "name": "#%%\n"
    }
   },
   "outputs": [],
   "source": [
    "th_train, th_test = train_test_split(th, test_size = \n",
    "0.2, random_state = 7)"
   ]
  },
  {
   "cell_type": "code",
   "execution_count": 17,
   "metadata": {
    "pycharm": {
     "is_executing": false,
     "name": "#%%\n"
    }
   },
   "outputs": [
    {
     "data": {
      "text/plain": "     T3_resin Serum_thyroxin Serum_triiodothyronine Basal_TSH  Abs_diff_TSH  \\\n161      89.0           23.8                    5.4       0.5           0.1   \n146     114.0            7.5                    1.1       1.6           4.4   \n145     126.0           10.4                    1.7       1.2           3.5   \n120     103.0            7.3                    1.0       0.7           0.5   \n64      117.0            9.2                    1.9       1.5           6.8   \n38      130.0            9.5                    1.7         ?           3.2   \n65      106.0            6.7                    1.5       1.2           3.9   \n74      113.0            8.5                    1.8       0.8           0.5   \n12      116.0            9.2                    2.7       1.0           4.2   \n173      98.0           16.7                    4.3       1.7           0.2   \n142     112.0            6.5                    1.2       1.2           2.0   \n79      117.0            6.7                    2.2       1.8           6.7   \n124     101.0            6.3                    1.5       0.9           2.9   \n99      108.0           10.9                    1.2       1.9           1.0   \n107     107.0           13.8                    1.5       1.0           1.9   \n160      89.0           14.3                    4.1       0.5           0.2   \n97      110.0            8.4                    1.4       1.0           1.9   \n25      100.0            6.1                    2.4       1.8           3.8   \n180      88.0           16.5                    4.9       0.8           0.1   \n42      129.0           11.9                    2.7       1.2           3.5   \n157     110.0           20.3                    3.7       0.6           0.2   \n184      92.0           11.1                    2.0       0.7          -0.2   \n78      108.0           10.4                    2.1       1.3           2.4   \n88      105.0            8.1                    2.0       1.9          -0.5   \n67       97.0            7.8                    1.3       1.2           0.9   \n\n     Outcome  \n161      2.0  \n146      1.0  \n145      1.0  \n120      1.0  \n64       1.0  \n38       1.0  \n65       1.0  \n74       1.0  \n12       1.0  \n173      2.0  \n142      1.0  \n79       1.0  \n124      1.0  \n99       1.0  \n107      1.0  \n160      2.0  \n97       1.0  \n25       1.0  \n180      2.0  \n42       1.0  \n157      2.0  \n184      2.0  \n78       1.0  \n88       1.0  \n67       1.0  ",
      "text/html": "<div>\n<style scoped>\n    .dataframe tbody tr th:only-of-type {\n        vertical-align: middle;\n    }\n\n    .dataframe tbody tr th {\n        vertical-align: top;\n    }\n\n    .dataframe thead th {\n        text-align: right;\n    }\n</style>\n<table border=\"1\" class=\"dataframe\">\n  <thead>\n    <tr style=\"text-align: right;\">\n      <th></th>\n      <th>T3_resin</th>\n      <th>Serum_thyroxin</th>\n      <th>Serum_triiodothyronine</th>\n      <th>Basal_TSH</th>\n      <th>Abs_diff_TSH</th>\n      <th>Outcome</th>\n    </tr>\n  </thead>\n  <tbody>\n    <tr>\n      <th>161</th>\n      <td>89.0</td>\n      <td>23.8</td>\n      <td>5.4</td>\n      <td>0.5</td>\n      <td>0.1</td>\n      <td>2.0</td>\n    </tr>\n    <tr>\n      <th>146</th>\n      <td>114.0</td>\n      <td>7.5</td>\n      <td>1.1</td>\n      <td>1.6</td>\n      <td>4.4</td>\n      <td>1.0</td>\n    </tr>\n    <tr>\n      <th>145</th>\n      <td>126.0</td>\n      <td>10.4</td>\n      <td>1.7</td>\n      <td>1.2</td>\n      <td>3.5</td>\n      <td>1.0</td>\n    </tr>\n    <tr>\n      <th>120</th>\n      <td>103.0</td>\n      <td>7.3</td>\n      <td>1.0</td>\n      <td>0.7</td>\n      <td>0.5</td>\n      <td>1.0</td>\n    </tr>\n    <tr>\n      <th>64</th>\n      <td>117.0</td>\n      <td>9.2</td>\n      <td>1.9</td>\n      <td>1.5</td>\n      <td>6.8</td>\n      <td>1.0</td>\n    </tr>\n    <tr>\n      <th>38</th>\n      <td>130.0</td>\n      <td>9.5</td>\n      <td>1.7</td>\n      <td>?</td>\n      <td>3.2</td>\n      <td>1.0</td>\n    </tr>\n    <tr>\n      <th>65</th>\n      <td>106.0</td>\n      <td>6.7</td>\n      <td>1.5</td>\n      <td>1.2</td>\n      <td>3.9</td>\n      <td>1.0</td>\n    </tr>\n    <tr>\n      <th>74</th>\n      <td>113.0</td>\n      <td>8.5</td>\n      <td>1.8</td>\n      <td>0.8</td>\n      <td>0.5</td>\n      <td>1.0</td>\n    </tr>\n    <tr>\n      <th>12</th>\n      <td>116.0</td>\n      <td>9.2</td>\n      <td>2.7</td>\n      <td>1.0</td>\n      <td>4.2</td>\n      <td>1.0</td>\n    </tr>\n    <tr>\n      <th>173</th>\n      <td>98.0</td>\n      <td>16.7</td>\n      <td>4.3</td>\n      <td>1.7</td>\n      <td>0.2</td>\n      <td>2.0</td>\n    </tr>\n    <tr>\n      <th>142</th>\n      <td>112.0</td>\n      <td>6.5</td>\n      <td>1.2</td>\n      <td>1.2</td>\n      <td>2.0</td>\n      <td>1.0</td>\n    </tr>\n    <tr>\n      <th>79</th>\n      <td>117.0</td>\n      <td>6.7</td>\n      <td>2.2</td>\n      <td>1.8</td>\n      <td>6.7</td>\n      <td>1.0</td>\n    </tr>\n    <tr>\n      <th>124</th>\n      <td>101.0</td>\n      <td>6.3</td>\n      <td>1.5</td>\n      <td>0.9</td>\n      <td>2.9</td>\n      <td>1.0</td>\n    </tr>\n    <tr>\n      <th>99</th>\n      <td>108.0</td>\n      <td>10.9</td>\n      <td>1.2</td>\n      <td>1.9</td>\n      <td>1.0</td>\n      <td>1.0</td>\n    </tr>\n    <tr>\n      <th>107</th>\n      <td>107.0</td>\n      <td>13.8</td>\n      <td>1.5</td>\n      <td>1.0</td>\n      <td>1.9</td>\n      <td>1.0</td>\n    </tr>\n    <tr>\n      <th>160</th>\n      <td>89.0</td>\n      <td>14.3</td>\n      <td>4.1</td>\n      <td>0.5</td>\n      <td>0.2</td>\n      <td>2.0</td>\n    </tr>\n    <tr>\n      <th>97</th>\n      <td>110.0</td>\n      <td>8.4</td>\n      <td>1.4</td>\n      <td>1.0</td>\n      <td>1.9</td>\n      <td>1.0</td>\n    </tr>\n    <tr>\n      <th>25</th>\n      <td>100.0</td>\n      <td>6.1</td>\n      <td>2.4</td>\n      <td>1.8</td>\n      <td>3.8</td>\n      <td>1.0</td>\n    </tr>\n    <tr>\n      <th>180</th>\n      <td>88.0</td>\n      <td>16.5</td>\n      <td>4.9</td>\n      <td>0.8</td>\n      <td>0.1</td>\n      <td>2.0</td>\n    </tr>\n    <tr>\n      <th>42</th>\n      <td>129.0</td>\n      <td>11.9</td>\n      <td>2.7</td>\n      <td>1.2</td>\n      <td>3.5</td>\n      <td>1.0</td>\n    </tr>\n    <tr>\n      <th>157</th>\n      <td>110.0</td>\n      <td>20.3</td>\n      <td>3.7</td>\n      <td>0.6</td>\n      <td>0.2</td>\n      <td>2.0</td>\n    </tr>\n    <tr>\n      <th>184</th>\n      <td>92.0</td>\n      <td>11.1</td>\n      <td>2.0</td>\n      <td>0.7</td>\n      <td>-0.2</td>\n      <td>2.0</td>\n    </tr>\n    <tr>\n      <th>78</th>\n      <td>108.0</td>\n      <td>10.4</td>\n      <td>2.1</td>\n      <td>1.3</td>\n      <td>2.4</td>\n      <td>1.0</td>\n    </tr>\n    <tr>\n      <th>88</th>\n      <td>105.0</td>\n      <td>8.1</td>\n      <td>2.0</td>\n      <td>1.9</td>\n      <td>-0.5</td>\n      <td>1.0</td>\n    </tr>\n    <tr>\n      <th>67</th>\n      <td>97.0</td>\n      <td>7.8</td>\n      <td>1.3</td>\n      <td>1.2</td>\n      <td>0.9</td>\n      <td>1.0</td>\n    </tr>\n  </tbody>\n</table>\n</div>"
     },
     "metadata": {},
     "output_type": "execute_result",
     "execution_count": 17
    }
   ],
   "source": [
    "th_test"
   ]
  },
  {
   "cell_type": "code",
   "execution_count": 18,
   "metadata": {
    "pycharm": {
     "name": "#%%\n",
     "is_executing": false
    }
   },
   "outputs": [
    {
     "data": {
      "text/plain": "     T3_resin Serum_thyroxin Serum_triiodothyronine Basal_TSH  Abs_diff_TSH  \\\n29      110.0           10.4                    1.8       1.0           2.3   \n156     134.0           16.4                    4.8       0.6           0.1   \n35      117.0           11.0                    1.4       1.5           2.1   \n137     127.0            7.7                    1.8       1.9           6.4   \n113     110.0            7.0                    1.0       1.6           4.3   \n..        ...            ...                    ...       ...           ...   \n100     108.0            8.7                    1.2       2.2           2.5   \n175      99.0           17.5                    1.9       1.4           0.3   \n41      110.0            9.2                    1.6       1.5           0.3   \n102     113.0           11.5                    1.5       1.9           2.9   \n72      133.0            9.7                    2.9       0.8           1.9   \n\n     Outcome  \n29       1.0  \n156      2.0  \n35       1.0  \n137      1.0  \n113      1.0  \n..       ...  \n100      1.0  \n175      2.0  \n41       1.0  \n102      1.0  \n72       1.0  \n\n[100 rows x 6 columns]",
      "text/html": "<div>\n<style scoped>\n    .dataframe tbody tr th:only-of-type {\n        vertical-align: middle;\n    }\n\n    .dataframe tbody tr th {\n        vertical-align: top;\n    }\n\n    .dataframe thead th {\n        text-align: right;\n    }\n</style>\n<table border=\"1\" class=\"dataframe\">\n  <thead>\n    <tr style=\"text-align: right;\">\n      <th></th>\n      <th>T3_resin</th>\n      <th>Serum_thyroxin</th>\n      <th>Serum_triiodothyronine</th>\n      <th>Basal_TSH</th>\n      <th>Abs_diff_TSH</th>\n      <th>Outcome</th>\n    </tr>\n  </thead>\n  <tbody>\n    <tr>\n      <th>29</th>\n      <td>110.0</td>\n      <td>10.4</td>\n      <td>1.8</td>\n      <td>1.0</td>\n      <td>2.3</td>\n      <td>1.0</td>\n    </tr>\n    <tr>\n      <th>156</th>\n      <td>134.0</td>\n      <td>16.4</td>\n      <td>4.8</td>\n      <td>0.6</td>\n      <td>0.1</td>\n      <td>2.0</td>\n    </tr>\n    <tr>\n      <th>35</th>\n      <td>117.0</td>\n      <td>11.0</td>\n      <td>1.4</td>\n      <td>1.5</td>\n      <td>2.1</td>\n      <td>1.0</td>\n    </tr>\n    <tr>\n      <th>137</th>\n      <td>127.0</td>\n      <td>7.7</td>\n      <td>1.8</td>\n      <td>1.9</td>\n      <td>6.4</td>\n      <td>1.0</td>\n    </tr>\n    <tr>\n      <th>113</th>\n      <td>110.0</td>\n      <td>7.0</td>\n      <td>1.0</td>\n      <td>1.6</td>\n      <td>4.3</td>\n      <td>1.0</td>\n    </tr>\n    <tr>\n      <th>...</th>\n      <td>...</td>\n      <td>...</td>\n      <td>...</td>\n      <td>...</td>\n      <td>...</td>\n      <td>...</td>\n    </tr>\n    <tr>\n      <th>100</th>\n      <td>108.0</td>\n      <td>8.7</td>\n      <td>1.2</td>\n      <td>2.2</td>\n      <td>2.5</td>\n      <td>1.0</td>\n    </tr>\n    <tr>\n      <th>175</th>\n      <td>99.0</td>\n      <td>17.5</td>\n      <td>1.9</td>\n      <td>1.4</td>\n      <td>0.3</td>\n      <td>2.0</td>\n    </tr>\n    <tr>\n      <th>41</th>\n      <td>110.0</td>\n      <td>9.2</td>\n      <td>1.6</td>\n      <td>1.5</td>\n      <td>0.3</td>\n      <td>1.0</td>\n    </tr>\n    <tr>\n      <th>102</th>\n      <td>113.0</td>\n      <td>11.5</td>\n      <td>1.5</td>\n      <td>1.9</td>\n      <td>2.9</td>\n      <td>1.0</td>\n    </tr>\n    <tr>\n      <th>72</th>\n      <td>133.0</td>\n      <td>9.7</td>\n      <td>2.9</td>\n      <td>0.8</td>\n      <td>1.9</td>\n      <td>1.0</td>\n    </tr>\n  </tbody>\n</table>\n<p>100 rows × 6 columns</p>\n</div>"
     },
     "metadata": {},
     "output_type": "execute_result",
     "execution_count": 18
    }
   ],
   "source": [
    "th_train"
   ]
  },
  {
   "cell_type": "markdown",
   "source": [
    "## Q4,c"
   ],
   "metadata": {
    "collapsed": false,
    "pycharm": {
     "name": "#%% md\n"
    }
   }
  },
  {
   "cell_type": "code",
   "execution_count": 19,
   "outputs": [
    {
     "data": {
      "text/plain": "         T3_resin  Serum_thyroxin  Serum_triiodothyronine  Basal_TSH  \\\nOutcome                                                                \n1.0            83              83                      83         83   \n2.0            17              17                      17         17   \n\n         Abs_diff_TSH  \nOutcome                \n1.0                83  \n2.0                17  ",
      "text/html": "<div>\n<style scoped>\n    .dataframe tbody tr th:only-of-type {\n        vertical-align: middle;\n    }\n\n    .dataframe tbody tr th {\n        vertical-align: top;\n    }\n\n    .dataframe thead th {\n        text-align: right;\n    }\n</style>\n<table border=\"1\" class=\"dataframe\">\n  <thead>\n    <tr style=\"text-align: right;\">\n      <th></th>\n      <th>T3_resin</th>\n      <th>Serum_thyroxin</th>\n      <th>Serum_triiodothyronine</th>\n      <th>Basal_TSH</th>\n      <th>Abs_diff_TSH</th>\n    </tr>\n    <tr>\n      <th>Outcome</th>\n      <th></th>\n      <th></th>\n      <th></th>\n      <th></th>\n      <th></th>\n    </tr>\n  </thead>\n  <tbody>\n    <tr>\n      <th>1.0</th>\n      <td>83</td>\n      <td>83</td>\n      <td>83</td>\n      <td>83</td>\n      <td>83</td>\n    </tr>\n    <tr>\n      <th>2.0</th>\n      <td>17</td>\n      <td>17</td>\n      <td>17</td>\n      <td>17</td>\n      <td>17</td>\n    </tr>\n  </tbody>\n</table>\n</div>"
     },
     "metadata": {},
     "output_type": "execute_result",
     "execution_count": 19
    }
   ],
   "source": [
    "th_train.groupby('Outcome').count()"
   ],
   "metadata": {
    "collapsed": false,
    "pycharm": {
     "name": "#%%\n",
     "is_executing": false
    }
   }
  },
  {
   "cell_type": "code",
   "execution_count": 20,
   "outputs": [
    {
     "data": {
      "text/plain": "         T3_resin  Serum_thyroxin  Serum_triiodothyronine  Basal_TSH  \\\nOutcome                                                                \n1.0            19              19                      19         19   \n2.0             6               6                       6          6   \n\n         Abs_diff_TSH  \nOutcome                \n1.0                19  \n2.0                 6  ",
      "text/html": "<div>\n<style scoped>\n    .dataframe tbody tr th:only-of-type {\n        vertical-align: middle;\n    }\n\n    .dataframe tbody tr th {\n        vertical-align: top;\n    }\n\n    .dataframe thead th {\n        text-align: right;\n    }\n</style>\n<table border=\"1\" class=\"dataframe\">\n  <thead>\n    <tr style=\"text-align: right;\">\n      <th></th>\n      <th>T3_resin</th>\n      <th>Serum_thyroxin</th>\n      <th>Serum_triiodothyronine</th>\n      <th>Basal_TSH</th>\n      <th>Abs_diff_TSH</th>\n    </tr>\n    <tr>\n      <th>Outcome</th>\n      <th></th>\n      <th></th>\n      <th></th>\n      <th></th>\n      <th></th>\n    </tr>\n  </thead>\n  <tbody>\n    <tr>\n      <th>1.0</th>\n      <td>19</td>\n      <td>19</td>\n      <td>19</td>\n      <td>19</td>\n      <td>19</td>\n    </tr>\n    <tr>\n      <th>2.0</th>\n      <td>6</td>\n      <td>6</td>\n      <td>6</td>\n      <td>6</td>\n      <td>6</td>\n    </tr>\n  </tbody>\n</table>\n</div>"
     },
     "metadata": {},
     "output_type": "execute_result",
     "execution_count": 20
    }
   ],
   "source": [
    "th_test.groupby('Outcome').count()"
   ],
   "metadata": {
    "collapsed": false,
    "pycharm": {
     "name": "#%%\n",
     "is_executing": false
    }
   }
  }
 ],
 "metadata": {
  "kernelspec": {
   "display_name": "Python 3",
   "language": "python",
   "name": "python3"
  },
  "language_info": {
   "codemirror_mode": {
    "name": "ipython",
    "version": 3
   },
   "file_extension": ".py",
   "mimetype": "text/x-python",
   "name": "python",
   "nbconvert_exporter": "python",
   "pygments_lexer": "ipython3",
   "version": "3.7.2"
  },
  "pycharm": {
   "stem_cell": {
    "cell_type": "raw",
    "source": [],
    "metadata": {
     "collapsed": false
    }
   }
  }
 },
 "nbformat": 4,
 "nbformat_minor": 1
}
