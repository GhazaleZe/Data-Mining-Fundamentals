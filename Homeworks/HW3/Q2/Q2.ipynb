{
 "cells": [
  {
   "cell_type": "markdown",
   "metadata": {},
   "source": [
    "# HW3,Q2 Ghazaleh Zehtab\n",
    "## Q2.a"
   ]
  },
  {
   "cell_type": "code",
   "execution_count": 9,
   "metadata": {
    "pycharm": {
     "is_executing": false
    }
   },
   "outputs": [
    {
     "data": {
      "text/plain": "   longitude  latitude  housing_median_age  total_rooms  total_bedrooms  \\\n0    -122.23     37.88                41.0        880.0           129.0   \n1    -122.22     37.86                21.0       7099.0          1106.0   \n2    -122.24     37.85                52.0       1467.0           190.0   \n3    -122.25     37.85                52.0       1274.0           235.0   \n4    -122.25     37.85                52.0       1627.0           280.0   \n\n   population  households  median_income  median_house_value ocean_proximity  \n0       322.0       126.0         8.3252            452600.0        NEAR BAY  \n1      2401.0      1138.0         8.3014            358500.0        NEAR BAY  \n2       496.0       177.0         7.2574            352100.0        NEAR BAY  \n3       558.0       219.0         5.6431            341300.0        NEAR BAY  \n4       565.0       259.0         3.8462            342200.0        NEAR BAY  ",
      "text/html": "<div>\n<style scoped>\n    .dataframe tbody tr th:only-of-type {\n        vertical-align: middle;\n    }\n\n    .dataframe tbody tr th {\n        vertical-align: top;\n    }\n\n    .dataframe thead th {\n        text-align: right;\n    }\n</style>\n<table border=\"1\" class=\"dataframe\">\n  <thead>\n    <tr style=\"text-align: right;\">\n      <th></th>\n      <th>longitude</th>\n      <th>latitude</th>\n      <th>housing_median_age</th>\n      <th>total_rooms</th>\n      <th>total_bedrooms</th>\n      <th>population</th>\n      <th>households</th>\n      <th>median_income</th>\n      <th>median_house_value</th>\n      <th>ocean_proximity</th>\n    </tr>\n  </thead>\n  <tbody>\n    <tr>\n      <th>0</th>\n      <td>-122.23</td>\n      <td>37.88</td>\n      <td>41.0</td>\n      <td>880.0</td>\n      <td>129.0</td>\n      <td>322.0</td>\n      <td>126.0</td>\n      <td>8.3252</td>\n      <td>452600.0</td>\n      <td>NEAR BAY</td>\n    </tr>\n    <tr>\n      <th>1</th>\n      <td>-122.22</td>\n      <td>37.86</td>\n      <td>21.0</td>\n      <td>7099.0</td>\n      <td>1106.0</td>\n      <td>2401.0</td>\n      <td>1138.0</td>\n      <td>8.3014</td>\n      <td>358500.0</td>\n      <td>NEAR BAY</td>\n    </tr>\n    <tr>\n      <th>2</th>\n      <td>-122.24</td>\n      <td>37.85</td>\n      <td>52.0</td>\n      <td>1467.0</td>\n      <td>190.0</td>\n      <td>496.0</td>\n      <td>177.0</td>\n      <td>7.2574</td>\n      <td>352100.0</td>\n      <td>NEAR BAY</td>\n    </tr>\n    <tr>\n      <th>3</th>\n      <td>-122.25</td>\n      <td>37.85</td>\n      <td>52.0</td>\n      <td>1274.0</td>\n      <td>235.0</td>\n      <td>558.0</td>\n      <td>219.0</td>\n      <td>5.6431</td>\n      <td>341300.0</td>\n      <td>NEAR BAY</td>\n    </tr>\n    <tr>\n      <th>4</th>\n      <td>-122.25</td>\n      <td>37.85</td>\n      <td>52.0</td>\n      <td>1627.0</td>\n      <td>280.0</td>\n      <td>565.0</td>\n      <td>259.0</td>\n      <td>3.8462</td>\n      <td>342200.0</td>\n      <td>NEAR BAY</td>\n    </tr>\n  </tbody>\n</table>\n</div>"
     },
     "metadata": {},
     "output_type": "execute_result",
     "execution_count": 9
    }
   ],
   "source": [
    "import pandas as pd\n",
    "import matplotlib as plt\n",
    "import numpy as np\n",
    "import seaborn as sns\n",
    "house= pd.read_csv(\"housing.csv\")\n",
    "house.head()"
   ]
  },
  {
   "cell_type": "code",
   "execution_count": 10,
   "metadata": {
    "pycharm": {
     "is_executing": false,
     "name": "#%%\n"
    }
   },
   "outputs": [],
   "source": [
    "sns.pairplot(house)"
   ]
  },
  {
   "cell_type": "markdown",
   "metadata": {
    "pycharm": {
     "is_executing": false,
     "name": "#%% md\n"
    }
   },
   "source": [
    "## Q2.b"
   ]
  },
  {
   "cell_type": "code",
   "execution_count": 11,
   "metadata": {
    "pycharm": {
     "is_executing": false,
     "name": "#%% \n"
    }
   },
   "outputs": [
    {
     "data": {
      "text/plain": "                    longitude  latitude  housing_median_age  total_rooms  \\\nlongitude            1.000000 -0.924664           -0.108197     0.044568   \nlatitude            -0.924664  1.000000            0.011173    -0.036100   \nhousing_median_age  -0.108197  0.011173            1.000000    -0.361262   \ntotal_rooms          0.044568 -0.036100           -0.361262     1.000000   \ntotal_bedrooms       0.069608 -0.066983           -0.320451     0.930380   \npopulation           0.099773 -0.108785           -0.296244     0.857126   \nhouseholds           0.055310 -0.071035           -0.302916     0.918484   \nmedian_income       -0.015176 -0.079809           -0.119034     0.198050   \nmedian_house_value  -0.045967 -0.144160            0.105623     0.134153   \n\n                    total_bedrooms  population  households  median_income  \\\nlongitude                 0.069608    0.099773    0.055310      -0.015176   \nlatitude                 -0.066983   -0.108785   -0.071035      -0.079809   \nhousing_median_age       -0.320451   -0.296244   -0.302916      -0.119034   \ntotal_rooms               0.930380    0.857126    0.918484       0.198050   \ntotal_bedrooms            1.000000    0.877747    0.979728      -0.007723   \npopulation                0.877747    1.000000    0.907222       0.004834   \nhouseholds                0.979728    0.907222    1.000000       0.013033   \nmedian_income            -0.007723    0.004834    0.013033       1.000000   \nmedian_house_value        0.049686   -0.024650    0.065843       0.688075   \n\n                    median_house_value  \nlongitude                    -0.045967  \nlatitude                     -0.144160  \nhousing_median_age            0.105623  \ntotal_rooms                   0.134153  \ntotal_bedrooms                0.049686  \npopulation                   -0.024650  \nhouseholds                    0.065843  \nmedian_income                 0.688075  \nmedian_house_value            1.000000  ",
      "text/html": "<div>\n<style scoped>\n    .dataframe tbody tr th:only-of-type {\n        vertical-align: middle;\n    }\n\n    .dataframe tbody tr th {\n        vertical-align: top;\n    }\n\n    .dataframe thead th {\n        text-align: right;\n    }\n</style>\n<table border=\"1\" class=\"dataframe\">\n  <thead>\n    <tr style=\"text-align: right;\">\n      <th></th>\n      <th>longitude</th>\n      <th>latitude</th>\n      <th>housing_median_age</th>\n      <th>total_rooms</th>\n      <th>total_bedrooms</th>\n      <th>population</th>\n      <th>households</th>\n      <th>median_income</th>\n      <th>median_house_value</th>\n    </tr>\n  </thead>\n  <tbody>\n    <tr>\n      <th>longitude</th>\n      <td>1.000000</td>\n      <td>-0.924664</td>\n      <td>-0.108197</td>\n      <td>0.044568</td>\n      <td>0.069608</td>\n      <td>0.099773</td>\n      <td>0.055310</td>\n      <td>-0.015176</td>\n      <td>-0.045967</td>\n    </tr>\n    <tr>\n      <th>latitude</th>\n      <td>-0.924664</td>\n      <td>1.000000</td>\n      <td>0.011173</td>\n      <td>-0.036100</td>\n      <td>-0.066983</td>\n      <td>-0.108785</td>\n      <td>-0.071035</td>\n      <td>-0.079809</td>\n      <td>-0.144160</td>\n    </tr>\n    <tr>\n      <th>housing_median_age</th>\n      <td>-0.108197</td>\n      <td>0.011173</td>\n      <td>1.000000</td>\n      <td>-0.361262</td>\n      <td>-0.320451</td>\n      <td>-0.296244</td>\n      <td>-0.302916</td>\n      <td>-0.119034</td>\n      <td>0.105623</td>\n    </tr>\n    <tr>\n      <th>total_rooms</th>\n      <td>0.044568</td>\n      <td>-0.036100</td>\n      <td>-0.361262</td>\n      <td>1.000000</td>\n      <td>0.930380</td>\n      <td>0.857126</td>\n      <td>0.918484</td>\n      <td>0.198050</td>\n      <td>0.134153</td>\n    </tr>\n    <tr>\n      <th>total_bedrooms</th>\n      <td>0.069608</td>\n      <td>-0.066983</td>\n      <td>-0.320451</td>\n      <td>0.930380</td>\n      <td>1.000000</td>\n      <td>0.877747</td>\n      <td>0.979728</td>\n      <td>-0.007723</td>\n      <td>0.049686</td>\n    </tr>\n    <tr>\n      <th>population</th>\n      <td>0.099773</td>\n      <td>-0.108785</td>\n      <td>-0.296244</td>\n      <td>0.857126</td>\n      <td>0.877747</td>\n      <td>1.000000</td>\n      <td>0.907222</td>\n      <td>0.004834</td>\n      <td>-0.024650</td>\n    </tr>\n    <tr>\n      <th>households</th>\n      <td>0.055310</td>\n      <td>-0.071035</td>\n      <td>-0.302916</td>\n      <td>0.918484</td>\n      <td>0.979728</td>\n      <td>0.907222</td>\n      <td>1.000000</td>\n      <td>0.013033</td>\n      <td>0.065843</td>\n    </tr>\n    <tr>\n      <th>median_income</th>\n      <td>-0.015176</td>\n      <td>-0.079809</td>\n      <td>-0.119034</td>\n      <td>0.198050</td>\n      <td>-0.007723</td>\n      <td>0.004834</td>\n      <td>0.013033</td>\n      <td>1.000000</td>\n      <td>0.688075</td>\n    </tr>\n    <tr>\n      <th>median_house_value</th>\n      <td>-0.045967</td>\n      <td>-0.144160</td>\n      <td>0.105623</td>\n      <td>0.134153</td>\n      <td>0.049686</td>\n      <td>-0.024650</td>\n      <td>0.065843</td>\n      <td>0.688075</td>\n      <td>1.000000</td>\n    </tr>\n  </tbody>\n</table>\n</div>"
     },
     "metadata": {},
     "output_type": "execute_result",
     "execution_count": 11
    }
   ],
   "source": [
    "house.corr()"
   ]
  },
  {
   "cell_type": "markdown",
   "metadata": {
    "pycharm": {
     "name": "#%% md\n"
    }
   },
   "source": [
    "## Q2.d"
   ]
  },
  {
   "cell_type": "code",
   "execution_count": 12,
   "metadata": {
    "pycharm": {
     "is_executing": false,
     "name": "#%%\n"
    }
   },
   "outputs": [
    {
     "data": {
      "text/plain": "(0.688075207958547, 0.0)"
     },
     "metadata": {},
     "output_type": "execute_result",
     "execution_count": 12
    }
   ],
   "source": [
    "from scipy import stats\n",
    "stats.pearsonr(house['median_income'], house['median_house_value'])"
   ]
  },
  {
   "cell_type": "markdown",
   "metadata": {},
   "source": [
    "## Q2.e"
   ]
  },
  {
   "cell_type": "code",
   "execution_count": 13,
   "metadata": {
    "pycharm": {
     "is_executing": false
    }
   },
   "outputs": [
    {
     "data": {
      "text/plain": "SpearmanrResult(correlation=-0.3571622692099669, pvalue=0.0)"
     },
     "metadata": {},
     "output_type": "execute_result",
     "execution_count": 13
    }
   ],
   "source": [
    "stats.spearmanr(house['housing_median_age'],house['total_rooms'])"
   ]
  },
  {
   "cell_type": "markdown",
   "metadata": {},
   "source": [
    "## Q2.f"
   ]
  },
  {
   "cell_type": "code",
   "execution_count": 14,
   "metadata": {
    "pycharm": {
     "is_executing": false,
     "name": "#%% \n"
    }
   },
   "outputs": [
    {
     "data": {
      "text/plain": "                    longitude  latitude  housing_median_age  total_rooms  \\\nlongitude            1.000000 -0.879203           -0.150752     0.040120   \nlatitude            -0.879203  1.000000            0.032440    -0.018435   \nhousing_median_age  -0.150752  0.032440            1.000000    -0.357162   \ntotal_rooms          0.040120 -0.018435           -0.357162     1.000000   \ntotal_bedrooms       0.063879 -0.056636           -0.306544     0.915021   \npopulation           0.123527 -0.123626           -0.283879     0.816185   \nhouseholds           0.060020 -0.074299           -0.281989     0.906734   \nmedian_income       -0.009928 -0.088029           -0.147308     0.271321   \nmedian_house_value  -0.069667 -0.165739            0.074855     0.205952   \n\n                    total_bedrooms  population  households  median_income  \\\nlongitude                 0.063879    0.123527    0.060020      -0.009928   \nlatitude                 -0.056636   -0.123626   -0.074299      -0.088029   \nhousing_median_age       -0.306544   -0.283879   -0.281989      -0.147308   \ntotal_rooms               0.915021    0.816185    0.906734       0.271321   \ntotal_bedrooms            1.000000    0.870937    0.975627      -0.006196   \npopulation                0.870937    1.000000    0.903872       0.006268   \nhouseholds                0.975627    0.903872    1.000000       0.030305   \nmedian_income            -0.006196    0.006268    0.030305       1.000000   \nmedian_house_value        0.086259    0.003839    0.112737       0.676778   \n\n                    median_house_value  \nlongitude                    -0.069667  \nlatitude                     -0.165739  \nhousing_median_age            0.074855  \ntotal_rooms                   0.205952  \ntotal_bedrooms                0.086259  \npopulation                    0.003839  \nhouseholds                    0.112737  \nmedian_income                 0.676778  \nmedian_house_value            1.000000  ",
      "text/html": "<div>\n<style scoped>\n    .dataframe tbody tr th:only-of-type {\n        vertical-align: middle;\n    }\n\n    .dataframe tbody tr th {\n        vertical-align: top;\n    }\n\n    .dataframe thead th {\n        text-align: right;\n    }\n</style>\n<table border=\"1\" class=\"dataframe\">\n  <thead>\n    <tr style=\"text-align: right;\">\n      <th></th>\n      <th>longitude</th>\n      <th>latitude</th>\n      <th>housing_median_age</th>\n      <th>total_rooms</th>\n      <th>total_bedrooms</th>\n      <th>population</th>\n      <th>households</th>\n      <th>median_income</th>\n      <th>median_house_value</th>\n    </tr>\n  </thead>\n  <tbody>\n    <tr>\n      <th>longitude</th>\n      <td>1.000000</td>\n      <td>-0.879203</td>\n      <td>-0.150752</td>\n      <td>0.040120</td>\n      <td>0.063879</td>\n      <td>0.123527</td>\n      <td>0.060020</td>\n      <td>-0.009928</td>\n      <td>-0.069667</td>\n    </tr>\n    <tr>\n      <th>latitude</th>\n      <td>-0.879203</td>\n      <td>1.000000</td>\n      <td>0.032440</td>\n      <td>-0.018435</td>\n      <td>-0.056636</td>\n      <td>-0.123626</td>\n      <td>-0.074299</td>\n      <td>-0.088029</td>\n      <td>-0.165739</td>\n    </tr>\n    <tr>\n      <th>housing_median_age</th>\n      <td>-0.150752</td>\n      <td>0.032440</td>\n      <td>1.000000</td>\n      <td>-0.357162</td>\n      <td>-0.306544</td>\n      <td>-0.283879</td>\n      <td>-0.281989</td>\n      <td>-0.147308</td>\n      <td>0.074855</td>\n    </tr>\n    <tr>\n      <th>total_rooms</th>\n      <td>0.040120</td>\n      <td>-0.018435</td>\n      <td>-0.357162</td>\n      <td>1.000000</td>\n      <td>0.915021</td>\n      <td>0.816185</td>\n      <td>0.906734</td>\n      <td>0.271321</td>\n      <td>0.205952</td>\n    </tr>\n    <tr>\n      <th>total_bedrooms</th>\n      <td>0.063879</td>\n      <td>-0.056636</td>\n      <td>-0.306544</td>\n      <td>0.915021</td>\n      <td>1.000000</td>\n      <td>0.870937</td>\n      <td>0.975627</td>\n      <td>-0.006196</td>\n      <td>0.086259</td>\n    </tr>\n    <tr>\n      <th>population</th>\n      <td>0.123527</td>\n      <td>-0.123626</td>\n      <td>-0.283879</td>\n      <td>0.816185</td>\n      <td>0.870937</td>\n      <td>1.000000</td>\n      <td>0.903872</td>\n      <td>0.006268</td>\n      <td>0.003839</td>\n    </tr>\n    <tr>\n      <th>households</th>\n      <td>0.060020</td>\n      <td>-0.074299</td>\n      <td>-0.281989</td>\n      <td>0.906734</td>\n      <td>0.975627</td>\n      <td>0.903872</td>\n      <td>1.000000</td>\n      <td>0.030305</td>\n      <td>0.112737</td>\n    </tr>\n    <tr>\n      <th>median_income</th>\n      <td>-0.009928</td>\n      <td>-0.088029</td>\n      <td>-0.147308</td>\n      <td>0.271321</td>\n      <td>-0.006196</td>\n      <td>0.006268</td>\n      <td>0.030305</td>\n      <td>1.000000</td>\n      <td>0.676778</td>\n    </tr>\n    <tr>\n      <th>median_house_value</th>\n      <td>-0.069667</td>\n      <td>-0.165739</td>\n      <td>0.074855</td>\n      <td>0.205952</td>\n      <td>0.086259</td>\n      <td>0.003839</td>\n      <td>0.112737</td>\n      <td>0.676778</td>\n      <td>1.000000</td>\n    </tr>\n  </tbody>\n</table>\n</div>"
     },
     "metadata": {},
     "output_type": "execute_result",
     "execution_count": 14
    }
   ],
   "source": [
    "house.corr(method='spearman')"
   ]
  },
  {
   "cell_type": "markdown",
   "metadata": {},
   "source": [
    "## Q2.g"
   ]
  },
  {
   "cell_type": "code",
   "execution_count": 15,
   "metadata": {
    "pycharm": {
     "is_executing": false,
     "name": "#%%\n"
    }
   },
   "outputs": [
    {
     "data": {
      "text/plain": "    longitude  latitude  housing_median_age  total_rooms  total_bedrooms  \\\n0     -122.23     37.88                41.0        880.0           129.0   \n1     -122.22     37.86                21.0       7099.0          1106.0   \n2     -122.24     37.85                52.0       1467.0           190.0   \n3     -122.25     37.85                52.0       1274.0           235.0   \n4     -122.25     37.85                52.0       1627.0           280.0   \n5     -122.25     37.85                52.0        919.0           213.0   \n6     -122.25     37.84                52.0       2535.0           489.0   \n7     -122.25     37.84                52.0       3104.0           687.0   \n8     -122.26     37.84                42.0       2555.0           665.0   \n9     -122.25     37.84                52.0       3549.0           707.0   \n10    -122.26     37.85                52.0       2202.0           434.0   \n11    -122.26     37.85                52.0       3503.0           752.0   \n12    -122.26     37.85                52.0       2491.0           474.0   \n13    -122.26     37.84                52.0        696.0           191.0   \n14    -122.26     37.85                52.0       2643.0           626.0   \n15    -122.26     37.85                50.0       1120.0           283.0   \n16    -122.27     37.85                52.0       1966.0           347.0   \n17    -122.27     37.85                52.0       1228.0           293.0   \n18    -122.26     37.84                50.0       2239.0           455.0   \n19    -122.27     37.84                52.0       1503.0           298.0   \n\n    population  households  median_income  median_house_value  ocean_proximity  \n0        322.0       126.0         8.3252            452600.0                3  \n1       2401.0      1138.0         8.3014            358500.0                3  \n2        496.0       177.0         7.2574            352100.0                3  \n3        558.0       219.0         5.6431            341300.0                3  \n4        565.0       259.0         3.8462            342200.0                3  \n5        413.0       193.0         4.0368            269700.0                3  \n6       1094.0       514.0         3.6591            299200.0                3  \n7       1157.0       647.0         3.1200            241400.0                3  \n8       1206.0       595.0         2.0804            226700.0                3  \n9       1551.0       714.0         3.6912            261100.0                3  \n10       910.0       402.0         3.2031            281500.0                3  \n11      1504.0       734.0         3.2705            241800.0                3  \n12      1098.0       468.0         3.0750            213500.0                3  \n13       345.0       174.0         2.6736            191300.0                3  \n14      1212.0       620.0         1.9167            159200.0                3  \n15       697.0       264.0         2.1250            140000.0                3  \n16       793.0       331.0         2.7750            152500.0                3  \n17       648.0       303.0         2.1202            155500.0                3  \n18       990.0       419.0         1.9911            158700.0                3  \n19       690.0       275.0         2.6033            162900.0                3  ",
      "text/html": "<div>\n<style scoped>\n    .dataframe tbody tr th:only-of-type {\n        vertical-align: middle;\n    }\n\n    .dataframe tbody tr th {\n        vertical-align: top;\n    }\n\n    .dataframe thead th {\n        text-align: right;\n    }\n</style>\n<table border=\"1\" class=\"dataframe\">\n  <thead>\n    <tr style=\"text-align: right;\">\n      <th></th>\n      <th>longitude</th>\n      <th>latitude</th>\n      <th>housing_median_age</th>\n      <th>total_rooms</th>\n      <th>total_bedrooms</th>\n      <th>population</th>\n      <th>households</th>\n      <th>median_income</th>\n      <th>median_house_value</th>\n      <th>ocean_proximity</th>\n    </tr>\n  </thead>\n  <tbody>\n    <tr>\n      <th>0</th>\n      <td>-122.23</td>\n      <td>37.88</td>\n      <td>41.0</td>\n      <td>880.0</td>\n      <td>129.0</td>\n      <td>322.0</td>\n      <td>126.0</td>\n      <td>8.3252</td>\n      <td>452600.0</td>\n      <td>3</td>\n    </tr>\n    <tr>\n      <th>1</th>\n      <td>-122.22</td>\n      <td>37.86</td>\n      <td>21.0</td>\n      <td>7099.0</td>\n      <td>1106.0</td>\n      <td>2401.0</td>\n      <td>1138.0</td>\n      <td>8.3014</td>\n      <td>358500.0</td>\n      <td>3</td>\n    </tr>\n    <tr>\n      <th>2</th>\n      <td>-122.24</td>\n      <td>37.85</td>\n      <td>52.0</td>\n      <td>1467.0</td>\n      <td>190.0</td>\n      <td>496.0</td>\n      <td>177.0</td>\n      <td>7.2574</td>\n      <td>352100.0</td>\n      <td>3</td>\n    </tr>\n    <tr>\n      <th>3</th>\n      <td>-122.25</td>\n      <td>37.85</td>\n      <td>52.0</td>\n      <td>1274.0</td>\n      <td>235.0</td>\n      <td>558.0</td>\n      <td>219.0</td>\n      <td>5.6431</td>\n      <td>341300.0</td>\n      <td>3</td>\n    </tr>\n    <tr>\n      <th>4</th>\n      <td>-122.25</td>\n      <td>37.85</td>\n      <td>52.0</td>\n      <td>1627.0</td>\n      <td>280.0</td>\n      <td>565.0</td>\n      <td>259.0</td>\n      <td>3.8462</td>\n      <td>342200.0</td>\n      <td>3</td>\n    </tr>\n    <tr>\n      <th>5</th>\n      <td>-122.25</td>\n      <td>37.85</td>\n      <td>52.0</td>\n      <td>919.0</td>\n      <td>213.0</td>\n      <td>413.0</td>\n      <td>193.0</td>\n      <td>4.0368</td>\n      <td>269700.0</td>\n      <td>3</td>\n    </tr>\n    <tr>\n      <th>6</th>\n      <td>-122.25</td>\n      <td>37.84</td>\n      <td>52.0</td>\n      <td>2535.0</td>\n      <td>489.0</td>\n      <td>1094.0</td>\n      <td>514.0</td>\n      <td>3.6591</td>\n      <td>299200.0</td>\n      <td>3</td>\n    </tr>\n    <tr>\n      <th>7</th>\n      <td>-122.25</td>\n      <td>37.84</td>\n      <td>52.0</td>\n      <td>3104.0</td>\n      <td>687.0</td>\n      <td>1157.0</td>\n      <td>647.0</td>\n      <td>3.1200</td>\n      <td>241400.0</td>\n      <td>3</td>\n    </tr>\n    <tr>\n      <th>8</th>\n      <td>-122.26</td>\n      <td>37.84</td>\n      <td>42.0</td>\n      <td>2555.0</td>\n      <td>665.0</td>\n      <td>1206.0</td>\n      <td>595.0</td>\n      <td>2.0804</td>\n      <td>226700.0</td>\n      <td>3</td>\n    </tr>\n    <tr>\n      <th>9</th>\n      <td>-122.25</td>\n      <td>37.84</td>\n      <td>52.0</td>\n      <td>3549.0</td>\n      <td>707.0</td>\n      <td>1551.0</td>\n      <td>714.0</td>\n      <td>3.6912</td>\n      <td>261100.0</td>\n      <td>3</td>\n    </tr>\n    <tr>\n      <th>10</th>\n      <td>-122.26</td>\n      <td>37.85</td>\n      <td>52.0</td>\n      <td>2202.0</td>\n      <td>434.0</td>\n      <td>910.0</td>\n      <td>402.0</td>\n      <td>3.2031</td>\n      <td>281500.0</td>\n      <td>3</td>\n    </tr>\n    <tr>\n      <th>11</th>\n      <td>-122.26</td>\n      <td>37.85</td>\n      <td>52.0</td>\n      <td>3503.0</td>\n      <td>752.0</td>\n      <td>1504.0</td>\n      <td>734.0</td>\n      <td>3.2705</td>\n      <td>241800.0</td>\n      <td>3</td>\n    </tr>\n    <tr>\n      <th>12</th>\n      <td>-122.26</td>\n      <td>37.85</td>\n      <td>52.0</td>\n      <td>2491.0</td>\n      <td>474.0</td>\n      <td>1098.0</td>\n      <td>468.0</td>\n      <td>3.0750</td>\n      <td>213500.0</td>\n      <td>3</td>\n    </tr>\n    <tr>\n      <th>13</th>\n      <td>-122.26</td>\n      <td>37.84</td>\n      <td>52.0</td>\n      <td>696.0</td>\n      <td>191.0</td>\n      <td>345.0</td>\n      <td>174.0</td>\n      <td>2.6736</td>\n      <td>191300.0</td>\n      <td>3</td>\n    </tr>\n    <tr>\n      <th>14</th>\n      <td>-122.26</td>\n      <td>37.85</td>\n      <td>52.0</td>\n      <td>2643.0</td>\n      <td>626.0</td>\n      <td>1212.0</td>\n      <td>620.0</td>\n      <td>1.9167</td>\n      <td>159200.0</td>\n      <td>3</td>\n    </tr>\n    <tr>\n      <th>15</th>\n      <td>-122.26</td>\n      <td>37.85</td>\n      <td>50.0</td>\n      <td>1120.0</td>\n      <td>283.0</td>\n      <td>697.0</td>\n      <td>264.0</td>\n      <td>2.1250</td>\n      <td>140000.0</td>\n      <td>3</td>\n    </tr>\n    <tr>\n      <th>16</th>\n      <td>-122.27</td>\n      <td>37.85</td>\n      <td>52.0</td>\n      <td>1966.0</td>\n      <td>347.0</td>\n      <td>793.0</td>\n      <td>331.0</td>\n      <td>2.7750</td>\n      <td>152500.0</td>\n      <td>3</td>\n    </tr>\n    <tr>\n      <th>17</th>\n      <td>-122.27</td>\n      <td>37.85</td>\n      <td>52.0</td>\n      <td>1228.0</td>\n      <td>293.0</td>\n      <td>648.0</td>\n      <td>303.0</td>\n      <td>2.1202</td>\n      <td>155500.0</td>\n      <td>3</td>\n    </tr>\n    <tr>\n      <th>18</th>\n      <td>-122.26</td>\n      <td>37.84</td>\n      <td>50.0</td>\n      <td>2239.0</td>\n      <td>455.0</td>\n      <td>990.0</td>\n      <td>419.0</td>\n      <td>1.9911</td>\n      <td>158700.0</td>\n      <td>3</td>\n    </tr>\n    <tr>\n      <th>19</th>\n      <td>-122.27</td>\n      <td>37.84</td>\n      <td>52.0</td>\n      <td>1503.0</td>\n      <td>298.0</td>\n      <td>690.0</td>\n      <td>275.0</td>\n      <td>2.6033</td>\n      <td>162900.0</td>\n      <td>3</td>\n    </tr>\n  </tbody>\n</table>\n</div>"
     },
     "metadata": {},
     "output_type": "execute_result",
     "execution_count": 15
    }
   ],
   "source": [
    "house['ocean_proximity']=house['ocean_proximity'].replace('<1H OCEAN',0)\n",
    "house['ocean_proximity']=house['ocean_proximity'].replace('INLAND',1)\n",
    "house['ocean_proximity']=house['ocean_proximity'].replace('ISLAND',2)\n",
    "house['ocean_proximity']=house['ocean_proximity'].replace('NEAR BAY',3)\n",
    "house['ocean_proximity']=house['ocean_proximity'].replace('NEAR OCEAN',4)\n",
    "house.head(20)"
   ]
  },
  {
   "cell_type": "code",
   "execution_count": 16,
   "metadata": {
    "pycharm": {
     "is_executing": false,
     "name": "#%%\n"
    }
   },
   "outputs": [
    {
     "data": {
      "text/plain": "<AxesSubplot:>"
     },
     "metadata": {},
     "output_type": "execute_result",
     "execution_count": 16
    },
    {
     "data": {
      "text/plain": "<Figure size 432x288 with 2 Axes>",
      "image/png": "[encoded data removed]"
     },
     "metadata": {
      "needs_background": "light"
     },
     "output_type": "display_data"
    }
   ],
   "source": [
    "sns.heatmap(house)"
   ]
  },
  {
   "cell_type": "code",
   "execution_count": 16,
   "metadata": {
    "pycharm": {
     "is_executing": false
    }
   },
   "outputs": [],
   "source": []
  }
 ],
 "metadata": {
  "kernelspec": {
   "display_name": "Python 3",
   "language": "python",
   "name": "python3"
  },
  "language_info": {
   "codemirror_mode": {
    "name": "ipython",
    "version": 3
   },
   "file_extension": ".py",
   "mimetype": "text/x-python",
   "name": "python",
   "nbconvert_exporter": "python",
   "pygments_lexer": "ipython3",
   "version": "3.7.2"
  },
  "pycharm": {
   "stem_cell": {
    "cell_type": "raw",
    "source": [],
    "metadata": {
     "collapsed": false
    }
   }
  }
 },
 "nbformat": 4,
 "nbformat_minor": 1
}
