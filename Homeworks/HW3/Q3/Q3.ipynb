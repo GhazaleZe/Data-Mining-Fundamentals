{
 "cells": [
  {
   "cell_type": "markdown",
   "metadata": {},
   "source": [
    "# HW3,Q3 Ghazaleh Zehtab\n",
    "## Q3.a"
   ]
  },
  {
   "cell_type": "code",
   "execution_count": 49,
   "metadata": {
    "pycharm": {
     "is_executing": false,
     "name": "#%%\n"
    }
   },
   "outputs": [],
   "source": [
    "import pandas as pd\n",
    "import matplotlib as plt\n",
    "import numpy as np\n",
    "import plot_utils\n",
    "import seaborn as sns"
   ]
  },
  {
   "cell_type": "code",
   "execution_count": 50,
   "metadata": {
    "pycharm": {
     "is_executing": false,
     "name": "#%%\n"
    }
   },
   "outputs": [
    {
     "data": {
      "text/plain": "        Name       OS  Capacity  Ram  Weight    Company  inch\n0  Galaxy SB  Android        64    4   149.0    Samsung   5.8\n1  Lumia 950  windows        32    3   150.0  Microsoft   5.2\n2  Xpreia L1  Android        16    2   180.0       Sony   5.5\n3   iphone 7      ios       128    2   138.0      Apple   4.7\n4    U Ultra  Android        64    4   170.0        HTC   5.7\n5  Galaxy SS  Android        16    2   145.0    Samsung   5.1\n6  iphone 5s      ios        32    1   112.0      Apple   4.0\n7    Moto G5  Android        16    3   144.5   Motorola   5.0\n8      Pixel  Android       128    4   143.0     Google   5.0",
      "text/html": "<div>\n<style scoped>\n    .dataframe tbody tr th:only-of-type {\n        vertical-align: middle;\n    }\n\n    .dataframe tbody tr th {\n        vertical-align: top;\n    }\n\n    .dataframe thead th {\n        text-align: right;\n    }\n</style>\n<table border=\"1\" class=\"dataframe\">\n  <thead>\n    <tr style=\"text-align: right;\">\n      <th></th>\n      <th>Name</th>\n      <th>OS</th>\n      <th>Capacity</th>\n      <th>Ram</th>\n      <th>Weight</th>\n      <th>Company</th>\n      <th>inch</th>\n    </tr>\n  </thead>\n  <tbody>\n    <tr>\n      <th>0</th>\n      <td>Galaxy SB</td>\n      <td>Android</td>\n      <td>64</td>\n      <td>4</td>\n      <td>149.0</td>\n      <td>Samsung</td>\n      <td>5.8</td>\n    </tr>\n    <tr>\n      <th>1</th>\n      <td>Lumia 950</td>\n      <td>windows</td>\n      <td>32</td>\n      <td>3</td>\n      <td>150.0</td>\n      <td>Microsoft</td>\n      <td>5.2</td>\n    </tr>\n    <tr>\n      <th>2</th>\n      <td>Xpreia L1</td>\n      <td>Android</td>\n      <td>16</td>\n      <td>2</td>\n      <td>180.0</td>\n      <td>Sony</td>\n      <td>5.5</td>\n    </tr>\n    <tr>\n      <th>3</th>\n      <td>iphone 7</td>\n      <td>ios</td>\n      <td>128</td>\n      <td>2</td>\n      <td>138.0</td>\n      <td>Apple</td>\n      <td>4.7</td>\n    </tr>\n    <tr>\n      <th>4</th>\n      <td>U Ultra</td>\n      <td>Android</td>\n      <td>64</td>\n      <td>4</td>\n      <td>170.0</td>\n      <td>HTC</td>\n      <td>5.7</td>\n    </tr>\n    <tr>\n      <th>5</th>\n      <td>Galaxy SS</td>\n      <td>Android</td>\n      <td>16</td>\n      <td>2</td>\n      <td>145.0</td>\n      <td>Samsung</td>\n      <td>5.1</td>\n    </tr>\n    <tr>\n      <th>6</th>\n      <td>iphone 5s</td>\n      <td>ios</td>\n      <td>32</td>\n      <td>1</td>\n      <td>112.0</td>\n      <td>Apple</td>\n      <td>4.0</td>\n    </tr>\n    <tr>\n      <th>7</th>\n      <td>Moto G5</td>\n      <td>Android</td>\n      <td>16</td>\n      <td>3</td>\n      <td>144.5</td>\n      <td>Motorola</td>\n      <td>5.0</td>\n    </tr>\n    <tr>\n      <th>8</th>\n      <td>Pixel</td>\n      <td>Android</td>\n      <td>128</td>\n      <td>4</td>\n      <td>143.0</td>\n      <td>Google</td>\n      <td>5.0</td>\n    </tr>\n  </tbody>\n</table>\n</div>"
     },
     "metadata": {},
     "output_type": "execute_result",
     "execution_count": 50
    }
   ],
   "source": [
    "phone=pd.read_csv(\"smartphone.csv\")\n",
    "phone"
   ]
  },
  {
   "cell_type": "code",
   "execution_count": 51,
   "outputs": [
    {
     "data": {
      "text/plain": "Company   Apple  Google  HTC  Microsoft  Motorola  Samsung  Sony\nCapacity                                                        \n16            0       0    0          0         1        1     1\n32            1       0    0          1         0        0     0\n64            0       0    1          0         0        1     0\n128           1       1    0          0         0        0     0",
      "text/html": "<div>\n<style scoped>\n    .dataframe tbody tr th:only-of-type {\n        vertical-align: middle;\n    }\n\n    .dataframe tbody tr th {\n        vertical-align: top;\n    }\n\n    .dataframe thead th {\n        text-align: right;\n    }\n</style>\n<table border=\"1\" class=\"dataframe\">\n  <thead>\n    <tr style=\"text-align: right;\">\n      <th>Company</th>\n      <th>Apple</th>\n      <th>Google</th>\n      <th>HTC</th>\n      <th>Microsoft</th>\n      <th>Motorola</th>\n      <th>Samsung</th>\n      <th>Sony</th>\n    </tr>\n    <tr>\n      <th>Capacity</th>\n      <th></th>\n      <th></th>\n      <th></th>\n      <th></th>\n      <th></th>\n      <th></th>\n      <th></th>\n    </tr>\n  </thead>\n  <tbody>\n    <tr>\n      <th>16</th>\n      <td>0</td>\n      <td>0</td>\n      <td>0</td>\n      <td>0</td>\n      <td>1</td>\n      <td>1</td>\n      <td>1</td>\n    </tr>\n    <tr>\n      <th>32</th>\n      <td>1</td>\n      <td>0</td>\n      <td>0</td>\n      <td>1</td>\n      <td>0</td>\n      <td>0</td>\n      <td>0</td>\n    </tr>\n    <tr>\n      <th>64</th>\n      <td>0</td>\n      <td>0</td>\n      <td>1</td>\n      <td>0</td>\n      <td>0</td>\n      <td>1</td>\n      <td>0</td>\n    </tr>\n    <tr>\n      <th>128</th>\n      <td>1</td>\n      <td>1</td>\n      <td>0</td>\n      <td>0</td>\n      <td>0</td>\n      <td>0</td>\n      <td>0</td>\n    </tr>\n  </tbody>\n</table>\n</div>"
     },
     "metadata": {},
     "output_type": "execute_result",
     "execution_count": 51
    }
   ],
   "source": [
    "import statsmodels.api as sm\n",
    "tab = pd.crosstab(phone['Capacity'],phone['Company'])\n",
    "tab"
   ],
   "metadata": {
    "collapsed": false,
    "pycharm": {
     "name": "#%%\n",
     "is_executing": false
    }
   }
  },
  {
   "cell_type": "code",
   "execution_count": 52,
   "outputs": [
    {
     "data": {
      "text/plain": "<statsmodels.stats.contingency_tables.Table at 0x18a0d27f748>"
     },
     "metadata": {},
     "output_type": "execute_result",
     "execution_count": 52
    }
   ],
   "source": [
    "table = sm.stats.Table(tab)\n",
    "table"
   ],
   "metadata": {
    "collapsed": false,
    "pycharm": {
     "name": "#%%\n",
     "is_executing": false
    }
   }
  },
  {
   "cell_type": "markdown",
   "source": [
    "## Q3.b"
   ],
   "metadata": {
    "collapsed": false,
    "pycharm": {
     "name": "#%% md\n"
    }
   }
  },
  {
   "cell_type": "code",
   "execution_count": 53,
   "outputs": [
    {
     "data": {
      "text/plain": "Weight          112.0  138.0  143.0  144.5  145.0  149.0  150.0  170.0  180.0\nCompany   inch                                                               \nApple     4.0       1      0      0      0      0      0      0      0      0\n          4.7       0      1      0      0      0      0      0      0      0\nGoogle    5.0       0      0      1      0      0      0      0      0      0\nHTC       5.7       0      0      0      0      0      0      0      1      0\nMicrosoft 5.2       0      0      0      0      0      0      1      0      0\nMotorola  5.0       0      0      0      1      0      0      0      0      0\nSamsung   5.1       0      0      0      0      1      0      0      0      0\n          5.8       0      0      0      0      0      1      0      0      0\nSony      5.5       0      0      0      0      0      0      0      0      1",
      "text/html": "<div>\n<style scoped>\n    .dataframe tbody tr th:only-of-type {\n        vertical-align: middle;\n    }\n\n    .dataframe tbody tr th {\n        vertical-align: top;\n    }\n\n    .dataframe thead th {\n        text-align: right;\n    }\n</style>\n<table border=\"1\" class=\"dataframe\">\n  <thead>\n    <tr style=\"text-align: right;\">\n      <th></th>\n      <th>Weight</th>\n      <th>112.0</th>\n      <th>138.0</th>\n      <th>143.0</th>\n      <th>144.5</th>\n      <th>145.0</th>\n      <th>149.0</th>\n      <th>150.0</th>\n      <th>170.0</th>\n      <th>180.0</th>\n    </tr>\n    <tr>\n      <th>Company</th>\n      <th>inch</th>\n      <th></th>\n      <th></th>\n      <th></th>\n      <th></th>\n      <th></th>\n      <th></th>\n      <th></th>\n      <th></th>\n      <th></th>\n    </tr>\n  </thead>\n  <tbody>\n    <tr>\n      <th rowspan=\"2\" valign=\"top\">Apple</th>\n      <th>4.0</th>\n      <td>1</td>\n      <td>0</td>\n      <td>0</td>\n      <td>0</td>\n      <td>0</td>\n      <td>0</td>\n      <td>0</td>\n      <td>0</td>\n      <td>0</td>\n    </tr>\n    <tr>\n      <th>4.7</th>\n      <td>0</td>\n      <td>1</td>\n      <td>0</td>\n      <td>0</td>\n      <td>0</td>\n      <td>0</td>\n      <td>0</td>\n      <td>0</td>\n      <td>0</td>\n    </tr>\n    <tr>\n      <th>Google</th>\n      <th>5.0</th>\n      <td>0</td>\n      <td>0</td>\n      <td>1</td>\n      <td>0</td>\n      <td>0</td>\n      <td>0</td>\n      <td>0</td>\n      <td>0</td>\n      <td>0</td>\n    </tr>\n    <tr>\n      <th>HTC</th>\n      <th>5.7</th>\n      <td>0</td>\n      <td>0</td>\n      <td>0</td>\n      <td>0</td>\n      <td>0</td>\n      <td>0</td>\n      <td>0</td>\n      <td>1</td>\n      <td>0</td>\n    </tr>\n    <tr>\n      <th>Microsoft</th>\n      <th>5.2</th>\n      <td>0</td>\n      <td>0</td>\n      <td>0</td>\n      <td>0</td>\n      <td>0</td>\n      <td>0</td>\n      <td>1</td>\n      <td>0</td>\n      <td>0</td>\n    </tr>\n    <tr>\n      <th>Motorola</th>\n      <th>5.0</th>\n      <td>0</td>\n      <td>0</td>\n      <td>0</td>\n      <td>1</td>\n      <td>0</td>\n      <td>0</td>\n      <td>0</td>\n      <td>0</td>\n      <td>0</td>\n    </tr>\n    <tr>\n      <th rowspan=\"2\" valign=\"top\">Samsung</th>\n      <th>5.1</th>\n      <td>0</td>\n      <td>0</td>\n      <td>0</td>\n      <td>0</td>\n      <td>1</td>\n      <td>0</td>\n      <td>0</td>\n      <td>0</td>\n      <td>0</td>\n    </tr>\n    <tr>\n      <th>5.8</th>\n      <td>0</td>\n      <td>0</td>\n      <td>0</td>\n      <td>0</td>\n      <td>0</td>\n      <td>1</td>\n      <td>0</td>\n      <td>0</td>\n      <td>0</td>\n    </tr>\n    <tr>\n      <th>Sony</th>\n      <th>5.5</th>\n      <td>0</td>\n      <td>0</td>\n      <td>0</td>\n      <td>0</td>\n      <td>0</td>\n      <td>0</td>\n      <td>0</td>\n      <td>0</td>\n      <td>1</td>\n    </tr>\n  </tbody>\n</table>\n</div>"
     },
     "metadata": {},
     "output_type": "execute_result",
     "execution_count": 53
    }
   ],
   "source": [
    "tab1 = pd.crosstab([phone.Company,phone.inch],phone.Weight)\n",
    "tab1"
   ],
   "metadata": {
    "collapsed": false,
    "pycharm": {
     "name": "#%%\n",
     "is_executing": false
    }
   }
  },
  {
   "cell_type": "markdown",
   "source": [
    "## Q3.c"
   ],
   "metadata": {
    "collapsed": false,
    "pycharm": {
     "name": "#%% md\n"
    }
   }
  },
  {
   "cell_type": "code",
   "execution_count": 54,
   "outputs": [
    {
     "data": {
      "text/plain": "(<Figure size 300x700 with 2 Axes>,\n <AxesSubplot:xlabel='Company', ylabel='OS'>,\n (Company  Apple  Google  HTC  Microsoft  Motorola  Samsung  Sony\n  row_0                                                          \n  Android      0       1    1          0         1        2     1\n  ios          2       0    0          0         0        0     0\n  windows      0       0    0          1         0        0     0,\n  Company     Apple    Google       HTC  Microsoft  Motorola   Samsung      Sony\n  row_0                                                                         \n  Android  1.333333  0.666667  0.666667   0.666667  0.666667  1.333333  0.666667\n  ios      0.444444  0.222222  0.222222   0.222222  0.222222  0.444444  0.222222\n  windows  0.222222  0.111111  0.111111   0.111111  0.111111  0.222222  0.111111,\n  Company  Apple  Google  HTC  Microsoft  Motorola  Samsung  Sony\n  row_0                                                          \n  Android   -1.0     0.5  0.5       -1.0       0.5      0.5   0.5\n  ios        3.5    -1.0 -1.0       -1.0      -1.0     -1.0  -1.0\n  windows   -1.0    -1.0 -1.0        8.0      -1.0     -1.0  -1.0),\n (18.0, 0.1156905208410578, 12),\n (1.4142135623730951, 0.816496580927726, 1.0))"
     },
     "metadata": {},
     "output_type": "execute_result",
     "execution_count": 54
    },
    {
     "data": {
      "text/plain": "<Figure size 300x700 with 2 Axes>",
      "image/png": "[encoded data removed]"
     },
     "metadata": {
      "needs_background": "light"
     },
     "output_type": "display_data"
    }
   ],
   "source": [
    "plot_utils.contingency_table(phone.Company,phone.OS)"
   ],
   "metadata": {
    "collapsed": false,
    "pycharm": {
     "name": "#%%\n",
     "is_executing": false
    }
   }
  }
 ],
 "metadata": {
  "kernelspec": {
   "display_name": "Python 3",
   "language": "python",
   "name": "python3"
  },
  "language_info": {
   "codemirror_mode": {
    "name": "ipython",
    "version": 3
   },
   "file_extension": ".py",
   "mimetype": "text/x-python",
   "name": "python",
   "nbconvert_exporter": "python",
   "pygments_lexer": "ipython3",
   "version": "3.7.2"
  },
  "pycharm": {
   "stem_cell": {
    "cell_type": "raw",
    "source": [],
    "metadata": {
     "collapsed": false
    }
   }
  }
 },
 "nbformat": 4,
 "nbformat_minor": 1
}
