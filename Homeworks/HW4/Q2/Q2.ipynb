{
 "cells": [
  {
   "cell_type": "code",
   "execution_count": 385,
   "metadata": {
    "collapsed": true,
    "pycharm": {
     "is_executing": false
    }
   },
   "outputs": [],
   "source": []
  },
  {
   "cell_type": "markdown",
   "metadata": {},
   "source": [
    "## HW4, Ghazaleh Zehtab\n",
    "# Q2"
   ]
  },
  {
   "cell_type": "code",
   "execution_count": 386,
   "metadata": {
    "pycharm": {
     "is_executing": false,
     "name": "#%%\n"
    }
   },
   "outputs": [],
   "source": [
    "import pandas as pd\n",
    "import matplotlib.pyplot as plt\n",
    "import numpy as np\n",
    "import plot_utils\n",
    "import seaborn as sns\n",
    "import statistics\n",
    "from sklearn import tree, metrics, preprocessing\n",
    "from sklearn.datasets import load_iris\n",
    "from sklearn.metrics import accuracy_score\n",
    "from sklearn.model_selection import train_test_split\n",
    "from sklearn.tree import DecisionTreeClassifier, export_graphviz"
   ]
  },
  {
   "cell_type": "markdown",
   "metadata": {},
   "source": [
    "## Q2.a"
   ]
  },
  {
   "cell_type": "code",
   "execution_count": 387,
   "metadata": {
    "pycharm": {
     "is_executing": false,
     "name": "#%%\n"
    }
   },
   "outputs": [
    {
     "data": {
      "text/plain": "      6  148  72  35    0  33.6  0.627  50  1\n0     1   85  66  29    0  26.6  0.351  31  0\n1     8  183  64   0    0  23.3  0.672  32  1\n2     1   89  66  23   94  28.1  0.167  21  0\n3     0  137  40  35  168  43.1  2.288  33  1\n4     5  116  74   0    0  25.6  0.201  30  0\n..   ..  ...  ..  ..  ...   ...    ...  .. ..\n762  10  101  76  48  180  32.9  0.171  63  0\n763   2  122  70  27    0  36.8  0.340  27  0\n764   5  121  72  23  112  26.2  0.245  30  0\n765   1  126  60   0    0  30.1  0.349  47  1\n766   1   93  70  31    0  30.4  0.315  23  0\n\n[767 rows x 9 columns]",
      "text/html": "<div>\n<style scoped>\n    .dataframe tbody tr th:only-of-type {\n        vertical-align: middle;\n    }\n\n    .dataframe tbody tr th {\n        vertical-align: top;\n    }\n\n    .dataframe thead th {\n        text-align: right;\n    }\n</style>\n<table border=\"1\" class=\"dataframe\">\n  <thead>\n    <tr style=\"text-align: right;\">\n      <th></th>\n      <th>6</th>\n      <th>148</th>\n      <th>72</th>\n      <th>35</th>\n      <th>0</th>\n      <th>33.6</th>\n      <th>0.627</th>\n      <th>50</th>\n      <th>1</th>\n    </tr>\n  </thead>\n  <tbody>\n    <tr>\n      <th>0</th>\n      <td>1</td>\n      <td>85</td>\n      <td>66</td>\n      <td>29</td>\n      <td>0</td>\n      <td>26.6</td>\n      <td>0.351</td>\n      <td>31</td>\n      <td>0</td>\n    </tr>\n    <tr>\n      <th>1</th>\n      <td>8</td>\n      <td>183</td>\n      <td>64</td>\n      <td>0</td>\n      <td>0</td>\n      <td>23.3</td>\n      <td>0.672</td>\n      <td>32</td>\n      <td>1</td>\n    </tr>\n    <tr>\n      <th>2</th>\n      <td>1</td>\n      <td>89</td>\n      <td>66</td>\n      <td>23</td>\n      <td>94</td>\n      <td>28.1</td>\n      <td>0.167</td>\n      <td>21</td>\n      <td>0</td>\n    </tr>\n    <tr>\n      <th>3</th>\n      <td>0</td>\n      <td>137</td>\n      <td>40</td>\n      <td>35</td>\n      <td>168</td>\n      <td>43.1</td>\n      <td>2.288</td>\n      <td>33</td>\n      <td>1</td>\n    </tr>\n    <tr>\n      <th>4</th>\n      <td>5</td>\n      <td>116</td>\n      <td>74</td>\n      <td>0</td>\n      <td>0</td>\n      <td>25.6</td>\n      <td>0.201</td>\n      <td>30</td>\n      <td>0</td>\n    </tr>\n    <tr>\n      <th>...</th>\n      <td>...</td>\n      <td>...</td>\n      <td>...</td>\n      <td>...</td>\n      <td>...</td>\n      <td>...</td>\n      <td>...</td>\n      <td>...</td>\n      <td>...</td>\n    </tr>\n    <tr>\n      <th>762</th>\n      <td>10</td>\n      <td>101</td>\n      <td>76</td>\n      <td>48</td>\n      <td>180</td>\n      <td>32.9</td>\n      <td>0.171</td>\n      <td>63</td>\n      <td>0</td>\n    </tr>\n    <tr>\n      <th>763</th>\n      <td>2</td>\n      <td>122</td>\n      <td>70</td>\n      <td>27</td>\n      <td>0</td>\n      <td>36.8</td>\n      <td>0.340</td>\n      <td>27</td>\n      <td>0</td>\n    </tr>\n    <tr>\n      <th>764</th>\n      <td>5</td>\n      <td>121</td>\n      <td>72</td>\n      <td>23</td>\n      <td>112</td>\n      <td>26.2</td>\n      <td>0.245</td>\n      <td>30</td>\n      <td>0</td>\n    </tr>\n    <tr>\n      <th>765</th>\n      <td>1</td>\n      <td>126</td>\n      <td>60</td>\n      <td>0</td>\n      <td>0</td>\n      <td>30.1</td>\n      <td>0.349</td>\n      <td>47</td>\n      <td>1</td>\n    </tr>\n    <tr>\n      <th>766</th>\n      <td>1</td>\n      <td>93</td>\n      <td>70</td>\n      <td>31</td>\n      <td>0</td>\n      <td>30.4</td>\n      <td>0.315</td>\n      <td>23</td>\n      <td>0</td>\n    </tr>\n  </tbody>\n</table>\n<p>767 rows × 9 columns</p>\n</div>"
     },
     "metadata": {},
     "output_type": "execute_result",
     "execution_count": 387
    }
   ],
   "source": [
    "df= pd.read_csv('Diabetes.csv')\n",
    "df"
   ]
  },
  {
   "cell_type": "code",
   "execution_count": 388,
   "metadata": {
    "pycharm": {
     "is_executing": false,
     "name": "#%%\n"
    }
   },
   "outputs": [
    {
     "data": {
      "text/plain": "    number of times pregnant  Glucose  Diastolic Blood Pressure  \\\n0                          1       85                        66   \n1                          8      183                        64   \n2                          1       89                        66   \n3                          0      137                        40   \n4                          5      116                        74   \n5                          3       78                        50   \n6                         10      115                         0   \n7                          2      197                        70   \n8                          8      125                        96   \n9                          4      110                        92   \n10                        10      168                        74   \n11                        10      139                        80   \n12                         1      189                        60   \n13                         5      166                        72   \n14                         7      100                         0   \n15                         0      118                        84   \n16                         7      107                        74   \n17                         1      103                        30   \n18                         1      115                        70   \n19                         3      126                        88   \n20                         8       99                        84   \n21                         7      196                        90   \n22                         9      119                        80   \n23                        11      143                        94   \n24                        10      125                        70   \n25                         7      147                        76   \n26                         1       97                        66   \n27                        13      145                        82   \n28                         5      117                        92   \n29                         5      109                        75   \n\n    Skinfold Thickness  2-Hour serum insulin   BMI  \\\n0                   29                     0  26.6   \n1                    0                     0  23.3   \n2                   23                    94  28.1   \n3                   35                   168  43.1   \n4                    0                     0  25.6   \n5                   32                    88  31.0   \n6                    0                     0  35.3   \n7                   45                   543  30.5   \n8                    0                     0   0.0   \n9                    0                     0  37.6   \n10                   0                     0  38.0   \n11                   0                     0  27.1   \n12                  23                   846  30.1   \n13                  19                   175  25.8   \n14                   0                     0  30.0   \n15                  47                   230  45.8   \n16                   0                     0  29.6   \n17                  38                    83  43.3   \n18                  30                    96  34.6   \n19                  41                   235  39.3   \n20                   0                     0  35.4   \n21                   0                     0  39.8   \n22                  35                     0  29.0   \n23                  33                   146  36.6   \n24                  26                   115  31.1   \n25                   0                     0  39.4   \n26                  15                   140  23.2   \n27                  19                   110  22.2   \n28                   0                     0  34.1   \n29                  26                     0  36.0   \n\n    Diabetes Pedigree Function  Age  Class  \n0                        0.351   31      0  \n1                        0.672   32      1  \n2                        0.167   21      0  \n3                        2.288   33      1  \n4                        0.201   30      0  \n5                        0.248   26      1  \n6                        0.134   29      0  \n7                        0.158   53      1  \n8                        0.232   54      1  \n9                        0.191   30      0  \n10                       0.537   34      1  \n11                       1.441   57      0  \n12                       0.398   59      1  \n13                       0.587   51      1  \n14                       0.484   32      1  \n15                       0.551   31      1  \n16                       0.254   31      1  \n17                       0.183   33      0  \n18                       0.529   32      1  \n19                       0.704   27      0  \n20                       0.388   50      0  \n21                       0.451   41      1  \n22                       0.263   29      1  \n23                       0.254   51      1  \n24                       0.205   41      1  \n25                       0.257   43      1  \n26                       0.487   22      0  \n27                       0.245   57      0  \n28                       0.337   38      0  \n29                       0.546   60      0  ",
      "text/html": "<div>\n<style scoped>\n    .dataframe tbody tr th:only-of-type {\n        vertical-align: middle;\n    }\n\n    .dataframe tbody tr th {\n        vertical-align: top;\n    }\n\n    .dataframe thead th {\n        text-align: right;\n    }\n</style>\n<table border=\"1\" class=\"dataframe\">\n  <thead>\n    <tr style=\"text-align: right;\">\n      <th></th>\n      <th>number of times pregnant</th>\n      <th>Glucose</th>\n      <th>Diastolic Blood Pressure</th>\n      <th>Skinfold Thickness</th>\n      <th>2-Hour serum insulin</th>\n      <th>BMI</th>\n      <th>Diabetes Pedigree Function</th>\n      <th>Age</th>\n      <th>Class</th>\n    </tr>\n  </thead>\n  <tbody>\n    <tr>\n      <th>0</th>\n      <td>1</td>\n      <td>85</td>\n      <td>66</td>\n      <td>29</td>\n      <td>0</td>\n      <td>26.6</td>\n      <td>0.351</td>\n      <td>31</td>\n      <td>0</td>\n    </tr>\n    <tr>\n      <th>1</th>\n      <td>8</td>\n      <td>183</td>\n      <td>64</td>\n      <td>0</td>\n      <td>0</td>\n      <td>23.3</td>\n      <td>0.672</td>\n      <td>32</td>\n      <td>1</td>\n    </tr>\n    <tr>\n      <th>2</th>\n      <td>1</td>\n      <td>89</td>\n      <td>66</td>\n      <td>23</td>\n      <td>94</td>\n      <td>28.1</td>\n      <td>0.167</td>\n      <td>21</td>\n      <td>0</td>\n    </tr>\n    <tr>\n      <th>3</th>\n      <td>0</td>\n      <td>137</td>\n      <td>40</td>\n      <td>35</td>\n      <td>168</td>\n      <td>43.1</td>\n      <td>2.288</td>\n      <td>33</td>\n      <td>1</td>\n    </tr>\n    <tr>\n      <th>4</th>\n      <td>5</td>\n      <td>116</td>\n      <td>74</td>\n      <td>0</td>\n      <td>0</td>\n      <td>25.6</td>\n      <td>0.201</td>\n      <td>30</td>\n      <td>0</td>\n    </tr>\n    <tr>\n      <th>5</th>\n      <td>3</td>\n      <td>78</td>\n      <td>50</td>\n      <td>32</td>\n      <td>88</td>\n      <td>31.0</td>\n      <td>0.248</td>\n      <td>26</td>\n      <td>1</td>\n    </tr>\n    <tr>\n      <th>6</th>\n      <td>10</td>\n      <td>115</td>\n      <td>0</td>\n      <td>0</td>\n      <td>0</td>\n      <td>35.3</td>\n      <td>0.134</td>\n      <td>29</td>\n      <td>0</td>\n    </tr>\n    <tr>\n      <th>7</th>\n      <td>2</td>\n      <td>197</td>\n      <td>70</td>\n      <td>45</td>\n      <td>543</td>\n      <td>30.5</td>\n      <td>0.158</td>\n      <td>53</td>\n      <td>1</td>\n    </tr>\n    <tr>\n      <th>8</th>\n      <td>8</td>\n      <td>125</td>\n      <td>96</td>\n      <td>0</td>\n      <td>0</td>\n      <td>0.0</td>\n      <td>0.232</td>\n      <td>54</td>\n      <td>1</td>\n    </tr>\n    <tr>\n      <th>9</th>\n      <td>4</td>\n      <td>110</td>\n      <td>92</td>\n      <td>0</td>\n      <td>0</td>\n      <td>37.6</td>\n      <td>0.191</td>\n      <td>30</td>\n      <td>0</td>\n    </tr>\n    <tr>\n      <th>10</th>\n      <td>10</td>\n      <td>168</td>\n      <td>74</td>\n      <td>0</td>\n      <td>0</td>\n      <td>38.0</td>\n      <td>0.537</td>\n      <td>34</td>\n      <td>1</td>\n    </tr>\n    <tr>\n      <th>11</th>\n      <td>10</td>\n      <td>139</td>\n      <td>80</td>\n      <td>0</td>\n      <td>0</td>\n      <td>27.1</td>\n      <td>1.441</td>\n      <td>57</td>\n      <td>0</td>\n    </tr>\n    <tr>\n      <th>12</th>\n      <td>1</td>\n      <td>189</td>\n      <td>60</td>\n      <td>23</td>\n      <td>846</td>\n      <td>30.1</td>\n      <td>0.398</td>\n      <td>59</td>\n      <td>1</td>\n    </tr>\n    <tr>\n      <th>13</th>\n      <td>5</td>\n      <td>166</td>\n      <td>72</td>\n      <td>19</td>\n      <td>175</td>\n      <td>25.8</td>\n      <td>0.587</td>\n      <td>51</td>\n      <td>1</td>\n    </tr>\n    <tr>\n      <th>14</th>\n      <td>7</td>\n      <td>100</td>\n      <td>0</td>\n      <td>0</td>\n      <td>0</td>\n      <td>30.0</td>\n      <td>0.484</td>\n      <td>32</td>\n      <td>1</td>\n    </tr>\n    <tr>\n      <th>15</th>\n      <td>0</td>\n      <td>118</td>\n      <td>84</td>\n      <td>47</td>\n      <td>230</td>\n      <td>45.8</td>\n      <td>0.551</td>\n      <td>31</td>\n      <td>1</td>\n    </tr>\n    <tr>\n      <th>16</th>\n      <td>7</td>\n      <td>107</td>\n      <td>74</td>\n      <td>0</td>\n      <td>0</td>\n      <td>29.6</td>\n      <td>0.254</td>\n      <td>31</td>\n      <td>1</td>\n    </tr>\n    <tr>\n      <th>17</th>\n      <td>1</td>\n      <td>103</td>\n      <td>30</td>\n      <td>38</td>\n      <td>83</td>\n      <td>43.3</td>\n      <td>0.183</td>\n      <td>33</td>\n      <td>0</td>\n    </tr>\n    <tr>\n      <th>18</th>\n      <td>1</td>\n      <td>115</td>\n      <td>70</td>\n      <td>30</td>\n      <td>96</td>\n      <td>34.6</td>\n      <td>0.529</td>\n      <td>32</td>\n      <td>1</td>\n    </tr>\n    <tr>\n      <th>19</th>\n      <td>3</td>\n      <td>126</td>\n      <td>88</td>\n      <td>41</td>\n      <td>235</td>\n      <td>39.3</td>\n      <td>0.704</td>\n      <td>27</td>\n      <td>0</td>\n    </tr>\n    <tr>\n      <th>20</th>\n      <td>8</td>\n      <td>99</td>\n      <td>84</td>\n      <td>0</td>\n      <td>0</td>\n      <td>35.4</td>\n      <td>0.388</td>\n      <td>50</td>\n      <td>0</td>\n    </tr>\n    <tr>\n      <th>21</th>\n      <td>7</td>\n      <td>196</td>\n      <td>90</td>\n      <td>0</td>\n      <td>0</td>\n      <td>39.8</td>\n      <td>0.451</td>\n      <td>41</td>\n      <td>1</td>\n    </tr>\n    <tr>\n      <th>22</th>\n      <td>9</td>\n      <td>119</td>\n      <td>80</td>\n      <td>35</td>\n      <td>0</td>\n      <td>29.0</td>\n      <td>0.263</td>\n      <td>29</td>\n      <td>1</td>\n    </tr>\n    <tr>\n      <th>23</th>\n      <td>11</td>\n      <td>143</td>\n      <td>94</td>\n      <td>33</td>\n      <td>146</td>\n      <td>36.6</td>\n      <td>0.254</td>\n      <td>51</td>\n      <td>1</td>\n    </tr>\n    <tr>\n      <th>24</th>\n      <td>10</td>\n      <td>125</td>\n      <td>70</td>\n      <td>26</td>\n      <td>115</td>\n      <td>31.1</td>\n      <td>0.205</td>\n      <td>41</td>\n      <td>1</td>\n    </tr>\n    <tr>\n      <th>25</th>\n      <td>7</td>\n      <td>147</td>\n      <td>76</td>\n      <td>0</td>\n      <td>0</td>\n      <td>39.4</td>\n      <td>0.257</td>\n      <td>43</td>\n      <td>1</td>\n    </tr>\n    <tr>\n      <th>26</th>\n      <td>1</td>\n      <td>97</td>\n      <td>66</td>\n      <td>15</td>\n      <td>140</td>\n      <td>23.2</td>\n      <td>0.487</td>\n      <td>22</td>\n      <td>0</td>\n    </tr>\n    <tr>\n      <th>27</th>\n      <td>13</td>\n      <td>145</td>\n      <td>82</td>\n      <td>19</td>\n      <td>110</td>\n      <td>22.2</td>\n      <td>0.245</td>\n      <td>57</td>\n      <td>0</td>\n    </tr>\n    <tr>\n      <th>28</th>\n      <td>5</td>\n      <td>117</td>\n      <td>92</td>\n      <td>0</td>\n      <td>0</td>\n      <td>34.1</td>\n      <td>0.337</td>\n      <td>38</td>\n      <td>0</td>\n    </tr>\n    <tr>\n      <th>29</th>\n      <td>5</td>\n      <td>109</td>\n      <td>75</td>\n      <td>26</td>\n      <td>0</td>\n      <td>36.0</td>\n      <td>0.546</td>\n      <td>60</td>\n      <td>0</td>\n    </tr>\n  </tbody>\n</table>\n</div>"
     },
     "metadata": {},
     "output_type": "execute_result",
     "execution_count": 388
    }
   ],
   "source": [
    "df.columns=['number of times pregnant','Glucose','Diastolic Blood Pressure','Skinfold Thickness','2-Hour serum insulin','BMI','Diabetes Pedigree Function','Age','Class']\n",
    "df.head(30)"
   ]
  },
  {
   "cell_type": "markdown",
   "metadata": {},
   "source": [
    "## Q2.b"
   ]
  },
  {
   "cell_type": "code",
   "execution_count": 389,
   "metadata": {
    "pycharm": {
     "is_executing": false,
     "name": "#%%\n"
    }
   },
   "outputs": [
    {
     "data": {
      "text/plain": "number of times pregnant      0\nGlucose                       0\nDiastolic Blood Pressure      0\nSkinfold Thickness            0\n2-Hour serum insulin          0\nBMI                           0\nDiabetes Pedigree Function    0\nAge                           0\nClass                         0\ndtype: int64"
     },
     "metadata": {},
     "output_type": "execute_result",
     "execution_count": 389
    }
   ],
   "source": [
    "df=df.replace('MISS',np.nan)\n",
    "df=df.replace('missing',np.nan)\n",
    "df=df.replace('NULL',np.nan)\n",
    "df=df.replace(\"''\",np.nan)\n",
    "df=df.replace(\"?\",np.nan)\n",
    "df.isna().sum()"
   ]
  },
  {
   "cell_type": "code",
   "execution_count": 390,
   "metadata": {
    "pycharm": {
     "is_executing": false,
     "name": "#%%\n"
    }
   },
   "outputs": [
    {
     "data": {
      "text/plain": "array([[<AxesSubplot:title={'center':'number of times pregnant'}>,\n        <AxesSubplot:title={'center':'Glucose'}>,\n        <AxesSubplot:title={'center':'Diastolic Blood Pressure'}>],\n       [<AxesSubplot:title={'center':'Skinfold Thickness'}>,\n        <AxesSubplot:title={'center':'2-Hour serum insulin'}>,\n        <AxesSubplot:title={'center':'BMI'}>],\n       [<AxesSubplot:title={'center':'Diabetes Pedigree Function'}>,\n        <AxesSubplot:title={'center':'Age'}>,\n        <AxesSubplot:title={'center':'Class'}>]], dtype=object)"
     },
     "metadata": {},
     "output_type": "execute_result",
     "execution_count": 390
    },
    {
     "data": {
      "text/plain": "<Figure size 432x288 with 9 Axes>",
      "image/png": "[encoded data removed]"
     },
     "metadata": {
      "needs_background": "light"
     },
     "output_type": "display_data"
    }
   ],
   "source": [
    "df.hist()"
   ]
  },
  {
   "cell_type": "code",
   "execution_count": 391,
   "metadata": {
    "pycharm": {
     "is_executing": false,
     "name": "#%%\n"
    }
   },
   "outputs": [],
   "source": [
    "x = df.values #returns a numpy array\n",
    "min_max_scaler = preprocessing.MinMaxScaler()\n",
    "x_scaled = min_max_scaler.fit_transform(x)\n",
    "min_max_scaler_df = pd.DataFrame(x_scaled,index=df.index, columns=df.columns)"
   ]
  },
  {
   "cell_type": "code",
   "execution_count": 392,
   "metadata": {
    "pycharm": {
     "is_executing": false,
     "name": "#%%\n"
    }
   },
   "outputs": [
    {
     "data": {
      "text/plain": "array([[<AxesSubplot:title={'center':'number of times pregnant'}>,\n        <AxesSubplot:title={'center':'Glucose'}>,\n        <AxesSubplot:title={'center':'Diastolic Blood Pressure'}>],\n       [<AxesSubplot:title={'center':'Skinfold Thickness'}>,\n        <AxesSubplot:title={'center':'2-Hour serum insulin'}>,\n        <AxesSubplot:title={'center':'BMI'}>],\n       [<AxesSubplot:title={'center':'Diabetes Pedigree Function'}>,\n        <AxesSubplot:title={'center':'Age'}>,\n        <AxesSubplot:title={'center':'Class'}>]], dtype=object)"
     },
     "metadata": {},
     "output_type": "execute_result",
     "execution_count": 392
    },
    {
     "data": {
      "text/plain": "<Figure size 432x288 with 9 Axes>",
      "image/png": "[encoded data removed]"
     },
     "metadata": {
      "needs_background": "light"
     },
     "output_type": "display_data"
    }
   ],
   "source": [
    "min_max_scaler_df.hist()"
   ]
  },
  {
   "cell_type": "code",
   "execution_count": 393,
   "outputs": [
    {
     "data": {
      "text/plain": "    number of times pregnant   Glucose  Diastolic Blood Pressure  \\\n0                   0.058824  0.427136                  0.540984   \n1                   0.470588  0.919598                  0.524590   \n2                   0.058824  0.447236                  0.540984   \n3                   0.000000  0.688442                  0.327869   \n4                   0.294118  0.582915                  0.606557   \n5                   0.176471  0.391960                  0.409836   \n6                   0.588235  0.577889                  0.000000   \n7                   0.117647  0.989950                  0.573770   \n8                   0.470588  0.628141                  0.786885   \n9                   0.235294  0.552764                  0.754098   \n10                  0.588235  0.844221                  0.606557   \n11                  0.588235  0.698492                  0.655738   \n12                  0.058824  0.949749                  0.491803   \n13                  0.294118  0.834171                  0.590164   \n14                  0.411765  0.502513                  0.000000   \n15                  0.000000  0.592965                  0.688525   \n16                  0.411765  0.537688                  0.606557   \n17                  0.058824  0.517588                  0.245902   \n18                  0.058824  0.577889                  0.573770   \n19                  0.176471  0.633166                  0.721311   \n\n    Skinfold Thickness  2-Hour serum insulin       BMI  \\\n0             0.292929              0.000000  0.396423   \n1             0.000000              0.000000  0.347243   \n2             0.232323              0.111111  0.418778   \n3             0.353535              0.198582  0.642325   \n4             0.000000              0.000000  0.381520   \n5             0.323232              0.104019  0.461997   \n6             0.000000              0.000000  0.526080   \n7             0.454545              0.641844  0.454545   \n8             0.000000              0.000000  0.000000   \n9             0.000000              0.000000  0.560358   \n10            0.000000              0.000000  0.566319   \n11            0.000000              0.000000  0.403875   \n12            0.232323              1.000000  0.448584   \n13            0.191919              0.206856  0.384501   \n14            0.000000              0.000000  0.447094   \n15            0.474747              0.271868  0.682563   \n16            0.000000              0.000000  0.441133   \n17            0.383838              0.098109  0.645306   \n18            0.303030              0.113475  0.515648   \n19            0.414141              0.277778  0.585693   \n\n    Diabetes Pedigree Function       Age  Class  \n0                     0.116567  0.166667    0.0  \n1                     0.253629  0.183333    1.0  \n2                     0.038002  0.000000    0.0  \n3                     0.943638  0.200000    1.0  \n4                     0.052519  0.150000    0.0  \n5                     0.072588  0.083333    1.0  \n6                     0.023911  0.133333    0.0  \n7                     0.034159  0.533333    1.0  \n8                     0.065756  0.550000    1.0  \n9                     0.048249  0.150000    0.0  \n10                    0.195986  0.216667    1.0  \n11                    0.581981  0.600000    0.0  \n12                    0.136635  0.633333    1.0  \n13                    0.217336  0.500000    1.0  \n14                    0.173356  0.183333    1.0  \n15                    0.201964  0.166667    1.0  \n16                    0.075149  0.166667    1.0  \n17                    0.044833  0.200000    0.0  \n18                    0.192570  0.183333    1.0  \n19                    0.267293  0.100000    0.0  ",
      "text/html": "<div>\n<style scoped>\n    .dataframe tbody tr th:only-of-type {\n        vertical-align: middle;\n    }\n\n    .dataframe tbody tr th {\n        vertical-align: top;\n    }\n\n    .dataframe thead th {\n        text-align: right;\n    }\n</style>\n<table border=\"1\" class=\"dataframe\">\n  <thead>\n    <tr style=\"text-align: right;\">\n      <th></th>\n      <th>number of times pregnant</th>\n      <th>Glucose</th>\n      <th>Diastolic Blood Pressure</th>\n      <th>Skinfold Thickness</th>\n      <th>2-Hour serum insulin</th>\n      <th>BMI</th>\n      <th>Diabetes Pedigree Function</th>\n      <th>Age</th>\n      <th>Class</th>\n    </tr>\n  </thead>\n  <tbody>\n    <tr>\n      <th>0</th>\n      <td>0.058824</td>\n      <td>0.427136</td>\n      <td>0.540984</td>\n      <td>0.292929</td>\n      <td>0.000000</td>\n      <td>0.396423</td>\n      <td>0.116567</td>\n      <td>0.166667</td>\n      <td>0.0</td>\n    </tr>\n    <tr>\n      <th>1</th>\n      <td>0.470588</td>\n      <td>0.919598</td>\n      <td>0.524590</td>\n      <td>0.000000</td>\n      <td>0.000000</td>\n      <td>0.347243</td>\n      <td>0.253629</td>\n      <td>0.183333</td>\n      <td>1.0</td>\n    </tr>\n    <tr>\n      <th>2</th>\n      <td>0.058824</td>\n      <td>0.447236</td>\n      <td>0.540984</td>\n      <td>0.232323</td>\n      <td>0.111111</td>\n      <td>0.418778</td>\n      <td>0.038002</td>\n      <td>0.000000</td>\n      <td>0.0</td>\n    </tr>\n    <tr>\n      <th>3</th>\n      <td>0.000000</td>\n      <td>0.688442</td>\n      <td>0.327869</td>\n      <td>0.353535</td>\n      <td>0.198582</td>\n      <td>0.642325</td>\n      <td>0.943638</td>\n      <td>0.200000</td>\n      <td>1.0</td>\n    </tr>\n    <tr>\n      <th>4</th>\n      <td>0.294118</td>\n      <td>0.582915</td>\n      <td>0.606557</td>\n      <td>0.000000</td>\n      <td>0.000000</td>\n      <td>0.381520</td>\n      <td>0.052519</td>\n      <td>0.150000</td>\n      <td>0.0</td>\n    </tr>\n    <tr>\n      <th>5</th>\n      <td>0.176471</td>\n      <td>0.391960</td>\n      <td>0.409836</td>\n      <td>0.323232</td>\n      <td>0.104019</td>\n      <td>0.461997</td>\n      <td>0.072588</td>\n      <td>0.083333</td>\n      <td>1.0</td>\n    </tr>\n    <tr>\n      <th>6</th>\n      <td>0.588235</td>\n      <td>0.577889</td>\n      <td>0.000000</td>\n      <td>0.000000</td>\n      <td>0.000000</td>\n      <td>0.526080</td>\n      <td>0.023911</td>\n      <td>0.133333</td>\n      <td>0.0</td>\n    </tr>\n    <tr>\n      <th>7</th>\n      <td>0.117647</td>\n      <td>0.989950</td>\n      <td>0.573770</td>\n      <td>0.454545</td>\n      <td>0.641844</td>\n      <td>0.454545</td>\n      <td>0.034159</td>\n      <td>0.533333</td>\n      <td>1.0</td>\n    </tr>\n    <tr>\n      <th>8</th>\n      <td>0.470588</td>\n      <td>0.628141</td>\n      <td>0.786885</td>\n      <td>0.000000</td>\n      <td>0.000000</td>\n      <td>0.000000</td>\n      <td>0.065756</td>\n      <td>0.550000</td>\n      <td>1.0</td>\n    </tr>\n    <tr>\n      <th>9</th>\n      <td>0.235294</td>\n      <td>0.552764</td>\n      <td>0.754098</td>\n      <td>0.000000</td>\n      <td>0.000000</td>\n      <td>0.560358</td>\n      <td>0.048249</td>\n      <td>0.150000</td>\n      <td>0.0</td>\n    </tr>\n    <tr>\n      <th>10</th>\n      <td>0.588235</td>\n      <td>0.844221</td>\n      <td>0.606557</td>\n      <td>0.000000</td>\n      <td>0.000000</td>\n      <td>0.566319</td>\n      <td>0.195986</td>\n      <td>0.216667</td>\n      <td>1.0</td>\n    </tr>\n    <tr>\n      <th>11</th>\n      <td>0.588235</td>\n      <td>0.698492</td>\n      <td>0.655738</td>\n      <td>0.000000</td>\n      <td>0.000000</td>\n      <td>0.403875</td>\n      <td>0.581981</td>\n      <td>0.600000</td>\n      <td>0.0</td>\n    </tr>\n    <tr>\n      <th>12</th>\n      <td>0.058824</td>\n      <td>0.949749</td>\n      <td>0.491803</td>\n      <td>0.232323</td>\n      <td>1.000000</td>\n      <td>0.448584</td>\n      <td>0.136635</td>\n      <td>0.633333</td>\n      <td>1.0</td>\n    </tr>\n    <tr>\n      <th>13</th>\n      <td>0.294118</td>\n      <td>0.834171</td>\n      <td>0.590164</td>\n      <td>0.191919</td>\n      <td>0.206856</td>\n      <td>0.384501</td>\n      <td>0.217336</td>\n      <td>0.500000</td>\n      <td>1.0</td>\n    </tr>\n    <tr>\n      <th>14</th>\n      <td>0.411765</td>\n      <td>0.502513</td>\n      <td>0.000000</td>\n      <td>0.000000</td>\n      <td>0.000000</td>\n      <td>0.447094</td>\n      <td>0.173356</td>\n      <td>0.183333</td>\n      <td>1.0</td>\n    </tr>\n    <tr>\n      <th>15</th>\n      <td>0.000000</td>\n      <td>0.592965</td>\n      <td>0.688525</td>\n      <td>0.474747</td>\n      <td>0.271868</td>\n      <td>0.682563</td>\n      <td>0.201964</td>\n      <td>0.166667</td>\n      <td>1.0</td>\n    </tr>\n    <tr>\n      <th>16</th>\n      <td>0.411765</td>\n      <td>0.537688</td>\n      <td>0.606557</td>\n      <td>0.000000</td>\n      <td>0.000000</td>\n      <td>0.441133</td>\n      <td>0.075149</td>\n      <td>0.166667</td>\n      <td>1.0</td>\n    </tr>\n    <tr>\n      <th>17</th>\n      <td>0.058824</td>\n      <td>0.517588</td>\n      <td>0.245902</td>\n      <td>0.383838</td>\n      <td>0.098109</td>\n      <td>0.645306</td>\n      <td>0.044833</td>\n      <td>0.200000</td>\n      <td>0.0</td>\n    </tr>\n    <tr>\n      <th>18</th>\n      <td>0.058824</td>\n      <td>0.577889</td>\n      <td>0.573770</td>\n      <td>0.303030</td>\n      <td>0.113475</td>\n      <td>0.515648</td>\n      <td>0.192570</td>\n      <td>0.183333</td>\n      <td>1.0</td>\n    </tr>\n    <tr>\n      <th>19</th>\n      <td>0.176471</td>\n      <td>0.633166</td>\n      <td>0.721311</td>\n      <td>0.414141</td>\n      <td>0.277778</td>\n      <td>0.585693</td>\n      <td>0.267293</td>\n      <td>0.100000</td>\n      <td>0.0</td>\n    </tr>\n  </tbody>\n</table>\n</div>"
     },
     "metadata": {},
     "output_type": "execute_result",
     "execution_count": 393
    }
   ],
   "source": [
    "from sklearn.impute import SimpleImputer\n",
    "imputer = SimpleImputer(missing_values=np.nan, strategy='mean')\n",
    "scaler_df_trans = pd.DataFrame(imputer.fit_transform(min_max_scaler_df))\n",
    "scaler_df_trans.columns = min_max_scaler_df.columns\n",
    "scaler_df_trans.index = min_max_scaler_df.index\n",
    "scaler_df_trans.head(20)"
   ],
   "metadata": {
    "collapsed": false,
    "pycharm": {
     "name": "#%%\n",
     "is_executing": false
    }
   }
  },
  {
   "cell_type": "markdown",
   "metadata": {},
   "source": [
    "## Q2.c"
   ]
  },
  {
   "cell_type": "code",
   "execution_count": 394,
   "outputs": [],
   "source": [
    "x = scaler_df_trans.iloc[:,:-1]\n",
    "y = scaler_df_trans.iloc[:,-1]\n",
    "#y=y.astype(int)"
   ],
   "metadata": {
    "collapsed": false,
    "pycharm": {
     "name": "#%%\n",
     "is_executing": false
    }
   }
  },
  {
   "cell_type": "code",
   "execution_count": 395,
   "outputs": [
    {
     "data": {
      "text/plain": "0    0.0\n1    1.0\n2    0.0\n3    1.0\n4    0.0\nName: Class, dtype: float64"
     },
     "metadata": {},
     "output_type": "execute_result",
     "execution_count": 395
    }
   ],
   "source": [
    "y.head()"
   ],
   "metadata": {
    "collapsed": false,
    "pycharm": {
     "name": "#%%\n",
     "is_executing": false
    }
   }
  },
  {
   "cell_type": "code",
   "execution_count": 395,
   "outputs": [],
   "source": [],
   "metadata": {
    "collapsed": false,
    "pycharm": {
     "name": "#%%\n",
     "is_executing": false
    }
   }
  },
  {
   "cell_type": "markdown",
   "metadata": {},
   "source": [
    "## Q2.d"
   ]
  },
  {
   "cell_type": "code",
   "execution_count": 396,
   "outputs": [
    {
     "data": {
      "text/plain": "<AxesSubplot:ylabel='Frequency'>"
     },
     "metadata": {},
     "output_type": "execute_result",
     "execution_count": 396
    },
    {
     "data": {
      "text/plain": "<Figure size 432x288 with 1 Axes>",
      "image/png": "[encoded data removed]"
     },
     "metadata": {
      "needs_background": "light"
     },
     "output_type": "display_data"
    }
   ],
   "source": [
    "\n",
    "x_train, x_test, y_train, y_test = train_test_split(x,y,test_size=0.2)\n",
    "y_test.plot.hist(color='g')"
   ],
   "metadata": {
    "collapsed": false,
    "pycharm": {
     "name": "#%%\n",
     "is_executing": false
    }
   }
  },
  {
   "cell_type": "code",
   "execution_count": 397,
   "outputs": [
    {
     "data": {
      "text/plain": "<AxesSubplot:ylabel='Frequency'>"
     },
     "metadata": {},
     "output_type": "execute_result",
     "execution_count": 397
    },
    {
     "data": {
      "text/plain": "<Figure size 432x288 with 1 Axes>",
      "image/png": "[encoded data removed]"
     },
     "metadata": {
      "needs_background": "light"
     },
     "output_type": "display_data"
    }
   ],
   "source": [
    "y_train.plot.hist()"
   ],
   "metadata": {
    "collapsed": false,
    "pycharm": {
     "name": "#%%\n",
     "is_executing": false
    }
   }
  },
  {
   "cell_type": "markdown",
   "metadata": {},
   "source": [
    "## Q2.e"
   ]
  },
  {
   "cell_type": "code",
   "execution_count": 398,
   "outputs": [],
   "source": [
    "from sklearn.ensemble import RandomForestClassifier\n",
    "model = RandomForestClassifier(n_estimators=100,max_depth=3,\n",
    "                               criterion=\"entropy\", random_state=0).fit(x_train,y_train)"
   ],
   "metadata": {
    "collapsed": false,
    "pycharm": {
     "name": "#%%\n",
     "is_executing": false
    }
   }
  },
  {
   "cell_type": "markdown",
   "metadata": {},
   "source": [
    "## Q2.f"
   ]
  },
  {
   "cell_type": "code",
   "execution_count": 399,
   "outputs": [
    {
     "data": {
      "text/plain": "0.7662337662337663"
     },
     "metadata": {},
     "output_type": "execute_result",
     "execution_count": 399
    }
   ],
   "source": [
    "y_pred = model.predict(x_test)\n",
    "metrics.accuracy_score(y_test, y_pred)"
   ],
   "metadata": {
    "collapsed": false,
    "pycharm": {
     "name": "#%%\n",
     "is_executing": false
    }
   }
  },
  {
   "cell_type": "markdown",
   "metadata": {},
   "source": [
    "## Q2.g"
   ]
  },
  {
   "cell_type": "code",
   "execution_count": 400,
   "outputs": [
    {
     "data": {
      "text/plain": "[70.12987012987013,\n 74.67532467532467,\n 76.62337662337663,\n 78.57142857142857,\n 76.62337662337663,\n 78.57142857142857,\n 79.87012987012987,\n 79.22077922077922,\n 77.92207792207793]"
     },
     "metadata": {},
     "output_type": "execute_result",
     "execution_count": 400
    }
   ],
   "source": [
    "accuracy_list = []\n",
    "for i in range(1,10):\n",
    "    DT = RandomForestClassifier(n_estimators=100,max_depth=i,\n",
    "                               criterion=\"entropy\", random_state=0).fit(x_train,y_train)\n",
    "    y_pred = DT.predict(x_test)\n",
    "    accuracy_list.append(accuracy_score(y_test,y_pred)*100)\n",
    "\n",
    "accuracy_list"
   ],
   "metadata": {
    "collapsed": false,
    "pycharm": {
     "name": "#%%\n",
     "is_executing": false
    }
   }
  },
  {
   "cell_type": "code",
   "execution_count": 401,
   "outputs": [
    {
     "data": {
      "text/plain": "<Figure size 432x288 with 1 Axes>",
      "image/png": "[encoded data removed]"
     },
     "metadata": {
      "needs_background": "dark"
     },
     "output_type": "display_data"
    }
   ],
   "source": [
    "plt.figure()\n",
    "plt.plot(accuracy_list, color=\"b\", linewidth=2)\n",
    "plt.xlabel(\"depth\",c=\"c\")\n",
    "plt.ylabel(\"accuracy\",c=\"c\")\n",
    "plt.yticks(c= 'c')\n",
    "plt.xticks(c= 'c')\n",
    "plt.title(\"Random Forest\",c=\"c\")\n",
    "plt.show()"
   ],
   "metadata": {
    "collapsed": false,
    "pycharm": {
     "name": "#%%\n",
     "is_executing": false
    }
   }
  }
 ],
 "metadata": {
  "kernelspec": {
   "display_name": "Python 3",
   "language": "python",
   "name": "python3"
  },
  "language_info": {
   "codemirror_mode": {
    "name": "ipython",
    "version": 3
   },
   "file_extension": ".py",
   "mimetype": "text/x-python",
   "name": "python",
   "nbconvert_exporter": "python",
   "pygments_lexer": "ipython3",
   "version": "3.7.2"
  },
  "pycharm": {
   "stem_cell": {
    "cell_type": "raw",
    "source": [],
    "metadata": {
     "collapsed": false
    }
   }
  }
 },
 "nbformat": 4,
 "nbformat_minor": 1
}
